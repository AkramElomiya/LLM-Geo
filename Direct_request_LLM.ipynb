{
 "cells": [
  {
   "cell_type": "markdown",
   "id": "4133f8e2-c4b1-42cc-bcae-22f0827bebea",
   "metadata": {},
   "source": [
    "# Import packages"
   ]
  },
  {
   "cell_type": "code",
   "execution_count": 81,
   "id": "59f6cb36-7799-4584-bef0-d20842f857c7",
   "metadata": {},
   "outputs": [],
   "source": [
    "import os\n",
    "import requests\n",
    "import networkx as nx\n",
    "import pandas as pd\n",
    "import geopandas as gpd\n",
    "from pyvis.network import Network\n",
    "import openai\n",
    "from IPython.display import display, HTML, Code"
   ]
  },
  {
   "cell_type": "code",
   "execution_count": 78,
   "id": "cbc124b8-7809-4684-afb0-1373919791e9",
   "metadata": {},
   "outputs": [
    {
     "name": "stdout",
     "output_type": "stream",
     "text": [
      "The autoreload extension is already loaded. To reload it, use:\n",
      "  %reload_ext autoreload\n"
     ]
    }
   ],
   "source": [
    "# %load_ext autoreload\n",
    "# %autoreload 2\n",
    "\n",
    "import LLM_Geo_Constants as constants\n",
    "import helper\n",
    "# import LLM_Geo_kernel.Solution as Solution\n",
    "\n",
    "from LLM_Geo_kernel import Solution\n",
    "\n",
    "%load_ext autoreload\n",
    "%autoreload 2"
   ]
  },
  {
   "cell_type": "code",
   "execution_count": 79,
   "id": "bc9a91ae-5723-456d-beb1-14e88377d5b6",
   "metadata": {},
   "outputs": [
    {
     "name": "stdout",
     "output_type": "stream",
     "text": [
      "Prompt to get solution graph:\n",
      "\n",
      "Your role: A professional Geo-information scientist and developer good at Python. \n",
      "Your task: Write a Python program to address the question or task: \n",
      "For each zipcode area in South Carolina (SC), calculate the distance from the centroid of the zipcode area to its nearest hospital, and then create a choropleth distance map (unit: km), also show the hospital.\n",
      " \n",
      "Location for data you may need: 1. SC zipcode boundary shapefile: https://github.com/GIBDUSC/test/raw/master/sc_zip_boundary.zip, the map projection is WGS1984.\n",
      "2. SC hospitals:  https://github.com/gladcolor/spatial_data/raw/master/South_Carolina/SC_hospitals_with_emergency_room_cleaned.csv, location columns: longitude in 'POINT_X' column, latitude in 'POINT_Y' column. \n",
      "Your reply needs to meet these requirements: \n",
      " 1. DO NOT change the given variable names and paths.\n",
      "2. Put your reply into a Python code block(enclosed by ```python and ```), NO explanation or conversation outside the code block.\n",
      "3. If using GeoPandas to load a zipped ESRI shapefile from a URL, use gpd.read_file(URL). DO NOT download and unzip the file.\n",
      "4. Generate descriptions for input and output arguments.\n",
      "5. Note module 'pandas' has no attribute 'StringIO'\n",
      "6. Use the latest Python module methods.\n",
      "7. When doing spatial analysis, convert the involved spatial layers into the same map projection.\n",
      "8. DO NOT reproject or set spatial data(e.g., GeoPandas Dataframe) if only one layer involved.\n",
      "9. Map projection conversion is only conducted for spatial data layers such as GeoDataFrame. DataFrame loaded from a CSV file does not have map projection information.\n",
      "10. If join DataFrame and GeoDataFrame, using common columns, DO NOT convert DataFrame to GeoDataFrame.\n",
      "11. When joining tables, convert the involved columns to string type without leading zeros. \n",
      "12. When doing spatial joins, remove the duplicates in the results. Or please think about whether it needs to be removed.\n",
      "13. If using colorbar for GeoPandas or Matplotlib visulization, set the colorbar's height or length as the same as the plot.\n",
      "14. Remember the column names and file names used in ancestor functions when joining tables.\n",
      "15. Show a progressbar (e.g., tqdm in Python) if loop more than 200 times, also add exception handling for loops to make sure the loop can run.\n",
      "16. When crawl the webpage context to ChatGPT, using Beautifulsoup to crawl the text only, not all the HTML file.\n",
      "17. If using GeoPandas for spatial joining, the arguements are: geopandas.sjoin(left_df, right_df, how='inner', predicate='intersects', lsuffix='left', rsuffix='right', **kwargs), how: default ‘inner’, use intersection of keys from both dfs; retain only left_df geometry column; ‘left’: use keys from left_df, retain only left_df geometry column. \n",
      "18. GEOID in US Census data and FIPS (or 'fips') in Census boundaries are integer with leading zeros. If use pandas.read_csv() to GEOID or FIPS (or 'fips') columns from read CSV files, set the dtype as 'str'.\n",
      "19. Drop nan rows before using Pandas columns to join, but need to report it. \n",
      "\n"
     ]
    }
   ],
   "source": [
    "# Case 4: Hospital_accessibility\n",
    "task_name ='Hospital_accessibility'\n",
    "\n",
    "TASK = r'''\n",
    "For each zipcode area in South Carolina (SC), calculate the distance from the centroid of the zipcode area to its nearest hospital, and then create a choropleth distance map (unit: km), also show the hospital.\n",
    "'''\n",
    "\n",
    "# TASK = r'Diplay the  zipcode area in South Carolina (SC) and SC hospital locations in a  map.'\n",
    "\n",
    "DATA_LOCATIONS = [\n",
    "r\"SC zipcode boundary shapefile: https://github.com/GIBDUSC/test/raw/master/sc_zip_boundary.zip, the map projection is WGS1984.\",\n",
    "r\"SC hospitals:  https://github.com/gladcolor/spatial_data/raw/master/South_Carolina/SC_hospitals_with_emergency_room_cleaned.csv, location columns: longitude in 'POINT_X' column, latitude in 'POINT_Y' column.\",          \n",
    "]\n",
    "\n",
    "  \n",
    "save_dir = os.path.join(os.getcwd(), task_name)\n",
    "os.makedirs(save_dir, exist_ok=True)\n",
    "\n",
    "# create graph\n",
    "# model=r\"gpt-3.5-turbo\"\n",
    "model=r\"gpt-4\"\n",
    "solution = Solution(\n",
    "                    task=TASK,\n",
    "                    task_name=task_name,\n",
    "                    save_dir=save_dir,\n",
    "                    data_locations=DATA_LOCATIONS,\n",
    "                    model=model,\n",
    "                    )\n",
    "print(\"Prompt to get solution graph:\\n\")\n",
    "print(solution.direct_request_prompt)"
   ]
  },
  {
   "cell_type": "code",
   "execution_count": 80,
   "id": "72c5eda2-a4b4-4910-bd37-ead7086a0e2c",
   "metadata": {},
   "outputs": [
    {
     "name": "stdout",
     "output_type": "stream",
     "text": [
      "```python\n",
      "import geopandas as gpd\n",
      "import pandas as pd\n",
      "from shapely.geometry import Point\n",
      "import matplotlib.pyplot as plt\n",
      "from geopy.distance import distance\n",
      "from tqdm import tqdm\n",
      "import numpy as np\n",
      "\n",
      "SC_zip_boundary_url = \"https://github.com/GIBDUSC/test/raw/master/sc_zip_boundary.zip\"\n",
      "SC_hospitals_url = \"https://github.com/gladcolor/spatial_data/raw/master/South_Carolina/SC_hospitals_with_emergency_room_cleaned.csv\"\n",
      "\n",
      "def main():\n",
      "    sc_zip_boundary = gpd.read_file(SC_zip_boundary_url)\n",
      "    sc_hospitals = pd.read_csv(SC_hospitals_url)\n",
      "\n",
      "    sc_hospitals['geometry'] = sc_hospitals.apply(lambda row: Point(row['POINT_X'], row['POINT_Y']), axis=1)\n",
      "    hospitals_geo = gpd.GeoDataFrame(sc_hospitals, geometry=\"geometry\", crs=\"EPSG:4326\")\n",
      "    \n",
      "    hospitals_reproj = hospitals_geo.to_crs(sc_zip_boundary.crs)\n",
      "    distances = []\n",
      "\n",
      "    for index, zipcode in tqdm(sc_zip_boundary.iterrows(), total=len(sc_zip_boundary)):\n",
      "        centroid = zipcode.geometry.centroid\n",
      "        min_distance = float('inf')\n",
      "\n",
      "        for _, hospital in hospitals_reproj.iterrows():\n",
      "            cur_distance = distance(centroid, hospital.geometry.centroid).km\n",
      "            min_distance = min(min_distance, cur_distance)\n",
      "\n",
      "        distances.append(min_distance)\n",
      "\n",
      "    sc_zip_boundary['nearest_hospital_distance'] = distances\n",
      "\n",
      "    # Plot choropleth map\n",
      "    fig, ax = plt.subplots(1, figsize=(10, 10))\n",
      "\n",
      "    sc_zip_boundary.plot(column='nearest_hospital_distance', cmap='viridis',\n",
      "                         scheme=\"quantiles\", legend=True, ax=ax)\n",
      "    hospitals_reproj.plot(ax=ax, markersize=5, color=\"red\", marker=\"o\", label=\"Hospital\")\n",
      "    ax.set_title(\"Distance to Nearest Hospital in South Carolina (km)\")\n",
      "    ax.set_axis_off()\n",
      "\n",
      "    plt.show()\n",
      "\n",
      "if __name__ == \"__main__\":\n",
      "    main()\n",
      "```\n",
      "\n",
      "\n",
      "\n"
     ]
    },
    {
     "name": "stderr",
     "output_type": "stream",
     "text": [
      "  0%|                                                                                          | 0/424 [00:00<?, ?it/s]\n"
     ]
    },
    {
     "ename": "TypeError",
     "evalue": "Failed to create Point instance from <POINT (-81.827 34.984)>.",
     "output_type": "error",
     "traceback": [
      "\u001B[1;31m---------------------------------------------------------------------------\u001B[0m",
      "\u001B[1;31mTypeError\u001B[0m                                 Traceback (most recent call last)",
      "File \u001B[1;32me:\\ProgramData\\Anaconda3\\envs\\street_mapping_env\\lib\\site-packages\\geopy\\point.py:169\u001B[0m, in \u001B[0;36mPoint.__new__\u001B[1;34m(cls, latitude, longitude, altitude)\u001B[0m\n\u001B[0;32m    168\u001B[0m \u001B[38;5;28;01mtry\u001B[39;00m:\n\u001B[1;32m--> 169\u001B[0m     seq \u001B[38;5;241m=\u001B[39m \u001B[38;5;28;43miter\u001B[39;49m\u001B[43m(\u001B[49m\u001B[43marg\u001B[49m\u001B[43m)\u001B[49m\n\u001B[0;32m    170\u001B[0m \u001B[38;5;28;01mexcept\u001B[39;00m \u001B[38;5;167;01mTypeError\u001B[39;00m:\n",
      "\u001B[1;31mTypeError\u001B[0m: 'Point' object is not iterable",
      "\nDuring handling of the above exception, another exception occurred:\n",
      "\u001B[1;31mTypeError\u001B[0m                                 Traceback (most recent call last)",
      "Cell \u001B[1;32mIn[80], line 2\u001B[0m\n\u001B[0;32m      1\u001B[0m direct_request_LLM_response \u001B[38;5;241m=\u001B[39m solution\u001B[38;5;241m.\u001B[39mget_direct_request_LLM_response()\n\u001B[1;32m----> 2\u001B[0m \u001B[43mexec\u001B[49m\u001B[43m(\u001B[49m\u001B[43msolution\u001B[49m\u001B[38;5;241;43m.\u001B[39;49m\u001B[43mdirect_request_code\u001B[49m\u001B[43m)\u001B[49m\n",
      "File \u001B[1;32m<string>:46\u001B[0m\n",
      "File \u001B[1;32m<string>:27\u001B[0m, in \u001B[0;36mmain\u001B[1;34m()\u001B[0m\n",
      "File \u001B[1;32me:\\ProgramData\\Anaconda3\\envs\\street_mapping_env\\lib\\site-packages\\geopy\\distance.py:540\u001B[0m, in \u001B[0;36mgeodesic.__init__\u001B[1;34m(self, *args, **kwargs)\u001B[0m\n\u001B[0;32m    538\u001B[0m \u001B[38;5;28mself\u001B[39m\u001B[38;5;241m.\u001B[39mset_ellipsoid(kwargs\u001B[38;5;241m.\u001B[39mpop(\u001B[38;5;124m'\u001B[39m\u001B[38;5;124mellipsoid\u001B[39m\u001B[38;5;124m'\u001B[39m, \u001B[38;5;124m'\u001B[39m\u001B[38;5;124mWGS-84\u001B[39m\u001B[38;5;124m'\u001B[39m))\n\u001B[0;32m    539\u001B[0m major, minor, f \u001B[38;5;241m=\u001B[39m \u001B[38;5;28mself\u001B[39m\u001B[38;5;241m.\u001B[39mELLIPSOID\n\u001B[1;32m--> 540\u001B[0m \u001B[38;5;28msuper\u001B[39m()\u001B[38;5;241m.\u001B[39m\u001B[38;5;21m__init__\u001B[39m(\u001B[38;5;241m*\u001B[39margs, \u001B[38;5;241m*\u001B[39m\u001B[38;5;241m*\u001B[39mkwargs)\n",
      "File \u001B[1;32me:\\ProgramData\\Anaconda3\\envs\\street_mapping_env\\lib\\site-packages\\geopy\\distance.py:276\u001B[0m, in \u001B[0;36mDistance.__init__\u001B[1;34m(self, *args, **kwargs)\u001B[0m\n\u001B[0;32m    274\u001B[0m \u001B[38;5;28;01melif\u001B[39;00m \u001B[38;5;28mlen\u001B[39m(args) \u001B[38;5;241m>\u001B[39m \u001B[38;5;241m1\u001B[39m:\n\u001B[0;32m    275\u001B[0m     \u001B[38;5;28;01mfor\u001B[39;00m a, b \u001B[38;5;129;01min\u001B[39;00m util\u001B[38;5;241m.\u001B[39mpairwise(args):\n\u001B[1;32m--> 276\u001B[0m         kilometers \u001B[38;5;241m+\u001B[39m\u001B[38;5;241m=\u001B[39m \u001B[38;5;28;43mself\u001B[39;49m\u001B[38;5;241;43m.\u001B[39;49m\u001B[43mmeasure\u001B[49m\u001B[43m(\u001B[49m\u001B[43ma\u001B[49m\u001B[43m,\u001B[49m\u001B[43m \u001B[49m\u001B[43mb\u001B[49m\u001B[43m)\u001B[49m\n\u001B[0;32m    278\u001B[0m kilometers \u001B[38;5;241m+\u001B[39m\u001B[38;5;241m=\u001B[39m units\u001B[38;5;241m.\u001B[39mkilometers(\u001B[38;5;241m*\u001B[39m\u001B[38;5;241m*\u001B[39mkwargs)\n\u001B[0;32m    279\u001B[0m \u001B[38;5;28mself\u001B[39m\u001B[38;5;241m.\u001B[39m__kilometers \u001B[38;5;241m=\u001B[39m kilometers\n",
      "File \u001B[1;32me:\\ProgramData\\Anaconda3\\envs\\street_mapping_env\\lib\\site-packages\\geopy\\distance.py:556\u001B[0m, in \u001B[0;36mgeodesic.measure\u001B[1;34m(self, a, b)\u001B[0m\n\u001B[0;32m    555\u001B[0m \u001B[38;5;28;01mdef\u001B[39;00m \u001B[38;5;21mmeasure\u001B[39m(\u001B[38;5;28mself\u001B[39m, a, b):\n\u001B[1;32m--> 556\u001B[0m     a, b \u001B[38;5;241m=\u001B[39m \u001B[43mPoint\u001B[49m\u001B[43m(\u001B[49m\u001B[43ma\u001B[49m\u001B[43m)\u001B[49m, Point(b)\n\u001B[0;32m    557\u001B[0m     _ensure_same_altitude(a, b)\n\u001B[0;32m    558\u001B[0m     lat1, lon1 \u001B[38;5;241m=\u001B[39m a\u001B[38;5;241m.\u001B[39mlatitude, a\u001B[38;5;241m.\u001B[39mlongitude\n",
      "File \u001B[1;32me:\\ProgramData\\Anaconda3\\envs\\street_mapping_env\\lib\\site-packages\\geopy\\point.py:171\u001B[0m, in \u001B[0;36mPoint.__new__\u001B[1;34m(cls, latitude, longitude, altitude)\u001B[0m\n\u001B[0;32m    169\u001B[0m     seq \u001B[38;5;241m=\u001B[39m \u001B[38;5;28miter\u001B[39m(arg)\n\u001B[0;32m    170\u001B[0m \u001B[38;5;28;01mexcept\u001B[39;00m \u001B[38;5;167;01mTypeError\u001B[39;00m:\n\u001B[1;32m--> 171\u001B[0m     \u001B[38;5;28;01mraise\u001B[39;00m \u001B[38;5;167;01mTypeError\u001B[39;00m(\n\u001B[0;32m    172\u001B[0m         \u001B[38;5;124m\"\u001B[39m\u001B[38;5;124mFailed to create Point instance from \u001B[39m\u001B[38;5;132;01m%r\u001B[39;00m\u001B[38;5;124m.\u001B[39m\u001B[38;5;124m\"\u001B[39m \u001B[38;5;241m%\u001B[39m (arg,)\n\u001B[0;32m    173\u001B[0m     )\n\u001B[0;32m    174\u001B[0m \u001B[38;5;28;01melse\u001B[39;00m:\n\u001B[0;32m    175\u001B[0m     \u001B[38;5;28;01mreturn\u001B[39;00m \u001B[38;5;28mcls\u001B[39m\u001B[38;5;241m.\u001B[39mfrom_sequence(seq)\n",
      "\u001B[1;31mTypeError\u001B[0m: Failed to create Point instance from <POINT (-81.827 34.984)>."
     ]
    }
   ],
   "source": [
    "direct_request_LLM_response = solution.get_direct_request_LLM_response()\n",
    "exec(solution.direct_request_code)\n",
    "display(Code(solution.direct_request_code, language='python'))"
   ]
  }
 ],
 "metadata": {
  "kernelspec": {
   "display_name": "street_mapping_env",
   "language": "python",
   "name": "street_mapping_env"
  },
  "language_info": {
   "codemirror_mode": {
    "name": "ipython",
    "version": 3
   },
   "file_extension": ".py",
   "mimetype": "text/x-python",
   "name": "python",
   "nbconvert_exporter": "python",
   "pygments_lexer": "ipython3",
   "version": "3.10.8"
  }
 },
 "nbformat": 4,
 "nbformat_minor": 5
}
