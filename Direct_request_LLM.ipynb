{
 "cells": [
  {
   "cell_type": "markdown",
   "id": "4133f8e2-c4b1-42cc-bcae-22f0827bebea",
   "metadata": {},
   "source": [
    "# Import packages"
   ]
  },
  {
   "cell_type": "code",
   "execution_count": 55,
   "id": "59f6cb36-7799-4584-bef0-d20842f857c7",
   "metadata": {},
   "outputs": [],
   "source": [
    "import os\n",
    "import requests\n",
    "import networkx as nx\n",
    "import pandas as pd\n",
    "import geopandas as gpd\n",
    "from pyvis.network import Network\n",
    "import openai"
   ]
  },
  {
   "cell_type": "code",
   "execution_count": 56,
   "id": "cbc124b8-7809-4684-afb0-1373919791e9",
   "metadata": {},
   "outputs": [
    {
     "name": "stdout",
     "output_type": "stream",
     "text": [
      "The autoreload extension is already loaded. To reload it, use:\n",
      "  %reload_ext autoreload\n"
     ]
    }
   ],
   "source": [
    "# %load_ext autoreload\n",
    "# %autoreload 2\n",
    "\n",
    "import LLM_Geo_Constants as constants\n",
    "import helper\n",
    "# import LLM_Geo_kernel.Solution as Solution\n",
    "\n",
    "from LLM_Geo_kernel import Solution\n",
    "\n",
    "%load_ext autoreload\n",
    "%autoreload 2"
   ]
  },
  {
   "cell_type": "code",
   "execution_count": 57,
   "id": "bc9a91ae-5723-456d-beb1-14e88377d5b6",
   "metadata": {},
   "outputs": [
    {
     "name": "stdout",
     "output_type": "stream",
     "text": [
      "Prompt to get solution graph:\n",
      "\n",
      "Your role: A professional Geo-information scientist and developer good at Python. \n",
      "Your task: Write a Python program to address the question or task: \n",
      "For each zipcode area in South Carolina (SC), calculate the distance from the centroid of the zipcode area to its nearest hospital, and then create a choropleth distance map, also show the hospital.\n",
      " \n",
      "Location for data you may need: 1. SC zipcode boundary shapefile: https://github.com/GIBDUSC/test/raw/master/sc_zip_boundary.zip, map projection is WGS1984.\n",
      "2. SC hospitals:  https://github.com/gladcolor/spatial_data/raw/master/South_Carolina/SC_hospitals_with_emergency_room_cleaned.csv, location columns: longitude in 'POINT_X' column, latitude in 'POINT_Y' column. \n",
      "Your reply needs to meet these requirements: \n",
      " 1. DO NOT change the given variable names and paths.\n",
      "2. Put your reply into a Python code block(enclosed by ```python and ```), NO explanation or conversation outside the code block.\n",
      "3. If using GeoPandas to load a zipped ESRI shapefile from a URL, use gpd.read_file(URL). DO NOT download and unzip the file.\n",
      "4. Generate descriptions for input and output arguments.\n",
      "5. Note module 'pandas' has no attribute 'StringIO'\n",
      "6. Use the latest Python module methods.\n",
      "7. When doing spatial analysis, convert the involved spatial layers into the same map projection.\n",
      "8. DO NOT reproject or set spatial data(e.g., GeoPandas Dataframe) if only one layer involved.\n",
      "9. Map projection conversion is only conducted for spatial data layers such as GeoDataFrame. DataFrame loaded from a CSV file does not have map projection information.\n",
      "10. If join DataFrame and GeoDataFrame, using common columns, DO NOT convert DataFrame to GeoDataFrame.\n",
      "11. When joining tables, convert the involved columns to string type without leading zeros. \n",
      "12. When doing spatial joins, remove the duplicates in the results. Or please think about whether it needs to be removed.\n",
      "13. If using colorbar for GeoPandas or Matplotlib visulization, set the colorbar's height or length as the same as the plot.\n",
      "14. Remember the column names and file names used in ancestor functions when joining tables.\n",
      "15. Show a progressbar (e.g., tqdm in Python) if loop more than 200 times, also add exception handling for loops to make sure the loop can run.\n",
      "16. When crawl the webpage context to ChatGPT, using Beautifulsoup to crawl the text only, not all the HTML file.\n",
      "17. If using GeoPandas for spatial joining, the arguements are: geopandas.sjoin(left_df, right_df, how='inner', predicate='intersects', lsuffix='left', rsuffix='right', **kwargs), how: default ‘inner’, use intersection of keys from both dfs; retain only left_df geometry column; ‘left’: use keys from left_df, retain only left_df geometry column. \n",
      "18. GEOID in US Census data and FIPS (or 'fips') in Census boundaries are integer with leading zeros. If use pandas.read_csv() to GEOID or FIPS (or 'fips') columns from read CSV files, set the dtype as 'str'.\n",
      "19. Drop nan rows before using Pandas columns to join, but need to report it. \n",
      "\n"
     ]
    }
   ],
   "source": [
    "# Case 4: Hospital_accessibility\n",
    "task_name ='Hospital_accessibility'\n",
    "\n",
    "TASK = r'''\n",
    "For each zipcode area in South Carolina (SC), calculate the distance from the centroid of the zipcode area to its nearest hospital, and then create a choropleth distance map, also show the hospital.\n",
    "'''\n",
    "\n",
    "# TASK = r'Diplay the  zipcode area in South Carolina (SC) and SC hospital locations in a  map.'\n",
    "\n",
    "DATA_LOCATIONS = [\n",
    "r\"SC zipcode boundary shapefile: https://github.com/GIBDUSC/test/raw/master/sc_zip_boundary.zip, map projection is WGS1984.\",\n",
    "r\"SC hospitals:  https://github.com/gladcolor/spatial_data/raw/master/South_Carolina/SC_hospitals_with_emergency_room_cleaned.csv, location columns: longitude in 'POINT_X' column, latitude in 'POINT_Y' column.\",          \n",
    "]\n",
    "\n",
    "  \n",
    "save_dir = os.path.join(os.getcwd(), task_name)\n",
    "os.makedirs(save_dir, exist_ok=True)\n",
    "\n",
    "# create graph\n",
    "# model=r\"gpt-3.5-turbo\"\n",
    "model=r\"gpt-4\"\n",
    "solution = Solution(\n",
    "                    task=TASK,\n",
    "                    task_name=task_name,\n",
    "                    save_dir=save_dir,\n",
    "                    data_locations=DATA_LOCATIONS,\n",
    "                    model=model,\n",
    "                    )\n",
    "print(\"Prompt to get solution graph:\\n\")\n",
    "print(solution.direct_request_prompt)"
   ]
  },
  {
   "cell_type": "code",
   "execution_count": null,
   "id": "72c5eda2-a4b4-4910-bd37-ead7086a0e2c",
   "metadata": {},
   "outputs": [
    {
     "name": "stdout",
     "output_type": "stream",
     "text": [
      "```python\n",
      "import geopandas as gpd\n",
      "import pandas as pd\n",
      "import numpy as np\n",
      "from shapely.geometry import Point\n",
      "import matplotlib.pyplot as plt\n",
      "from tqdm import tqdm\n",
      "\n",
      "# Read SC zipcode boundary shapefile\n",
      "sc_zip_boundary_url = \"https://github.com/GIBDUSC/test/raw/master/sc_zip_boundary.zip\"\n",
      "sc_zip_boundary = gpd.read_file(sc_zip_boundary_url)\n",
      "\n",
      "# Read SC hospitals CSV\n",
      "sc_hos_csv_url = \"https://github.com/gladcolor/spatial_data/raw/master/South_Carolina/SC_hospitals_with_emergency_room_cleaned.csv\"\n",
      "sc_hospitals = pd.read_csv(sc_hos_csv_url, dtype={'POINT_X': str, 'POINT_Y': str})\n",
      "sc_hospitals = sc_hospitals.dropna(subset=['POINT_X', 'POINT_Y'])\n",
      "\n",
      "# Prepare hospitals geometry\n",
      "geometry = [Point(xy) for xy in zip(sc_hospitals.POINT_X.astype(float), sc_hospitals.POINT_Y.astype"
     ]
    }
   ],
   "source": [
    "direct_request_LLM_response = solution.get_direct_request_LLM_response()\n",
    "exec(solution.direct_request_code)"
   ]
  }
 ],
 "metadata": {
  "kernelspec": {
   "display_name": "street_mapping_env",
   "language": "python",
   "name": "street_mapping_env"
  },
  "language_info": {
   "codemirror_mode": {
    "name": "ipython",
    "version": 3
   },
   "file_extension": ".py",
   "mimetype": "text/x-python",
   "name": "python",
   "nbconvert_exporter": "python",
   "pygments_lexer": "ipython3",
   "version": "3.10.8"
  }
 },
 "nbformat": 4,
 "nbformat_minor": 5
}
