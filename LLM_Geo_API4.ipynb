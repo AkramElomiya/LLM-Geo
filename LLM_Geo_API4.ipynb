{
 "cells": [
  {
   "cell_type": "markdown",
   "id": "bf676855-2221-47c7-8dff-b185e03c3953",
   "metadata": {
    "tags": []
   },
   "source": [
    "#  Install package"
   ]
  },
  {
   "cell_type": "code",
   "execution_count": null,
   "id": "05156c09-3ec8-47d7-a629-f9374440658a",
   "metadata": {
    "tags": []
   },
   "outputs": [],
   "source": [
    "# ! pip install pyvis\n",
    "# ! pip install networkx\n",
    "# ! pip install dash\n",
    "# ! pip install altair\n",
    "# ! pip install panel"
   ]
  },
  {
   "cell_type": "markdown",
   "id": "b254e9bd-675a-4644-abfd-d642183da809",
   "metadata": {
    "tags": []
   },
   "source": [
    "# Import package"
   ]
  },
  {
   "cell_type": "code",
   "execution_count": null,
   "id": "392efdfe-e33d-43fb-b8ea-6b6fb444ad9d",
   "metadata": {
    "tags": []
   },
   "outputs": [],
   "source": [
    "import os\n",
    "import requests\n",
    "import networkx as nx\n",
    "import pandas as pd\n",
    "import geopandas as gpd\n",
    "from pyvis.network import Network\n",
    "import openai\n",
    "from IPython.display import display, HTML, Code\n",
    "from IPython.display import clear_output\n"
   ]
  },
  {
   "cell_type": "markdown",
   "id": "d0e43a82-d40f-4442-93fb-525486017ca1",
   "metadata": {
    "tags": []
   },
   "source": [
    "# Define Solution class\n",
    "Please run the following cell to define the functions"
   ]
  },
  {
   "cell_type": "code",
   "execution_count": null,
   "id": "236eff8d-4f24-4e90-af5f-4847bf2e7112",
   "metadata": {
    "tags": []
   },
   "outputs": [],
   "source": [
    "# %load_ext autoreload\n",
    "# %autoreload 2\n",
    "\n",
    "import LLM_Geo_Constants as constants\n",
    "import helper\n",
    "# import LLM_Geo_kernel.Solution as Solution\n",
    "\n",
    "from LLM_Geo_kernel import Solution\n",
    "\n",
    "%load_ext autoreload\n",
    "%autoreload 2"
   ]
  },
  {
   "cell_type": "markdown",
   "id": "9a3e84cf-00f5-40ef-a7ff-5ae186a4e164",
   "metadata": {},
   "source": [
    "# Demonstration Cases"
   ]
  },
  {
   "cell_type": "markdown",
   "id": "9a545a6b-1456-40b8-a913-b4dfd305c071",
   "metadata": {
    "tags": []
   },
   "source": [
    "## Input task and data desciption"
   ]
  },
  {
   "cell_type": "code",
   "execution_count": null,
   "id": "8ba05f98-30b2-46d0-9eb2-624f5dbc2754",
   "metadata": {
    "tags": []
   },
   "outputs": [],
   "source": [
    "# Case 1: population living near hazardous wastes\n",
    "\n",
    "task_name ='Resident_at_risk_counting'\n",
    "\n",
    "TASK = r\"\"\"1) Find out the total population that lives within a tract that contain hazardous waste facilities. The study area is North Carolina, US.\n",
    "2) Generate a map to show the spatial distribution of population at the tract level and highlight the borders of tracts that have hazardous waste facilities.\n",
    "\"\"\"\n",
    "\n",
    "DATA_LOCATIONS = [\"NC hazardous waste facility ESRI shape file location: https://github.com/gladcolor/LLM- Geo/raw/master/overlay_analysis/Hazardous_Waste_Sites.zip.\",\n",
    "                  \"NC tract boundary shapefile location: https://github.com/gladcolor/LLM-Geo/raw/master/overlay_analysis/tract_shp_37.zip. The tract id column is 'Tract'.\",\n",
    "                  \"NC tract population CSV file location: https://github.com/gladcolor/LLM-Geo/raw/master/overlay_analysis/NC_tract_population.csv. The population is stored in 'TotalPopulation' column. The tract ID column is 'GEOID'.\"\n",
    "                 ]\n",
    "\n",
    "\n",
    "\n",
    "\n",
    "# Case 2: France_mobility_changes_2020\n",
    "# task_name ='France_mobility_changes_2020'\n",
    "# TASK = r'''\n",
    "# 1) Show the 2020 human mobility monthly change rates of each administrative regions in a France map. Each month is a sub-map in a map matrix. The base of the change rate is January 2020. \n",
    "# 2) Draw a line chart to show the monthly change rate trends of all administrative regeions. Each region is a line, the x-axis is 2020 months, the legend is the region name.\n",
    "# '''\n",
    "\n",
    "# DATA_LOCATIONS = [\"ESRI shapefile for France administrative regions:\" + \\\n",
    "#                   \"https://github.com/gladcolor/LLM-Geo/raw/master/REST_API/France.zip. \" + \\\n",
    "#                   \"The 'GID_1' column is the administrative region code, 'NAME_1' column is the administrative region name.\",\n",
    "#                   \"REST API url with parameters for human mobility data access:\" + \\\n",
    "#                   \"http://gis.cas.sc.edu/GeoAnalytics/REST?operation=get_daily_movement_for_all_places&source=twitter&scale=world_first_level_admin&begin=01/01/2020&end=12/31/2020.\" + \\\n",
    "#                   \"The response is in CSV format. There are three columns in the response: \" + \\\n",
    "#                   \"place,date (format:2020-01-07), and intra_movement. 'place' column is the administractive region code of every country; codes for France administrative regions start with 'FRA'.\",\n",
    "#                  ]\n",
    "\n",
    "  \n",
    "# Case 3: COVID-19 prevalence trend\n",
    "# task_name ='COVID_death_rate'\n",
    "# TASK = r'''1) Draw a map to show the death rate (death/case) of COVID-19 among the countiguous US counties. Use the accumulated COVID-19 data of 2020.12.31 to compute the death rate. Use scheme ='quantiles' when plotting the map.  Set map projection to 'Conus Albers'. Set map size to 15*10 inches.  \n",
    "# 2) Draw a scatter plot to show the correlation and trend line of the death rate with the senior resident rate, including the r-square and p-value. Set data point transparency to 50%, regression line as red.  Set figure size to 15*10 inches.  \n",
    "# '''\n",
    "\n",
    "# DATA_LOCATIONS = [\n",
    "#                   r\"COVID-19 data case in 2020 (county-level): https://github.com/nytimes/covid-19-data/raw/master/us-counties-2020.csv. This data is for daily accumulated COVID cases and deaths for each county in the US. There are 5 columns: date (format: 2021-02-01), county, state, fips, cases, deaths. \",   \n",
    "#                   r\"Contiguous US county boundary (ESRI shapefile): https://github.com/gladcolor/spatial_data/raw/master/contiguous_counties.zip. The county FIPS column is 'GEOID'. \",\n",
    "#                   r\"Census data (ACS2020): https://raw.githubusercontent.com/gladcolor/spatial_data/master/Demography/ACS2020_5year_county.csv. THe needed columns are: 'FIPS', 'Total Population', 'Total Population: 65 to 74 Years', 'Total Population: 75 to 84 Years', 'Total Population: 85 Years and Over'. Drop rows with NaN cells after loading the used columns.\",\n",
    "#                  ]\n",
    "\n",
    "\n",
    "\n",
    "\n",
    "# Case 4: Hospital_accessibility\n",
    "# task_name ='Hospital_accessibility'\n",
    "\n",
    "# TASK = r'''\n",
    "# For each zipcode area in South Carolina (SC), calculate the distance from the centroid of the zipcode area to its nearest hospital, and then create a choropleth distance map (unit: km), also show the hospital.\n",
    "# '''\n",
    "\n",
    "# # TASK = r'Diplay the  zipcode area in South Carolina (SC) and SC hospital locations in a  map.'\n",
    "\n",
    "# DATA_LOCATIONS = [\n",
    "# r\"SC zipcode boundary shapefile: https://github.com/GIBDUSC/test/raw/master/sc_zip_boundary.zip, the map projection is WGS1984.\",\n",
    "# r\"SC hospitals:  https://github.com/gladcolor/spatial_data/raw/master/South_Carolina/SC_hospitals_with_emergency_room_cleaned.csv, location columns: longitude in 'POINT_X' column, latitude in 'POINT_Y' column.\",          \n",
    "# ]\n",
    "\n",
    "\n",
    "  \n",
    "save_dir = os.path.join(os.getcwd(), task_name)\n",
    "os.makedirs(save_dir, exist_ok=True)\n",
    "\n",
    "# create graph\n",
    "# model=r\"gpt-3.5-turbo\"\n",
    "model=r\"gpt-4\"\n",
    "solution = Solution(\n",
    "                    task=TASK,\n",
    "                    task_name=task_name,\n",
    "                    save_dir=save_dir,\n",
    "                    data_locations=DATA_LOCATIONS,\n",
    "                    model=model,\n",
    "                    )\n",
    "print(\"Prompt to get solution graph:\\n\")\n",
    "print(solution.graph_prompt)"
   ]
  },
  {
   "cell_type": "markdown",
   "id": "3009da7e-afe7-48da-a0c0-62d5a10026fb",
   "metadata": {
    "tags": []
   },
   "source": [
    "## Get graph code from GPT API"
   ]
  },
  {
   "cell_type": "code",
   "execution_count": null,
   "id": "213b17ca-9e3e-4c23-a852-c4a7edc83448",
   "metadata": {
    "tags": []
   },
   "outputs": [],
   "source": [
    "response_for_graph = solution.get_LLM_response_for_graph() \n",
    "solution.graph_response = response_for_graph\n",
    "solution.save_solution()\n",
    "\n",
    "clear_output(wait=True)\n",
    "display(Code(solution.code_for_graph, language='python'))"
   ]
  },
  {
   "cell_type": "markdown",
   "id": "112017eb-8bcb-4d44-88d5-7099f22bf107",
   "metadata": {
    "tags": []
   },
   "source": [
    "## Execute code to generate the solution graphto generate the solution graph"
   ]
  },
  {
   "cell_type": "code",
   "execution_count": null,
   "id": "d1695d40-b164-4d8b-8381-957ce260a5e6",
   "metadata": {
    "tags": []
   },
   "outputs": [],
   "source": [
    "exec(solution.code_for_graph)\n",
    "solution_graph = solution.load_graph_file()\n",
    "\n",
    "# Show the graph\n",
    "G = nx.read_graphml(solution.graph_file)  \n",
    "nt = helper.show_graph(G)\n",
    "html_name = os.path.join(os.getcwd(), solution.task_name + '.html')  \n",
    "# HTML file should in the same directory. See:\n",
    "# https://stackoverflow.com/questions/65564916/error-displaying-pyvis-html-inside-jupyter-lab-cell\n",
    "nt.show(name=html_name)\n",
    "# html_name"
   ]
  },
  {
   "cell_type": "markdown",
   "id": "791f8311-1874-4b23-957c-793cfd74a9cc",
   "metadata": {
    "tags": []
   },
   "source": [
    "## Generate prompts and code for operations (functions)"
   ]
  },
  {
   "cell_type": "code",
   "execution_count": null,
   "id": "b4459452-8156-476d-8d20-1fccf3fdaa48",
   "metadata": {
    "tags": []
   },
   "outputs": [],
   "source": [
    "operations = solution.get_LLM_responses_for_operations()\n",
    "solution.save_solution()\n",
    "\n",
    "all_operation_code_str = '\\n'.join([operation['operation_code'] for operation in operations])\n",
    "\n",
    "clear_output(wait=True)\n",
    "display(Code(all_operation_code_str, language='python'))"
   ]
  },
  {
   "cell_type": "code",
   "execution_count": null,
   "id": "cd1a4f35-689d-45c0-a66a-568868771de2",
   "metadata": {},
   "outputs": [],
   "source": [
    "all_operation_code_str = '\\n'.join([operation['operation_code'] for operation in operations])\n",
    "# print(all_operation_code_str)"
   ]
  },
  {
   "cell_type": "code",
   "execution_count": null,
   "id": "ba73ee65-c949-497a-a491-e37eb313f3fd",
   "metadata": {},
   "outputs": [],
   "source": []
  },
  {
   "cell_type": "markdown",
   "id": "ae21f735-29f4-4934-8a7e-00616447cd40",
   "metadata": {
    "tags": []
   },
   "source": [
    "## Generate prompts and code for assembly program"
   ]
  },
  {
   "cell_type": "code",
   "execution_count": null,
   "id": "34ac055d-11b8-4b3e-890c-83501611355f",
   "metadata": {
    "tags": []
   },
   "outputs": [],
   "source": [
    "assembly_LLM_response = solution.get_LLM_assembly_response()\n",
    "solution.assembly_LLM_response = assembly_LLM_response\n",
    "solution.save_solution()\n",
    "\n",
    "clear_output(wait=True)\n",
    "display(Code(solution.code_for_assembly, language='python'))"
   ]
  },
  {
   "cell_type": "markdown",
   "id": "bca67352-6508-4fe6-be4b-1f4649224148",
   "metadata": {
    "tags": []
   },
   "source": [
    "## Execute assembly code"
   ]
  },
  {
   "cell_type": "code",
   "execution_count": null,
   "id": "583d7c6a-8d5a-4bca-b22e-fcb3f3d5c201",
   "metadata": {
    "tags": []
   },
   "outputs": [],
   "source": [
    "all_code = all_operation_code_str + '\\n' + solution.code_for_assembly\n",
    "\n",
    "# print(solution.code_for_assembly)\n",
    "display(Code(all_code, language='python'))\n",
    "\n",
    "# clear_output(wait=True)\n",
    "\n",
    "all_code = solution.execute_complete_program(code=all_code, try_cnt=10)\n",
    "# solution.direct_request_code = code\n",
    "display(Code(all_code, language='python'))"
   ]
  },
  {
   "cell_type": "code",
   "execution_count": null,
   "id": "90365390-4b0a-4164-8b25-5179d13da5a0",
   "metadata": {},
   "outputs": [],
   "source": [
    "import geopandas as gpd\n",
    "import pandas as pd\n",
    "from io import StringIO, BytesIO\n",
    "import matplotlib.pyplot as plt\n",
    "from mpl_toolkits.axes_grid1 import AxesGrid\n",
    "import requests\n",
    "from tqdm import tqdm\n",
    "\n",
    "def load_france_admin_shp(france_admin_shp_url=\"https://github.com/gladcolor/LLM-Geo/raw/master/REST_API/France.zip\"):\n",
    "    france_admin_gdf = gpd.read_file(france_admin_shp_url)\n",
    "    return france_admin_gdf\n",
    "\n",
    "def load_mobility_data(mobility_api_url=\"http://gis.cas.sc.edu/GeoAnalytics/REST?operation=get_daily_movement_for_all_places&source=twitter&scale=world_first_level_admin&begin=01/01/2020&end=12/31/2020\"):\n",
    "    try:\n",
    "        response = requests.get(mobility_api_url)\n",
    "        response.raise_for_status()\n",
    "        data = pd.read_csv(io.BytesIO(response.content))\n",
    "        return data\n",
    "    except requests.exceptions.HTTPError as e:\n",
    "        print(\"Error: \" + str(e))\n",
    "        return None\n",
    "\n",
    "def process_mobility_data(mobility_data):\n",
    "    mobility_data = mobility_data[mobility_data[\"place\"].str.startswith(\"FRA\")]\n",
    "    mobility_data[\"date\"] = pd.to_datetime(mobility_data[\"date\"])\n",
    "    mobility_data[\"month\"] = mobility_data[\"date\"].dt.month\n",
    "    base_intra_movement = mobility_data[mobility_data[\"month\"] == 1].groupby(\"place\")[\"intra_movement\"].mean()\n",
    "    base_intra_movement = base_intra_movement.reset_index()\n",
    "    base_intra_movement.columns = [\"place\", \"base_intra_movement\"]\n",
    "    mobility_data = mobility_data.merge(base_intra_movement, on=\"place\")\n",
    "    mobility_data[\"change_rate\"] = (mobility_data[\"intra_movement\"] - mobility_data[\"base_intra_movement\"]) / mobility_data[\"base_intra_movement\"]\n",
    "    return mobility_data\n",
    "\n",
    "def join_mobility_and_admin(france_admin_gdf, france_mobility_data):\n",
    "    france_admin_gdf[\"GID_1\"] = france_admin_gdf[\"GID_1\"].astype(str)\n",
    "    france_mobility_data[\"place\"] = france_mobility_data[\"place\"].astype(str)\n",
    "    france_admin_mobility_gdf = france_admin_gdf.merge(france_mobility_data, left_on=\"GID_1\", right_on=\"place\")\n",
    "    return france_admin_mobility_gdf\n",
    "\n",
    "def generate_map_matrix(france_admin_mobility_gdf):\n",
    "    fig, axarr = plt.subplots(3, 4, figsize=(16, 9), sharex=True, sharey=True)\n",
    "    for month in tqdm(range(1,13), desc=\"Generating map matrix\"):\n",
    "        ax = axarr[(month-1)//4, (month-1)%4]\n",
    "        france_admin_mobility_gdf[france_admin_mobility_gdf[\"month\"]==month].plot(column=\"change_rate\", ax=ax, legend=True, cmap=\"coolwarm\", vmin=-1, vmax=1, scheme=\"quantiles\")\n",
    "        ax.set_title(\"Month \"+str(month), fontsize=12)\n",
    "    fig.suptitle(\"2020 Human Mobility Monthly Change Rates by Administrative Region in France (%)\", fontsize=16)\n",
    "    fig.tight_layout(rect=[0, 0.03, 1, 0.95])\n",
    "    return axarr\n",
    "\n",
    "def generate_line_chart(france_mobility_data):\n",
    "    line_chart = france_mobility_data.pivot_table(index=\"month\", columns=\"place\", values=\"change_rate\").reset_index()\n",
    "    ax = line_chart.plot(x=\"month\", kind=\"line\", fontsize=8, colormap=\"Spectral\",title=\"2020 Monthly Human Mobility Change Rates by Administrative Region in France (%)\")\n",
    "    ax.set_xticks(range(1,13))\n",
    "    ax.set_xticklabels([\"Jan\",\"Feb\",\"Mar\",\"Apr\",\"May\",\"Jun\",\"Jul\",\"Aug\",\"Sep\",\"Oct\",\"Nov\",\"Dec\"])\n",
    "    ax.set_xlabel(\"Month\", fontsize=12)\n",
    "    ax.set_ylabel(\"Change Rate (%)\", fontsize=12)\n",
    "    ax.legend(title=\"Administrative Regions\", bbox_to_anchor=(1, 1), fontsize=8)\n",
    "    return ax\n",
    "\n",
    "# Execute the program\n",
    "france_admin_gdf = load_france_admin_shp()\n",
    "mobility_data = load_mobility_data()\n",
    "france_mobility_data = process_mobility_data(mobility_data)\n",
    "france_admin_mobility_gdf = join_mobility_and_admin(france_admin_gdf, france_mobility_data)\n",
    "\n",
    "map_matrix = generate_map_matrix(france_admin_mobility_gdf)\n",
    "plt.savefig(\"france_monthly_change_rates_map_matrix.png\", dpi=300)\n",
    "plt.show()\n",
    "\n",
    "line_chart = generate_line_chart(france_mobility_data)\n",
    "plt.savefig(\"france_monthly_change_rates_line_chart.png\", dpi=300)\n",
    "plt.show()"
   ]
  },
  {
   "cell_type": "code",
   "execution_count": null,
   "id": "1ce0e399-3d9f-46f8-b8a7-58d4f29b36d4",
   "metadata": {},
   "outputs": [],
   "source": [
    "stop"
   ]
  }
 ],
 "metadata": {
  "kernelspec": {
   "display_name": "street_mapping_env",
   "language": "python",
   "name": "street_mapping_env"
  },
  "language_info": {
   "codemirror_mode": {
    "name": "ipython",
    "version": 3
   },
   "file_extension": ".py",
   "mimetype": "text/x-python",
   "name": "python",
   "nbconvert_exporter": "python",
   "pygments_lexer": "ipython3",
   "version": "3.10.8"
  }
 },
 "nbformat": 4,
 "nbformat_minor": 5
}
