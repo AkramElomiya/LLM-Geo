{
 "cells": [
  {
   "cell_type": "markdown",
   "id": "bf676855-2221-47c7-8dff-b185e03c3953",
   "metadata": {
    "tags": []
   },
   "source": [
    "#  Install package"
   ]
  },
  {
   "cell_type": "code",
   "execution_count": 1,
   "id": "05156c09-3ec8-47d7-a629-f9374440658a",
   "metadata": {
    "tags": []
   },
   "outputs": [],
   "source": [
    "# ! pip install pyvis\n",
    "# ! pip install networkx\n",
    "# ! pip install dash\n",
    "# ! pip install altair\n",
    "# ! pip install panel"
   ]
  },
  {
   "cell_type": "markdown",
   "id": "b254e9bd-675a-4644-abfd-d642183da809",
   "metadata": {
    "tags": []
   },
   "source": [
    "# Import package"
   ]
  },
  {
   "cell_type": "code",
   "execution_count": 2,
   "id": "392efdfe-e33d-43fb-b8ea-6b6fb444ad9d",
   "metadata": {
    "tags": []
   },
   "outputs": [],
   "source": [
    "import os\n",
    "import requests\n",
    "import networkx as nx\n",
    "import pandas as pd\n",
    "import geopandas as gpd\n",
    "from pyvis.network import Network\n",
    "import openai\n",
    "from IPython.display import display, HTML, Code\n",
    "from IPython.display import clear_output\n"
   ]
  },
  {
   "cell_type": "markdown",
   "id": "d0e43a82-d40f-4442-93fb-525486017ca1",
   "metadata": {
    "tags": []
   },
   "source": [
    "# Define Solution class\n",
    "Please run the following cell to define the functions"
   ]
  },
  {
   "cell_type": "code",
   "execution_count": 3,
   "id": "236eff8d-4f24-4e90-af5f-4847bf2e7112",
   "metadata": {
    "tags": []
   },
   "outputs": [],
   "source": [
    "# %load_ext autoreload\n",
    "# %autoreload 2\n",
    "\n",
    "import LLM_Geo_Constants as constants\n",
    "import helper\n",
    "# import LLM_Geo_kernel.Solution as Solution\n",
    "\n",
    "from LLM_Geo_kernel import Solution\n",
    "\n",
    "%load_ext autoreload\n",
    "%autoreload 2"
   ]
  },
  {
   "cell_type": "markdown",
   "id": "9a3e84cf-00f5-40ef-a7ff-5ae186a4e164",
   "metadata": {},
   "source": [
    "# Demonstration Cases"
   ]
  },
  {
   "cell_type": "markdown",
   "id": "9a545a6b-1456-40b8-a913-b4dfd305c071",
   "metadata": {
    "tags": []
   },
   "source": [
    "## Input task and data desciption"
   ]
  },
  {
   "cell_type": "code",
   "execution_count": 4,
   "id": "8ba05f98-30b2-46d0-9eb2-624f5dbc2754",
   "metadata": {
    "tags": []
   },
   "outputs": [
    {
     "name": "stdout",
     "output_type": "stream",
     "text": [
      "Prompt to get solution graph:\n",
      "\n",
      "[{'role': 'system', 'content': 'A professional Geo-information scientist and developer good at Python.'}]\n"
     ]
    }
   ],
   "source": [
    "# Case 1: population living near hazardous wastes\n",
    "\n",
    "# task_name ='Resident_at_risk_counting'\n",
    "\n",
    "# TASK = r\"\"\"1) Find out the total population that lives within a tract that contain hazardous waste facilities. The study area is North Carolina, US.\n",
    "# 2) Generate a map to show the spatial distribution of population at the tract level and highlight the borders of tracts that have hazardous waste facilities.\n",
    "# \"\"\"\n",
    "\n",
    "# DATA_LOCATIONS = [\"NC hazardous waste facility ESRI shape file location: https://github.com/gladcolor/LLM- Geo/raw/master/overlay_analysis/Hazardous_Waste_Sites.zip.\",\n",
    "#                   \"NC tract boundary shapefile location: https://github.com/gladcolor/LLM-Geo/raw/master/overlay_analysis/tract_shp_37.zip. The tract id column is 'Tract'.\",\n",
    "#                   \"NC tract population CSV file location: https://github.com/gladcolor/LLM-Geo/raw/master/overlay_analysis/NC_tract_population.csv. The population is stored in 'TotalPopulation' column. The tract ID column is 'GEOID'.\"\n",
    "#                  ]\n",
    "\n",
    "\n",
    "# Case 2: France_mobility_changes_2020\n",
    "task_name ='France_mobility_changes_2020'\n",
    "TASK = r'''\n",
    "1) Show the 2020 human mobility monthly change rates of each administrative regions in a France choropleth map. Each month is a sub-map in a map matrix，12 months in total. All monthly maps need to use the same colorbar range. The base of the change rate is January 2020. \n",
    "2) Draw a line chart to show the monthly change rate trends of all administrative regeions. Each region is a line (the region name is the legend), the x-axis is 2020 months.\n",
    "'''\n",
    "\n",
    "DATA_LOCATIONS = [\"ESRI shapefile for France administrative regions:\" + \\\n",
    "                  \"https://github.com/gladcolor/LLM-Geo/raw/master/REST_API/France.zip. \" + \\\n",
    "                  \"The 'GID_1' column is the administrative region code, 'NAME_1' column is the administrative region name.\",\n",
    "                  \"REST API url with parameters for human mobility data access:\" + \\\n",
    "                  \"http://gis.cas.sc.edu/GeoAnalytics/REST?operation=get_daily_movement_for_all_places&source=twitter&scale=world_first_level_admin&begin=01/01/2020&end=12/31/2020.\" + \\\n",
    "                  \"The response is in CSV format. There are three columns in the response: \" + \\\n",
    "                  \"place,date (format:2020-01-07), and intra_movement. 'place' column is the administractive region code of every country; codes for France administrative regions start with 'FRA'.\",\n",
    "                 ]\n",
    "\n",
    "  \n",
    "# Case 3: COVID-19 prevalence trend\n",
    "# task_name ='COVID_death_rate'\n",
    "# TASK = r'''1) Draw a map to show the death rate (death/case) of COVID-19 among the countiguous US counties. Use the accumulated COVID-19 data of 2020.12.31 to compute the death rate. Use scheme ='quantiles' when plotting the map.  Set map projection to 'Conus Albers'. Set map size to 15*10 inches.  \n",
    "# 2) Draw a scatter plot to show the correlation and trend line of the death rate with the senior resident rate, including the r-square and p-value. Set data point transparency to 50%, regression line as red.  Set figure size to 15*10 inches.  \n",
    "# '''\n",
    "\n",
    "# DATA_LOCATIONS = [\n",
    "#                   r\"COVID-19 data case in 2020 (county-level): https://github.com/nytimes/covid-19-data/raw/master/us-counties-2020.csv. This data is for daily accumulated COVID cases and deaths for each county in the US. There are 5 columns: date (format: 2021-02-01), county, state, fips, cases, deaths. \",   \n",
    "#                   r\"Contiguous US county boundary (ESRI shapefile): https://github.com/gladcolor/spatial_data/raw/master/contiguous_counties.zip. The county FIPS column is 'GEOID'. \",\n",
    "#                   r\"Census data (ACS2020): https://raw.githubusercontent.com/gladcolor/spatial_data/master/Demography/ACS2020_5year_county.csv. THe needed columns are: 'FIPS', 'Total Population', 'Total Population: 65 to 74 Years', 'Total Population: 75 to 84 Years', 'Total Population: 85 Years and Over'. Drop rows with NaN cells after loading the used columns.\",\n",
    "#                  ]\n",
    "\n",
    "\n",
    "\n",
    "# # Case 4: Hospital_accessibility\n",
    "# task_name ='Hospital_accessibility'\n",
    "# TASK = r'''\n",
    "# For each zipcode area in South Carolina (SC), calculate the distance from the centroid of the zipcode area to its nearest hospital, and then create a choropleth distance map of zipcode area polygons (unit: km), also show the hospital.\n",
    "# '''\n",
    "\n",
    "# DATA_LOCATIONS = [\n",
    "# r\"SC zipcode boundary shapefile: https://github.com/GIBDUSC/test/raw/master/sc_zip_boundary.zip, the map projection is WGS1984.\",\n",
    "# r\"SC hospitals:  https://github.com/gladcolor/spatial_data/raw/master/South_Carolina/SC_hospitals_with_emergency_room_cleaned.csv, location columns: longitude in 'POINT_X' column, latitude in 'POINT_Y' column.\",          \n",
    "# ]\n",
    "\n",
    "\n",
    "## Case 5: Census API\n",
    "task_name ='Census_API'\n",
    "TASK = r''' Show the spatial distribution of the county level median income in the contigous US. Set figure size to (25,15)\n",
    "'''\n",
    "\n",
    "DATA_LOCATIONS = [\n",
    "'''Census API key: ae7be70727932dd6aed257692de3f344365d0678'''              \n",
    "]\n",
    "\n",
    "\n",
    "\n",
    "  \n",
    "save_dir = os.path.join(os.getcwd(), task_name)\n",
    "os.makedirs(save_dir, exist_ok=True)\n",
    "\n",
    "# create graph\n",
    "# model=r\"gpt-3.5-turbo\"\n",
    "model=r\"gpt-4\"\n",
    "solution = Solution(\n",
    "                    task=TASK,\n",
    "                    task_name=task_name,\n",
    "                    save_dir=save_dir,\n",
    "                    data_locations=DATA_LOCATIONS,\n",
    "                    model=model,\n",
    "                    )\n",
    "print(\"Prompt to get solution graph:\\n\")\n",
    "# print(solution.graph_prompt)\n",
    "print(solution.chat_history)"
   ]
  },
  {
   "cell_type": "markdown",
   "id": "3009da7e-afe7-48da-a0c0-62d5a10026fb",
   "metadata": {
    "tags": []
   },
   "source": [
    "## Get graph code from GPT API"
   ]
  },
  {
   "cell_type": "code",
   "execution_count": 5,
   "id": "e7f413de-7433-4bb5-b9cb-4e55de110cd4",
   "metadata": {},
   "outputs": [
    {
     "name": "stdout",
     "output_type": "stream",
     "text": [
      "[{'role': 'system', 'content': 'A professional Geo-information scientist and developer good at Python.'}]\n"
     ]
    }
   ],
   "source": [
    "print(solution.chat_history)"
   ]
  },
  {
   "cell_type": "code",
   "execution_count": 6,
   "id": "213b17ca-9e3e-4c23-a852-c4a7edc83448",
   "metadata": {
    "tags": []
   },
   "outputs": [
    {
     "data": {
      "text/html": [
       "<style>pre { line-height: 125%; }\n",
       "td.linenos .normal { color: inherit; background-color: transparent; padding-left: 5px; padding-right: 5px; }\n",
       "span.linenos { color: inherit; background-color: transparent; padding-left: 5px; padding-right: 5px; }\n",
       "td.linenos .special { color: #000000; background-color: #ffffc0; padding-left: 5px; padding-right: 5px; }\n",
       "span.linenos.special { color: #000000; background-color: #ffffc0; padding-left: 5px; padding-right: 5px; }\n",
       ".output_html .hll { background-color: #ffffcc }\n",
       ".output_html { background: #f8f8f8; }\n",
       ".output_html .c { color: #3D7B7B; font-style: italic } /* Comment */\n",
       ".output_html .err { border: 1px solid #FF0000 } /* Error */\n",
       ".output_html .k { color: #008000; font-weight: bold } /* Keyword */\n",
       ".output_html .o { color: #666666 } /* Operator */\n",
       ".output_html .ch { color: #3D7B7B; font-style: italic } /* Comment.Hashbang */\n",
       ".output_html .cm { color: #3D7B7B; font-style: italic } /* Comment.Multiline */\n",
       ".output_html .cp { color: #9C6500 } /* Comment.Preproc */\n",
       ".output_html .cpf { color: #3D7B7B; font-style: italic } /* Comment.PreprocFile */\n",
       ".output_html .c1 { color: #3D7B7B; font-style: italic } /* Comment.Single */\n",
       ".output_html .cs { color: #3D7B7B; font-style: italic } /* Comment.Special */\n",
       ".output_html .gd { color: #A00000 } /* Generic.Deleted */\n",
       ".output_html .ge { font-style: italic } /* Generic.Emph */\n",
       ".output_html .gr { color: #E40000 } /* Generic.Error */\n",
       ".output_html .gh { color: #000080; font-weight: bold } /* Generic.Heading */\n",
       ".output_html .gi { color: #008400 } /* Generic.Inserted */\n",
       ".output_html .go { color: #717171 } /* Generic.Output */\n",
       ".output_html .gp { color: #000080; font-weight: bold } /* Generic.Prompt */\n",
       ".output_html .gs { font-weight: bold } /* Generic.Strong */\n",
       ".output_html .gu { color: #800080; font-weight: bold } /* Generic.Subheading */\n",
       ".output_html .gt { color: #0044DD } /* Generic.Traceback */\n",
       ".output_html .kc { color: #008000; font-weight: bold } /* Keyword.Constant */\n",
       ".output_html .kd { color: #008000; font-weight: bold } /* Keyword.Declaration */\n",
       ".output_html .kn { color: #008000; font-weight: bold } /* Keyword.Namespace */\n",
       ".output_html .kp { color: #008000 } /* Keyword.Pseudo */\n",
       ".output_html .kr { color: #008000; font-weight: bold } /* Keyword.Reserved */\n",
       ".output_html .kt { color: #B00040 } /* Keyword.Type */\n",
       ".output_html .m { color: #666666 } /* Literal.Number */\n",
       ".output_html .s { color: #BA2121 } /* Literal.String */\n",
       ".output_html .na { color: #687822 } /* Name.Attribute */\n",
       ".output_html .nb { color: #008000 } /* Name.Builtin */\n",
       ".output_html .nc { color: #0000FF; font-weight: bold } /* Name.Class */\n",
       ".output_html .no { color: #880000 } /* Name.Constant */\n",
       ".output_html .nd { color: #AA22FF } /* Name.Decorator */\n",
       ".output_html .ni { color: #717171; font-weight: bold } /* Name.Entity */\n",
       ".output_html .ne { color: #CB3F38; font-weight: bold } /* Name.Exception */\n",
       ".output_html .nf { color: #0000FF } /* Name.Function */\n",
       ".output_html .nl { color: #767600 } /* Name.Label */\n",
       ".output_html .nn { color: #0000FF; font-weight: bold } /* Name.Namespace */\n",
       ".output_html .nt { color: #008000; font-weight: bold } /* Name.Tag */\n",
       ".output_html .nv { color: #19177C } /* Name.Variable */\n",
       ".output_html .ow { color: #AA22FF; font-weight: bold } /* Operator.Word */\n",
       ".output_html .w { color: #bbbbbb } /* Text.Whitespace */\n",
       ".output_html .mb { color: #666666 } /* Literal.Number.Bin */\n",
       ".output_html .mf { color: #666666 } /* Literal.Number.Float */\n",
       ".output_html .mh { color: #666666 } /* Literal.Number.Hex */\n",
       ".output_html .mi { color: #666666 } /* Literal.Number.Integer */\n",
       ".output_html .mo { color: #666666 } /* Literal.Number.Oct */\n",
       ".output_html .sa { color: #BA2121 } /* Literal.String.Affix */\n",
       ".output_html .sb { color: #BA2121 } /* Literal.String.Backtick */\n",
       ".output_html .sc { color: #BA2121 } /* Literal.String.Char */\n",
       ".output_html .dl { color: #BA2121 } /* Literal.String.Delimiter */\n",
       ".output_html .sd { color: #BA2121; font-style: italic } /* Literal.String.Doc */\n",
       ".output_html .s2 { color: #BA2121 } /* Literal.String.Double */\n",
       ".output_html .se { color: #AA5D1F; font-weight: bold } /* Literal.String.Escape */\n",
       ".output_html .sh { color: #BA2121 } /* Literal.String.Heredoc */\n",
       ".output_html .si { color: #A45A77; font-weight: bold } /* Literal.String.Interpol */\n",
       ".output_html .sx { color: #008000 } /* Literal.String.Other */\n",
       ".output_html .sr { color: #A45A77 } /* Literal.String.Regex */\n",
       ".output_html .s1 { color: #BA2121 } /* Literal.String.Single */\n",
       ".output_html .ss { color: #19177C } /* Literal.String.Symbol */\n",
       ".output_html .bp { color: #008000 } /* Name.Builtin.Pseudo */\n",
       ".output_html .fm { color: #0000FF } /* Name.Function.Magic */\n",
       ".output_html .vc { color: #19177C } /* Name.Variable.Class */\n",
       ".output_html .vg { color: #19177C } /* Name.Variable.Global */\n",
       ".output_html .vi { color: #19177C } /* Name.Variable.Instance */\n",
       ".output_html .vm { color: #19177C } /* Name.Variable.Magic */\n",
       ".output_html .il { color: #666666 } /* Literal.Number.Integer.Long */</style><div class=\"highlight\"><pre><span></span><span class=\"kn\">import</span> <span class=\"nn\">networkx</span> <span class=\"k\">as</span> <span class=\"nn\">nx</span>\n",
       "<span class=\"n\">G</span> <span class=\"o\">=</span> <span class=\"n\">nx</span><span class=\"o\">.</span><span class=\"n\">DiGraph</span><span class=\"p\">()</span>\n",
       "\n",
       "<span class=\"c1\"># 1 Load Census API key</span>\n",
       "<span class=\"n\">G</span><span class=\"o\">.</span><span class=\"n\">add_node</span><span class=\"p\">(</span><span class=\"s2\">&quot;census_api_key&quot;</span><span class=\"p\">,</span> <span class=\"n\">node_type</span><span class=\"o\">=</span><span class=\"s2\">&quot;data&quot;</span><span class=\"p\">,</span> <span class=\"n\">data_path</span><span class=\"o\">=</span><span class=\"s2\">&quot;&quot;</span><span class=\"p\">,</span> <span class=\"n\">description</span><span class=\"o\">=</span><span class=\"s2\">&quot;Census API key&quot;</span><span class=\"p\">)</span>\n",
       "<span class=\"n\">G</span><span class=\"o\">.</span><span class=\"n\">add_node</span><span class=\"p\">(</span><span class=\"s2\">&quot;set_census_api_key&quot;</span><span class=\"p\">,</span> <span class=\"n\">node_type</span><span class=\"o\">=</span><span class=\"s2\">&quot;operation&quot;</span><span class=\"p\">,</span> <span class=\"n\">description</span><span class=\"o\">=</span><span class=\"s2\">&quot;Set Census API key&quot;</span><span class=\"p\">)</span>\n",
       "<span class=\"n\">G</span><span class=\"o\">.</span><span class=\"n\">add_edge</span><span class=\"p\">(</span><span class=\"s2\">&quot;census_api_key&quot;</span><span class=\"p\">,</span> <span class=\"s2\">&quot;set_census_api_key&quot;</span><span class=\"p\">)</span>\n",
       "\n",
       "<span class=\"c1\"># 2 Load county boundary shapefile or URL</span>\n",
       "<span class=\"n\">G</span><span class=\"o\">.</span><span class=\"n\">add_node</span><span class=\"p\">(</span><span class=\"s2\">&quot;county_boundaries_shp&quot;</span><span class=\"p\">,</span> <span class=\"n\">node_type</span><span class=\"o\">=</span><span class=\"s2\">&quot;data&quot;</span><span class=\"p\">,</span> <span class=\"n\">data_path</span><span class=\"o\">=</span><span class=\"s2\">&quot;https://domain.com/county_boundary.shp&quot;</span><span class=\"p\">,</span> <span class=\"n\">description</span><span class=\"o\">=</span><span class=\"s2\">&quot;County boundary shapefile&quot;</span><span class=\"p\">)</span>\n",
       "<span class=\"n\">G</span><span class=\"o\">.</span><span class=\"n\">add_node</span><span class=\"p\">(</span><span class=\"s2\">&quot;load_county_boundaries_shp&quot;</span><span class=\"p\">,</span> <span class=\"n\">node_type</span><span class=\"o\">=</span><span class=\"s2\">&quot;operation&quot;</span><span class=\"p\">,</span> <span class=\"n\">description</span><span class=\"o\">=</span><span class=\"s2\">&quot;Load county boundary shapefile&quot;</span><span class=\"p\">)</span>\n",
       "<span class=\"n\">G</span><span class=\"o\">.</span><span class=\"n\">add_edge</span><span class=\"p\">(</span><span class=\"s2\">&quot;county_boundaries_shp&quot;</span><span class=\"p\">,</span> <span class=\"s2\">&quot;load_county_boundaries_shp&quot;</span><span class=\"p\">)</span>\n",
       "\n",
       "<span class=\"c1\"># 3 Create GeoDataFrame for county boundaries</span>\n",
       "<span class=\"n\">G</span><span class=\"o\">.</span><span class=\"n\">add_node</span><span class=\"p\">(</span><span class=\"s2\">&quot;county_boundaries_gdf&quot;</span><span class=\"p\">,</span> <span class=\"n\">node_type</span><span class=\"o\">=</span><span class=\"s2\">&quot;data&quot;</span><span class=\"p\">,</span> <span class=\"n\">description</span><span class=\"o\">=</span><span class=\"s2\">&quot;County boundaries GeoDataFrame&quot;</span><span class=\"p\">)</span>\n",
       "<span class=\"n\">G</span><span class=\"o\">.</span><span class=\"n\">add_edge</span><span class=\"p\">(</span><span class=\"s2\">&quot;load_county_boundaries_shp&quot;</span><span class=\"p\">,</span> <span class=\"s2\">&quot;county_boundaries_gdf&quot;</span><span class=\"p\">)</span>\n",
       "\n",
       "<span class=\"c1\"># 4 Fetch median income data using Census API</span>\n",
       "<span class=\"n\">G</span><span class=\"o\">.</span><span class=\"n\">add_node</span><span class=\"p\">(</span><span class=\"s2\">&quot;fetch_median_income_data&quot;</span><span class=\"p\">,</span> <span class=\"n\">node_type</span><span class=\"o\">=</span><span class=\"s2\">&quot;operation&quot;</span><span class=\"p\">,</span> <span class=\"n\">description</span><span class=\"o\">=</span><span class=\"s2\">&quot;Fetch median income data using Census API&quot;</span><span class=\"p\">)</span>\n",
       "<span class=\"n\">G</span><span class=\"o\">.</span><span class=\"n\">add_edge</span><span class=\"p\">(</span><span class=\"s2\">&quot;set_census_api_key&quot;</span><span class=\"p\">,</span> <span class=\"s2\">&quot;fetch_median_income_data&quot;</span><span class=\"p\">)</span>\n",
       "\n",
       "<span class=\"c1\"># 5 Store fetched median income dataset</span>\n",
       "<span class=\"n\">G</span><span class=\"o\">.</span><span class=\"n\">add_node</span><span class=\"p\">(</span><span class=\"s2\">&quot;median_income_data&quot;</span><span class=\"p\">,</span> <span class=\"n\">node_type</span><span class=\"o\">=</span><span class=\"s2\">&quot;data&quot;</span><span class=\"p\">,</span> <span class=\"n\">description</span><span class=\"o\">=</span><span class=\"s2\">&quot;Median income dataset&quot;</span><span class=\"p\">)</span>\n",
       "<span class=\"n\">G</span><span class=\"o\">.</span><span class=\"n\">add_edge</span><span class=\"p\">(</span><span class=\"s2\">&quot;fetch_median_income_data&quot;</span><span class=\"p\">,</span> <span class=\"s2\">&quot;median_income_data&quot;</span><span class=\"p\">)</span>\n",
       "\n",
       "<span class=\"c1\"># 6 Join median income data with county boundaries GeoDataFrame using a common attribute (e.g., FIPS code)</span>\n",
       "<span class=\"n\">G</span><span class=\"o\">.</span><span class=\"n\">add_node</span><span class=\"p\">(</span><span class=\"s2\">&quot;join_median_income_with_counties&quot;</span><span class=\"p\">,</span> <span class=\"n\">node_type</span><span class=\"o\">=</span><span class=\"s2\">&quot;operation&quot;</span><span class=\"p\">,</span> <span class=\"n\">description</span><span class=\"o\">=</span><span class=\"s2\">&quot;Join median income data with county boundaries GeoDataFrame&quot;</span><span class=\"p\">)</span>\n",
       "<span class=\"n\">G</span><span class=\"o\">.</span><span class=\"n\">add_edge</span><span class=\"p\">(</span><span class=\"s2\">&quot;median_income_data&quot;</span><span class=\"p\">,</span> <span class=\"s2\">&quot;join_median_income_with_counties&quot;</span><span class=\"p\">)</span>\n",
       "<span class=\"n\">G</span><span class=\"o\">.</span><span class=\"n\">add_edge</span><span class=\"p\">(</span><span class=\"s2\">&quot;county_boundaries_gdf&quot;</span><span class=\"p\">,</span> <span class=\"s2\">&quot;join_median_income_with_counties&quot;</span><span class=\"p\">)</span>\n",
       "\n",
       "<span class=\"c1\"># 7 Store merged GeoDataFrame with income data</span>\n",
       "<span class=\"n\">G</span><span class=\"o\">.</span><span class=\"n\">add_node</span><span class=\"p\">(</span><span class=\"s2\">&quot;merged_counties_income_gdf&quot;</span><span class=\"p\">,</span> <span class=\"n\">node_type</span><span class=\"o\">=</span><span class=\"s2\">&quot;data&quot;</span><span class=\"p\">,</span> <span class=\"n\">description</span><span class=\"o\">=</span><span class=\"s2\">&quot;Merged GeoDataFrame with income data&quot;</span><span class=\"p\">)</span>\n",
       "<span class=\"n\">G</span><span class=\"o\">.</span><span class=\"n\">add_edge</span><span class=\"p\">(</span><span class=\"s2\">&quot;join_median_income_with_counties&quot;</span><span class=\"p\">,</span> <span class=\"s2\">&quot;merged_counties_income_gdf&quot;</span><span class=\"p\">)</span>\n",
       "\n",
       "<span class=\"c1\"># 8 Create a choropleth map for spatial distribution of median income</span>\n",
       "<span class=\"n\">G</span><span class=\"o\">.</span><span class=\"n\">add_node</span><span class=\"p\">(</span><span class=\"s2\">&quot;create_choropleth_map&quot;</span><span class=\"p\">,</span> <span class=\"n\">node_type</span><span class=\"o\">=</span><span class=\"s2\">&quot;operation&quot;</span><span class=\"p\">,</span> <span class=\"n\">description</span><span class=\"o\">=</span><span class=\"s2\">&quot;Create choropleth map of median income distribution&quot;</span><span class=\"p\">)</span>\n",
       "<span class=\"n\">G</span><span class=\"o\">.</span><span class=\"n\">add_edge</span><span class=\"p\">(</span><span class=\"s2\">&quot;merged_counties_income_gdf&quot;</span><span class=\"p\">,</span> <span class=\"s2\">&quot;create_choropleth_map&quot;</span><span class=\"p\">)</span>\n",
       "\n",
       "<span class=\"c1\"># 9 Set figure size for choropleth map</span>\n",
       "<span class=\"n\">G</span><span class=\"o\">.</span><span class=\"n\">add_node</span><span class=\"p\">(</span><span class=\"s2\">&quot;set_figsize&quot;</span><span class=\"p\">,</span> <span class=\"n\">node_type</span><span class=\"o\">=</span><span class=\"s2\">&quot;operation&quot;</span><span class=\"p\">,</span> <span class=\"n\">description</span><span class=\"o\">=</span><span class=\"s2\">&quot;Set figure size for choropleth map&quot;</span><span class=\"p\">)</span>\n",
       "<span class=\"n\">G</span><span class=\"o\">.</span><span class=\"n\">add_edge</span><span class=\"p\">(</span><span class=\"s2\">&quot;create_choropleth_map&quot;</span><span class=\"p\">,</span> <span class=\"s2\">&quot;set_figsize&quot;</span><span class=\"p\">)</span>\n",
       "\n",
       "<span class=\"c1\"># Save the graph to GraphML</span>\n",
       "<span class=\"n\">nx</span><span class=\"o\">.</span><span class=\"n\">write_graphml</span><span class=\"p\">(</span><span class=\"n\">G</span><span class=\"p\">,</span> <span class=\"s2\">&quot;E:/Research/LLM-Geo/Census_API/Census_API.graphml&quot;</span><span class=\"p\">)</span>\n",
       "</pre></div>\n"
      ],
      "text/latex": [
       "\\begin{Verbatim}[commandchars=\\\\\\{\\}]\n",
       "\\PY{k+kn}{import} \\PY{n+nn}{networkx} \\PY{k}{as} \\PY{n+nn}{nx}\n",
       "\\PY{n}{G} \\PY{o}{=} \\PY{n}{nx}\\PY{o}{.}\\PY{n}{DiGraph}\\PY{p}{(}\\PY{p}{)}\n",
       "\n",
       "\\PY{c+c1}{\\PYZsh{} 1 Load Census API key}\n",
       "\\PY{n}{G}\\PY{o}{.}\\PY{n}{add\\PYZus{}node}\\PY{p}{(}\\PY{l+s+s2}{\\PYZdq{}}\\PY{l+s+s2}{census\\PYZus{}api\\PYZus{}key}\\PY{l+s+s2}{\\PYZdq{}}\\PY{p}{,} \\PY{n}{node\\PYZus{}type}\\PY{o}{=}\\PY{l+s+s2}{\\PYZdq{}}\\PY{l+s+s2}{data}\\PY{l+s+s2}{\\PYZdq{}}\\PY{p}{,} \\PY{n}{data\\PYZus{}path}\\PY{o}{=}\\PY{l+s+s2}{\\PYZdq{}}\\PY{l+s+s2}{\\PYZdq{}}\\PY{p}{,} \\PY{n}{description}\\PY{o}{=}\\PY{l+s+s2}{\\PYZdq{}}\\PY{l+s+s2}{Census API key}\\PY{l+s+s2}{\\PYZdq{}}\\PY{p}{)}\n",
       "\\PY{n}{G}\\PY{o}{.}\\PY{n}{add\\PYZus{}node}\\PY{p}{(}\\PY{l+s+s2}{\\PYZdq{}}\\PY{l+s+s2}{set\\PYZus{}census\\PYZus{}api\\PYZus{}key}\\PY{l+s+s2}{\\PYZdq{}}\\PY{p}{,} \\PY{n}{node\\PYZus{}type}\\PY{o}{=}\\PY{l+s+s2}{\\PYZdq{}}\\PY{l+s+s2}{operation}\\PY{l+s+s2}{\\PYZdq{}}\\PY{p}{,} \\PY{n}{description}\\PY{o}{=}\\PY{l+s+s2}{\\PYZdq{}}\\PY{l+s+s2}{Set Census API key}\\PY{l+s+s2}{\\PYZdq{}}\\PY{p}{)}\n",
       "\\PY{n}{G}\\PY{o}{.}\\PY{n}{add\\PYZus{}edge}\\PY{p}{(}\\PY{l+s+s2}{\\PYZdq{}}\\PY{l+s+s2}{census\\PYZus{}api\\PYZus{}key}\\PY{l+s+s2}{\\PYZdq{}}\\PY{p}{,} \\PY{l+s+s2}{\\PYZdq{}}\\PY{l+s+s2}{set\\PYZus{}census\\PYZus{}api\\PYZus{}key}\\PY{l+s+s2}{\\PYZdq{}}\\PY{p}{)}\n",
       "\n",
       "\\PY{c+c1}{\\PYZsh{} 2 Load county boundary shapefile or URL}\n",
       "\\PY{n}{G}\\PY{o}{.}\\PY{n}{add\\PYZus{}node}\\PY{p}{(}\\PY{l+s+s2}{\\PYZdq{}}\\PY{l+s+s2}{county\\PYZus{}boundaries\\PYZus{}shp}\\PY{l+s+s2}{\\PYZdq{}}\\PY{p}{,} \\PY{n}{node\\PYZus{}type}\\PY{o}{=}\\PY{l+s+s2}{\\PYZdq{}}\\PY{l+s+s2}{data}\\PY{l+s+s2}{\\PYZdq{}}\\PY{p}{,} \\PY{n}{data\\PYZus{}path}\\PY{o}{=}\\PY{l+s+s2}{\\PYZdq{}}\\PY{l+s+s2}{https://domain.com/county\\PYZus{}boundary.shp}\\PY{l+s+s2}{\\PYZdq{}}\\PY{p}{,} \\PY{n}{description}\\PY{o}{=}\\PY{l+s+s2}{\\PYZdq{}}\\PY{l+s+s2}{County boundary shapefile}\\PY{l+s+s2}{\\PYZdq{}}\\PY{p}{)}\n",
       "\\PY{n}{G}\\PY{o}{.}\\PY{n}{add\\PYZus{}node}\\PY{p}{(}\\PY{l+s+s2}{\\PYZdq{}}\\PY{l+s+s2}{load\\PYZus{}county\\PYZus{}boundaries\\PYZus{}shp}\\PY{l+s+s2}{\\PYZdq{}}\\PY{p}{,} \\PY{n}{node\\PYZus{}type}\\PY{o}{=}\\PY{l+s+s2}{\\PYZdq{}}\\PY{l+s+s2}{operation}\\PY{l+s+s2}{\\PYZdq{}}\\PY{p}{,} \\PY{n}{description}\\PY{o}{=}\\PY{l+s+s2}{\\PYZdq{}}\\PY{l+s+s2}{Load county boundary shapefile}\\PY{l+s+s2}{\\PYZdq{}}\\PY{p}{)}\n",
       "\\PY{n}{G}\\PY{o}{.}\\PY{n}{add\\PYZus{}edge}\\PY{p}{(}\\PY{l+s+s2}{\\PYZdq{}}\\PY{l+s+s2}{county\\PYZus{}boundaries\\PYZus{}shp}\\PY{l+s+s2}{\\PYZdq{}}\\PY{p}{,} \\PY{l+s+s2}{\\PYZdq{}}\\PY{l+s+s2}{load\\PYZus{}county\\PYZus{}boundaries\\PYZus{}shp}\\PY{l+s+s2}{\\PYZdq{}}\\PY{p}{)}\n",
       "\n",
       "\\PY{c+c1}{\\PYZsh{} 3 Create GeoDataFrame for county boundaries}\n",
       "\\PY{n}{G}\\PY{o}{.}\\PY{n}{add\\PYZus{}node}\\PY{p}{(}\\PY{l+s+s2}{\\PYZdq{}}\\PY{l+s+s2}{county\\PYZus{}boundaries\\PYZus{}gdf}\\PY{l+s+s2}{\\PYZdq{}}\\PY{p}{,} \\PY{n}{node\\PYZus{}type}\\PY{o}{=}\\PY{l+s+s2}{\\PYZdq{}}\\PY{l+s+s2}{data}\\PY{l+s+s2}{\\PYZdq{}}\\PY{p}{,} \\PY{n}{description}\\PY{o}{=}\\PY{l+s+s2}{\\PYZdq{}}\\PY{l+s+s2}{County boundaries GeoDataFrame}\\PY{l+s+s2}{\\PYZdq{}}\\PY{p}{)}\n",
       "\\PY{n}{G}\\PY{o}{.}\\PY{n}{add\\PYZus{}edge}\\PY{p}{(}\\PY{l+s+s2}{\\PYZdq{}}\\PY{l+s+s2}{load\\PYZus{}county\\PYZus{}boundaries\\PYZus{}shp}\\PY{l+s+s2}{\\PYZdq{}}\\PY{p}{,} \\PY{l+s+s2}{\\PYZdq{}}\\PY{l+s+s2}{county\\PYZus{}boundaries\\PYZus{}gdf}\\PY{l+s+s2}{\\PYZdq{}}\\PY{p}{)}\n",
       "\n",
       "\\PY{c+c1}{\\PYZsh{} 4 Fetch median income data using Census API}\n",
       "\\PY{n}{G}\\PY{o}{.}\\PY{n}{add\\PYZus{}node}\\PY{p}{(}\\PY{l+s+s2}{\\PYZdq{}}\\PY{l+s+s2}{fetch\\PYZus{}median\\PYZus{}income\\PYZus{}data}\\PY{l+s+s2}{\\PYZdq{}}\\PY{p}{,} \\PY{n}{node\\PYZus{}type}\\PY{o}{=}\\PY{l+s+s2}{\\PYZdq{}}\\PY{l+s+s2}{operation}\\PY{l+s+s2}{\\PYZdq{}}\\PY{p}{,} \\PY{n}{description}\\PY{o}{=}\\PY{l+s+s2}{\\PYZdq{}}\\PY{l+s+s2}{Fetch median income data using Census API}\\PY{l+s+s2}{\\PYZdq{}}\\PY{p}{)}\n",
       "\\PY{n}{G}\\PY{o}{.}\\PY{n}{add\\PYZus{}edge}\\PY{p}{(}\\PY{l+s+s2}{\\PYZdq{}}\\PY{l+s+s2}{set\\PYZus{}census\\PYZus{}api\\PYZus{}key}\\PY{l+s+s2}{\\PYZdq{}}\\PY{p}{,} \\PY{l+s+s2}{\\PYZdq{}}\\PY{l+s+s2}{fetch\\PYZus{}median\\PYZus{}income\\PYZus{}data}\\PY{l+s+s2}{\\PYZdq{}}\\PY{p}{)}\n",
       "\n",
       "\\PY{c+c1}{\\PYZsh{} 5 Store fetched median income dataset}\n",
       "\\PY{n}{G}\\PY{o}{.}\\PY{n}{add\\PYZus{}node}\\PY{p}{(}\\PY{l+s+s2}{\\PYZdq{}}\\PY{l+s+s2}{median\\PYZus{}income\\PYZus{}data}\\PY{l+s+s2}{\\PYZdq{}}\\PY{p}{,} \\PY{n}{node\\PYZus{}type}\\PY{o}{=}\\PY{l+s+s2}{\\PYZdq{}}\\PY{l+s+s2}{data}\\PY{l+s+s2}{\\PYZdq{}}\\PY{p}{,} \\PY{n}{description}\\PY{o}{=}\\PY{l+s+s2}{\\PYZdq{}}\\PY{l+s+s2}{Median income dataset}\\PY{l+s+s2}{\\PYZdq{}}\\PY{p}{)}\n",
       "\\PY{n}{G}\\PY{o}{.}\\PY{n}{add\\PYZus{}edge}\\PY{p}{(}\\PY{l+s+s2}{\\PYZdq{}}\\PY{l+s+s2}{fetch\\PYZus{}median\\PYZus{}income\\PYZus{}data}\\PY{l+s+s2}{\\PYZdq{}}\\PY{p}{,} \\PY{l+s+s2}{\\PYZdq{}}\\PY{l+s+s2}{median\\PYZus{}income\\PYZus{}data}\\PY{l+s+s2}{\\PYZdq{}}\\PY{p}{)}\n",
       "\n",
       "\\PY{c+c1}{\\PYZsh{} 6 Join median income data with county boundaries GeoDataFrame using a common attribute (e.g., FIPS code)}\n",
       "\\PY{n}{G}\\PY{o}{.}\\PY{n}{add\\PYZus{}node}\\PY{p}{(}\\PY{l+s+s2}{\\PYZdq{}}\\PY{l+s+s2}{join\\PYZus{}median\\PYZus{}income\\PYZus{}with\\PYZus{}counties}\\PY{l+s+s2}{\\PYZdq{}}\\PY{p}{,} \\PY{n}{node\\PYZus{}type}\\PY{o}{=}\\PY{l+s+s2}{\\PYZdq{}}\\PY{l+s+s2}{operation}\\PY{l+s+s2}{\\PYZdq{}}\\PY{p}{,} \\PY{n}{description}\\PY{o}{=}\\PY{l+s+s2}{\\PYZdq{}}\\PY{l+s+s2}{Join median income data with county boundaries GeoDataFrame}\\PY{l+s+s2}{\\PYZdq{}}\\PY{p}{)}\n",
       "\\PY{n}{G}\\PY{o}{.}\\PY{n}{add\\PYZus{}edge}\\PY{p}{(}\\PY{l+s+s2}{\\PYZdq{}}\\PY{l+s+s2}{median\\PYZus{}income\\PYZus{}data}\\PY{l+s+s2}{\\PYZdq{}}\\PY{p}{,} \\PY{l+s+s2}{\\PYZdq{}}\\PY{l+s+s2}{join\\PYZus{}median\\PYZus{}income\\PYZus{}with\\PYZus{}counties}\\PY{l+s+s2}{\\PYZdq{}}\\PY{p}{)}\n",
       "\\PY{n}{G}\\PY{o}{.}\\PY{n}{add\\PYZus{}edge}\\PY{p}{(}\\PY{l+s+s2}{\\PYZdq{}}\\PY{l+s+s2}{county\\PYZus{}boundaries\\PYZus{}gdf}\\PY{l+s+s2}{\\PYZdq{}}\\PY{p}{,} \\PY{l+s+s2}{\\PYZdq{}}\\PY{l+s+s2}{join\\PYZus{}median\\PYZus{}income\\PYZus{}with\\PYZus{}counties}\\PY{l+s+s2}{\\PYZdq{}}\\PY{p}{)}\n",
       "\n",
       "\\PY{c+c1}{\\PYZsh{} 7 Store merged GeoDataFrame with income data}\n",
       "\\PY{n}{G}\\PY{o}{.}\\PY{n}{add\\PYZus{}node}\\PY{p}{(}\\PY{l+s+s2}{\\PYZdq{}}\\PY{l+s+s2}{merged\\PYZus{}counties\\PYZus{}income\\PYZus{}gdf}\\PY{l+s+s2}{\\PYZdq{}}\\PY{p}{,} \\PY{n}{node\\PYZus{}type}\\PY{o}{=}\\PY{l+s+s2}{\\PYZdq{}}\\PY{l+s+s2}{data}\\PY{l+s+s2}{\\PYZdq{}}\\PY{p}{,} \\PY{n}{description}\\PY{o}{=}\\PY{l+s+s2}{\\PYZdq{}}\\PY{l+s+s2}{Merged GeoDataFrame with income data}\\PY{l+s+s2}{\\PYZdq{}}\\PY{p}{)}\n",
       "\\PY{n}{G}\\PY{o}{.}\\PY{n}{add\\PYZus{}edge}\\PY{p}{(}\\PY{l+s+s2}{\\PYZdq{}}\\PY{l+s+s2}{join\\PYZus{}median\\PYZus{}income\\PYZus{}with\\PYZus{}counties}\\PY{l+s+s2}{\\PYZdq{}}\\PY{p}{,} \\PY{l+s+s2}{\\PYZdq{}}\\PY{l+s+s2}{merged\\PYZus{}counties\\PYZus{}income\\PYZus{}gdf}\\PY{l+s+s2}{\\PYZdq{}}\\PY{p}{)}\n",
       "\n",
       "\\PY{c+c1}{\\PYZsh{} 8 Create a choropleth map for spatial distribution of median income}\n",
       "\\PY{n}{G}\\PY{o}{.}\\PY{n}{add\\PYZus{}node}\\PY{p}{(}\\PY{l+s+s2}{\\PYZdq{}}\\PY{l+s+s2}{create\\PYZus{}choropleth\\PYZus{}map}\\PY{l+s+s2}{\\PYZdq{}}\\PY{p}{,} \\PY{n}{node\\PYZus{}type}\\PY{o}{=}\\PY{l+s+s2}{\\PYZdq{}}\\PY{l+s+s2}{operation}\\PY{l+s+s2}{\\PYZdq{}}\\PY{p}{,} \\PY{n}{description}\\PY{o}{=}\\PY{l+s+s2}{\\PYZdq{}}\\PY{l+s+s2}{Create choropleth map of median income distribution}\\PY{l+s+s2}{\\PYZdq{}}\\PY{p}{)}\n",
       "\\PY{n}{G}\\PY{o}{.}\\PY{n}{add\\PYZus{}edge}\\PY{p}{(}\\PY{l+s+s2}{\\PYZdq{}}\\PY{l+s+s2}{merged\\PYZus{}counties\\PYZus{}income\\PYZus{}gdf}\\PY{l+s+s2}{\\PYZdq{}}\\PY{p}{,} \\PY{l+s+s2}{\\PYZdq{}}\\PY{l+s+s2}{create\\PYZus{}choropleth\\PYZus{}map}\\PY{l+s+s2}{\\PYZdq{}}\\PY{p}{)}\n",
       "\n",
       "\\PY{c+c1}{\\PYZsh{} 9 Set figure size for choropleth map}\n",
       "\\PY{n}{G}\\PY{o}{.}\\PY{n}{add\\PYZus{}node}\\PY{p}{(}\\PY{l+s+s2}{\\PYZdq{}}\\PY{l+s+s2}{set\\PYZus{}figsize}\\PY{l+s+s2}{\\PYZdq{}}\\PY{p}{,} \\PY{n}{node\\PYZus{}type}\\PY{o}{=}\\PY{l+s+s2}{\\PYZdq{}}\\PY{l+s+s2}{operation}\\PY{l+s+s2}{\\PYZdq{}}\\PY{p}{,} \\PY{n}{description}\\PY{o}{=}\\PY{l+s+s2}{\\PYZdq{}}\\PY{l+s+s2}{Set figure size for choropleth map}\\PY{l+s+s2}{\\PYZdq{}}\\PY{p}{)}\n",
       "\\PY{n}{G}\\PY{o}{.}\\PY{n}{add\\PYZus{}edge}\\PY{p}{(}\\PY{l+s+s2}{\\PYZdq{}}\\PY{l+s+s2}{create\\PYZus{}choropleth\\PYZus{}map}\\PY{l+s+s2}{\\PYZdq{}}\\PY{p}{,} \\PY{l+s+s2}{\\PYZdq{}}\\PY{l+s+s2}{set\\PYZus{}figsize}\\PY{l+s+s2}{\\PYZdq{}}\\PY{p}{)}\n",
       "\n",
       "\\PY{c+c1}{\\PYZsh{} Save the graph to GraphML}\n",
       "\\PY{n}{nx}\\PY{o}{.}\\PY{n}{write\\PYZus{}graphml}\\PY{p}{(}\\PY{n}{G}\\PY{p}{,} \\PY{l+s+s2}{\\PYZdq{}}\\PY{l+s+s2}{E:/Research/LLM\\PYZhy{}Geo/Census\\PYZus{}API/Census\\PYZus{}API.graphml}\\PY{l+s+s2}{\\PYZdq{}}\\PY{p}{)}\n",
       "\\end{Verbatim}\n"
      ],
      "text/plain": [
       "import networkx as nx\n",
       "G = nx.DiGraph()\n",
       "\n",
       "# 1 Load Census API key\n",
       "G.add_node(\"census_api_key\", node_type=\"data\", data_path=\"\", description=\"Census API key\")\n",
       "G.add_node(\"set_census_api_key\", node_type=\"operation\", description=\"Set Census API key\")\n",
       "G.add_edge(\"census_api_key\", \"set_census_api_key\")\n",
       "\n",
       "# 2 Load county boundary shapefile or URL\n",
       "G.add_node(\"county_boundaries_shp\", node_type=\"data\", data_path=\"https://domain.com/county_boundary.shp\", description=\"County boundary shapefile\")\n",
       "G.add_node(\"load_county_boundaries_shp\", node_type=\"operation\", description=\"Load county boundary shapefile\")\n",
       "G.add_edge(\"county_boundaries_shp\", \"load_county_boundaries_shp\")\n",
       "\n",
       "# 3 Create GeoDataFrame for county boundaries\n",
       "G.add_node(\"county_boundaries_gdf\", node_type=\"data\", description=\"County boundaries GeoDataFrame\")\n",
       "G.add_edge(\"load_county_boundaries_shp\", \"county_boundaries_gdf\")\n",
       "\n",
       "# 4 Fetch median income data using Census API\n",
       "G.add_node(\"fetch_median_income_data\", node_type=\"operation\", description=\"Fetch median income data using Census API\")\n",
       "G.add_edge(\"set_census_api_key\", \"fetch_median_income_data\")\n",
       "\n",
       "# 5 Store fetched median income dataset\n",
       "G.add_node(\"median_income_data\", node_type=\"data\", description=\"Median income dataset\")\n",
       "G.add_edge(\"fetch_median_income_data\", \"median_income_data\")\n",
       "\n",
       "# 6 Join median income data with county boundaries GeoDataFrame using a common attribute (e.g., FIPS code)\n",
       "G.add_node(\"join_median_income_with_counties\", node_type=\"operation\", description=\"Join median income data with county boundaries GeoDataFrame\")\n",
       "G.add_edge(\"median_income_data\", \"join_median_income_with_counties\")\n",
       "G.add_edge(\"county_boundaries_gdf\", \"join_median_income_with_counties\")\n",
       "\n",
       "# 7 Store merged GeoDataFrame with income data\n",
       "G.add_node(\"merged_counties_income_gdf\", node_type=\"data\", description=\"Merged GeoDataFrame with income data\")\n",
       "G.add_edge(\"join_median_income_with_counties\", \"merged_counties_income_gdf\")\n",
       "\n",
       "# 8 Create a choropleth map for spatial distribution of median income\n",
       "G.add_node(\"create_choropleth_map\", node_type=\"operation\", description=\"Create choropleth map of median income distribution\")\n",
       "G.add_edge(\"merged_counties_income_gdf\", \"create_choropleth_map\")\n",
       "\n",
       "# 9 Set figure size for choropleth map\n",
       "G.add_node(\"set_figsize\", node_type=\"operation\", description=\"Set figure size for choropleth map\")\n",
       "G.add_edge(\"create_choropleth_map\", \"set_figsize\")\n",
       "\n",
       "# Save the graph to GraphML\n",
       "nx.write_graphml(G, \"E:/Research/LLM-Geo/Census_API/Census_API.graphml\")"
      ]
     },
     "metadata": {},
     "output_type": "display_data"
    }
   ],
   "source": [
    "response_for_graph = solution.get_LLM_response_for_graph() \n",
    "# print(solution.chat_history)\n",
    "solution.graph_response = response_for_graph\n",
    "solution.save_solution()\n",
    "\n",
    "clear_output(wait=True)\n",
    "display(Code(solution.code_for_graph, language='python'))"
   ]
  },
  {
   "cell_type": "markdown",
   "id": "112017eb-8bcb-4d44-88d5-7099f22bf107",
   "metadata": {
    "tags": []
   },
   "source": [
    "## Execute code to generate the solution graph"
   ]
  },
  {
   "cell_type": "code",
   "execution_count": 7,
   "id": "d1695d40-b164-4d8b-8381-957ce260a5e6",
   "metadata": {
    "tags": []
   },
   "outputs": [
    {
     "name": "stdout",
     "output_type": "stream",
     "text": [
      "E:\\Research\\LLM-Geo\\Census_API.html\n"
     ]
    },
    {
     "data": {
      "text/html": [
       "\n",
       "        <iframe\n",
       "            width=\"100%\"\n",
       "            height=\"800px\"\n",
       "            src=\"E:\\Research\\LLM-Geo\\Census_API.html\"\n",
       "            frameborder=\"0\"\n",
       "            allowfullscreen\n",
       "            \n",
       "        ></iframe>\n",
       "        "
      ],
      "text/plain": [
       "<IPython.lib.display.IFrame at 0x1c720e83c70>"
      ]
     },
     "execution_count": 7,
     "metadata": {},
     "output_type": "execute_result"
    }
   ],
   "source": [
    "exec(solution.code_for_graph)\n",
    "solution_graph = solution.load_graph_file()\n",
    "\n",
    "# Show the graph\n",
    "G = nx.read_graphml(solution.graph_file)  \n",
    "nt = helper.show_graph(G)\n",
    "html_name = os.path.join(os.getcwd(), solution.task_name + '.html')  \n",
    "# HTML file should in the same directory. See:\n",
    "# https://stackoverflow.com/questions/65564916/error-displaying-pyvis-html-inside-jupyter-lab-cell\n",
    "nt.show(name=html_name)\n",
    "# html_name"
   ]
  },
  {
   "cell_type": "markdown",
   "id": "791f8311-1874-4b23-957c-793cfd74a9cc",
   "metadata": {
    "tags": []
   },
   "source": [
    "## Generate prompts and code for operations (functions)"
   ]
  },
  {
   "cell_type": "code",
   "execution_count": 8,
   "id": "b4459452-8156-476d-8d20-1fccf3fdaa48",
   "metadata": {
    "tags": []
   },
   "outputs": [
    {
     "name": "stdout",
     "output_type": "stream",
     "text": [
      "1 / 6, LLM is generating code for operation node: set_census_api_key\n",
      "```python\n",
      "def set_census_api_key(census_api_key):\n",
      "    # Description: Set Census API key\n",
      "    # census_api_key: Census API key\n",
      "    import censusdata\n",
      "    censusdata.census.setapikey(census_api_key)\n",
      "    return fetch_median_income_data\n",
      "```\n",
      "\n",
      "\n",
      "2 / 6, LLM is generating code for operation node: load_county_boundaries_shp\n",
      "```python\n",
      "import geopandas as gpd\n",
      "\n",
      "def load_county_boundaries_shp(county_boundaries_shp='https://domain.com/county_boundary.shp'):\n",
      "    # Description: Load county boundary shapefile\n",
      "    # county_boundaries_shp: County boundary shapefile URL\n",
      "    county_boundaries_gdf = gpd.read_file(county_boundaries_shp)\n",
      "    return county_boundaries_gdf\n",
      "```\n",
      "\n",
      "\n",
      "\n",
      "3 / 6, LLM is generating code for operation node: fetch_median_income_data\n",
      "```python\n",
      "import pandas as pd\n",
      "import censusdata\n",
      "\n",
      "def fetch_median_income_data(set_census_api_key):\n",
      "    # Description: Fetch median income data using Census API\n",
      "    # set_census_api_key: Set Census API key function\n",
      "    set_census_api_key(\"ae7be70727932dd6aed257692de3f344365d0678\")\n",
      "    search_results = censusdata.search('acs5', 2019, 'B19013_001E', 'NAME')\n",
      "    counties = [geo for geo in search_results if geo[0].startswith(\"050\")]\n",
      "    county_fips_codes = [geo[0] for geo in counties]\n",
      "    county_names = [geo[1] for geo in counties]\n",
      "    data = censusdata.download('acs5', 2019, censusdata.censusgeo([('state', '*'), ('county', '*')]), ['B19013_001E'])\n",
      "    median_income_data = pd.DataFrame({'GEOID': county_fips_codes, 'County Name': county_names, 'Median Income': data['B19013_001E'].values})\n",
      "    return median_income_data\n",
      "```\n",
      "\n",
      "\n",
      "4 / 6, LLM is generating code for operation node: join_median_income_with_counties\n",
      "```python\n",
      "def join_median_income_with_counties(county_boundaries_gdf, median_income_data):\n",
      "    # Description: Join median income data with county boundaries GeoDataFrame\n",
      "    # Input: county_boundaries_gdf: County boundaries GeoDataFrame\n",
      "    #        median_income_data: Median income dataset\n",
      "    # Output: Merged GeoDataFrame with income data\n",
      "    \n",
      "    county_boundaries_gdf['GEOID'] = county_boundaries_gdf['GEOID'].astype(str)\n",
      "    median_income_data['GEOID'] = median_income_data['GEOID'].astype(str)\n",
      "    \n",
      "    merged_counties_income_gdf = county_boundaries_gdf.merge(median_income_data, on='GEOID', how='left')\n",
      "    \n",
      "    merged_counties_income_gdf = merged_counties_income_gdf.dropna(subset=['Median Income'])    \n",
      "    return merged_counties_income_gdf\n",
      "```\n",
      "\n",
      "\n",
      "\n",
      "5 / 6, LLM is generating code for operation node: create_choropleth_map\n",
      "```python\n",
      "import geopandas as gpd\n",
      "import matplotlib.pyplot as plt\n",
      "\n",
      "def create_choropleth_map(merged_counties_income_gdf):\n",
      "    # Description: Create choropleth map of median income distribution\n",
      "    # Input: merged_counties_income_gdf: Merged GeoDataFrame with income data\n",
      "    # Output: set_figsize\n",
      "    \n",
      "    fig, ax = plt.subplots(figsize=(25, 15))\n",
      "    \n",
      "    merged_counties_income_gdf.plot(column='Median Income', cmap='OrRd', linewidth=0.8, ax=ax, edgecolor='0.8', legend=True)\n",
      "    ax.set_title(\"Median Income Distribution - County Level\")\n",
      "    ax.set_axis_off()\n",
      "    \n",
      "    # Customize colorbar height\n",
      "    cax = fig.get_axes()[1]\n",
      "    cax.set_aspect(15)\n",
      "    cax.set_ylabel(\"Median Income ($)\")\n",
      "    \n",
      "    plt.show()\n",
      "    \n",
      "    return set_figsize\n",
      "```\n",
      "\n",
      "\n",
      "6 / 6, LLM is generating code for operation node: set_figsize\n",
      "```python\n",
      "def set_figsize(create_choropleth_map):\n",
      "    # Description: Set figure size for choropleth map\n",
      "    # Input: create_choropleth_map: Choropleth map creation function\n",
      "    create_choropleth_map()\n",
      "    return\n",
      "```\n",
      "\n",
      "\n",
      "\n"
     ]
    }
   ],
   "source": [
    "operations = solution.get_LLM_responses_for_operations(review=False)\n",
    "solution.save_solution()\n",
    "\n",
    "all_operation_code_str = '\\n'.join([operation['operation_code'] for operation in operations])\n",
    "\n",
    "# clear_output(wait=True)\n",
    "# display(Code(all_operation_code_str, language='python'))"
   ]
  },
  {
   "cell_type": "markdown",
   "id": "ae21f735-29f4-4934-8a7e-00616447cd40",
   "metadata": {
    "tags": []
   },
   "source": [
    "## Generate prompts and code for assembly program"
   ]
  },
  {
   "cell_type": "code",
   "execution_count": null,
   "id": "34ac055d-11b8-4b3e-890c-83501611355f",
   "metadata": {
    "tags": []
   },
   "outputs": [],
   "source": [
    "assembly_LLM_response = solution.get_LLM_assembly_response(review=False)\n",
    "solution.assembly_LLM_response = assembly_LLM_response\n",
    "solution.save_solution()\n",
    "\n",
    "# clear_output(wait=True)\n",
    "# display(Code(solution.code_for_assembly, language='python'))"
   ]
  },
  {
   "cell_type": "markdown",
   "id": "bca67352-6508-4fe6-be4b-1f4649224148",
   "metadata": {
    "tags": []
   },
   "source": [
    "## Execute assembly code"
   ]
  },
  {
   "cell_type": "code",
   "execution_count": null,
   "id": "583d7c6a-8d5a-4bca-b22e-fcb3f3d5c201",
   "metadata": {
    "tags": []
   },
   "outputs": [],
   "source": [
    "all_code = all_operation_code_str + '\\n' + solution.code_for_assembly\n",
    "\n",
    "# display(Code(all_code, language='python'))\n",
    "\n",
    "all_code = solution.execute_complete_program(code=all_code, try_cnt=10)\n",
    "\n"
   ]
  }
 ],
 "metadata": {
  "kernelspec": {
   "display_name": "street_mapping_env",
   "language": "python",
   "name": "street_mapping_env"
  },
  "language_info": {
   "codemirror_mode": {
    "name": "ipython",
    "version": 3
   },
   "file_extension": ".py",
   "mimetype": "text/x-python",
   "name": "python",
   "nbconvert_exporter": "python",
   "pygments_lexer": "ipython3",
   "version": "3.10.8"
  }
 },
 "nbformat": 4,
 "nbformat_minor": 5
}
