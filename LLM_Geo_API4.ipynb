{
 "cells": [
  {
   "cell_type": "markdown",
   "id": "bf676855-2221-47c7-8dff-b185e03c3953",
   "metadata": {
    "tags": []
   },
   "source": [
    "#  Install package"
   ]
  },
  {
   "cell_type": "code",
   "execution_count": 22,
   "id": "05156c09-3ec8-47d7-a629-f9374440658a",
   "metadata": {
    "tags": []
   },
   "outputs": [],
   "source": [
    "# ! pip install pyvis\n",
    "# ! pip install networkx\n",
    "# ! pip install dash\n",
    "# ! pip install altair\n",
    "# ! pip install panel"
   ]
  },
  {
   "cell_type": "markdown",
   "id": "b254e9bd-675a-4644-abfd-d642183da809",
   "metadata": {
    "tags": []
   },
   "source": [
    "# Import package"
   ]
  },
  {
   "cell_type": "code",
   "execution_count": 23,
   "id": "392efdfe-e33d-43fb-b8ea-6b6fb444ad9d",
   "metadata": {
    "tags": []
   },
   "outputs": [],
   "source": [
    "import os\n",
    "import requests\n",
    "import networkx as nx\n",
    "import pandas as pd\n",
    "import geopandas as gpd\n",
    "from pyvis.network import Network\n",
    "import openai\n",
    "from IPython.display import display, HTML, Code\n",
    "from IPython.display import clear_output\n"
   ]
  },
  {
   "cell_type": "markdown",
   "id": "d0e43a82-d40f-4442-93fb-525486017ca1",
   "metadata": {
    "tags": []
   },
   "source": [
    "# Define Solution class\n",
    "Please run the following cell to define the functions"
   ]
  },
  {
   "cell_type": "code",
   "execution_count": 24,
   "id": "236eff8d-4f24-4e90-af5f-4847bf2e7112",
   "metadata": {
    "tags": []
   },
   "outputs": [
    {
     "name": "stdout",
     "output_type": "stream",
     "text": [
      "The autoreload extension is already loaded. To reload it, use:\n",
      "  %reload_ext autoreload\n"
     ]
    }
   ],
   "source": [
    "# %load_ext autoreload\n",
    "# %autoreload 2\n",
    "\n",
    "import LLM_Geo_Constants as constants\n",
    "import helper\n",
    "# import LLM_Geo_kernel.Solution as Solution\n",
    "\n",
    "from LLM_Geo_kernel import Solution\n",
    "\n",
    "%load_ext autoreload\n",
    "%autoreload 2"
   ]
  },
  {
   "cell_type": "markdown",
   "id": "9a3e84cf-00f5-40ef-a7ff-5ae186a4e164",
   "metadata": {},
   "source": [
    "# Demonstration Cases"
   ]
  },
  {
   "cell_type": "markdown",
   "id": "9a545a6b-1456-40b8-a913-b4dfd305c071",
   "metadata": {
    "tags": []
   },
   "source": [
    "## Input task and data desciption"
   ]
  },
  {
   "cell_type": "code",
   "execution_count": 25,
   "id": "8ba05f98-30b2-46d0-9eb2-624f5dbc2754",
   "metadata": {
    "tags": []
   },
   "outputs": [
    {
     "name": "stdout",
     "output_type": "stream",
     "text": [
      "Prompt to get solution graph:\n",
      "\n",
      "[{'role': 'system', 'content': 'A professional Geo-information scientist and developer good at Python.'}]\n"
     ]
    }
   ],
   "source": [
    "# Case 1: population living near hazardous wastes\n",
    "\n",
    "# task_name ='Resident_at_risk_counting'\n",
    "\n",
    "# TASK = r\"\"\"1) Find out the total population that lives within a tract that contain hazardous waste facilities. The study area is North Carolina, US.\n",
    "# 2) Generate a map to show the spatial distribution of population at the tract level and highlight the borders of tracts that have hazardous waste facilities.\n",
    "# \"\"\"\n",
    "\n",
    "# DATA_LOCATIONS = [\"NC hazardous waste facility ESRI shape file location: https://github.com/gladcolor/LLM- Geo/raw/master/overlay_analysis/Hazardous_Waste_Sites.zip.\",\n",
    "#                   \"NC tract boundary shapefile location: https://github.com/gladcolor/LLM-Geo/raw/master/overlay_analysis/tract_shp_37.zip. The tract id column is 'Tract'.\",\n",
    "#                   \"NC tract population CSV file location: https://github.com/gladcolor/LLM-Geo/raw/master/overlay_analysis/NC_tract_population.csv. The population is stored in 'TotalPopulation' column. The tract ID column is 'GEOID'.\"\n",
    "#                  ]\n",
    "\n",
    "\n",
    "# Case 2: France_mobility_changes_2020\n",
    "task_name ='France_mobility_changes_2020'\n",
    "TASK = r'''\n",
    "1) Show the 2020 human mobility monthly change rates of each administrative regions in a France choropleth map. Each month is a sub-map in a map matrix，12 months in total. The base of the change rate is January 2020. \n",
    "2) Draw a line chart to show the monthly change rate trends of all administrative regeions. Each region is a line (the region name is the legend), the x-axis is 2020 months.\n",
    "'''\n",
    "\n",
    "DATA_LOCATIONS = [\"ESRI shapefile for France administrative regions:\" + \\\n",
    "                  \"https://github.com/gladcolor/LLM-Geo/raw/master/REST_API/France.zip. \" + \\\n",
    "                  \"The 'GID_1' column is the administrative region code, 'NAME_1' column is the administrative region name.\",\n",
    "                  \"REST API url with parameters for human mobility data access:\" + \\\n",
    "                  \"http://gis.cas.sc.edu/GeoAnalytics/REST?operation=get_daily_movement_for_all_places&source=twitter&scale=world_first_level_admin&begin=01/01/2020&end=12/31/2020.\" + \\\n",
    "                  \"The response is in CSV format. There are three columns in the response: \" + \\\n",
    "                  \"place,date (format:2020-01-07), and intra_movement. 'place' column is the administractive region code of every country; codes for France administrative regions start with 'FRA'.\",\n",
    "                 ]\n",
    "\n",
    "  \n",
    "# Case 3: COVID-19 prevalence trend\n",
    "# task_name ='COVID_death_rate'\n",
    "# TASK = r'''1) Draw a map to show the death rate (death/case) of COVID-19 among the countiguous US counties. Use the accumulated COVID-19 data of 2020.12.31 to compute the death rate. Use scheme ='quantiles' when plotting the map.  Set map projection to 'Conus Albers'. Set map size to 15*10 inches.  \n",
    "# 2) Draw a scatter plot to show the correlation and trend line of the death rate with the senior resident rate, including the r-square and p-value. Set data point transparency to 50%, regression line as red.  Set figure size to 15*10 inches.  \n",
    "# '''\n",
    "\n",
    "# DATA_LOCATIONS = [\n",
    "#                   r\"COVID-19 data case in 2020 (county-level): https://github.com/nytimes/covid-19-data/raw/master/us-counties-2020.csv. This data is for daily accumulated COVID cases and deaths for each county in the US. There are 5 columns: date (format: 2021-02-01), county, state, fips, cases, deaths. \",   \n",
    "#                   r\"Contiguous US county boundary (ESRI shapefile): https://github.com/gladcolor/spatial_data/raw/master/contiguous_counties.zip. The county FIPS column is 'GEOID'. \",\n",
    "#                   r\"Census data (ACS2020): https://raw.githubusercontent.com/gladcolor/spatial_data/master/Demography/ACS2020_5year_county.csv. THe needed columns are: 'FIPS', 'Total Population', 'Total Population: 65 to 74 Years', 'Total Population: 75 to 84 Years', 'Total Population: 85 Years and Over'. Drop rows with NaN cells after loading the used columns.\",\n",
    "#                  ]\n",
    "\n",
    "\n",
    "\n",
    "\n",
    "# Case 4: Hospital_accessibility\n",
    "# task_name ='Hospital_accessibility'\n",
    "\n",
    "# TASK = r'''\n",
    "# For each zipcode area in South Carolina (SC), calculate the distance from the centroid of the zipcode area to its nearest hospital, and then create a choropleth distance map (unit: km), also show the hospital.\n",
    "# '''\n",
    "\n",
    "# # TASK = r'Diplay the  zipcode area in South Carolina (SC) and SC hospital locations in a  map.'\n",
    "\n",
    "# DATA_LOCATIONS = [\n",
    "# r\"SC zipcode boundary shapefile: https://github.com/GIBDUSC/test/raw/master/sc_zip_boundary.zip, the map projection is WGS1984.\",\n",
    "# r\"SC hospitals:  https://github.com/gladcolor/spatial_data/raw/master/South_Carolina/SC_hospitals_with_emergency_room_cleaned.csv, location columns: longitude in 'POINT_X' column, latitude in 'POINT_Y' column.\",          \n",
    "# ]\n",
    "\n",
    "\n",
    "  \n",
    "save_dir = os.path.join(os.getcwd(), task_name)\n",
    "os.makedirs(save_dir, exist_ok=True)\n",
    "\n",
    "# create graph\n",
    "# model=r\"gpt-3.5-turbo\"\n",
    "model=r\"gpt-4\"\n",
    "solution = Solution(\n",
    "                    task=TASK,\n",
    "                    task_name=task_name,\n",
    "                    save_dir=save_dir,\n",
    "                    data_locations=DATA_LOCATIONS,\n",
    "                    model=model,\n",
    "                    )\n",
    "print(\"Prompt to get solution graph:\\n\")\n",
    "# print(solution.graph_prompt)\n",
    "print(solution.chat_history)"
   ]
  },
  {
   "cell_type": "markdown",
   "id": "3009da7e-afe7-48da-a0c0-62d5a10026fb",
   "metadata": {
    "tags": []
   },
   "source": [
    "## Get graph code from GPT API"
   ]
  },
  {
   "cell_type": "code",
   "execution_count": 26,
   "id": "e7f413de-7433-4bb5-b9cb-4e55de110cd4",
   "metadata": {},
   "outputs": [
    {
     "name": "stdout",
     "output_type": "stream",
     "text": [
      "[{'role': 'system', 'content': 'A professional Geo-information scientist and developer good at Python.'}]\n"
     ]
    }
   ],
   "source": [
    "print(solution.chat_history)"
   ]
  },
  {
   "cell_type": "code",
   "execution_count": 27,
   "id": "213b17ca-9e3e-4c23-a852-c4a7edc83448",
   "metadata": {
    "tags": []
   },
   "outputs": [
    {
     "data": {
      "text/html": [
       "<style>pre { line-height: 125%; }\n",
       "td.linenos .normal { color: inherit; background-color: transparent; padding-left: 5px; padding-right: 5px; }\n",
       "span.linenos { color: inherit; background-color: transparent; padding-left: 5px; padding-right: 5px; }\n",
       "td.linenos .special { color: #000000; background-color: #ffffc0; padding-left: 5px; padding-right: 5px; }\n",
       "span.linenos.special { color: #000000; background-color: #ffffc0; padding-left: 5px; padding-right: 5px; }\n",
       ".output_html .hll { background-color: #ffffcc }\n",
       ".output_html { background: #f8f8f8; }\n",
       ".output_html .c { color: #3D7B7B; font-style: italic } /* Comment */\n",
       ".output_html .err { border: 1px solid #FF0000 } /* Error */\n",
       ".output_html .k { color: #008000; font-weight: bold } /* Keyword */\n",
       ".output_html .o { color: #666666 } /* Operator */\n",
       ".output_html .ch { color: #3D7B7B; font-style: italic } /* Comment.Hashbang */\n",
       ".output_html .cm { color: #3D7B7B; font-style: italic } /* Comment.Multiline */\n",
       ".output_html .cp { color: #9C6500 } /* Comment.Preproc */\n",
       ".output_html .cpf { color: #3D7B7B; font-style: italic } /* Comment.PreprocFile */\n",
       ".output_html .c1 { color: #3D7B7B; font-style: italic } /* Comment.Single */\n",
       ".output_html .cs { color: #3D7B7B; font-style: italic } /* Comment.Special */\n",
       ".output_html .gd { color: #A00000 } /* Generic.Deleted */\n",
       ".output_html .ge { font-style: italic } /* Generic.Emph */\n",
       ".output_html .gr { color: #E40000 } /* Generic.Error */\n",
       ".output_html .gh { color: #000080; font-weight: bold } /* Generic.Heading */\n",
       ".output_html .gi { color: #008400 } /* Generic.Inserted */\n",
       ".output_html .go { color: #717171 } /* Generic.Output */\n",
       ".output_html .gp { color: #000080; font-weight: bold } /* Generic.Prompt */\n",
       ".output_html .gs { font-weight: bold } /* Generic.Strong */\n",
       ".output_html .gu { color: #800080; font-weight: bold } /* Generic.Subheading */\n",
       ".output_html .gt { color: #0044DD } /* Generic.Traceback */\n",
       ".output_html .kc { color: #008000; font-weight: bold } /* Keyword.Constant */\n",
       ".output_html .kd { color: #008000; font-weight: bold } /* Keyword.Declaration */\n",
       ".output_html .kn { color: #008000; font-weight: bold } /* Keyword.Namespace */\n",
       ".output_html .kp { color: #008000 } /* Keyword.Pseudo */\n",
       ".output_html .kr { color: #008000; font-weight: bold } /* Keyword.Reserved */\n",
       ".output_html .kt { color: #B00040 } /* Keyword.Type */\n",
       ".output_html .m { color: #666666 } /* Literal.Number */\n",
       ".output_html .s { color: #BA2121 } /* Literal.String */\n",
       ".output_html .na { color: #687822 } /* Name.Attribute */\n",
       ".output_html .nb { color: #008000 } /* Name.Builtin */\n",
       ".output_html .nc { color: #0000FF; font-weight: bold } /* Name.Class */\n",
       ".output_html .no { color: #880000 } /* Name.Constant */\n",
       ".output_html .nd { color: #AA22FF } /* Name.Decorator */\n",
       ".output_html .ni { color: #717171; font-weight: bold } /* Name.Entity */\n",
       ".output_html .ne { color: #CB3F38; font-weight: bold } /* Name.Exception */\n",
       ".output_html .nf { color: #0000FF } /* Name.Function */\n",
       ".output_html .nl { color: #767600 } /* Name.Label */\n",
       ".output_html .nn { color: #0000FF; font-weight: bold } /* Name.Namespace */\n",
       ".output_html .nt { color: #008000; font-weight: bold } /* Name.Tag */\n",
       ".output_html .nv { color: #19177C } /* Name.Variable */\n",
       ".output_html .ow { color: #AA22FF; font-weight: bold } /* Operator.Word */\n",
       ".output_html .w { color: #bbbbbb } /* Text.Whitespace */\n",
       ".output_html .mb { color: #666666 } /* Literal.Number.Bin */\n",
       ".output_html .mf { color: #666666 } /* Literal.Number.Float */\n",
       ".output_html .mh { color: #666666 } /* Literal.Number.Hex */\n",
       ".output_html .mi { color: #666666 } /* Literal.Number.Integer */\n",
       ".output_html .mo { color: #666666 } /* Literal.Number.Oct */\n",
       ".output_html .sa { color: #BA2121 } /* Literal.String.Affix */\n",
       ".output_html .sb { color: #BA2121 } /* Literal.String.Backtick */\n",
       ".output_html .sc { color: #BA2121 } /* Literal.String.Char */\n",
       ".output_html .dl { color: #BA2121 } /* Literal.String.Delimiter */\n",
       ".output_html .sd { color: #BA2121; font-style: italic } /* Literal.String.Doc */\n",
       ".output_html .s2 { color: #BA2121 } /* Literal.String.Double */\n",
       ".output_html .se { color: #AA5D1F; font-weight: bold } /* Literal.String.Escape */\n",
       ".output_html .sh { color: #BA2121 } /* Literal.String.Heredoc */\n",
       ".output_html .si { color: #A45A77; font-weight: bold } /* Literal.String.Interpol */\n",
       ".output_html .sx { color: #008000 } /* Literal.String.Other */\n",
       ".output_html .sr { color: #A45A77 } /* Literal.String.Regex */\n",
       ".output_html .s1 { color: #BA2121 } /* Literal.String.Single */\n",
       ".output_html .ss { color: #19177C } /* Literal.String.Symbol */\n",
       ".output_html .bp { color: #008000 } /* Name.Builtin.Pseudo */\n",
       ".output_html .fm { color: #0000FF } /* Name.Function.Magic */\n",
       ".output_html .vc { color: #19177C } /* Name.Variable.Class */\n",
       ".output_html .vg { color: #19177C } /* Name.Variable.Global */\n",
       ".output_html .vi { color: #19177C } /* Name.Variable.Instance */\n",
       ".output_html .vm { color: #19177C } /* Name.Variable.Magic */\n",
       ".output_html .il { color: #666666 } /* Literal.Number.Integer.Long */</style><div class=\"highlight\"><pre><span></span><span class=\"kn\">import</span> <span class=\"nn\">networkx</span> <span class=\"k\">as</span> <span class=\"nn\">nx</span>\n",
       "<span class=\"n\">G</span> <span class=\"o\">=</span> <span class=\"n\">nx</span><span class=\"o\">.</span><span class=\"n\">DiGraph</span><span class=\"p\">()</span>\n",
       "\n",
       "<span class=\"c1\"># Load France administrative regions shapefile</span>\n",
       "<span class=\"n\">G</span><span class=\"o\">.</span><span class=\"n\">add_node</span><span class=\"p\">(</span><span class=\"s2\">&quot;france_shp_url&quot;</span><span class=\"p\">,</span> <span class=\"n\">node_type</span><span class=\"o\">=</span><span class=\"s2\">&quot;data&quot;</span><span class=\"p\">,</span> <span class=\"n\">data_path</span><span class=\"o\">=</span><span class=\"s2\">&quot;https://github.com/gladcolor/LLM-Geo/raw/master/REST_API/France.zip&quot;</span><span class=\"p\">,</span> <span class=\"n\">description</span><span class=\"o\">=</span><span class=\"s2\">&quot;France administrative regions shapefile URL&quot;</span><span class=\"p\">)</span>\n",
       "<span class=\"n\">G</span><span class=\"o\">.</span><span class=\"n\">add_node</span><span class=\"p\">(</span><span class=\"s2\">&quot;load_france_shp&quot;</span><span class=\"p\">,</span> <span class=\"n\">node_type</span><span class=\"o\">=</span><span class=\"s2\">&quot;operation&quot;</span><span class=\"p\">,</span> <span class=\"n\">description</span><span class=\"o\">=</span><span class=\"s2\">&quot;Load France administrative regions shapefile&quot;</span><span class=\"p\">)</span>\n",
       "<span class=\"n\">G</span><span class=\"o\">.</span><span class=\"n\">add_edge</span><span class=\"p\">(</span><span class=\"s2\">&quot;france_shp_url&quot;</span><span class=\"p\">,</span> <span class=\"s2\">&quot;load_france_shp&quot;</span><span class=\"p\">)</span>\n",
       "<span class=\"n\">G</span><span class=\"o\">.</span><span class=\"n\">add_node</span><span class=\"p\">(</span><span class=\"s2\">&quot;france_adm_gdf&quot;</span><span class=\"p\">,</span> <span class=\"n\">node_type</span><span class=\"o\">=</span><span class=\"s2\">&quot;data&quot;</span><span class=\"p\">,</span> <span class=\"n\">description</span><span class=\"o\">=</span><span class=\"s2\">&quot;France administrative regions GeoDataFrame&quot;</span><span class=\"p\">)</span>\n",
       "<span class=\"n\">G</span><span class=\"o\">.</span><span class=\"n\">add_edge</span><span class=\"p\">(</span><span class=\"s2\">&quot;load_france_shp&quot;</span><span class=\"p\">,</span> <span class=\"s2\">&quot;france_adm_gdf&quot;</span><span class=\"p\">)</span>\n",
       "\n",
       "<span class=\"c1\"># Get human mobility data from REST API</span>\n",
       "<span class=\"n\">G</span><span class=\"o\">.</span><span class=\"n\">add_node</span><span class=\"p\">(</span><span class=\"s2\">&quot;rest_api_url&quot;</span><span class=\"p\">,</span> <span class=\"n\">node_type</span><span class=\"o\">=</span><span class=\"s2\">&quot;data&quot;</span><span class=\"p\">,</span> <span class=\"n\">data_path</span><span class=\"o\">=</span><span class=\"s2\">&quot;http://gis.cas.sc.edu/GeoAnalytics/REST?operation=get_daily_movement_for_all_places&amp;source=twitter&amp;scale=world_first_level_admin&amp;begin=01/01/2020&amp;end=12/31/2020&quot;</span><span class=\"p\">,</span> <span class=\"n\">description</span><span class=\"o\">=</span><span class=\"s2\">&quot;REST API URL for human mobility data&quot;</span><span class=\"p\">)</span>\n",
       "<span class=\"n\">G</span><span class=\"o\">.</span><span class=\"n\">add_node</span><span class=\"p\">(</span><span class=\"s2\">&quot;get_mobility_data&quot;</span><span class=\"p\">,</span> <span class=\"n\">node_type</span><span class=\"o\">=</span><span class=\"s2\">&quot;operation&quot;</span><span class=\"p\">,</span> <span class=\"n\">description</span><span class=\"o\">=</span><span class=\"s2\">&quot;Get human mobility data from REST API&quot;</span><span class=\"p\">)</span>\n",
       "<span class=\"n\">G</span><span class=\"o\">.</span><span class=\"n\">add_edge</span><span class=\"p\">(</span><span class=\"s2\">&quot;rest_api_url&quot;</span><span class=\"p\">,</span> <span class=\"s2\">&quot;get_mobility_data&quot;</span><span class=\"p\">)</span>\n",
       "<span class=\"n\">G</span><span class=\"o\">.</span><span class=\"n\">add_node</span><span class=\"p\">(</span><span class=\"s2\">&quot;human_mobility_data&quot;</span><span class=\"p\">,</span> <span class=\"n\">node_type</span><span class=\"o\">=</span><span class=\"s2\">&quot;data&quot;</span><span class=\"p\">,</span> <span class=\"n\">description</span><span class=\"o\">=</span><span class=\"s2\">&quot;Human mobility data for all places&quot;</span><span class=\"p\">)</span>\n",
       "<span class=\"n\">G</span><span class=\"o\">.</span><span class=\"n\">add_edge</span><span class=\"p\">(</span><span class=\"s2\">&quot;get_mobility_data&quot;</span><span class=\"p\">,</span> <span class=\"s2\">&quot;human_mobility_data&quot;</span><span class=\"p\">)</span>\n",
       "\n",
       "<span class=\"c1\"># Filter France human mobility data</span>\n",
       "<span class=\"n\">G</span><span class=\"o\">.</span><span class=\"n\">add_node</span><span class=\"p\">(</span><span class=\"s2\">&quot;filter_france_data&quot;</span><span class=\"p\">,</span> <span class=\"n\">node_type</span><span class=\"o\">=</span><span class=\"s2\">&quot;operation&quot;</span><span class=\"p\">,</span> <span class=\"n\">description</span><span class=\"o\">=</span><span class=\"s2\">&quot;Filter human mobility data for France administrative regions&quot;</span><span class=\"p\">)</span>\n",
       "<span class=\"n\">G</span><span class=\"o\">.</span><span class=\"n\">add_edge</span><span class=\"p\">(</span><span class=\"s2\">&quot;human_mobility_data&quot;</span><span class=\"p\">,</span> <span class=\"s2\">&quot;filter_france_data&quot;</span><span class=\"p\">)</span>\n",
       "<span class=\"n\">G</span><span class=\"o\">.</span><span class=\"n\">add_node</span><span class=\"p\">(</span><span class=\"s2\">&quot;france_mobility_data&quot;</span><span class=\"p\">,</span> <span class=\"n\">node_type</span><span class=\"o\">=</span><span class=\"s2\">&quot;data&quot;</span><span class=\"p\">,</span> <span class=\"n\">description</span><span class=\"o\">=</span><span class=\"s2\">&quot;Human mobility data for France administrative regions&quot;</span><span class=\"p\">)</span>\n",
       "<span class=\"n\">G</span><span class=\"o\">.</span><span class=\"n\">add_edge</span><span class=\"p\">(</span><span class=\"s2\">&quot;filter_france_data&quot;</span><span class=\"p\">,</span> <span class=\"s2\">&quot;france_mobility_data&quot;</span><span class=\"p\">)</span>\n",
       "\n",
       "<span class=\"c1\"># Calculate monthly change rates for each administrative region</span>\n",
       "<span class=\"n\">G</span><span class=\"o\">.</span><span class=\"n\">add_node</span><span class=\"p\">(</span><span class=\"s2\">&quot;calc_change_rates&quot;</span><span class=\"p\">,</span> <span class=\"n\">node_type</span><span class=\"o\">=</span><span class=\"s2\">&quot;operation&quot;</span><span class=\"p\">,</span> <span class=\"n\">description</span><span class=\"o\">=</span><span class=\"s2\">&quot;Calculate monthly change rates for each administrative region&quot;</span><span class=\"p\">)</span>\n",
       "<span class=\"n\">G</span><span class=\"o\">.</span><span class=\"n\">add_edge</span><span class=\"p\">(</span><span class=\"s2\">&quot;france_mobility_data&quot;</span><span class=\"p\">,</span> <span class=\"s2\">&quot;calc_change_rates&quot;</span><span class=\"p\">)</span>\n",
       "<span class=\"n\">G</span><span class=\"o\">.</span><span class=\"n\">add_node</span><span class=\"p\">(</span><span class=\"s2\">&quot;monthly_change_rates&quot;</span><span class=\"p\">,</span> <span class=\"n\">node_type</span><span class=\"o\">=</span><span class=\"s2\">&quot;data&quot;</span><span class=\"p\">,</span> <span class=\"n\">description</span><span class=\"o\">=</span><span class=\"s2\">&quot;Monthly change rates for each administrative region&quot;</span><span class=\"p\">)</span>\n",
       "<span class=\"n\">G</span><span class=\"o\">.</span><span class=\"n\">add_edge</span><span class=\"p\">(</span><span class=\"s2\">&quot;calc_change_rates&quot;</span><span class=\"p\">,</span> <span class=\"s2\">&quot;monthly_change_rates&quot;</span><span class=\"p\">)</span>\n",
       "\n",
       "<span class=\"c1\"># Join monthly change rates to France administrative regions GeoDataFrame</span>\n",
       "<span class=\"n\">G</span><span class=\"o\">.</span><span class=\"n\">add_node</span><span class=\"p\">(</span><span class=\"s2\">&quot;join_change_rates&quot;</span><span class=\"p\">,</span> <span class=\"n\">node_type</span><span class=\"o\">=</span><span class=\"s2\">&quot;operation&quot;</span><span class=\"p\">,</span> <span class=\"n\">description</span><span class=\"o\">=</span><span class=\"s2\">&quot;Join monthly change rates to France administrative regions GeoDataFrame&quot;</span><span class=\"p\">)</span>\n",
       "<span class=\"n\">G</span><span class=\"o\">.</span><span class=\"n\">add_edge</span><span class=\"p\">(</span><span class=\"s2\">&quot;monthly_change_rates&quot;</span><span class=\"p\">,</span> <span class=\"s2\">&quot;join_change_rates&quot;</span><span class=\"p\">)</span>\n",
       "<span class=\"n\">G</span><span class=\"o\">.</span><span class=\"n\">add_edge</span><span class=\"p\">(</span><span class=\"s2\">&quot;france_adm_gdf&quot;</span><span class=\"p\">,</span> <span class=\"s2\">&quot;join_change_rates&quot;</span><span class=\"p\">)</span>\n",
       "<span class=\"n\">G</span><span class=\"o\">.</span><span class=\"n\">add_node</span><span class=\"p\">(</span><span class=\"s2\">&quot;france_adm_gdf_change_rates&quot;</span><span class=\"p\">,</span> <span class=\"n\">node_type</span><span class=\"o\">=</span><span class=\"s2\">&quot;data&quot;</span><span class=\"p\">,</span> <span class=\"n\">description</span><span class=\"o\">=</span><span class=\"s2\">&quot;France administrative regions GeoDataFrame with monthly change rates&quot;</span><span class=\"p\">)</span>\n",
       "<span class=\"n\">G</span><span class=\"o\">.</span><span class=\"n\">add_edge</span><span class=\"p\">(</span><span class=\"s2\">&quot;join_change_rates&quot;</span><span class=\"p\">,</span> <span class=\"s2\">&quot;france_adm_gdf_change_rates&quot;</span><span class=\"p\">)</span>\n",
       "\n",
       "<span class=\"c1\"># Create choropleth map matrix</span>\n",
       "<span class=\"n\">G</span><span class=\"o\">.</span><span class=\"n\">add_node</span><span class=\"p\">(</span><span class=\"s2\">&quot;create_choropleth_map_matrix&quot;</span><span class=\"p\">,</span> <span class=\"n\">node_type</span><span class=\"o\">=</span><span class=\"s2\">&quot;operation&quot;</span><span class=\"p\">,</span> <span class=\"n\">description</span><span class=\"o\">=</span><span class=\"s2\">&quot;Create choropleth map matrix of 2020 human mobility monthly change rates for each administrative region&quot;</span><span class=\"p\">)</span>\n",
       "<span class=\"n\">G</span><span class=\"o\">.</span><span class=\"n\">add_edge</span><span class=\"p\">(</span><span class=\"s2\">&quot;france_adm_gdf_change_rates&quot;</span><span class=\"p\">,</span> <span class=\"s2\">&quot;create_choropleth_map_matrix&quot;</span><span class=\"p\">)</span>\n",
       "<span class=\"n\">G</span><span class=\"o\">.</span><span class=\"n\">add_node</span><span class=\"p\">(</span><span class=\"s2\">&quot;choropleth_map_matrix&quot;</span><span class=\"p\">,</span> <span class=\"n\">node_type</span><span class=\"o\">=</span><span class=\"s2\">&quot;data&quot;</span><span class=\"p\">,</span> <span class=\"n\">description</span><span class=\"o\">=</span><span class=\"s2\">&quot;Choropleth map matrix of 2020 human mobility monthly change rates for each administrative region&quot;</span><span class=\"p\">)</span>\n",
       "<span class=\"n\">G</span><span class=\"o\">.</span><span class=\"n\">add_edge</span><span class=\"p\">(</span><span class=\"s2\">&quot;create_choropleth_map_matrix&quot;</span><span class=\"p\">,</span> <span class=\"s2\">&quot;choropleth_map_matrix&quot;</span><span class=\"p\">)</span>\n",
       "\n",
       "<span class=\"c1\"># Create line chart of monthly change rate trends</span>\n",
       "<span class=\"n\">G</span><span class=\"o\">.</span><span class=\"n\">add_node</span><span class=\"p\">(</span><span class=\"s2\">&quot;create_line_chart&quot;</span><span class=\"p\">,</span> <span class=\"n\">node_type</span><span class=\"o\">=</span><span class=\"s2\">&quot;operation&quot;</span><span class=\"p\">,</span> <span class=\"n\">description</span><span class=\"o\">=</span><span class=\"s2\">&quot;Create line chart of monthly change rate trends for all administrative regions&quot;</span><span class=\"p\">)</span>\n",
       "<span class=\"n\">G</span><span class=\"o\">.</span><span class=\"n\">add_edge</span><span class=\"p\">(</span><span class=\"s2\">&quot;monthly_change_rates&quot;</span><span class=\"p\">,</span> <span class=\"s2\">&quot;create_line_chart&quot;</span><span class=\"p\">)</span>\n",
       "<span class=\"n\">G</span><span class=\"o\">.</span><span class=\"n\">add_node</span><span class=\"p\">(</span><span class=\"s2\">&quot;line_chart&quot;</span><span class=\"p\">,</span> <span class=\"n\">node_type</span><span class=\"o\">=</span><span class=\"s2\">&quot;data&quot;</span><span class=\"p\">,</span> <span class=\"n\">description</span><span class=\"o\">=</span><span class=\"s2\">&quot;Line chart of monthly change rate trends for all administrative regions&quot;</span><span class=\"p\">)</span>\n",
       "<span class=\"n\">G</span><span class=\"o\">.</span><span class=\"n\">add_edge</span><span class=\"p\">(</span><span class=\"s2\">&quot;create_line_chart&quot;</span><span class=\"p\">,</span> <span class=\"s2\">&quot;line_chart&quot;</span><span class=\"p\">)</span>\n",
       "\n",
       "<span class=\"c1\"># Save the network into GraphML format</span>\n",
       "<span class=\"n\">nx</span><span class=\"o\">.</span><span class=\"n\">write_graphml</span><span class=\"p\">(</span><span class=\"n\">G</span><span class=\"p\">,</span> <span class=\"s2\">&quot;E:</span><span class=\"se\">\\\\</span><span class=\"s2\">Research</span><span class=\"se\">\\\\</span><span class=\"s2\">LLM-Geo</span><span class=\"se\">\\\\</span><span class=\"s2\">France_mobility_changes_2020</span><span class=\"se\">\\\\</span><span class=\"s2\">France_mobility_changes_2020.graphml&quot;</span><span class=\"p\">)</span>\n",
       "</pre></div>\n"
      ],
      "text/latex": [
       "\\begin{Verbatim}[commandchars=\\\\\\{\\}]\n",
       "\\PY{k+kn}{import} \\PY{n+nn}{networkx} \\PY{k}{as} \\PY{n+nn}{nx}\n",
       "\\PY{n}{G} \\PY{o}{=} \\PY{n}{nx}\\PY{o}{.}\\PY{n}{DiGraph}\\PY{p}{(}\\PY{p}{)}\n",
       "\n",
       "\\PY{c+c1}{\\PYZsh{} Load France administrative regions shapefile}\n",
       "\\PY{n}{G}\\PY{o}{.}\\PY{n}{add\\PYZus{}node}\\PY{p}{(}\\PY{l+s+s2}{\\PYZdq{}}\\PY{l+s+s2}{france\\PYZus{}shp\\PYZus{}url}\\PY{l+s+s2}{\\PYZdq{}}\\PY{p}{,} \\PY{n}{node\\PYZus{}type}\\PY{o}{=}\\PY{l+s+s2}{\\PYZdq{}}\\PY{l+s+s2}{data}\\PY{l+s+s2}{\\PYZdq{}}\\PY{p}{,} \\PY{n}{data\\PYZus{}path}\\PY{o}{=}\\PY{l+s+s2}{\\PYZdq{}}\\PY{l+s+s2}{https://github.com/gladcolor/LLM\\PYZhy{}Geo/raw/master/REST\\PYZus{}API/France.zip}\\PY{l+s+s2}{\\PYZdq{}}\\PY{p}{,} \\PY{n}{description}\\PY{o}{=}\\PY{l+s+s2}{\\PYZdq{}}\\PY{l+s+s2}{France administrative regions shapefile URL}\\PY{l+s+s2}{\\PYZdq{}}\\PY{p}{)}\n",
       "\\PY{n}{G}\\PY{o}{.}\\PY{n}{add\\PYZus{}node}\\PY{p}{(}\\PY{l+s+s2}{\\PYZdq{}}\\PY{l+s+s2}{load\\PYZus{}france\\PYZus{}shp}\\PY{l+s+s2}{\\PYZdq{}}\\PY{p}{,} \\PY{n}{node\\PYZus{}type}\\PY{o}{=}\\PY{l+s+s2}{\\PYZdq{}}\\PY{l+s+s2}{operation}\\PY{l+s+s2}{\\PYZdq{}}\\PY{p}{,} \\PY{n}{description}\\PY{o}{=}\\PY{l+s+s2}{\\PYZdq{}}\\PY{l+s+s2}{Load France administrative regions shapefile}\\PY{l+s+s2}{\\PYZdq{}}\\PY{p}{)}\n",
       "\\PY{n}{G}\\PY{o}{.}\\PY{n}{add\\PYZus{}edge}\\PY{p}{(}\\PY{l+s+s2}{\\PYZdq{}}\\PY{l+s+s2}{france\\PYZus{}shp\\PYZus{}url}\\PY{l+s+s2}{\\PYZdq{}}\\PY{p}{,} \\PY{l+s+s2}{\\PYZdq{}}\\PY{l+s+s2}{load\\PYZus{}france\\PYZus{}shp}\\PY{l+s+s2}{\\PYZdq{}}\\PY{p}{)}\n",
       "\\PY{n}{G}\\PY{o}{.}\\PY{n}{add\\PYZus{}node}\\PY{p}{(}\\PY{l+s+s2}{\\PYZdq{}}\\PY{l+s+s2}{france\\PYZus{}adm\\PYZus{}gdf}\\PY{l+s+s2}{\\PYZdq{}}\\PY{p}{,} \\PY{n}{node\\PYZus{}type}\\PY{o}{=}\\PY{l+s+s2}{\\PYZdq{}}\\PY{l+s+s2}{data}\\PY{l+s+s2}{\\PYZdq{}}\\PY{p}{,} \\PY{n}{description}\\PY{o}{=}\\PY{l+s+s2}{\\PYZdq{}}\\PY{l+s+s2}{France administrative regions GeoDataFrame}\\PY{l+s+s2}{\\PYZdq{}}\\PY{p}{)}\n",
       "\\PY{n}{G}\\PY{o}{.}\\PY{n}{add\\PYZus{}edge}\\PY{p}{(}\\PY{l+s+s2}{\\PYZdq{}}\\PY{l+s+s2}{load\\PYZus{}france\\PYZus{}shp}\\PY{l+s+s2}{\\PYZdq{}}\\PY{p}{,} \\PY{l+s+s2}{\\PYZdq{}}\\PY{l+s+s2}{france\\PYZus{}adm\\PYZus{}gdf}\\PY{l+s+s2}{\\PYZdq{}}\\PY{p}{)}\n",
       "\n",
       "\\PY{c+c1}{\\PYZsh{} Get human mobility data from REST API}\n",
       "\\PY{n}{G}\\PY{o}{.}\\PY{n}{add\\PYZus{}node}\\PY{p}{(}\\PY{l+s+s2}{\\PYZdq{}}\\PY{l+s+s2}{rest\\PYZus{}api\\PYZus{}url}\\PY{l+s+s2}{\\PYZdq{}}\\PY{p}{,} \\PY{n}{node\\PYZus{}type}\\PY{o}{=}\\PY{l+s+s2}{\\PYZdq{}}\\PY{l+s+s2}{data}\\PY{l+s+s2}{\\PYZdq{}}\\PY{p}{,} \\PY{n}{data\\PYZus{}path}\\PY{o}{=}\\PY{l+s+s2}{\\PYZdq{}}\\PY{l+s+s2}{http://gis.cas.sc.edu/GeoAnalytics/REST?operation=get\\PYZus{}daily\\PYZus{}movement\\PYZus{}for\\PYZus{}all\\PYZus{}places\\PYZam{}source=twitter\\PYZam{}scale=world\\PYZus{}first\\PYZus{}level\\PYZus{}admin\\PYZam{}begin=01/01/2020\\PYZam{}end=12/31/2020}\\PY{l+s+s2}{\\PYZdq{}}\\PY{p}{,} \\PY{n}{description}\\PY{o}{=}\\PY{l+s+s2}{\\PYZdq{}}\\PY{l+s+s2}{REST API URL for human mobility data}\\PY{l+s+s2}{\\PYZdq{}}\\PY{p}{)}\n",
       "\\PY{n}{G}\\PY{o}{.}\\PY{n}{add\\PYZus{}node}\\PY{p}{(}\\PY{l+s+s2}{\\PYZdq{}}\\PY{l+s+s2}{get\\PYZus{}mobility\\PYZus{}data}\\PY{l+s+s2}{\\PYZdq{}}\\PY{p}{,} \\PY{n}{node\\PYZus{}type}\\PY{o}{=}\\PY{l+s+s2}{\\PYZdq{}}\\PY{l+s+s2}{operation}\\PY{l+s+s2}{\\PYZdq{}}\\PY{p}{,} \\PY{n}{description}\\PY{o}{=}\\PY{l+s+s2}{\\PYZdq{}}\\PY{l+s+s2}{Get human mobility data from REST API}\\PY{l+s+s2}{\\PYZdq{}}\\PY{p}{)}\n",
       "\\PY{n}{G}\\PY{o}{.}\\PY{n}{add\\PYZus{}edge}\\PY{p}{(}\\PY{l+s+s2}{\\PYZdq{}}\\PY{l+s+s2}{rest\\PYZus{}api\\PYZus{}url}\\PY{l+s+s2}{\\PYZdq{}}\\PY{p}{,} \\PY{l+s+s2}{\\PYZdq{}}\\PY{l+s+s2}{get\\PYZus{}mobility\\PYZus{}data}\\PY{l+s+s2}{\\PYZdq{}}\\PY{p}{)}\n",
       "\\PY{n}{G}\\PY{o}{.}\\PY{n}{add\\PYZus{}node}\\PY{p}{(}\\PY{l+s+s2}{\\PYZdq{}}\\PY{l+s+s2}{human\\PYZus{}mobility\\PYZus{}data}\\PY{l+s+s2}{\\PYZdq{}}\\PY{p}{,} \\PY{n}{node\\PYZus{}type}\\PY{o}{=}\\PY{l+s+s2}{\\PYZdq{}}\\PY{l+s+s2}{data}\\PY{l+s+s2}{\\PYZdq{}}\\PY{p}{,} \\PY{n}{description}\\PY{o}{=}\\PY{l+s+s2}{\\PYZdq{}}\\PY{l+s+s2}{Human mobility data for all places}\\PY{l+s+s2}{\\PYZdq{}}\\PY{p}{)}\n",
       "\\PY{n}{G}\\PY{o}{.}\\PY{n}{add\\PYZus{}edge}\\PY{p}{(}\\PY{l+s+s2}{\\PYZdq{}}\\PY{l+s+s2}{get\\PYZus{}mobility\\PYZus{}data}\\PY{l+s+s2}{\\PYZdq{}}\\PY{p}{,} \\PY{l+s+s2}{\\PYZdq{}}\\PY{l+s+s2}{human\\PYZus{}mobility\\PYZus{}data}\\PY{l+s+s2}{\\PYZdq{}}\\PY{p}{)}\n",
       "\n",
       "\\PY{c+c1}{\\PYZsh{} Filter France human mobility data}\n",
       "\\PY{n}{G}\\PY{o}{.}\\PY{n}{add\\PYZus{}node}\\PY{p}{(}\\PY{l+s+s2}{\\PYZdq{}}\\PY{l+s+s2}{filter\\PYZus{}france\\PYZus{}data}\\PY{l+s+s2}{\\PYZdq{}}\\PY{p}{,} \\PY{n}{node\\PYZus{}type}\\PY{o}{=}\\PY{l+s+s2}{\\PYZdq{}}\\PY{l+s+s2}{operation}\\PY{l+s+s2}{\\PYZdq{}}\\PY{p}{,} \\PY{n}{description}\\PY{o}{=}\\PY{l+s+s2}{\\PYZdq{}}\\PY{l+s+s2}{Filter human mobility data for France administrative regions}\\PY{l+s+s2}{\\PYZdq{}}\\PY{p}{)}\n",
       "\\PY{n}{G}\\PY{o}{.}\\PY{n}{add\\PYZus{}edge}\\PY{p}{(}\\PY{l+s+s2}{\\PYZdq{}}\\PY{l+s+s2}{human\\PYZus{}mobility\\PYZus{}data}\\PY{l+s+s2}{\\PYZdq{}}\\PY{p}{,} \\PY{l+s+s2}{\\PYZdq{}}\\PY{l+s+s2}{filter\\PYZus{}france\\PYZus{}data}\\PY{l+s+s2}{\\PYZdq{}}\\PY{p}{)}\n",
       "\\PY{n}{G}\\PY{o}{.}\\PY{n}{add\\PYZus{}node}\\PY{p}{(}\\PY{l+s+s2}{\\PYZdq{}}\\PY{l+s+s2}{france\\PYZus{}mobility\\PYZus{}data}\\PY{l+s+s2}{\\PYZdq{}}\\PY{p}{,} \\PY{n}{node\\PYZus{}type}\\PY{o}{=}\\PY{l+s+s2}{\\PYZdq{}}\\PY{l+s+s2}{data}\\PY{l+s+s2}{\\PYZdq{}}\\PY{p}{,} \\PY{n}{description}\\PY{o}{=}\\PY{l+s+s2}{\\PYZdq{}}\\PY{l+s+s2}{Human mobility data for France administrative regions}\\PY{l+s+s2}{\\PYZdq{}}\\PY{p}{)}\n",
       "\\PY{n}{G}\\PY{o}{.}\\PY{n}{add\\PYZus{}edge}\\PY{p}{(}\\PY{l+s+s2}{\\PYZdq{}}\\PY{l+s+s2}{filter\\PYZus{}france\\PYZus{}data}\\PY{l+s+s2}{\\PYZdq{}}\\PY{p}{,} \\PY{l+s+s2}{\\PYZdq{}}\\PY{l+s+s2}{france\\PYZus{}mobility\\PYZus{}data}\\PY{l+s+s2}{\\PYZdq{}}\\PY{p}{)}\n",
       "\n",
       "\\PY{c+c1}{\\PYZsh{} Calculate monthly change rates for each administrative region}\n",
       "\\PY{n}{G}\\PY{o}{.}\\PY{n}{add\\PYZus{}node}\\PY{p}{(}\\PY{l+s+s2}{\\PYZdq{}}\\PY{l+s+s2}{calc\\PYZus{}change\\PYZus{}rates}\\PY{l+s+s2}{\\PYZdq{}}\\PY{p}{,} \\PY{n}{node\\PYZus{}type}\\PY{o}{=}\\PY{l+s+s2}{\\PYZdq{}}\\PY{l+s+s2}{operation}\\PY{l+s+s2}{\\PYZdq{}}\\PY{p}{,} \\PY{n}{description}\\PY{o}{=}\\PY{l+s+s2}{\\PYZdq{}}\\PY{l+s+s2}{Calculate monthly change rates for each administrative region}\\PY{l+s+s2}{\\PYZdq{}}\\PY{p}{)}\n",
       "\\PY{n}{G}\\PY{o}{.}\\PY{n}{add\\PYZus{}edge}\\PY{p}{(}\\PY{l+s+s2}{\\PYZdq{}}\\PY{l+s+s2}{france\\PYZus{}mobility\\PYZus{}data}\\PY{l+s+s2}{\\PYZdq{}}\\PY{p}{,} \\PY{l+s+s2}{\\PYZdq{}}\\PY{l+s+s2}{calc\\PYZus{}change\\PYZus{}rates}\\PY{l+s+s2}{\\PYZdq{}}\\PY{p}{)}\n",
       "\\PY{n}{G}\\PY{o}{.}\\PY{n}{add\\PYZus{}node}\\PY{p}{(}\\PY{l+s+s2}{\\PYZdq{}}\\PY{l+s+s2}{monthly\\PYZus{}change\\PYZus{}rates}\\PY{l+s+s2}{\\PYZdq{}}\\PY{p}{,} \\PY{n}{node\\PYZus{}type}\\PY{o}{=}\\PY{l+s+s2}{\\PYZdq{}}\\PY{l+s+s2}{data}\\PY{l+s+s2}{\\PYZdq{}}\\PY{p}{,} \\PY{n}{description}\\PY{o}{=}\\PY{l+s+s2}{\\PYZdq{}}\\PY{l+s+s2}{Monthly change rates for each administrative region}\\PY{l+s+s2}{\\PYZdq{}}\\PY{p}{)}\n",
       "\\PY{n}{G}\\PY{o}{.}\\PY{n}{add\\PYZus{}edge}\\PY{p}{(}\\PY{l+s+s2}{\\PYZdq{}}\\PY{l+s+s2}{calc\\PYZus{}change\\PYZus{}rates}\\PY{l+s+s2}{\\PYZdq{}}\\PY{p}{,} \\PY{l+s+s2}{\\PYZdq{}}\\PY{l+s+s2}{monthly\\PYZus{}change\\PYZus{}rates}\\PY{l+s+s2}{\\PYZdq{}}\\PY{p}{)}\n",
       "\n",
       "\\PY{c+c1}{\\PYZsh{} Join monthly change rates to France administrative regions GeoDataFrame}\n",
       "\\PY{n}{G}\\PY{o}{.}\\PY{n}{add\\PYZus{}node}\\PY{p}{(}\\PY{l+s+s2}{\\PYZdq{}}\\PY{l+s+s2}{join\\PYZus{}change\\PYZus{}rates}\\PY{l+s+s2}{\\PYZdq{}}\\PY{p}{,} \\PY{n}{node\\PYZus{}type}\\PY{o}{=}\\PY{l+s+s2}{\\PYZdq{}}\\PY{l+s+s2}{operation}\\PY{l+s+s2}{\\PYZdq{}}\\PY{p}{,} \\PY{n}{description}\\PY{o}{=}\\PY{l+s+s2}{\\PYZdq{}}\\PY{l+s+s2}{Join monthly change rates to France administrative regions GeoDataFrame}\\PY{l+s+s2}{\\PYZdq{}}\\PY{p}{)}\n",
       "\\PY{n}{G}\\PY{o}{.}\\PY{n}{add\\PYZus{}edge}\\PY{p}{(}\\PY{l+s+s2}{\\PYZdq{}}\\PY{l+s+s2}{monthly\\PYZus{}change\\PYZus{}rates}\\PY{l+s+s2}{\\PYZdq{}}\\PY{p}{,} \\PY{l+s+s2}{\\PYZdq{}}\\PY{l+s+s2}{join\\PYZus{}change\\PYZus{}rates}\\PY{l+s+s2}{\\PYZdq{}}\\PY{p}{)}\n",
       "\\PY{n}{G}\\PY{o}{.}\\PY{n}{add\\PYZus{}edge}\\PY{p}{(}\\PY{l+s+s2}{\\PYZdq{}}\\PY{l+s+s2}{france\\PYZus{}adm\\PYZus{}gdf}\\PY{l+s+s2}{\\PYZdq{}}\\PY{p}{,} \\PY{l+s+s2}{\\PYZdq{}}\\PY{l+s+s2}{join\\PYZus{}change\\PYZus{}rates}\\PY{l+s+s2}{\\PYZdq{}}\\PY{p}{)}\n",
       "\\PY{n}{G}\\PY{o}{.}\\PY{n}{add\\PYZus{}node}\\PY{p}{(}\\PY{l+s+s2}{\\PYZdq{}}\\PY{l+s+s2}{france\\PYZus{}adm\\PYZus{}gdf\\PYZus{}change\\PYZus{}rates}\\PY{l+s+s2}{\\PYZdq{}}\\PY{p}{,} \\PY{n}{node\\PYZus{}type}\\PY{o}{=}\\PY{l+s+s2}{\\PYZdq{}}\\PY{l+s+s2}{data}\\PY{l+s+s2}{\\PYZdq{}}\\PY{p}{,} \\PY{n}{description}\\PY{o}{=}\\PY{l+s+s2}{\\PYZdq{}}\\PY{l+s+s2}{France administrative regions GeoDataFrame with monthly change rates}\\PY{l+s+s2}{\\PYZdq{}}\\PY{p}{)}\n",
       "\\PY{n}{G}\\PY{o}{.}\\PY{n}{add\\PYZus{}edge}\\PY{p}{(}\\PY{l+s+s2}{\\PYZdq{}}\\PY{l+s+s2}{join\\PYZus{}change\\PYZus{}rates}\\PY{l+s+s2}{\\PYZdq{}}\\PY{p}{,} \\PY{l+s+s2}{\\PYZdq{}}\\PY{l+s+s2}{france\\PYZus{}adm\\PYZus{}gdf\\PYZus{}change\\PYZus{}rates}\\PY{l+s+s2}{\\PYZdq{}}\\PY{p}{)}\n",
       "\n",
       "\\PY{c+c1}{\\PYZsh{} Create choropleth map matrix}\n",
       "\\PY{n}{G}\\PY{o}{.}\\PY{n}{add\\PYZus{}node}\\PY{p}{(}\\PY{l+s+s2}{\\PYZdq{}}\\PY{l+s+s2}{create\\PYZus{}choropleth\\PYZus{}map\\PYZus{}matrix}\\PY{l+s+s2}{\\PYZdq{}}\\PY{p}{,} \\PY{n}{node\\PYZus{}type}\\PY{o}{=}\\PY{l+s+s2}{\\PYZdq{}}\\PY{l+s+s2}{operation}\\PY{l+s+s2}{\\PYZdq{}}\\PY{p}{,} \\PY{n}{description}\\PY{o}{=}\\PY{l+s+s2}{\\PYZdq{}}\\PY{l+s+s2}{Create choropleth map matrix of 2020 human mobility monthly change rates for each administrative region}\\PY{l+s+s2}{\\PYZdq{}}\\PY{p}{)}\n",
       "\\PY{n}{G}\\PY{o}{.}\\PY{n}{add\\PYZus{}edge}\\PY{p}{(}\\PY{l+s+s2}{\\PYZdq{}}\\PY{l+s+s2}{france\\PYZus{}adm\\PYZus{}gdf\\PYZus{}change\\PYZus{}rates}\\PY{l+s+s2}{\\PYZdq{}}\\PY{p}{,} \\PY{l+s+s2}{\\PYZdq{}}\\PY{l+s+s2}{create\\PYZus{}choropleth\\PYZus{}map\\PYZus{}matrix}\\PY{l+s+s2}{\\PYZdq{}}\\PY{p}{)}\n",
       "\\PY{n}{G}\\PY{o}{.}\\PY{n}{add\\PYZus{}node}\\PY{p}{(}\\PY{l+s+s2}{\\PYZdq{}}\\PY{l+s+s2}{choropleth\\PYZus{}map\\PYZus{}matrix}\\PY{l+s+s2}{\\PYZdq{}}\\PY{p}{,} \\PY{n}{node\\PYZus{}type}\\PY{o}{=}\\PY{l+s+s2}{\\PYZdq{}}\\PY{l+s+s2}{data}\\PY{l+s+s2}{\\PYZdq{}}\\PY{p}{,} \\PY{n}{description}\\PY{o}{=}\\PY{l+s+s2}{\\PYZdq{}}\\PY{l+s+s2}{Choropleth map matrix of 2020 human mobility monthly change rates for each administrative region}\\PY{l+s+s2}{\\PYZdq{}}\\PY{p}{)}\n",
       "\\PY{n}{G}\\PY{o}{.}\\PY{n}{add\\PYZus{}edge}\\PY{p}{(}\\PY{l+s+s2}{\\PYZdq{}}\\PY{l+s+s2}{create\\PYZus{}choropleth\\PYZus{}map\\PYZus{}matrix}\\PY{l+s+s2}{\\PYZdq{}}\\PY{p}{,} \\PY{l+s+s2}{\\PYZdq{}}\\PY{l+s+s2}{choropleth\\PYZus{}map\\PYZus{}matrix}\\PY{l+s+s2}{\\PYZdq{}}\\PY{p}{)}\n",
       "\n",
       "\\PY{c+c1}{\\PYZsh{} Create line chart of monthly change rate trends}\n",
       "\\PY{n}{G}\\PY{o}{.}\\PY{n}{add\\PYZus{}node}\\PY{p}{(}\\PY{l+s+s2}{\\PYZdq{}}\\PY{l+s+s2}{create\\PYZus{}line\\PYZus{}chart}\\PY{l+s+s2}{\\PYZdq{}}\\PY{p}{,} \\PY{n}{node\\PYZus{}type}\\PY{o}{=}\\PY{l+s+s2}{\\PYZdq{}}\\PY{l+s+s2}{operation}\\PY{l+s+s2}{\\PYZdq{}}\\PY{p}{,} \\PY{n}{description}\\PY{o}{=}\\PY{l+s+s2}{\\PYZdq{}}\\PY{l+s+s2}{Create line chart of monthly change rate trends for all administrative regions}\\PY{l+s+s2}{\\PYZdq{}}\\PY{p}{)}\n",
       "\\PY{n}{G}\\PY{o}{.}\\PY{n}{add\\PYZus{}edge}\\PY{p}{(}\\PY{l+s+s2}{\\PYZdq{}}\\PY{l+s+s2}{monthly\\PYZus{}change\\PYZus{}rates}\\PY{l+s+s2}{\\PYZdq{}}\\PY{p}{,} \\PY{l+s+s2}{\\PYZdq{}}\\PY{l+s+s2}{create\\PYZus{}line\\PYZus{}chart}\\PY{l+s+s2}{\\PYZdq{}}\\PY{p}{)}\n",
       "\\PY{n}{G}\\PY{o}{.}\\PY{n}{add\\PYZus{}node}\\PY{p}{(}\\PY{l+s+s2}{\\PYZdq{}}\\PY{l+s+s2}{line\\PYZus{}chart}\\PY{l+s+s2}{\\PYZdq{}}\\PY{p}{,} \\PY{n}{node\\PYZus{}type}\\PY{o}{=}\\PY{l+s+s2}{\\PYZdq{}}\\PY{l+s+s2}{data}\\PY{l+s+s2}{\\PYZdq{}}\\PY{p}{,} \\PY{n}{description}\\PY{o}{=}\\PY{l+s+s2}{\\PYZdq{}}\\PY{l+s+s2}{Line chart of monthly change rate trends for all administrative regions}\\PY{l+s+s2}{\\PYZdq{}}\\PY{p}{)}\n",
       "\\PY{n}{G}\\PY{o}{.}\\PY{n}{add\\PYZus{}edge}\\PY{p}{(}\\PY{l+s+s2}{\\PYZdq{}}\\PY{l+s+s2}{create\\PYZus{}line\\PYZus{}chart}\\PY{l+s+s2}{\\PYZdq{}}\\PY{p}{,} \\PY{l+s+s2}{\\PYZdq{}}\\PY{l+s+s2}{line\\PYZus{}chart}\\PY{l+s+s2}{\\PYZdq{}}\\PY{p}{)}\n",
       "\n",
       "\\PY{c+c1}{\\PYZsh{} Save the network into GraphML format}\n",
       "\\PY{n}{nx}\\PY{o}{.}\\PY{n}{write\\PYZus{}graphml}\\PY{p}{(}\\PY{n}{G}\\PY{p}{,} \\PY{l+s+s2}{\\PYZdq{}}\\PY{l+s+s2}{E:}\\PY{l+s+se}{\\PYZbs{}\\PYZbs{}}\\PY{l+s+s2}{Research}\\PY{l+s+se}{\\PYZbs{}\\PYZbs{}}\\PY{l+s+s2}{LLM\\PYZhy{}Geo}\\PY{l+s+se}{\\PYZbs{}\\PYZbs{}}\\PY{l+s+s2}{France\\PYZus{}mobility\\PYZus{}changes\\PYZus{}2020}\\PY{l+s+se}{\\PYZbs{}\\PYZbs{}}\\PY{l+s+s2}{France\\PYZus{}mobility\\PYZus{}changes\\PYZus{}2020.graphml}\\PY{l+s+s2}{\\PYZdq{}}\\PY{p}{)}\n",
       "\\end{Verbatim}\n"
      ],
      "text/plain": [
       "import networkx as nx\n",
       "G = nx.DiGraph()\n",
       "\n",
       "# Load France administrative regions shapefile\n",
       "G.add_node(\"france_shp_url\", node_type=\"data\", data_path=\"https://github.com/gladcolor/LLM-Geo/raw/master/REST_API/France.zip\", description=\"France administrative regions shapefile URL\")\n",
       "G.add_node(\"load_france_shp\", node_type=\"operation\", description=\"Load France administrative regions shapefile\")\n",
       "G.add_edge(\"france_shp_url\", \"load_france_shp\")\n",
       "G.add_node(\"france_adm_gdf\", node_type=\"data\", description=\"France administrative regions GeoDataFrame\")\n",
       "G.add_edge(\"load_france_shp\", \"france_adm_gdf\")\n",
       "\n",
       "# Get human mobility data from REST API\n",
       "G.add_node(\"rest_api_url\", node_type=\"data\", data_path=\"http://gis.cas.sc.edu/GeoAnalytics/REST?operation=get_daily_movement_for_all_places&source=twitter&scale=world_first_level_admin&begin=01/01/2020&end=12/31/2020\", description=\"REST API URL for human mobility data\")\n",
       "G.add_node(\"get_mobility_data\", node_type=\"operation\", description=\"Get human mobility data from REST API\")\n",
       "G.add_edge(\"rest_api_url\", \"get_mobility_data\")\n",
       "G.add_node(\"human_mobility_data\", node_type=\"data\", description=\"Human mobility data for all places\")\n",
       "G.add_edge(\"get_mobility_data\", \"human_mobility_data\")\n",
       "\n",
       "# Filter France human mobility data\n",
       "G.add_node(\"filter_france_data\", node_type=\"operation\", description=\"Filter human mobility data for France administrative regions\")\n",
       "G.add_edge(\"human_mobility_data\", \"filter_france_data\")\n",
       "G.add_node(\"france_mobility_data\", node_type=\"data\", description=\"Human mobility data for France administrative regions\")\n",
       "G.add_edge(\"filter_france_data\", \"france_mobility_data\")\n",
       "\n",
       "# Calculate monthly change rates for each administrative region\n",
       "G.add_node(\"calc_change_rates\", node_type=\"operation\", description=\"Calculate monthly change rates for each administrative region\")\n",
       "G.add_edge(\"france_mobility_data\", \"calc_change_rates\")\n",
       "G.add_node(\"monthly_change_rates\", node_type=\"data\", description=\"Monthly change rates for each administrative region\")\n",
       "G.add_edge(\"calc_change_rates\", \"monthly_change_rates\")\n",
       "\n",
       "# Join monthly change rates to France administrative regions GeoDataFrame\n",
       "G.add_node(\"join_change_rates\", node_type=\"operation\", description=\"Join monthly change rates to France administrative regions GeoDataFrame\")\n",
       "G.add_edge(\"monthly_change_rates\", \"join_change_rates\")\n",
       "G.add_edge(\"france_adm_gdf\", \"join_change_rates\")\n",
       "G.add_node(\"france_adm_gdf_change_rates\", node_type=\"data\", description=\"France administrative regions GeoDataFrame with monthly change rates\")\n",
       "G.add_edge(\"join_change_rates\", \"france_adm_gdf_change_rates\")\n",
       "\n",
       "# Create choropleth map matrix\n",
       "G.add_node(\"create_choropleth_map_matrix\", node_type=\"operation\", description=\"Create choropleth map matrix of 2020 human mobility monthly change rates for each administrative region\")\n",
       "G.add_edge(\"france_adm_gdf_change_rates\", \"create_choropleth_map_matrix\")\n",
       "G.add_node(\"choropleth_map_matrix\", node_type=\"data\", description=\"Choropleth map matrix of 2020 human mobility monthly change rates for each administrative region\")\n",
       "G.add_edge(\"create_choropleth_map_matrix\", \"choropleth_map_matrix\")\n",
       "\n",
       "# Create line chart of monthly change rate trends\n",
       "G.add_node(\"create_line_chart\", node_type=\"operation\", description=\"Create line chart of monthly change rate trends for all administrative regions\")\n",
       "G.add_edge(\"monthly_change_rates\", \"create_line_chart\")\n",
       "G.add_node(\"line_chart\", node_type=\"data\", description=\"Line chart of monthly change rate trends for all administrative regions\")\n",
       "G.add_edge(\"create_line_chart\", \"line_chart\")\n",
       "\n",
       "# Save the network into GraphML format\n",
       "nx.write_graphml(G, \"E:\\\\Research\\\\LLM-Geo\\\\France_mobility_changes_2020\\\\France_mobility_changes_2020.graphml\")"
      ]
     },
     "metadata": {},
     "output_type": "display_data"
    }
   ],
   "source": [
    "response_for_graph = solution.get_LLM_response_for_graph() \n",
    "# print(solution.chat_history)\n",
    "solution.graph_response = response_for_graph\n",
    "solution.save_solution()\n",
    "\n",
    "clear_output(wait=True)\n",
    "display(Code(solution.code_for_graph, language='python'))"
   ]
  },
  {
   "cell_type": "markdown",
   "id": "112017eb-8bcb-4d44-88d5-7099f22bf107",
   "metadata": {
    "tags": []
   },
   "source": [
    "## Execute code to generate the solution graphto generate the solution graph"
   ]
  },
  {
   "cell_type": "code",
   "execution_count": 28,
   "id": "d1695d40-b164-4d8b-8381-957ce260a5e6",
   "metadata": {
    "tags": []
   },
   "outputs": [
    {
     "name": "stdout",
     "output_type": "stream",
     "text": [
      "E:\\Research\\LLM-Geo\\France_mobility_changes_2020.html\n"
     ]
    },
    {
     "data": {
      "text/html": [
       "\n",
       "        <iframe\n",
       "            width=\"100%\"\n",
       "            height=\"800px\"\n",
       "            src=\"E:\\Research\\LLM-Geo\\France_mobility_changes_2020.html\"\n",
       "            frameborder=\"0\"\n",
       "            allowfullscreen\n",
       "            \n",
       "        ></iframe>\n",
       "        "
      ],
      "text/plain": [
       "<IPython.lib.display.IFrame at 0x1e43bafcdf0>"
      ]
     },
     "execution_count": 28,
     "metadata": {},
     "output_type": "execute_result"
    }
   ],
   "source": [
    "exec(solution.code_for_graph)\n",
    "solution_graph = solution.load_graph_file()\n",
    "\n",
    "# Show the graph\n",
    "G = nx.read_graphml(solution.graph_file)  \n",
    "nt = helper.show_graph(G)\n",
    "html_name = os.path.join(os.getcwd(), solution.task_name + '.html')  \n",
    "# HTML file should in the same directory. See:\n",
    "# https://stackoverflow.com/questions/65564916/error-displaying-pyvis-html-inside-jupyter-lab-cell\n",
    "nt.show(name=html_name)\n",
    "# html_name"
   ]
  },
  {
   "cell_type": "markdown",
   "id": "791f8311-1874-4b23-957c-793cfd74a9cc",
   "metadata": {
    "tags": []
   },
   "source": [
    "## Generate prompts and code for operations (functions)"
   ]
  },
  {
   "cell_type": "code",
   "execution_count": null,
   "id": "b4459452-8156-476d-8d20-1fccf3fdaa48",
   "metadata": {
    "tags": []
   },
   "outputs": [
    {
     "name": "stdout",
     "output_type": "stream",
     "text": [
      "1 / 7, LLM is generating code for operation node: load_france_shp\n",
      "```python\n",
      "import geopandas as gpd\n",
      "\n",
      "def load_france_shp(france_shp_url='https://github.com/gladcolor/LLM-Geo/raw/master/REST_API/France.zip'):\n",
      "    # Description: Load France administrative regions shapefile\n",
      "    # france_shp_url: France administrative regions shapefile URL\n",
      "    france_adm_gdf = gpd.read_file(france_shp_url)\n",
      "    return france_adm_gdf\n",
      "```\n",
      "\n",
      "\n",
      "2 / 7, LLM is generating code for operation node: get_mobility_data\n",
      "```python\n",
      "import requests\n",
      "import pandas as pd\n",
      "\n",
      "def get_mobility_data(rest_api_url='http://gis.cas.sc.edu/GeoAnalytics/REST?operation=get_daily_movement_for_all_places&source=twitter&scale=world_first_level_admin&begin=01/01/2020&end=12/31/2020'):\n",
      "    \"\"\"\n",
      "    Get human mobility data from REST API.\n",
      "\n",
      "    rest_api_url: REST API URL for human mobility data with the specified parameters\n",
      "    \n",
      "    Return: human_mobility_data, a DataFrame containing human mobility data for all places\n",
      "    \"\"\"\n",
      "    \n",
      "    response = requests.get(rest_api_url)\n",
      "    response_csv_data = response.content.decode(\"utf-8\")\n",
      "    human_mobility_data = pd.read_csv(pd.StringIO(response_csv_data))\n",
      "\n",
      "    return human_mobility_data\n",
      "```\n",
      "\n",
      "\n",
      "\n",
      "3 / 7, LLM is generating code for operation node: filter_france_data\n",
      "```python\n",
      "def filter_france_data(human_mobility_data):\n",
      "    \"\"\"\n",
      "    Filter human mobility data for France administrative regions.\n",
      "\n",
      "    human_mobility_data: A DataFrame containing human mobility data for all places\n",
      "\n",
      "    Return: france_mobility_data, a DataFrame containing human mobility data for France administrative regions\n",
      "    \"\"\"\n",
      "    \n",
      "    france_mobility_data = human_mobility_data[human_mobility_data['place'].str.startswith('FRA')]\n",
      "    \n",
      "    return france_mobility_data\n",
      "```\n",
      "\n",
      "\n",
      "4 / 7, LLM is generating code for operation node: calc_change_rates\n",
      "```python\n",
      "import pandas as pd\n",
      "\n",
      "def calc_change_rates(france_mobility_data):\n",
      "    \"\"\"\n",
      "    Calculate monthly change rates for each administrative region.\n",
      "\n",
      "    france"
     ]
    }
   ],
   "source": [
    "operations = solution.get_LLM_responses_for_operations()\n",
    "solution.save_solution()\n",
    "\n",
    "all_operation_code_str = '\\n'.join([operation['operation_code'] for operation in operations])\n",
    "\n",
    "clear_output(wait=True)\n",
    "display(Code(all_operation_code_str, language='python'))"
   ]
  },
  {
   "cell_type": "markdown",
   "id": "ae21f735-29f4-4934-8a7e-00616447cd40",
   "metadata": {
    "tags": []
   },
   "source": [
    "## Generate prompts and code for assembly program"
   ]
  },
  {
   "cell_type": "code",
   "execution_count": null,
   "id": "34ac055d-11b8-4b3e-890c-83501611355f",
   "metadata": {
    "tags": []
   },
   "outputs": [],
   "source": [
    "assembly_LLM_response = solution.get_LLM_assembly_response()\n",
    "solution.assembly_LLM_response = assembly_LLM_response\n",
    "solution.save_solution()\n",
    "\n",
    "clear_output(wait=True)\n",
    "display(Code(solution.code_for_assembly, language='python'))"
   ]
  },
  {
   "cell_type": "markdown",
   "id": "bca67352-6508-4fe6-be4b-1f4649224148",
   "metadata": {
    "tags": []
   },
   "source": [
    "## Execute assembly code"
   ]
  },
  {
   "cell_type": "code",
   "execution_count": null,
   "id": "583d7c6a-8d5a-4bca-b22e-fcb3f3d5c201",
   "metadata": {
    "tags": []
   },
   "outputs": [],
   "source": [
    "all_code = all_operation_code_str + '\\n' + solution.code_for_assembly\n",
    "\n",
    "# print(solution.code_for_assembly)\n",
    "display(Code(all_code, language='python'))\n",
    "# display(Code(all_code, language='python'))\n",
    "# clear_output(wait=True)\n",
    "# exec(all_code)\n",
    "all_code = solution.execute_complete_program(code=all_code, try_cnt=10)\n",
    "# solution.direct_request_code = code\n"
   ]
  },
  {
   "cell_type": "code",
   "execution_count": null,
   "id": "1ce0e399-3d9f-46f8-b8a7-58d4f29b36d4",
   "metadata": {},
   "outputs": [],
   "source": [
    "# solution.operations[-1].keys()\n",
    "# print(solution.operations[-2]['operation_prompt'])"
   ]
  }
 ],
 "metadata": {
  "kernelspec": {
   "display_name": "street_mapping_env",
   "language": "python",
   "name": "street_mapping_env"
  },
  "language_info": {
   "codemirror_mode": {
    "name": "ipython",
    "version": 3
   },
   "file_extension": ".py",
   "mimetype": "text/x-python",
   "name": "python",
   "nbconvert_exporter": "python",
   "pygments_lexer": "ipython3",
   "version": "3.10.8"
  }
 },
 "nbformat": 4,
 "nbformat_minor": 5
}
