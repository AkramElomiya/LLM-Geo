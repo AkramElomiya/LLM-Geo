{
 "cells": [
  {
   "cell_type": "markdown",
   "id": "bf676855-2221-47c7-8dff-b185e03c3953",
   "metadata": {
    "tags": []
   },
   "source": [
    "#  Install package"
   ]
  },
  {
   "cell_type": "code",
   "execution_count": 88,
   "id": "05156c09-3ec8-47d7-a629-f9374440658a",
   "metadata": {
    "tags": []
   },
   "outputs": [],
   "source": [
    "# ! pip install pyvis\n",
    "# ! pip install networkx"
   ]
  },
  {
   "cell_type": "markdown",
   "id": "b254e9bd-675a-4644-abfd-d642183da809",
   "metadata": {
    "tags": []
   },
   "source": [
    "# Import package"
   ]
  },
  {
   "cell_type": "code",
   "execution_count": 89,
   "id": "392efdfe-e33d-43fb-b8ea-6b6fb444ad9d",
   "metadata": {
    "tags": []
   },
   "outputs": [],
   "source": [
    "import os\n",
    "import requests\n",
    "import networkx as nx\n",
    "import pandas as pd\n",
    "import geopandas as gpd\n",
    "from pyvis.network import Network\n",
    "import openai\n"
   ]
  },
  {
   "cell_type": "markdown",
   "id": "d0e43a82-d40f-4442-93fb-525486017ca1",
   "metadata": {
    "tags": []
   },
   "source": [
    "# Define Solution class\n",
    "Please run the following cell to define the functions"
   ]
  },
  {
   "cell_type": "code",
   "execution_count": 90,
   "id": "236eff8d-4f24-4e90-af5f-4847bf2e7112",
   "metadata": {
    "tags": []
   },
   "outputs": [
    {
     "name": "stdout",
     "output_type": "stream",
     "text": [
      "The autoreload extension is already loaded. To reload it, use:\n",
      "  %reload_ext autoreload\n"
     ]
    }
   ],
   "source": [
    "# %load_ext autoreload\n",
    "# %autoreload 2\n",
    "\n",
    "import LLM_Geo_Constants as constants\n",
    "import helper\n",
    "# import LLM_Geo_kernel.Solution as Solution\n",
    "\n",
    "from LLM_Geo_kernel import Solution\n",
    "\n",
    "%load_ext autoreload\n",
    "%autoreload 2"
   ]
  },
  {
   "cell_type": "markdown",
   "id": "9a3e84cf-00f5-40ef-a7ff-5ae186a4e164",
   "metadata": {},
   "source": [
    "# Demonstration Cases"
   ]
  },
  {
   "cell_type": "markdown",
   "id": "9a545a6b-1456-40b8-a913-b4dfd305c071",
   "metadata": {
    "tags": []
   },
   "source": [
    "## Input task and data desciption"
   ]
  },
  {
   "cell_type": "code",
   "execution_count": 91,
   "id": "bf073e47-9e79-41d3-bc84-500590ad2a65",
   "metadata": {},
   "outputs": [],
   "source": [
    "# print(DATA_LOCATIONS)"
   ]
  },
  {
   "cell_type": "code",
   "execution_count": 92,
   "id": "8ba05f98-30b2-46d0-9eb2-624f5dbc2754",
   "metadata": {
    "tags": []
   },
   "outputs": [
    {
     "name": "stdout",
     "output_type": "stream",
     "text": [
      "Prompt to get solution graph:\n",
      "\n",
      "Your role: A professional Geo-information scientist and developer good at Python. \n",
      "Task: Generate a graph (data structure) only, whose nodes are (1) a series of consecutive steps and (2) data to solve this question:  \n",
      " 1) Find out the Autism service providers' addresses from their website. The address usually listed in the homepage, 'about' or 'contact' page. The latter two pages usually can be found from links in the homepage: theire URLs usually contain 'about' or 'contact'.\n",
      "2) The address shoul contain street, city, state, and zipcode. E.g., 1234 NW Bobcat Lane, St. Robert, MO 65584. A provider may have multiple service address. If you cannot find the address, simply return an empty text, DO NOT make up fake addresses. \n",
      "3) If cannot find the street address, the city, state, or zipcode are also need to return. In summary, find the address information as much as possible.\n",
      "4) You need to use ChatGPT to extract address, design prompts with attached the webpage text to  ChatGPT, asking it to extract address only, NO explanation or conversation. Use this pre-written function to get response from ChatGPT: helper.get_LLM_reply(prompt=your_prompt_with_webpage_text). Use this statement to extract content from the returned response: response['choices'][0]['message']['content']. \n",
      "5) Save the extracted addresses as \"Address\" column, together with the given 'Provider' and 'Web Site' columns. If there are multile addresses for a provider, each address is a row in the CSV file.\n",
      " \n",
      "Data locations (each data is a node): 1. Autism service provider webpage file location: https://raw.githubusercontent.com/gladcolor/LLM-Geo/master/Address_extraction/ACE_providers_AGIS.csv. The 'Web Site' column is the URL, the 'Provider' column is the provider name. \n",
      "Your reply needs to meet these requirements: \n",
      " 1. Think step by step.\n",
      "2. steps and data (both input and output) form a graph stored in NetworkX. Diconnected components are NOT allowed.\n",
      "3. Each step is a data process operation: the input can be data paths or variables, and the output can be data paths or variables.\n",
      "4. There are two types of nodes: a) operation node, and b) data node (both input and output data). These nodes are also input nodes for the next operation node.\n",
      "5. The input of each operation is the output of the previous operations, except the those need to load data from a path or need to collect data.\n",
      "6. You need to carefully named the output data node.\n",
      "7. The data and operation form a graph.\n",
      "8. The first operations are data loading or collection, and the output of the last operation is the final answer to the task.Operation nodes need to connect via output data nodes, DO NOT connect the operation node directly.\n",
      "9. The node attributes include: 1) node_type (data or operation), 2) data_path (data node only, set to \"\" if not given ), and description. E.g., {‘name’: “County boundary”, “data_type”: “data”, “data_path”: “D:\\Test\\county.shp”,  “description”: “County boundary for the study area”}.\n",
      "10. The connection between a node and an operation node is an edge.\n",
      "11. Add all nodes and edges, including node attributes to a NetworkX instance, DO NOT change the attribute names.\n",
      "12. DO NOT generate code to implement the steps.\n",
      "13. Join the attribute to the vector layer via a common attribute if necessery.\n",
      "14. Put your reply into a Python code block, NO explanation or conversation outside the code block(enclosed by ```python and ```).\n",
      "15. Note that GraphML writer does not support class dict or list as data values.\n",
      "16. You need spatial data (e.g., vector or raster) to make a map.\n",
      "17. Do not put the GraphML writing process as a step in the graph.\n",
      "18. Save the network into GraphML format, save it at: E:\\Research\\LLM-Geo\\Address_extraction\\Address_extraction.graphml \n",
      " \n",
      "Reply example: \n",
      "```python\n",
      "import networkx as nx\n",
      "G = nx.DiGraph()\n",
      "# Add nodes and edges for the graph\n",
      "# 1 Load hazardous waste site shapefile\n",
      "G.add_node(\"haz_waste_shp_url\", node_type=\"data\", path=\"https://github.com/gladcolor/LLM-Geo/raw/master/overlay_analysis/Hazardous_Waste_Sites.zip\", description=\"Hazardous waste facility shapefile URL\")\n",
      "G.add_node(\"load_haz_waste_shp\", node_type=\"operation\", description=\"Load hazardous waste facility shapefile\")\n",
      "G.add_edge(\"haz_waste_shp_url\", \"load_haz_waste_shp\")\n",
      "G.add_node(\"haz_waste_gdf\", node_type=\"data\", description=\"Hazardous waste facility GeoDataFrame\")\n",
      "G.add_edge(\"load_haz_waste_shp\", \"haz_waste_gdf\")\n",
      "...\n",
      "```\n",
      "\n"
     ]
    }
   ],
   "source": [
    "# Case 1: population living near hazardous waster\n",
    "'''\n",
    "TASK = r\"\"\"1) Find out the total population that lives within a tract that contain hazardous waste facilities. The study area is North Carolina, US.\n",
    "2) Generate a map to show the spatial distribution of population at the tract level and highlight the borders of tracts that have hazardous waste facilities.\n",
    "\"\"\"\n",
    "\n",
    "DATA_LOCATIONS = [\"NC hazardous waste facility ESRI shape file location: https://github.com/gladcolor/LLM- Geo/raw/master/overlay_analysis/Hazardous_Waste_Sites.zip.\",\n",
    "                  \"NC tract boundary shapefile location: https://github.com/gladcolor/LLM-Geo/raw/master/overlay_analysis/tract_shp_37.zip. The tract id column is 'Tract'.\",\n",
    "                  \"NC tract population CSV file location: https://github.com/gladcolor/LLM-Geo/raw/master/overlay_analysis/NC_tract_population.csv. The population is stored in 'TotalPopulation' column. The tract ID column is 'GEOID'.\"\n",
    "                 ]\n",
    "'''\n",
    "\n",
    "# Case 2: mobility data retrieval and visulization\n",
    "\"\"\"\n",
    "TASK = r'''\n",
    "1) Show the monthly change rates of each administrative regions in a France map. Each month is a sub-map in a map matrix. The base of the change rate is January 2020. \n",
    "2) Draw a line chart to show the monthly change rate trends of all administrative regeions.\n",
    "\n",
    "'''\n",
    "\n",
    "DATA_LOCATIONS = [\"ESRI shapefile for France administrative regions:\" + \\\n",
    "                  \"https://github.com/gladcolor/LLM-Geo/raw/master/REST_API/France.zip.\" + \\\n",
    "                  \"The 'GID_1' column is the administrative region code, 'NAME_1' column is the administrative region name.\",\n",
    "                  \"REST API url with parameters for mobility data access:\" + \\\n",
    "                  \"http://gis.cas.sc.edu/GeoAnalytics/REST?operation=get_daily_movement_for_all_places&source=twitter&scale=world_first_level_admin&begin=01/01/2020&end=12/31/2020.\" + \\\n",
    "                  \"The response is in CSV format. There are three columns in the response: \" + \\\n",
    "                  \"place,date (format:2020-01-07), and intra_movement. 'place' column is the administractive region code, France administrative regions start with 'FRA'.\",\n",
    "                 ]\n",
    "\n",
    "# Bug: \n",
    "# base_month =  \"2020-01\" # wrong: pd.to_datetime(\"2020-01\")\n",
    "# print(region_monthly[region_monthly['month_year'] == base_month])\n",
    "\n",
    "\"\"\"\n",
    "\n",
    "# Case 3: mobility data retrieval and visulization\n",
    "TASK = r\"\"\"1) Find out the Autism service providers' addresses from their website. The address usually listed in the homepage, 'about' or 'contact' page. The latter two pages usually can be found from links in the homepage: theire URLs usually contain 'about' or 'contact'.\n",
    "2) The address shoul contain street, city, state, and zipcode. E.g., 1234 NW Bobcat Lane, St. Robert, MO 65584. A provider may have multiple service address. If you cannot find the address, simply return an empty text, DO NOT make up fake addresses. \n",
    "3) If cannot find the street address, the city, state, or zipcode are also need to return. In summary, find the address information as much as possible.\n",
    "4) You need to use ChatGPT to extract address, design prompts with attached the webpage text to  ChatGPT, asking it to extract address only, NO explanation or conversation. Use this pre-written function to get response from ChatGPT: helper.get_LLM_reply(prompt=your_prompt_with_webpage_text). Use this statement to extract content from the returned response: response['choices'][0]['message']['content']. \n",
    "5) Save the extracted addresses as \"Address\" column, together with the given 'Provider' and 'Web Site' columns. If there are multile addresses for a provider, each address is a row in the CSV file.\n",
    "\"\"\"\n",
    "\n",
    "DATA_LOCATIONS = [\"Autism service provider webpage file location: https://raw.githubusercontent.com/gladcolor/LLM-Geo/master/Address_extraction/ACE_providers_AGIS.csv. The 'Web Site' column is the URL, the 'Provider' column is the provider name.\",                  \n",
    "                 ]\n",
    "\n",
    "\n",
    "# TASK = r'''1)Retrieve the data from the REST API and plot the intra_movement column of the returned data as line chart to show the temporal trend of all states. \n",
    "# 2) plot the temporal trend of the movement for each state. Each state figure will be sub figure in the plot. The plot has 5 columns. In addition, please add a weekly smoothed line to each sub plot, and change the line color to orange.\n",
    "# 3) Using the REST API with date range from 01/01/2020 to 12/31/2020 to analyze the movement reduction rate for each state during two periods: the first period is 01/01/2020-02/29/2020, second period is 03/01/2020 to 04/30/2020. Please find out the reduction rate for each state during the two periods, and create a table to report the result with two columns: state name, reduction rate, sorted by reduction rate.\n",
    "# '''\n",
    "# '''\n",
    "# DATA_LOCATIONS = [\"REST API url with parameters for data access: http://gis.cas.sc.edu/GeoAnalytics/REST?operation=get_daily_movement_for_all_places&source=twitter&scale=us_state&begin=01/01/2020&end=12/31/2020; The response is in CSV format. There are three columns in the response: place,date,intra_movement; place refers to the state name.\"\n",
    "#                  ]\n",
    "# '''\n",
    "# 3) Show the administrative region name in the map and chart.\n",
    "# \n",
    "# task_name ='Resident_at_risk_counting'\n",
    "# task_name ='France_mobility_changes_2020'  \n",
    "task_name ='Address_extraction'  \n",
    "\n",
    "save_dir = os.path.join(os.getcwd(), task_name)\n",
    "os.makedirs(save_dir, exist_ok=True)\n",
    "\n",
    "# create graph\n",
    "# model=r\"gpt-3.5-turbo\"\n",
    "model=r\"gpt-4\"\n",
    "model=r\"gpt-4\"\n",
    "solution = Solution(\n",
    "                    task=TASK,\n",
    "                    task_name=task_name,\n",
    "                    save_dir=save_dir,\n",
    "                    data_locations=DATA_LOCATIONS,\n",
    "                    model=model,\n",
    "                    )\n",
    "print(\"Prompt to get solution graph:\\n\")\n",
    "print(solution.graph_prompt)"
   ]
  },
  {
   "cell_type": "markdown",
   "id": "3009da7e-afe7-48da-a0c0-62d5a10026fb",
   "metadata": {
    "tags": []
   },
   "source": [
    "## Get graph code from GPT API"
   ]
  },
  {
   "cell_type": "code",
   "execution_count": 93,
   "id": "213b17ca-9e3e-4c23-a852-c4a7edc83448",
   "metadata": {
    "tags": []
   },
   "outputs": [
    {
     "name": "stdout",
     "output_type": "stream",
     "text": [
      "Geting LLM reply...\n",
      "Got LLM reply.\n",
      "\n",
      "Code to generate solution graph: \n",
      "\n",
      "import networkx as nx\n",
      "\n",
      "G = nx.DiGraph()\n",
      "\n",
      "# 1. Load ACE provider CSV\n",
      "G.add_node(\"ace_provider_csv_url\", node_type=\"data\", data_path=\"https://raw.githubusercontent.com/gladcolor/LLM-Geo/master/Address_extraction/ACE_providers_AGIS.csv\", description=\"ACE provider CSV URL\")\n",
      "G.add_node(\"load_ace_provider_csv\", node_type=\"operation\", description=\"Load ACE provider CSV\")\n",
      "G.add_edge(\"ace_provider_csv_url\", \"load_ace_provider_csv\")\n",
      "\n",
      "G.add_node(\"ace_providers_df\", node_type=\"data\", description=\"ACE provider DataFrame\")\n",
      "G.add_edge(\"load_ace_provider_csv\", \"ace_providers_df\")\n",
      "\n",
      "# 2. Extract web_page_text\n",
      "G.add_node(\"extract_web_page_text\", node_type=\"operation\", description=\"Extract web page text from provider URLs\")\n",
      "G.add_edge(\"ace_providers_df\", \"extract_web_page_text\")\n",
      "\n",
      "G.add_node(\"web_texts\", node_type=\"data\", description=\"Web page text from provider URLs\")\n",
      "G.add_edge(\"extract_web_page_text\", \"web_texts\")\n",
      "\n",
      "# 3. Send prompts to ChatGPT\n",
      "G.add_node(\"send_prompts_to_chatgpt\", node_type=\"operation\", description=\"Create and send prompt to ChatGPT with web page text\")\n",
      "G.add_edge(\"web_texts\", \"send_prompts_to_chatgpt\")\n",
      "\n",
      "G.add_node(\"chatgpt_responses\", node_type=\"data\", description=\"ChatGPT responses with extracted addresses\")\n",
      "G.add_edge(\"send_prompts_to_chatgpt\", \"chatgpt_responses\")\n",
      "\n",
      "# 4. Extract addresses from ChatGPT responses\n",
      "G.add_node(\"extract_addresses_from_responses\", node_type=\"operation\", description=\"Extract address from ChatGPT response content\")\n",
      "G.add_edge(\"chatgpt_responses\", \"extract_addresses_from_responses\")\n",
      "\n",
      "G.add_node(\"addresses_list\", node_type=\"data\", description=\"List of extracted addresses\")\n",
      "G.add_edge(\"extract_addresses_from_responses\", \"addresses_list\")\n",
      "\n",
      "# 5. Merge addresses with the providers dataframe\n",
      "G.add_node(\"merge_addresses_with_providers\", node_type=\"operation\", description=\"Merge extracted addresses with the ACE provider DataFrame\")\n",
      "G.add_edge(\"addresses_list\", \"merge_addresses_with_providers\")\n",
      "G.add_edge(\"ace_providers_df\", \"merge_addresses_with_providers\")\n",
      "\n",
      "G.add_node(\"final_output_df\", node_type=\"data\", description=\"Final output DataFrame with addresses\")\n",
      "G.add_edge(\"merge_addresses_with_providers\", \"final_output_df\")\n",
      "\n",
      "# Save the graph\n",
      "nx.write_graphml(G, \"E:\\\\Research\\\\LLM-Geo\\\\Address_extraction\\\\Address_extraction.graphml\")\n"
     ]
    }
   ],
   "source": [
    "response_for_graph = solution.get_LLM_response_for_graph() \n",
    "solution.graph_response = response_for_graph\n",
    "solution.save_solution()\n",
    "print()\n",
    "print(\"Code to generate solution graph: \\n\")\n",
    "print(solution.code_for_graph)"
   ]
  },
  {
   "cell_type": "markdown",
   "id": "112017eb-8bcb-4d44-88d5-7099f22bf107",
   "metadata": {
    "tags": []
   },
   "source": [
    "## Execute code to generate the solution graphto generate the solution graph"
   ]
  },
  {
   "cell_type": "code",
   "execution_count": 94,
   "id": "d1695d40-b164-4d8b-8381-957ce260a5e6",
   "metadata": {
    "tags": []
   },
   "outputs": [
    {
     "name": "stdout",
     "output_type": "stream",
     "text": [
      "E:\\Research\\LLM-Geo\\Address_extraction.html\n"
     ]
    },
    {
     "data": {
      "text/html": [
       "\n",
       "        <iframe\n",
       "            width=\"100%\"\n",
       "            height=\"800px\"\n",
       "            src=\"E:\\Research\\LLM-Geo\\Address_extraction.html\"\n",
       "            frameborder=\"0\"\n",
       "            allowfullscreen\n",
       "            \n",
       "        ></iframe>\n",
       "        "
      ],
      "text/plain": [
       "<IPython.lib.display.IFrame at 0x23dcbbe1990>"
      ]
     },
     "execution_count": 94,
     "metadata": {},
     "output_type": "execute_result"
    }
   ],
   "source": [
    "exec(solution.code_for_graph)\n",
    "solution_graph = solution.load_graph_file()\n",
    "\n",
    "# Show the graph\n",
    "G = nx.read_graphml(solution.graph_file)  \n",
    "nt = helper.show_graph(G)\n",
    "html_name = os.path.join(os.getcwd(), solution.task_name + '.html')  \n",
    "# HTML file should in the same directory. See:\n",
    "# https://stackoverflow.com/questions/65564916/error-displaying-pyvis-html-inside-jupyter-lab-cell\n",
    "nt.show(name=html_name)\n",
    "# html_name"
   ]
  },
  {
   "cell_type": "markdown",
   "id": "791f8311-1874-4b23-957c-793cfd74a9cc",
   "metadata": {
    "tags": []
   },
   "source": [
    "## Generate prompts and code for operations (functions)"
   ]
  },
  {
   "cell_type": "code",
   "execution_count": 95,
   "id": "italic-appearance",
   "metadata": {
    "collapsed": false,
    "jupyter": {
     "outputs_hidden": false
    }
   },
   "outputs": [],
   "source": [
    "# with open(r'F:\\Research\\LLM-Geo\\Resident_at_risk_counting\\Resident_at_risk_counting.pkl', 'rb') as f:\n",
    "#     solution = pickle.load(f)"
   ]
  },
  {
   "cell_type": "code",
   "execution_count": 96,
   "id": "b4459452-8156-476d-8d20-1fccf3fdaa48",
   "metadata": {
    "tags": []
   },
   "outputs": [
    {
     "name": "stdout",
     "output_type": "stream",
     "text": [
      "1 / 5, load_ace_provider_csv\n",
      "Geting LLM reply...\n",
      "Got LLM reply.\n",
      "2 / 5, extract_web_page_text\n",
      "Geting LLM reply...\n",
      "Got LLM reply.\n",
      "3 / 5, send_prompts_to_chatgpt\n",
      "Geting LLM reply...\n",
      "Got LLM reply.\n",
      "4 / 5, extract_addresses_from_responses\n",
      "Geting LLM reply...\n",
      "Got LLM reply.\n",
      "5 / 5, merge_addresses_with_providers\n",
      "Geting LLM reply...\n",
      "Got LLM reply.\n"
     ]
    }
   ],
   "source": [
    "operations = solution.get_LLM_responses_for_operations()\n",
    "solution.save_solution()\n",
    "\n",
    "# all_operation_code_str = '\\n'.join([operation['operation_code'] for operation in operations])\n",
    "# print(\"All operation code: \\n\")\n",
    "# print(all_operation_code_str)"
   ]
  },
  {
   "cell_type": "code",
   "execution_count": 97,
   "id": "7cc36daf-008e-4159-bc07-23552a9249c5",
   "metadata": {},
   "outputs": [
    {
     "name": "stdout",
     "output_type": "stream",
     "text": [
      "import pandas as pd\n",
      "\n",
      "def load_ace_provider_csv(ace_provider_csv_url='https://raw.githubusercontent.com/gladcolor/LLM-Geo/master/Address_extraction/ACE_providers_AGIS.csv'):\n",
      "    \"\"\"\n",
      "    Load ACE provider CSV\n",
      "\n",
      "    ace_provider_csv_url: ACE provider CSV file URL\n",
      "\n",
      "    Returns: ace_providers_df: ACE provider DataFrame\n",
      "    \"\"\"\n",
      "    ace_providers_df = pd.read_csv(ace_provider_csv_url)\n",
      "    return ace_providers_df\n",
      "import pandas as pd\n",
      "import requests\n",
      "from bs4 import BeautifulSoup\n",
      "from tqdm import tqdm\n",
      "\n",
      "def extract_web_page_text(ace_providers_df):\n",
      "    \"\"\"\n",
      "    Extract web page text from provider URLs\n",
      "\n",
      "    ace_providers_df: DataFrame containing provider names and their URLs\n",
      "\n",
      "    Returns: web_texts: list containing pairs of provider names and extracted web page text\n",
      "    \"\"\"\n",
      "    \n",
      "    # Initialize a list to store extracted web text\n",
      "    web_texts = []\n",
      "\n",
      "    # Loop through the providers\n",
      "    for index, row in tqdm(ace_providers_df.iterrows(), total=ace_providers_df.shape[0]):\n",
      "        # Get provider name and URL\n",
      "        provider_name = row['Provider']\n",
      "        url = row['Web Site']\n",
      "\n",
      "        try:\n",
      "            # Send HTTP request to the URL\n",
      "            response = requests.get(url)\n",
      "\n",
      "            # Check if request is successful\n",
      "            if response.status_code == 200:\n",
      "                # Parse HTML with BeautifulSoup\n",
      "                soup = BeautifulSoup(response.text, \"html.parser\")\n",
      "                \n",
      "                # Extract and clean web page text\n",
      "                texts = soup.stripped_strings\n",
      "                extracted_text = \" \".join(texts)\n",
      "\n",
      "                # Append provider name and extracted text to web_texts list\n",
      "                web_texts.append((provider_name, extracted_text))\n",
      "            else:\n",
      "                web_texts.append((provider_name, \"\"))  # Append empty text if request fails\n",
      "        except Exception as e:\n",
      "            # Append empty text if an exception occurs\n",
      "            web_texts.append((provider_name, \"\"))\n",
      "\n",
      "    return web_texts\n",
      "from typing import List, Tuple\n",
      "import helper\n",
      "\n",
      "def send_prompts_to_chatgpt(web_texts: List[Tuple[str, str]]) -> List[str]:\n",
      "    \"\"\"\n",
      "    Create and send prompt to ChatGPT with web page text.\n",
      "\n",
      "    web_texts: list containing pairs of provider names and extracted web page text\n",
      "\n",
      "    Returns: chatgpt_responses: list containing ChatGPT responses for each prompt\n",
      "    \"\"\"\n",
      "\n",
      "    # Initialize a list to store ChatGPT responses\n",
      "    chatgpt_responses = []\n",
      "\n",
      "    # Loop through the web_texts list\n",
      "    for provider_text in web_texts:\n",
      "        provider_name, text = provider_text\n",
      "\n",
      "        # Create a prompt with the web page content\n",
      "        prompt = f\"Extract the address(es) of the Autism service provider from the text below:\\n\\n{text}\"\n",
      "\n",
      "        # Send the prompt to ChatGPT\n",
      "        response = helper.get_LLM_reply(prompt=prompt)\n",
      "\n",
      "        # Extract the content from the ChatGPT response\n",
      "        content = response['choices'][0]['message']['content']\n",
      "\n",
      "        # Append the extracted content to the chatgpt_responses list\n",
      "        chatgpt_responses.append(content)\n",
      "\n",
      "    return chatgpt_responses\n",
      "import re\n",
      "\n",
      "def extract_addresses_from_responses(chatgpt_responses):\n",
      "    \"\"\"\n",
      "    Extract address from ChatGPT response content.\n",
      "    \n",
      "    chatgpt_responses: list containing ChatGPT responses for each prompt\n",
      "    \n",
      "    Returns: addresses_list: list containing extracted addresses for each provider\n",
      "    \"\"\"\n",
      "    addresses_list = []\n",
      "\n",
      "    # Parse addresses using regular expressions\n",
      "    address_pattern = r'\\d+\\s+\\w+(\\s\\w+)?(,|\\.)\\s+\\w+\\s*(,|\\.)?\\s*\\w+\\s*,\\s*[A-Z]{2}\\s+\\d{5}(-\\d{4})?'\n",
      "\n",
      "    for content in chatgpt_responses:\n",
      "        addresses = re.findall(address_pattern, content)\n",
      "        addresses_list.append(addresses)\n",
      "\n",
      "    return addresses_list\n",
      "import pandas as pd\n",
      "\n",
      "def merge_addresses_with_providers(ace_providers_df: pd.DataFrame, addresses_list: List[List[str]]) -> pd.DataFrame:\n",
      "    \"\"\"\n",
      "    Merge extracted addresses with the ACE provider DataFrame\n",
      "\n",
      "    ace_providers_df: DataFrame containing provider names and their URLs\n",
      "    addresses_list: list of lists containing extracted addresses for each provider\n",
      "\n",
      "    Returns: final_output_df: Merged DataFrame with 'Provider', 'Web Site', and 'Address' columns.\n",
      "    \"\"\"\n",
      "\n",
      "    # Create a list to store the merged data as dictionaries\n",
      "    merged_data = []\n",
      "\n",
      "    # Loop through the ace_providers_df and addresses_list\n",
      "    for i, (index, row) in enumerate(ace_providers_df.iterrows()):\n",
      "        provider_name = row['Provider']\n",
      "        website = row['Web Site']\n",
      "        addresses = addresses_list[i]\n",
      "\n",
      "        if addresses:\n",
      "            for address in addresses:\n",
      "                merged_data.append({\"Provider\": provider_name, \"Web Site\": website, \"Address\": address})\n",
      "        else:\n",
      "            merged_data.append({\"Provider\": provider_name, \"Web Site\": website, \"Address\": \"\"})\n",
      "\n",
      "    # Convert the merged data list to a DataFrame\n",
      "    final_output_df = pd.DataFrame(merged_data)\n",
      "\n",
      "    return final_output_df\n"
     ]
    }
   ],
   "source": [
    "all_operation_code_str = '\\n'.join([operation['operation_code'] for operation in operations])\n",
    "exec(all_operation_code_str)\n",
    "print(all_operation_code_str)"
   ]
  },
  {
   "cell_type": "markdown",
   "id": "ae21f735-29f4-4934-8a7e-00616447cd40",
   "metadata": {
    "tags": []
   },
   "source": [
    "## Generate prompts and code for assembly program"
   ]
  },
  {
   "cell_type": "code",
   "execution_count": 98,
   "id": "34ac055d-11b8-4b3e-890c-83501611355f",
   "metadata": {
    "tags": []
   },
   "outputs": [
    {
     "name": "stdout",
     "output_type": "stream",
     "text": [
      "Geting LLM reply...\n",
      "Got LLM reply.\n",
      "def main():\n",
      "    # Load ACE provider CSV\n",
      "    ace_providers_df = load_ace_provider_csv()\n",
      "\n",
      "    # Extract web page text from provider URLs\n",
      "    web_texts = extract_web_page_text(ace_providers_df)\n",
      "\n",
      "    # Send prompts to ChatGPT and get responses\n",
      "    chatgpt_responses = send_prompts_to_chatgpt(web_texts)\n",
      "\n",
      "    # Extract addresses from ChatGPT responses\n",
      "    addresses_list = extract_addresses_from_responses(chatgpt_responses)\n",
      "\n",
      "    # Merge extracted addresses with the ACE provider DataFrame\n",
      "    final_output_df = merge_addresses_with_providers(ace_providers_df, addresses_list)\n",
      "\n",
      "    # Save the final output DataFrame to a CSV file\n",
      "    final_output_df.to_csv(\"Autism_Service_Providers_Addresses.csv\", index=False)\n",
      "\n",
      "\n",
      "if __name__ == \"__main__\":\n",
      "    main()\n",
      "Assembly code: \n",
      "\n",
      "def main():\n",
      "    # Load ACE provider CSV\n",
      "    ace_providers_df = load_ace_provider_csv()\n",
      "\n",
      "    # Extract web page text from provider URLs\n",
      "    web_texts = extract_web_page_text(ace_providers_df)\n",
      "\n",
      "    # Send prompts to ChatGPT and get responses\n",
      "    chatgpt_responses = send_prompts_to_chatgpt(web_texts)\n",
      "\n",
      "    # Extract addresses from ChatGPT responses\n",
      "    addresses_list = extract_addresses_from_responses(chatgpt_responses)\n",
      "\n",
      "    # Merge extracted addresses with the ACE provider DataFrame\n",
      "    final_output_df = merge_addresses_with_providers(ace_providers_df, addresses_list)\n",
      "\n",
      "    # Save the final output DataFrame to a CSV file\n",
      "    final_output_df.to_csv(\"Autism_Service_Providers_Addresses.csv\", index=False)\n",
      "\n",
      "\n",
      "if __name__ == \"__main__\":\n",
      "    main()\n"
     ]
    }
   ],
   "source": [
    "assembly_LLM_response = solution.get_LLM_assembly_response()\n",
    "solution.assembly_LLM_response = assembly_LLM_response\n",
    "solution.save_solution()\n",
    "\n",
    "print(\"Assembly code: \\n\")\n",
    "print(solution.code_for_assembly)"
   ]
  },
  {
   "cell_type": "markdown",
   "id": "bca67352-6508-4fe6-be4b-1f4649224148",
   "metadata": {
    "tags": []
   },
   "source": [
    "## Execute assembly code"
   ]
  },
  {
   "cell_type": "code",
   "execution_count": 99,
   "id": "583d7c6a-8d5a-4bca-b22e-fcb3f3d5c201",
   "metadata": {
    "tags": []
   },
   "outputs": [
    {
     "name": "stdout",
     "output_type": "stream",
     "text": [
      "def main():\n",
      "    # Load ACE provider CSV\n",
      "    ace_providers_df = load_ace_provider_csv()\n",
      "\n",
      "    # Extract web page text from provider URLs\n",
      "    web_texts = extract_web_page_text(ace_providers_df)\n",
      "\n",
      "    # Send prompts to ChatGPT and get responses\n",
      "    chatgpt_responses = send_prompts_to_chatgpt(web_texts)\n",
      "\n",
      "    # Extract addresses from ChatGPT responses\n",
      "    addresses_list = extract_addresses_from_responses(chatgpt_responses)\n",
      "\n",
      "    # Merge extracted addresses with the ACE provider DataFrame\n",
      "    final_output_df = merge_addresses_with_providers(ace_providers_df, addresses_list)\n",
      "\n",
      "    # Save the final output DataFrame to a CSV file\n",
      "    final_output_df.to_csv(\"Autism_Service_Providers_Addresses.csv\", index=False)\n",
      "\n",
      "\n",
      "if __name__ == \"__main__\":\n",
      "    main()\n"
     ]
    }
   ],
   "source": [
    "all_code = all_operation_code_str + '\\n' + solution.code_for_assembly\n",
    "print(solution.code_for_assembly)"
   ]
  },
  {
   "cell_type": "code",
   "execution_count": 101,
   "id": "90365390-4b0a-4164-8b25-5179d13da5a0",
   "metadata": {},
   "outputs": [
    {
     "name": "stderr",
     "output_type": "stream",
     "text": [
      "100%|████████████████████████████████████████████████████████████████████████████████████| 9/9 [00:06<00:00,  1.35it/s]\n"
     ]
    },
    {
     "name": "stdout",
     "output_type": "stream",
     "text": [
      "Geting LLM reply...\n",
      "Got LLM reply.\n",
      "Geting LLM reply...\n",
      "Got LLM reply.\n",
      "Geting LLM reply...\n"
     ]
    },
    {
     "ename": "InvalidRequestError",
     "evalue": "This model's maximum context length is 4097 tokens. However, your messages resulted in 27382 tokens. Please reduce the length of the messages.",
     "output_type": "error",
     "traceback": [
      "\u001b[1;31m---------------------------------------------------------------------------\u001b[0m",
      "\u001b[1;31mInvalidRequestError\u001b[0m                       Traceback (most recent call last)",
      "Cell \u001b[1;32mIn[101], line 1\u001b[0m\n\u001b[1;32m----> 1\u001b[0m \u001b[43mexec\u001b[49m\u001b[43m(\u001b[49m\u001b[43mall_code\u001b[49m\u001b[43m)\u001b[49m\n",
      "File \u001b[1;32m<string>:162\u001b[0m\n",
      "File \u001b[1;32m<string>:149\u001b[0m, in \u001b[0;36mmain\u001b[1;34m()\u001b[0m\n",
      "File \u001b[1;32m<string>:81\u001b[0m, in \u001b[0;36msend_prompts_to_chatgpt\u001b[1;34m(web_texts)\u001b[0m\n",
      "File \u001b[1;32mE:\\Research\\LLM-Geo\\helper.py:48\u001b[0m, in \u001b[0;36mget_LLM_reply\u001b[1;34m(prompt, system_role, model, verbose)\u001b[0m\n\u001b[0;32m     46\u001b[0m \u001b[38;5;28;01mif\u001b[39;00m verbose:\n\u001b[0;32m     47\u001b[0m     \u001b[38;5;28mprint\u001b[39m(\u001b[38;5;124m\"\u001b[39m\u001b[38;5;124mGeting LLM reply...\u001b[39m\u001b[38;5;124m\"\u001b[39m)\n\u001b[1;32m---> 48\u001b[0m response \u001b[38;5;241m=\u001b[39m \u001b[43mopenai\u001b[49m\u001b[38;5;241;43m.\u001b[39;49m\u001b[43mChatCompletion\u001b[49m\u001b[38;5;241;43m.\u001b[39;49m\u001b[43mcreate\u001b[49m\u001b[43m(\u001b[49m\n\u001b[0;32m     49\u001b[0m \u001b[43m    \u001b[49m\u001b[43mmodel\u001b[49m\u001b[38;5;241;43m=\u001b[39;49m\u001b[43mmodel\u001b[49m\u001b[43m,\u001b[49m\n\u001b[0;32m     50\u001b[0m \u001b[43m    \u001b[49m\u001b[43mmessages\u001b[49m\u001b[38;5;241;43m=\u001b[39;49m\u001b[43m[\u001b[49m\n\u001b[0;32m     51\u001b[0m \u001b[43m    \u001b[49m\u001b[43m{\u001b[49m\u001b[38;5;124;43m\"\u001b[39;49m\u001b[38;5;124;43mrole\u001b[39;49m\u001b[38;5;124;43m\"\u001b[39;49m\u001b[43m:\u001b[49m\u001b[43m \u001b[49m\u001b[38;5;124;43m\"\u001b[39;49m\u001b[38;5;124;43msystem\u001b[39;49m\u001b[38;5;124;43m\"\u001b[39;49m\u001b[43m,\u001b[49m\u001b[43m \u001b[49m\u001b[38;5;124;43m\"\u001b[39;49m\u001b[38;5;124;43mcontent\u001b[39;49m\u001b[38;5;124;43m\"\u001b[39;49m\u001b[43m:\u001b[49m\u001b[43m \u001b[49m\u001b[43msystem_role\u001b[49m\u001b[43m}\u001b[49m\u001b[43m,\u001b[49m\n\u001b[0;32m     52\u001b[0m \u001b[43m    \u001b[49m\u001b[43m{\u001b[49m\u001b[38;5;124;43m\"\u001b[39;49m\u001b[38;5;124;43mrole\u001b[39;49m\u001b[38;5;124;43m\"\u001b[39;49m\u001b[43m:\u001b[49m\u001b[43m \u001b[49m\u001b[38;5;124;43m\"\u001b[39;49m\u001b[38;5;124;43muser\u001b[39;49m\u001b[38;5;124;43m\"\u001b[39;49m\u001b[43m,\u001b[49m\u001b[43m \u001b[49m\u001b[38;5;124;43m\"\u001b[39;49m\u001b[38;5;124;43mcontent\u001b[39;49m\u001b[38;5;124;43m\"\u001b[39;49m\u001b[43m:\u001b[49m\u001b[43m \u001b[49m\u001b[43mprompt\u001b[49m\u001b[43m}\u001b[49m\u001b[43m,\u001b[49m\n\u001b[0;32m     53\u001b[0m \u001b[43m    \u001b[49m\u001b[43m]\u001b[49m\n\u001b[0;32m     54\u001b[0m \u001b[43m    \u001b[49m\u001b[43m)\u001b[49m\n\u001b[0;32m     55\u001b[0m \u001b[38;5;28;01mif\u001b[39;00m verbose:\n\u001b[0;32m     56\u001b[0m     \u001b[38;5;28mprint\u001b[39m(\u001b[38;5;124m\"\u001b[39m\u001b[38;5;124mGot LLM reply.\u001b[39m\u001b[38;5;124m\"\u001b[39m)\n",
      "File \u001b[1;32me:\\ProgramData\\Anaconda3\\envs\\street_mapping_env\\lib\\site-packages\\openai\\api_resources\\chat_completion.py:25\u001b[0m, in \u001b[0;36mChatCompletion.create\u001b[1;34m(cls, *args, **kwargs)\u001b[0m\n\u001b[0;32m     23\u001b[0m \u001b[38;5;28;01mwhile\u001b[39;00m \u001b[38;5;28;01mTrue\u001b[39;00m:\n\u001b[0;32m     24\u001b[0m     \u001b[38;5;28;01mtry\u001b[39;00m:\n\u001b[1;32m---> 25\u001b[0m         \u001b[38;5;28;01mreturn\u001b[39;00m \u001b[38;5;28msuper\u001b[39m()\u001b[38;5;241m.\u001b[39mcreate(\u001b[38;5;241m*\u001b[39margs, \u001b[38;5;241m*\u001b[39m\u001b[38;5;241m*\u001b[39mkwargs)\n\u001b[0;32m     26\u001b[0m     \u001b[38;5;28;01mexcept\u001b[39;00m TryAgain \u001b[38;5;28;01mas\u001b[39;00m e:\n\u001b[0;32m     27\u001b[0m         \u001b[38;5;28;01mif\u001b[39;00m timeout \u001b[38;5;129;01mis\u001b[39;00m \u001b[38;5;129;01mnot\u001b[39;00m \u001b[38;5;28;01mNone\u001b[39;00m \u001b[38;5;129;01mand\u001b[39;00m time\u001b[38;5;241m.\u001b[39mtime() \u001b[38;5;241m>\u001b[39m start \u001b[38;5;241m+\u001b[39m timeout:\n",
      "File \u001b[1;32me:\\ProgramData\\Anaconda3\\envs\\street_mapping_env\\lib\\site-packages\\openai\\api_resources\\abstract\\engine_api_resource.py:153\u001b[0m, in \u001b[0;36mEngineAPIResource.create\u001b[1;34m(cls, api_key, api_base, api_type, request_id, api_version, organization, **params)\u001b[0m\n\u001b[0;32m    127\u001b[0m \u001b[38;5;129m@classmethod\u001b[39m\n\u001b[0;32m    128\u001b[0m \u001b[38;5;28;01mdef\u001b[39;00m \u001b[38;5;21mcreate\u001b[39m(\n\u001b[0;32m    129\u001b[0m     \u001b[38;5;28mcls\u001b[39m,\n\u001b[1;32m   (...)\u001b[0m\n\u001b[0;32m    136\u001b[0m     \u001b[38;5;241m*\u001b[39m\u001b[38;5;241m*\u001b[39mparams,\n\u001b[0;32m    137\u001b[0m ):\n\u001b[0;32m    138\u001b[0m     (\n\u001b[0;32m    139\u001b[0m         deployment_id,\n\u001b[0;32m    140\u001b[0m         engine,\n\u001b[1;32m   (...)\u001b[0m\n\u001b[0;32m    150\u001b[0m         api_key, api_base, api_type, api_version, organization, \u001b[38;5;241m*\u001b[39m\u001b[38;5;241m*\u001b[39mparams\n\u001b[0;32m    151\u001b[0m     )\n\u001b[1;32m--> 153\u001b[0m     response, _, api_key \u001b[38;5;241m=\u001b[39m \u001b[43mrequestor\u001b[49m\u001b[38;5;241;43m.\u001b[39;49m\u001b[43mrequest\u001b[49m\u001b[43m(\u001b[49m\n\u001b[0;32m    154\u001b[0m \u001b[43m        \u001b[49m\u001b[38;5;124;43m\"\u001b[39;49m\u001b[38;5;124;43mpost\u001b[39;49m\u001b[38;5;124;43m\"\u001b[39;49m\u001b[43m,\u001b[49m\n\u001b[0;32m    155\u001b[0m \u001b[43m        \u001b[49m\u001b[43murl\u001b[49m\u001b[43m,\u001b[49m\n\u001b[0;32m    156\u001b[0m \u001b[43m        \u001b[49m\u001b[43mparams\u001b[49m\u001b[38;5;241;43m=\u001b[39;49m\u001b[43mparams\u001b[49m\u001b[43m,\u001b[49m\n\u001b[0;32m    157\u001b[0m \u001b[43m        \u001b[49m\u001b[43mheaders\u001b[49m\u001b[38;5;241;43m=\u001b[39;49m\u001b[43mheaders\u001b[49m\u001b[43m,\u001b[49m\n\u001b[0;32m    158\u001b[0m \u001b[43m        \u001b[49m\u001b[43mstream\u001b[49m\u001b[38;5;241;43m=\u001b[39;49m\u001b[43mstream\u001b[49m\u001b[43m,\u001b[49m\n\u001b[0;32m    159\u001b[0m \u001b[43m        \u001b[49m\u001b[43mrequest_id\u001b[49m\u001b[38;5;241;43m=\u001b[39;49m\u001b[43mrequest_id\u001b[49m\u001b[43m,\u001b[49m\n\u001b[0;32m    160\u001b[0m \u001b[43m        \u001b[49m\u001b[43mrequest_timeout\u001b[49m\u001b[38;5;241;43m=\u001b[39;49m\u001b[43mrequest_timeout\u001b[49m\u001b[43m,\u001b[49m\n\u001b[0;32m    161\u001b[0m \u001b[43m    \u001b[49m\u001b[43m)\u001b[49m\n\u001b[0;32m    163\u001b[0m     \u001b[38;5;28;01mif\u001b[39;00m stream:\n\u001b[0;32m    164\u001b[0m         \u001b[38;5;66;03m# must be an iterator\u001b[39;00m\n\u001b[0;32m    165\u001b[0m         \u001b[38;5;28;01massert\u001b[39;00m \u001b[38;5;129;01mnot\u001b[39;00m \u001b[38;5;28misinstance\u001b[39m(response, OpenAIResponse)\n",
      "File \u001b[1;32me:\\ProgramData\\Anaconda3\\envs\\street_mapping_env\\lib\\site-packages\\openai\\api_requestor.py:226\u001b[0m, in \u001b[0;36mAPIRequestor.request\u001b[1;34m(self, method, url, params, headers, files, stream, request_id, request_timeout)\u001b[0m\n\u001b[0;32m    205\u001b[0m \u001b[38;5;28;01mdef\u001b[39;00m \u001b[38;5;21mrequest\u001b[39m(\n\u001b[0;32m    206\u001b[0m     \u001b[38;5;28mself\u001b[39m,\n\u001b[0;32m    207\u001b[0m     method,\n\u001b[1;32m   (...)\u001b[0m\n\u001b[0;32m    214\u001b[0m     request_timeout: Optional[Union[\u001b[38;5;28mfloat\u001b[39m, Tuple[\u001b[38;5;28mfloat\u001b[39m, \u001b[38;5;28mfloat\u001b[39m]]] \u001b[38;5;241m=\u001b[39m \u001b[38;5;28;01mNone\u001b[39;00m,\n\u001b[0;32m    215\u001b[0m ) \u001b[38;5;241m-\u001b[39m\u001b[38;5;241m>\u001b[39m Tuple[Union[OpenAIResponse, Iterator[OpenAIResponse]], \u001b[38;5;28mbool\u001b[39m, \u001b[38;5;28mstr\u001b[39m]:\n\u001b[0;32m    216\u001b[0m     result \u001b[38;5;241m=\u001b[39m \u001b[38;5;28mself\u001b[39m\u001b[38;5;241m.\u001b[39mrequest_raw(\n\u001b[0;32m    217\u001b[0m         method\u001b[38;5;241m.\u001b[39mlower(),\n\u001b[0;32m    218\u001b[0m         url,\n\u001b[1;32m   (...)\u001b[0m\n\u001b[0;32m    224\u001b[0m         request_timeout\u001b[38;5;241m=\u001b[39mrequest_timeout,\n\u001b[0;32m    225\u001b[0m     )\n\u001b[1;32m--> 226\u001b[0m     resp, got_stream \u001b[38;5;241m=\u001b[39m \u001b[38;5;28;43mself\u001b[39;49m\u001b[38;5;241;43m.\u001b[39;49m\u001b[43m_interpret_response\u001b[49m\u001b[43m(\u001b[49m\u001b[43mresult\u001b[49m\u001b[43m,\u001b[49m\u001b[43m \u001b[49m\u001b[43mstream\u001b[49m\u001b[43m)\u001b[49m\n\u001b[0;32m    227\u001b[0m     \u001b[38;5;28;01mreturn\u001b[39;00m resp, got_stream, \u001b[38;5;28mself\u001b[39m\u001b[38;5;241m.\u001b[39mapi_key\n",
      "File \u001b[1;32me:\\ProgramData\\Anaconda3\\envs\\street_mapping_env\\lib\\site-packages\\openai\\api_requestor.py:619\u001b[0m, in \u001b[0;36mAPIRequestor._interpret_response\u001b[1;34m(self, result, stream)\u001b[0m\n\u001b[0;32m    611\u001b[0m     \u001b[38;5;28;01mreturn\u001b[39;00m (\n\u001b[0;32m    612\u001b[0m         \u001b[38;5;28mself\u001b[39m\u001b[38;5;241m.\u001b[39m_interpret_response_line(\n\u001b[0;32m    613\u001b[0m             line, result\u001b[38;5;241m.\u001b[39mstatus_code, result\u001b[38;5;241m.\u001b[39mheaders, stream\u001b[38;5;241m=\u001b[39m\u001b[38;5;28;01mTrue\u001b[39;00m\n\u001b[0;32m    614\u001b[0m         )\n\u001b[0;32m    615\u001b[0m         \u001b[38;5;28;01mfor\u001b[39;00m line \u001b[38;5;129;01min\u001b[39;00m parse_stream(result\u001b[38;5;241m.\u001b[39miter_lines())\n\u001b[0;32m    616\u001b[0m     ), \u001b[38;5;28;01mTrue\u001b[39;00m\n\u001b[0;32m    617\u001b[0m \u001b[38;5;28;01melse\u001b[39;00m:\n\u001b[0;32m    618\u001b[0m     \u001b[38;5;28;01mreturn\u001b[39;00m (\n\u001b[1;32m--> 619\u001b[0m         \u001b[38;5;28;43mself\u001b[39;49m\u001b[38;5;241;43m.\u001b[39;49m\u001b[43m_interpret_response_line\u001b[49m\u001b[43m(\u001b[49m\n\u001b[0;32m    620\u001b[0m \u001b[43m            \u001b[49m\u001b[43mresult\u001b[49m\u001b[38;5;241;43m.\u001b[39;49m\u001b[43mcontent\u001b[49m\u001b[38;5;241;43m.\u001b[39;49m\u001b[43mdecode\u001b[49m\u001b[43m(\u001b[49m\u001b[38;5;124;43m\"\u001b[39;49m\u001b[38;5;124;43mutf-8\u001b[39;49m\u001b[38;5;124;43m\"\u001b[39;49m\u001b[43m)\u001b[49m\u001b[43m,\u001b[49m\n\u001b[0;32m    621\u001b[0m \u001b[43m            \u001b[49m\u001b[43mresult\u001b[49m\u001b[38;5;241;43m.\u001b[39;49m\u001b[43mstatus_code\u001b[49m\u001b[43m,\u001b[49m\n\u001b[0;32m    622\u001b[0m \u001b[43m            \u001b[49m\u001b[43mresult\u001b[49m\u001b[38;5;241;43m.\u001b[39;49m\u001b[43mheaders\u001b[49m\u001b[43m,\u001b[49m\n\u001b[0;32m    623\u001b[0m \u001b[43m            \u001b[49m\u001b[43mstream\u001b[49m\u001b[38;5;241;43m=\u001b[39;49m\u001b[38;5;28;43;01mFalse\u001b[39;49;00m\u001b[43m,\u001b[49m\n\u001b[0;32m    624\u001b[0m \u001b[43m        \u001b[49m\u001b[43m)\u001b[49m,\n\u001b[0;32m    625\u001b[0m         \u001b[38;5;28;01mFalse\u001b[39;00m,\n\u001b[0;32m    626\u001b[0m     )\n",
      "File \u001b[1;32me:\\ProgramData\\Anaconda3\\envs\\street_mapping_env\\lib\\site-packages\\openai\\api_requestor.py:682\u001b[0m, in \u001b[0;36mAPIRequestor._interpret_response_line\u001b[1;34m(self, rbody, rcode, rheaders, stream)\u001b[0m\n\u001b[0;32m    680\u001b[0m stream_error \u001b[38;5;241m=\u001b[39m stream \u001b[38;5;129;01mand\u001b[39;00m \u001b[38;5;124m\"\u001b[39m\u001b[38;5;124merror\u001b[39m\u001b[38;5;124m\"\u001b[39m \u001b[38;5;129;01min\u001b[39;00m resp\u001b[38;5;241m.\u001b[39mdata\n\u001b[0;32m    681\u001b[0m \u001b[38;5;28;01mif\u001b[39;00m stream_error \u001b[38;5;129;01mor\u001b[39;00m \u001b[38;5;129;01mnot\u001b[39;00m \u001b[38;5;241m200\u001b[39m \u001b[38;5;241m<\u001b[39m\u001b[38;5;241m=\u001b[39m rcode \u001b[38;5;241m<\u001b[39m \u001b[38;5;241m300\u001b[39m:\n\u001b[1;32m--> 682\u001b[0m     \u001b[38;5;28;01mraise\u001b[39;00m \u001b[38;5;28mself\u001b[39m\u001b[38;5;241m.\u001b[39mhandle_error_response(\n\u001b[0;32m    683\u001b[0m         rbody, rcode, resp\u001b[38;5;241m.\u001b[39mdata, rheaders, stream_error\u001b[38;5;241m=\u001b[39mstream_error\n\u001b[0;32m    684\u001b[0m     )\n\u001b[0;32m    685\u001b[0m \u001b[38;5;28;01mreturn\u001b[39;00m resp\n",
      "\u001b[1;31mInvalidRequestError\u001b[0m: This model's maximum context length is 4097 tokens. However, your messages resulted in 27382 tokens. Please reduce the length of the messages."
     ]
    }
   ],
   "source": [
    "exec(all_code)"
   ]
  },
  {
   "cell_type": "code",
   "execution_count": 105,
   "id": "87b7b502-33c6-4f47-af78-e8f1d4ccba09",
   "metadata": {},
   "outputs": [
    {
     "name": "stderr",
     "output_type": "stream",
     "text": [
      "100%|████████████████████████████████████████████████████████████████████████████████████| 9/9 [00:06<00:00,  1.38it/s]\n"
     ]
    },
    {
     "name": "stdout",
     "output_type": "stream",
     "text": [
      "Geting LLM reply...\n",
      "Got LLM reply.\n",
      "Geting LLM reply...\n",
      "Got LLM reply.\n",
      "Geting LLM reply...\n"
     ]
    },
    {
     "ename": "InvalidRequestError",
     "evalue": "This model's maximum context length is 4097 tokens. However, your messages resulted in 27382 tokens. Please reduce the length of the messages.",
     "output_type": "error",
     "traceback": [
      "\u001b[1;31m---------------------------------------------------------------------------\u001b[0m",
      "\u001b[1;31mInvalidRequestError\u001b[0m                       Traceback (most recent call last)",
      "Cell \u001b[1;32mIn[105], line 8\u001b[0m\n\u001b[0;32m      5\u001b[0m web_texts \u001b[38;5;241m=\u001b[39m extract_web_page_text(ace_providers_df)\n\u001b[0;32m      7\u001b[0m \u001b[38;5;66;03m# Send prompts to ChatGPT and get responses\u001b[39;00m\n\u001b[1;32m----> 8\u001b[0m chatgpt_responses \u001b[38;5;241m=\u001b[39m \u001b[43msend_prompts_to_chatgpt\u001b[49m\u001b[43m(\u001b[49m\u001b[43mweb_texts\u001b[49m\u001b[43m)\u001b[49m\n\u001b[0;32m     10\u001b[0m \u001b[38;5;66;03m# Extract addresses from ChatGPT responses\u001b[39;00m\n\u001b[0;32m     11\u001b[0m addresses_list \u001b[38;5;241m=\u001b[39m extract_addresses_from_responses(chatgpt_responses)\n",
      "File \u001b[1;32m<string>:81\u001b[0m, in \u001b[0;36msend_prompts_to_chatgpt\u001b[1;34m(web_texts)\u001b[0m\n",
      "File \u001b[1;32mE:\\Research\\LLM-Geo\\helper.py:48\u001b[0m, in \u001b[0;36mget_LLM_reply\u001b[1;34m(prompt, system_role, model, verbose)\u001b[0m\n\u001b[0;32m     46\u001b[0m \u001b[38;5;28;01mif\u001b[39;00m verbose:\n\u001b[0;32m     47\u001b[0m     \u001b[38;5;28mprint\u001b[39m(\u001b[38;5;124m\"\u001b[39m\u001b[38;5;124mGeting LLM reply...\u001b[39m\u001b[38;5;124m\"\u001b[39m)\n\u001b[1;32m---> 48\u001b[0m response \u001b[38;5;241m=\u001b[39m \u001b[43mopenai\u001b[49m\u001b[38;5;241;43m.\u001b[39;49m\u001b[43mChatCompletion\u001b[49m\u001b[38;5;241;43m.\u001b[39;49m\u001b[43mcreate\u001b[49m\u001b[43m(\u001b[49m\n\u001b[0;32m     49\u001b[0m \u001b[43m    \u001b[49m\u001b[43mmodel\u001b[49m\u001b[38;5;241;43m=\u001b[39;49m\u001b[43mmodel\u001b[49m\u001b[43m,\u001b[49m\n\u001b[0;32m     50\u001b[0m \u001b[43m    \u001b[49m\u001b[43mmessages\u001b[49m\u001b[38;5;241;43m=\u001b[39;49m\u001b[43m[\u001b[49m\n\u001b[0;32m     51\u001b[0m \u001b[43m    \u001b[49m\u001b[43m{\u001b[49m\u001b[38;5;124;43m\"\u001b[39;49m\u001b[38;5;124;43mrole\u001b[39;49m\u001b[38;5;124;43m\"\u001b[39;49m\u001b[43m:\u001b[49m\u001b[43m \u001b[49m\u001b[38;5;124;43m\"\u001b[39;49m\u001b[38;5;124;43msystem\u001b[39;49m\u001b[38;5;124;43m\"\u001b[39;49m\u001b[43m,\u001b[49m\u001b[43m \u001b[49m\u001b[38;5;124;43m\"\u001b[39;49m\u001b[38;5;124;43mcontent\u001b[39;49m\u001b[38;5;124;43m\"\u001b[39;49m\u001b[43m:\u001b[49m\u001b[43m \u001b[49m\u001b[43msystem_role\u001b[49m\u001b[43m}\u001b[49m\u001b[43m,\u001b[49m\n\u001b[0;32m     52\u001b[0m \u001b[43m    \u001b[49m\u001b[43m{\u001b[49m\u001b[38;5;124;43m\"\u001b[39;49m\u001b[38;5;124;43mrole\u001b[39;49m\u001b[38;5;124;43m\"\u001b[39;49m\u001b[43m:\u001b[49m\u001b[43m \u001b[49m\u001b[38;5;124;43m\"\u001b[39;49m\u001b[38;5;124;43muser\u001b[39;49m\u001b[38;5;124;43m\"\u001b[39;49m\u001b[43m,\u001b[49m\u001b[43m \u001b[49m\u001b[38;5;124;43m\"\u001b[39;49m\u001b[38;5;124;43mcontent\u001b[39;49m\u001b[38;5;124;43m\"\u001b[39;49m\u001b[43m:\u001b[49m\u001b[43m \u001b[49m\u001b[43mprompt\u001b[49m\u001b[43m}\u001b[49m\u001b[43m,\u001b[49m\n\u001b[0;32m     53\u001b[0m \u001b[43m    \u001b[49m\u001b[43m]\u001b[49m\n\u001b[0;32m     54\u001b[0m \u001b[43m    \u001b[49m\u001b[43m)\u001b[49m\n\u001b[0;32m     55\u001b[0m \u001b[38;5;28;01mif\u001b[39;00m verbose:\n\u001b[0;32m     56\u001b[0m     \u001b[38;5;28mprint\u001b[39m(\u001b[38;5;124m\"\u001b[39m\u001b[38;5;124mGot LLM reply.\u001b[39m\u001b[38;5;124m\"\u001b[39m)\n",
      "File \u001b[1;32me:\\ProgramData\\Anaconda3\\envs\\street_mapping_env\\lib\\site-packages\\openai\\api_resources\\chat_completion.py:25\u001b[0m, in \u001b[0;36mChatCompletion.create\u001b[1;34m(cls, *args, **kwargs)\u001b[0m\n\u001b[0;32m     23\u001b[0m \u001b[38;5;28;01mwhile\u001b[39;00m \u001b[38;5;28;01mTrue\u001b[39;00m:\n\u001b[0;32m     24\u001b[0m     \u001b[38;5;28;01mtry\u001b[39;00m:\n\u001b[1;32m---> 25\u001b[0m         \u001b[38;5;28;01mreturn\u001b[39;00m \u001b[38;5;28msuper\u001b[39m()\u001b[38;5;241m.\u001b[39mcreate(\u001b[38;5;241m*\u001b[39margs, \u001b[38;5;241m*\u001b[39m\u001b[38;5;241m*\u001b[39mkwargs)\n\u001b[0;32m     26\u001b[0m     \u001b[38;5;28;01mexcept\u001b[39;00m TryAgain \u001b[38;5;28;01mas\u001b[39;00m e:\n\u001b[0;32m     27\u001b[0m         \u001b[38;5;28;01mif\u001b[39;00m timeout \u001b[38;5;129;01mis\u001b[39;00m \u001b[38;5;129;01mnot\u001b[39;00m \u001b[38;5;28;01mNone\u001b[39;00m \u001b[38;5;129;01mand\u001b[39;00m time\u001b[38;5;241m.\u001b[39mtime() \u001b[38;5;241m>\u001b[39m start \u001b[38;5;241m+\u001b[39m timeout:\n",
      "File \u001b[1;32me:\\ProgramData\\Anaconda3\\envs\\street_mapping_env\\lib\\site-packages\\openai\\api_resources\\abstract\\engine_api_resource.py:153\u001b[0m, in \u001b[0;36mEngineAPIResource.create\u001b[1;34m(cls, api_key, api_base, api_type, request_id, api_version, organization, **params)\u001b[0m\n\u001b[0;32m    127\u001b[0m \u001b[38;5;129m@classmethod\u001b[39m\n\u001b[0;32m    128\u001b[0m \u001b[38;5;28;01mdef\u001b[39;00m \u001b[38;5;21mcreate\u001b[39m(\n\u001b[0;32m    129\u001b[0m     \u001b[38;5;28mcls\u001b[39m,\n\u001b[1;32m   (...)\u001b[0m\n\u001b[0;32m    136\u001b[0m     \u001b[38;5;241m*\u001b[39m\u001b[38;5;241m*\u001b[39mparams,\n\u001b[0;32m    137\u001b[0m ):\n\u001b[0;32m    138\u001b[0m     (\n\u001b[0;32m    139\u001b[0m         deployment_id,\n\u001b[0;32m    140\u001b[0m         engine,\n\u001b[1;32m   (...)\u001b[0m\n\u001b[0;32m    150\u001b[0m         api_key, api_base, api_type, api_version, organization, \u001b[38;5;241m*\u001b[39m\u001b[38;5;241m*\u001b[39mparams\n\u001b[0;32m    151\u001b[0m     )\n\u001b[1;32m--> 153\u001b[0m     response, _, api_key \u001b[38;5;241m=\u001b[39m \u001b[43mrequestor\u001b[49m\u001b[38;5;241;43m.\u001b[39;49m\u001b[43mrequest\u001b[49m\u001b[43m(\u001b[49m\n\u001b[0;32m    154\u001b[0m \u001b[43m        \u001b[49m\u001b[38;5;124;43m\"\u001b[39;49m\u001b[38;5;124;43mpost\u001b[39;49m\u001b[38;5;124;43m\"\u001b[39;49m\u001b[43m,\u001b[49m\n\u001b[0;32m    155\u001b[0m \u001b[43m        \u001b[49m\u001b[43murl\u001b[49m\u001b[43m,\u001b[49m\n\u001b[0;32m    156\u001b[0m \u001b[43m        \u001b[49m\u001b[43mparams\u001b[49m\u001b[38;5;241;43m=\u001b[39;49m\u001b[43mparams\u001b[49m\u001b[43m,\u001b[49m\n\u001b[0;32m    157\u001b[0m \u001b[43m        \u001b[49m\u001b[43mheaders\u001b[49m\u001b[38;5;241;43m=\u001b[39;49m\u001b[43mheaders\u001b[49m\u001b[43m,\u001b[49m\n\u001b[0;32m    158\u001b[0m \u001b[43m        \u001b[49m\u001b[43mstream\u001b[49m\u001b[38;5;241;43m=\u001b[39;49m\u001b[43mstream\u001b[49m\u001b[43m,\u001b[49m\n\u001b[0;32m    159\u001b[0m \u001b[43m        \u001b[49m\u001b[43mrequest_id\u001b[49m\u001b[38;5;241;43m=\u001b[39;49m\u001b[43mrequest_id\u001b[49m\u001b[43m,\u001b[49m\n\u001b[0;32m    160\u001b[0m \u001b[43m        \u001b[49m\u001b[43mrequest_timeout\u001b[49m\u001b[38;5;241;43m=\u001b[39;49m\u001b[43mrequest_timeout\u001b[49m\u001b[43m,\u001b[49m\n\u001b[0;32m    161\u001b[0m \u001b[43m    \u001b[49m\u001b[43m)\u001b[49m\n\u001b[0;32m    163\u001b[0m     \u001b[38;5;28;01mif\u001b[39;00m stream:\n\u001b[0;32m    164\u001b[0m         \u001b[38;5;66;03m# must be an iterator\u001b[39;00m\n\u001b[0;32m    165\u001b[0m         \u001b[38;5;28;01massert\u001b[39;00m \u001b[38;5;129;01mnot\u001b[39;00m \u001b[38;5;28misinstance\u001b[39m(response, OpenAIResponse)\n",
      "File \u001b[1;32me:\\ProgramData\\Anaconda3\\envs\\street_mapping_env\\lib\\site-packages\\openai\\api_requestor.py:226\u001b[0m, in \u001b[0;36mAPIRequestor.request\u001b[1;34m(self, method, url, params, headers, files, stream, request_id, request_timeout)\u001b[0m\n\u001b[0;32m    205\u001b[0m \u001b[38;5;28;01mdef\u001b[39;00m \u001b[38;5;21mrequest\u001b[39m(\n\u001b[0;32m    206\u001b[0m     \u001b[38;5;28mself\u001b[39m,\n\u001b[0;32m    207\u001b[0m     method,\n\u001b[1;32m   (...)\u001b[0m\n\u001b[0;32m    214\u001b[0m     request_timeout: Optional[Union[\u001b[38;5;28mfloat\u001b[39m, Tuple[\u001b[38;5;28mfloat\u001b[39m, \u001b[38;5;28mfloat\u001b[39m]]] \u001b[38;5;241m=\u001b[39m \u001b[38;5;28;01mNone\u001b[39;00m,\n\u001b[0;32m    215\u001b[0m ) \u001b[38;5;241m-\u001b[39m\u001b[38;5;241m>\u001b[39m Tuple[Union[OpenAIResponse, Iterator[OpenAIResponse]], \u001b[38;5;28mbool\u001b[39m, \u001b[38;5;28mstr\u001b[39m]:\n\u001b[0;32m    216\u001b[0m     result \u001b[38;5;241m=\u001b[39m \u001b[38;5;28mself\u001b[39m\u001b[38;5;241m.\u001b[39mrequest_raw(\n\u001b[0;32m    217\u001b[0m         method\u001b[38;5;241m.\u001b[39mlower(),\n\u001b[0;32m    218\u001b[0m         url,\n\u001b[1;32m   (...)\u001b[0m\n\u001b[0;32m    224\u001b[0m         request_timeout\u001b[38;5;241m=\u001b[39mrequest_timeout,\n\u001b[0;32m    225\u001b[0m     )\n\u001b[1;32m--> 226\u001b[0m     resp, got_stream \u001b[38;5;241m=\u001b[39m \u001b[38;5;28;43mself\u001b[39;49m\u001b[38;5;241;43m.\u001b[39;49m\u001b[43m_interpret_response\u001b[49m\u001b[43m(\u001b[49m\u001b[43mresult\u001b[49m\u001b[43m,\u001b[49m\u001b[43m \u001b[49m\u001b[43mstream\u001b[49m\u001b[43m)\u001b[49m\n\u001b[0;32m    227\u001b[0m     \u001b[38;5;28;01mreturn\u001b[39;00m resp, got_stream, \u001b[38;5;28mself\u001b[39m\u001b[38;5;241m.\u001b[39mapi_key\n",
      "File \u001b[1;32me:\\ProgramData\\Anaconda3\\envs\\street_mapping_env\\lib\\site-packages\\openai\\api_requestor.py:619\u001b[0m, in \u001b[0;36mAPIRequestor._interpret_response\u001b[1;34m(self, result, stream)\u001b[0m\n\u001b[0;32m    611\u001b[0m     \u001b[38;5;28;01mreturn\u001b[39;00m (\n\u001b[0;32m    612\u001b[0m         \u001b[38;5;28mself\u001b[39m\u001b[38;5;241m.\u001b[39m_interpret_response_line(\n\u001b[0;32m    613\u001b[0m             line, result\u001b[38;5;241m.\u001b[39mstatus_code, result\u001b[38;5;241m.\u001b[39mheaders, stream\u001b[38;5;241m=\u001b[39m\u001b[38;5;28;01mTrue\u001b[39;00m\n\u001b[0;32m    614\u001b[0m         )\n\u001b[0;32m    615\u001b[0m         \u001b[38;5;28;01mfor\u001b[39;00m line \u001b[38;5;129;01min\u001b[39;00m parse_stream(result\u001b[38;5;241m.\u001b[39miter_lines())\n\u001b[0;32m    616\u001b[0m     ), \u001b[38;5;28;01mTrue\u001b[39;00m\n\u001b[0;32m    617\u001b[0m \u001b[38;5;28;01melse\u001b[39;00m:\n\u001b[0;32m    618\u001b[0m     \u001b[38;5;28;01mreturn\u001b[39;00m (\n\u001b[1;32m--> 619\u001b[0m         \u001b[38;5;28;43mself\u001b[39;49m\u001b[38;5;241;43m.\u001b[39;49m\u001b[43m_interpret_response_line\u001b[49m\u001b[43m(\u001b[49m\n\u001b[0;32m    620\u001b[0m \u001b[43m            \u001b[49m\u001b[43mresult\u001b[49m\u001b[38;5;241;43m.\u001b[39;49m\u001b[43mcontent\u001b[49m\u001b[38;5;241;43m.\u001b[39;49m\u001b[43mdecode\u001b[49m\u001b[43m(\u001b[49m\u001b[38;5;124;43m\"\u001b[39;49m\u001b[38;5;124;43mutf-8\u001b[39;49m\u001b[38;5;124;43m\"\u001b[39;49m\u001b[43m)\u001b[49m\u001b[43m,\u001b[49m\n\u001b[0;32m    621\u001b[0m \u001b[43m            \u001b[49m\u001b[43mresult\u001b[49m\u001b[38;5;241;43m.\u001b[39;49m\u001b[43mstatus_code\u001b[49m\u001b[43m,\u001b[49m\n\u001b[0;32m    622\u001b[0m \u001b[43m            \u001b[49m\u001b[43mresult\u001b[49m\u001b[38;5;241;43m.\u001b[39;49m\u001b[43mheaders\u001b[49m\u001b[43m,\u001b[49m\n\u001b[0;32m    623\u001b[0m \u001b[43m            \u001b[49m\u001b[43mstream\u001b[49m\u001b[38;5;241;43m=\u001b[39;49m\u001b[38;5;28;43;01mFalse\u001b[39;49;00m\u001b[43m,\u001b[49m\n\u001b[0;32m    624\u001b[0m \u001b[43m        \u001b[49m\u001b[43m)\u001b[49m,\n\u001b[0;32m    625\u001b[0m         \u001b[38;5;28;01mFalse\u001b[39;00m,\n\u001b[0;32m    626\u001b[0m     )\n",
      "File \u001b[1;32me:\\ProgramData\\Anaconda3\\envs\\street_mapping_env\\lib\\site-packages\\openai\\api_requestor.py:682\u001b[0m, in \u001b[0;36mAPIRequestor._interpret_response_line\u001b[1;34m(self, rbody, rcode, rheaders, stream)\u001b[0m\n\u001b[0;32m    680\u001b[0m stream_error \u001b[38;5;241m=\u001b[39m stream \u001b[38;5;129;01mand\u001b[39;00m \u001b[38;5;124m\"\u001b[39m\u001b[38;5;124merror\u001b[39m\u001b[38;5;124m\"\u001b[39m \u001b[38;5;129;01min\u001b[39;00m resp\u001b[38;5;241m.\u001b[39mdata\n\u001b[0;32m    681\u001b[0m \u001b[38;5;28;01mif\u001b[39;00m stream_error \u001b[38;5;129;01mor\u001b[39;00m \u001b[38;5;129;01mnot\u001b[39;00m \u001b[38;5;241m200\u001b[39m \u001b[38;5;241m<\u001b[39m\u001b[38;5;241m=\u001b[39m rcode \u001b[38;5;241m<\u001b[39m \u001b[38;5;241m300\u001b[39m:\n\u001b[1;32m--> 682\u001b[0m     \u001b[38;5;28;01mraise\u001b[39;00m \u001b[38;5;28mself\u001b[39m\u001b[38;5;241m.\u001b[39mhandle_error_response(\n\u001b[0;32m    683\u001b[0m         rbody, rcode, resp\u001b[38;5;241m.\u001b[39mdata, rheaders, stream_error\u001b[38;5;241m=\u001b[39mstream_error\n\u001b[0;32m    684\u001b[0m     )\n\u001b[0;32m    685\u001b[0m \u001b[38;5;28;01mreturn\u001b[39;00m resp\n",
      "\u001b[1;31mInvalidRequestError\u001b[0m: This model's maximum context length is 4097 tokens. However, your messages resulted in 27382 tokens. Please reduce the length of the messages."
     ]
    }
   ],
   "source": [
    " # Load ACE provider CSV\n",
    "ace_providers_df = load_ace_provider_csv()\n",
    "\n",
    "# Extract web page text from provider URLs\n",
    "web_texts = extract_web_page_text(ace_providers_df)\n",
    "\n",
    "# Send prompts to ChatGPT and get responses\n",
    "chatgpt_responses = send_prompts_to_chatgpt(web_texts)\n",
    "\n",
    "# Extract addresses from ChatGPT responses\n",
    "addresses_list = extract_addresses_from_responses(chatgpt_responses)\n",
    "\n",
    "# Merge extracted addresses with the ACE provider DataFrame\n",
    "final_output_df = merge_addresses_with_providers(ace_providers_df, addresses_list)\n",
    "\n",
    "# Save the final output DataFrame to a CSV file\n",
    "final_output_df.to_csv(\"Autism_Service_Providers_Addresses.csv\", index=False)\n"
   ]
  },
  {
   "cell_type": "code",
   "execution_count": 106,
   "id": "caee1b8b-95dc-4c5a-b817-137d5ac09b73",
   "metadata": {},
   "outputs": [
    {
     "data": {
      "text/html": [
       "<div>\n",
       "<style scoped>\n",
       "    .dataframe tbody tr th:only-of-type {\n",
       "        vertical-align: middle;\n",
       "    }\n",
       "\n",
       "    .dataframe tbody tr th {\n",
       "        vertical-align: top;\n",
       "    }\n",
       "\n",
       "    .dataframe thead th {\n",
       "        text-align: right;\n",
       "    }\n",
       "</style>\n",
       "<table border=\"1\" class=\"dataframe\">\n",
       "  <thead>\n",
       "    <tr style=\"text-align: right;\">\n",
       "      <th></th>\n",
       "      <th>Provider</th>\n",
       "      <th>Web Site</th>\n",
       "    </tr>\n",
       "  </thead>\n",
       "  <tbody>\n",
       "    <tr>\n",
       "      <th>0</th>\n",
       "      <td>7 Dimensions Movement</td>\n",
       "      <td>http://7dimensionsmovement.com</td>\n",
       "    </tr>\n",
       "    <tr>\n",
       "      <th>1</th>\n",
       "      <td>ABA Healthcare, LLC</td>\n",
       "      <td>http://aba.health</td>\n",
       "    </tr>\n",
       "    <tr>\n",
       "      <th>2</th>\n",
       "      <td>Sook Hee Kim</td>\n",
       "      <td>http://aba4kids.co.kr</td>\n",
       "    </tr>\n",
       "    <tr>\n",
       "      <th>3</th>\n",
       "      <td>ABA Behavioral Health</td>\n",
       "      <td>http://ABABehavioralHealth.com</td>\n",
       "    </tr>\n",
       "    <tr>\n",
       "      <th>4</th>\n",
       "      <td>ABA Centers of America</td>\n",
       "      <td>http://abacenters.com</td>\n",
       "    </tr>\n",
       "    <tr>\n",
       "      <th>5</th>\n",
       "      <td>Applied Behavior Analysis Center</td>\n",
       "      <td>http://abacnj.com</td>\n",
       "    </tr>\n",
       "    <tr>\n",
       "      <th>6</th>\n",
       "      <td>ABA Services of Colorado</td>\n",
       "      <td>http://abacolorado.com</td>\n",
       "    </tr>\n",
       "    <tr>\n",
       "      <th>7</th>\n",
       "      <td>ABA Experts LLC</td>\n",
       "      <td>http://abaexperts.net</td>\n",
       "    </tr>\n",
       "    <tr>\n",
       "      <th>8</th>\n",
       "      <td>ABA Korea Academy</td>\n",
       "      <td>http://abakorea.net</td>\n",
       "    </tr>\n",
       "  </tbody>\n",
       "</table>\n",
       "</div>"
      ],
      "text/plain": [
       "                           Provider                        Web Site\n",
       "0             7 Dimensions Movement  http://7dimensionsmovement.com\n",
       "1               ABA Healthcare, LLC               http://aba.health\n",
       "2                      Sook Hee Kim           http://aba4kids.co.kr\n",
       "3             ABA Behavioral Health  http://ABABehavioralHealth.com\n",
       "4            ABA Centers of America           http://abacenters.com\n",
       "5  Applied Behavior Analysis Center               http://abacnj.com\n",
       "6          ABA Services of Colorado          http://abacolorado.com\n",
       "7                   ABA Experts LLC           http://abaexperts.net\n",
       "8                 ABA Korea Academy             http://abakorea.net"
      ]
     },
     "execution_count": 106,
     "metadata": {},
     "output_type": "execute_result"
    }
   ],
   "source": [
    "ace_providers_df"
   ]
  },
  {
   "cell_type": "code",
   "execution_count": 103,
   "id": "724788c4-8193-4c45-85aa-abbfc355860c",
   "metadata": {},
   "outputs": [
    {
     "data": {
      "text/plain": [
       "[('7 Dimensions Movement',\n",
       "  \"7 Dimensions Movement Skip to main content toggle menu Menu About Courses Contact Us Sign In Behavior It's a science thing. Welcome! 7 Dimensions Movement is inspiring the next generation of behavior analysts. We’re using Applied Behavioral Analysis (ABA) to practice what we preach. ABA can be practiced in more career paths than one! We are stirring passion in teachers, parents, business owners, doctors, therapists, bankers, pilots, politicians—you name it. It is our vision that everyone who comes here to learn with us will apply the science and share the change they have brought in themselves, in others, and in our world. People say change is hard. We believe change should be fun. We hope you enjoy learning here with us. Who will you inspire? What we offer Edutainment Courses that are informative and fun Community A group of like-minded professionals who believe in our mission Inspiration Join the movement and be inspired to explore the world of ABA How are we different? At 7 Dimensions Movement, we make learning fun. ABA can be applied in more ways than one and we are here to show you how. There are plenty of online courses you can take that will teach you the fundamentals of ABA. What makes 7 Dimensions Movement is not what we teach, but how we teach it. We take the science and teach you how to implement it in your everyday life. Learn More Watch Intro Video Home About Courses Contact Us © 2019 7 Dimensions Movement. All Rights Reserved Powered By Thinkific\"),\n",
       " ('ABA Healthcare, LLC',\n",
       "  'ABA Health | Your home for excellence in ABA Therapy TEXT 800-875-1871 Email Now Español Home About About Us About ABA Our Services ABA Services Additional Services Our Partners Tele-ABA Autisable Contact Intake Forms Select Page Your home for excellence in ABA & Integrated Behavior Health Services GET STARTED \\ue02a At Home \\ue08b At School \\ue0f7 Services Tailored to You OUR SERVICES How We Can Help We provide ABA therapy for autism in your home as well as in community settings. Our aim is to help with autism by teaching each child skills and behaviors that can be applied in the “real world.” As your child progresses, we show them how to use their new skills and behaviors in other settings and situations. Today your child can be one step closer to a happier life by working with our ABA Therapy team. Additional Services SO WHO IS ABA HEALTHcare? Who We Are Our Vision: Promoting a positive change through Applied Behavior Analysis giving children a chance to lead their best quality of life. Our Mission: To provide the highest quality therapy for children and support for their families. Our Partner: Learn More SO WHO IS ABA HEALTHcare? Who We Are Our Vision: Promoting a positive change through Applied Behavior Analysis giving children a chance to lead their best quality of life. Our Mission: To provide the highest quality therapy for children and support for their families. Our Partner: Learn More FREQUENTLY ASKED QUESTIONS About ABA What is ABA? Learn More What is the Process? Learn More Is it right for me? Learn More Can I learn more? Learn More FREQUENTLY ASKED QUESTIONS About ABA What is ABA? Learn More What is the Process? Learn More Is it right for me? Learn More Can I learn more? Learn More Get In Touch Early intervention is always the best course. Don’t wait. Please contact us today! CONTACT ABA HEALTH ABA Healthcare, LLC Your home for excellence in ABA Therapy SEARCH • Home • About Us • About ABA • Our Services • Referrals • Contact Phone P 800-875-1871 ext 1 F 800-875-1871 Call Now Hours 8:00 am – 6:00 pm Main Office 7594 W Sand Lake Orlando, FL 32819 Locations Serving all of Florida Facebook Copyright ABA Healthcare, LLC. 2018 | Designed & Powered by Launchbay Creative Pin It on Pinterest'),\n",
       " ('Sook Hee Kim',\n",
       "  'ABA4kidsí\\x96\\x89ë\\x8f\\x99ì¤\\x91ì\\x9e¬ì\\x97°êµ¬ì\\x86\\x8c ABA4kidsí\\x96\\x89ë\\x8f\\x99ì¤\\x91ì\\x9e¬ì\\x97°êµ¬ì\\x86\\x8c ì\\x97°êµ¬ì\\x86\\x8c ì\\x86\\x8cê°\\x9c - ì\\x9d¸ì\\x82¬ë§\\x90 - ì\\x9b\\x90ê²©í\\x99\\x94ì\\x83\\x81ì\\x84\\x9cë¹\\x84ì\\x8a¤ - ABAí\\x96\\x89ë\\x8f\\x99ì¤\\x91ì\\x9e¬ - ì\\x98¤ì\\x8b\\x9cë\\x8a\\x94ê¸¸ í\\x94\\x84ë¡\\x9cê·¸ë\\x9e¨ - ì\\x9b\\x8cí\\x81¬ì\\x83µ ë°\\x8f ê°\\x95ì\\x9d\\x98 - ê°\\x9cë³\\x84í\\x94\\x84ë¡\\x9cê·¸ë\\x9e¨ - ê·¸ë£¹ í\\x94\\x84ë¡\\x9cê·¸ë\\x9e¨ - í\\x95\\x99êµ\\x90í\\x96\\x89ë\\x8f\\x99ì¤\\x91ì\\x9e¬ - ì\\xa0\\x84ë¬¸ê°\\x80 ì\\x88\\x98í\\x8d¼ë¹\\x84ì\\xa0¼ ë°\\x8f ë³´ì\\x88\\x98êµ\\x90ì\\x9c¡(CEU) - VB-MAPPí\\x94\\x84ë¡\\x9cê·¸ë\\x9e¨ ì\\x98\\x88ì\\x95½í\\x95\\x98ê¸° - ì\\x98¨ë\\x9d¼ì\\x9d¸ ì\\x98\\x88ì\\x95½ - ì\\x98\\x88ì\\x95½í\\x99\\x95ì\\x9d¸ ì»¤ë®¤ë\\x8b\\x88í\\x8b° - ê³µì§\\x80ì\\x82¬í\\x95\\xad - 1:1ë¬¸ì\\x9d\\x98 - ì\\x9e\\x90ë£\\x8cì\\x8b¤ - ì¹\\x98ë£\\x8cí\\x9b\\x84ê¸° í\\x99\\x88ì\\x9c¼ë¡\\x9c ì\\x98¤ì\\x8b\\x9cë\\x8a\\x94 ê¸¸ ì¶\\x9cí\\x8c\\x90ì\\x84\\x9cì\\xa0\\x81 ì\\x96¸ì\\x96´í\\x96\\x89ë\\x8f\\x99ì¹´ë\\x93\\x9c ì\\x83\\x81ë\\x8b´ë¬¸ì\\x9d\\x98 051.610.1228 010.4605.1228 ì\\x9b\\x94ì\\x9a\\x94ì\\x9d¼ ~ ê¸\\x88ì\\x9a\\x94ì\\x9d¼ 09:30 ~ 17:00 ì\\x98¨ë\\x9d¼ì\\x9d¸ ì\\x83\\x81ë\\x8b´ë¬¸ì\\x9d\\x98 ABAí\\x96\\x89ë\\x8f\\x99ì¤\\x91ì\\x9e¬ë\\x9e\\x80? ABAë\\x9e\\x80 ì²´ê³\\x84ì\\xa0\\x81ì\\x9c¼ë¡\\x9c í\\x96\\x89ë\\x8f\\x99ì\\x9d\\x84 ë³\\x80í\\x99\\x94ì\\x8b\\x9cí\\x82¤ë\\x8a\\x94 ê³¼í\\x95\\x99ì\\x9e\\x85ë\\x8b\\x88ë\\x8b¤. ì\\x9b\\x90ê²© í\\x99\\x94ì\\x83\\x81 ì\\x84\\x9cë¹\\x84ì\\x8a¤ ì\\x9b\\x90ê±°ë¦¬ì\\x97\\x90 ì\\x9e\\x88ì\\x96´ë\\x8f\\x84 í\\x95¸ë\\x93\\x9cí\\x8f°, ë\\x85¸í\\x8a¸ë¶\\x81, ì»´í\\x93¨í\\x84°ë¥¼ ì\\x9d´ì\\x9a©í\\x95\\x98ì\\x97¬ ì\\x84\\x9cë¹\\x84ì\\x8a¤ë¥¼ ë°\\x9bì\\x9d\\x84 ì\\x88\\x98 ì\\x9e\\x88ì\\x8aµë\\x8b\\x88ë\\x8b¤. ì\\x83\\x81ë\\x8b´ ì\\x98\\x88ì\\x95½ ì\\x98¨ë\\x9d¼ì\\x9d¸ì\\x9c¼ë¡\\x9c ê°\\x84í\\x8e¸í\\x95\\x98ê²\\x8c ì\\x83\\x81ë\\x8b´ì\\x98\\x88ì\\x95½ì\\x9d\\x84 ì\\x8b\\xa0ì²\\xadí\\x95\\x98ì\\x8b¤ ì\\x88\\x98 ì\\x9e\\x88ì\\x8aµë\\x8b\\x88ë\\x8b¤. ABA4kids í\\x94\\x84ë¡\\x9cê·¸ë\\x9e¨ ABA4kidsì\\x9d\\x98  í\\x94\\x84ë¡\\x9cê·¸ë\\x9e¨ ì\\x95\\x88ë\\x82´ì\\x9e\\x85ë\\x8b\\x88ë\\x8b¤. ì\\x9b\\x8cí\\x81¬ì\\x83µ ë°\\x8f ê°\\x95ì\\x9d\\x98 ABAë¶\\x80ëª¨êµ\\x90ì\\x9c¡, ì£¼ì\\xa0\\x9cë³\\x84ê°\\x95ì\\x9d\\x98 ê°\\x9cë³\\x84 í\\x94\\x84ë¡\\x9cê·¸ë\\x9e¨ ì\\x84¼í\\x84° ë°©ë¬¸ ë°\\x8f í\\x99\\x88ABA í\\x98\\x91ì\\x97\\x85 í\\x94\\x84ë¡\\x9cê·¸ë\\x9e¨ ì\\x96¸ì\\x96´, ì\\x9e\\x91ì\\x97\\x85, í\\x8a¹ì\\x88\\x98êµ\\x90ì\\x9c¡ì\\xa0\\x84ë¬¸ê°\\x80ì\\x99\\x80ì\\x9d\\x98 í\\x98\\x91ì\\x97 í\\x95\\x99êµ\\x90í\\x96\\x89ë\\x8f\\x99ì¤\\x91ì\\x9e¬ ê¸\\x8dì\\xa0\\x95ì\\xa0\\x81í\\x96\\x89ë\\x8f\\x99ì¤\\x91ì\\x9e¬(PBIS)êµ\\x90ì\\x9c¡ ë°\\x8f ì»¨ì\\x84¤í\\x8c ì\\xa0\\x84ë¬¸ê°\\x80 êµ\\x90ì\\x9c¡ ì\\xa0\\x84ë¬¸ê°\\x80 ì\\x88\\x98í\\x8d¼ë¹\\x84ì\\xa0¼ ë°\\x8f ì\\xa0\\x84ë¬¸ê°\\x80ë³´ì\\x88\\x98êµ\\x90ì\\x9c¡(CE) VB-MAPPí\\x94\\x84ë¡\\x9cê·¸ë\\x9e¨ ì\\x96¸ì\\x96´í\\x96\\x89ë\\x8f\\x99ì¤\\x91ì\\x9e¬ ì\\x9e\\x90ë£\\x8cì\\x8b¤ Videos & Photos í\\x95\\x99êµ\\x90í\\x96\\x89ë\\x8f\\x99ì¤\\x91ì\\x9e¬(PBS) ì\\x9a\\x94ì¦\\x98 ë¶\\x80ì©\\x8d í\\x95\\x99êµ\\x90ì£¼ì\\x9e¬ì\\x97\\x90 ë\\x8c\\x80í\\x95\\x9c ë¬¸ì\\x9d\\x98ê°\\x80 ë§\\x8eì\\x9d´ ë\\x93¤ì\\x96´ì\\x98µë\\x8b\\x88ë\\x8b¤. ì\\x8b\\x9cê°\\x84ì\\x83\\x81 ê±°ë¦¬ì\\x83\\x81ì\\x9c¼ë¡\\x9c ì\\xa0\\x80ë\\x8a\\x94 ì\\x98¨ë\\x9d¼ì\\x9d¸ì\\x9c¼ë¡\\x9c í\\x95\\x99êµ\\x90ì¤\\x91ì\\x9e¬ë¥¼ í\\x95´ë\\x93\\x9cë¦¬ë\\x8a\\x94ë\\x8d°ì\\x9a\\x94. ì\\x98¨ë\\x9d¼ì\\x9d¸ì\\x9c¼ë¡\\x9c í\\x95\\x9cë\\x8b¤ê³\\xa0 í\\x95\\x98ë©´ ì§\\x88ë¬¸ì\\x9d´ ì\\x8f\\x9fì\\x95\\x84ì§\\x91ë\\x8b\\x88ë\\x8b¤. ì\\x98¨ë\\x9d¼ì\\x9d¸ì\\x9c¼ë¡\\x9c ì\\x96´ë\\x96»ê²\\x8c ì¤\\x91ì\\x9e¬ë¥¼ í\\x95´ì\\x9a\\x94? ì\\x95\\x84ì\\x9d´ë¥¼ ì\\x95\\x88ë³´ê³\\xa0 ê°\\x80ë\\x8a¥í\\x95\\x9cê°\\x80ì\\x9a\\x94? ì¤\\x91ì\\x9e¬ë\\x8a\\x94 ë\\x88\\x84ê°\\x80 í\\x95\\x98ë\\x82\\x98ì\\x9a\\x94? ë\\x93±ë\\x93± \\r\\n\\nâ\\x80\\x8b\\r\\n\\nê·¸ë\\x9e\\x98ì\\x84\\x9c Q & Aë¥¼ ë§\\x8cë\\x93¤ì\\x96´ ë³´ì\\x95\\x98ì\\x8aµë\\x8b\\x88ë\\x8b¤.\\r\\n\\nâ\\x80\\x8b\\r\\n\\nQ: ë\\x88\\x84êµ¬ë¥¼ ë\\x8c\\x80ì\\x83\\x81ì\\x9c¼ë¡\\x9c í\\x95\\x98ë\\x82\\x98ì\\x9a\\x94?\\r\\n\\nA: ì\\x88\\x98ì\\x97\\x85ì\\x9d\\x84 ì§\\x84í\\x96\\x89í\\x95\\x98ë\\x8a\\x94ë\\x8d° ì§\\x80ì\\x9e¥ì\\x9d´ ì\\x9e\\x88ì\\x9d\\x84ë§\\x8cí\\x81¼ ë°©í\\x95´í\\x95\\x98ë\\x8a\\x94 í\\x96\\x89ë\\x8f\\x99(ì\\x86\\x8cë¦¬ì§\\x80ë¥´ê¸°, ë\\x8f\\x8cì\\x95\\x84ë\\x8b¤ë\\x8b\\x88ê¸°-ê·¸ë\\x83¥ ë\\x8f\\x8cì\\x95\\x84ë\\x8b¤ë\\x8b\\x88ê¸°ë§\\x8c í\\x95\\x98ë©´ ì\\x83\\x81ê´\\x80ì\\x97\\x86ì\\x9c¼ë\\x82\\x98 ì¹\\x9cêµ¬ë\\x93¤ì\\x9d\\x84 í\\x88\\xadí\\x88\\xadì¹\\x98ê±°ë\\x82\\x98 ë°©í\\x95´í\\x95\\x98ë\\x8a\\x94 í\\x96\\x89ë\\x8f\\x99ì\\x9d´ ë\\x82\\x98ì\\x98¬ ë\\x95\\x8c, ì\\x83\\x9dê°\\x81ë\\x82\\x98ë\\x8a\\x94 ë§\\x90 í\\x81°ì\\x86\\x8cë¦¬ë¡\\x9c ê³\\x84ì\\x86\\x8d ì§\\x88ë¬¸í\\x95\\x98ê¸°, ì\\x9a\\x95í\\x95\\x98ê¸°, ì§\\x80ì\\x8b\\x9cê±°ë¶\\x80 ë\\x93±ë\\x93±), ì\\x9c\\x84í\\x97\\x98í\\x95\\x9c í\\x96\\x89ë\\x8f\\x99(êµ\\x90ì\\x8b¤ ë\\x82\\x98ê°\\x80ë²\\x84ë¦¬ê¸°, ë\\x95\\x8cë¦¬ê¸°, ë¬¼ê±´ë¶\\x80ì\\x88\\x98ê¸° ë\\x93±ë\\x93±)ì\\x9d´ ì\\x9e\\x88ë\\x8a\\x94 ì\\x95\\x84ë\\x8f\\x99 (ì§\\x84ë\\x8b¨ëª\\x85ì\\x9d´ ì\\x9e\\x88ë\\x93\\xa0ì\\x97\\x86ë\\x93\\xa0 ì\\x83\\x81ê´\\x80ì\\x97\\x86ì\\x9d\\x8c)\\r\\n\\nâ\\x80\\x8b\\r\\n\\nQ. ì§\\x84í\\x96\\x89ì\\xa0\\x88ì°¨ë\\x8a\\x94 ì\\x96´ë\\x96»ê²\\x8c ë\\x90\\x98ë\\x82\\x98ì\\x9a\\x94?\\r\\n\\nA. í\\x95\\x99êµ\\x90ê°\\x80 ì§\\x84í\\x96\\x89í\\x95\\x98ê³\\xa0ì\\x9e\\x90 í\\x95\\x98ë\\x8a\\x94 ê²½ì\\x9a° ë¶\\x80ëª¨ì\\x9d\\x98 ë\\x8f\\x99ì\\x9d\\x98ë¥¼, ë¶\\x80ëª¨ê°\\x80 í\\x95\\x99êµ\\x90ì\\x97\\x90 ì\\x9a\\x94ì²\\xadí\\x95\\x98ë\\x8a\\x94 ê²½ì\\x9a° í\\x95\\x99êµ\\x90ì\\x97\\x90ì\\x84\\x9c ë\\x8f\\x99ì\\x9d\\x98í\\x95´ì\\x95¼ í\\x95©ë\\x8b\\x88ë\\x8b¤. ë\\x8f\\x99ì\\x9d\\x98ê°\\x80 ë\\x90\\x98ë©´ êµ\\x90ì\\x9c¡ì²\\xadì\\x97\\x90 ê¸\\x8dì\\xa0\\x95ì\\xa0\\x81í\\x96\\x89ë\\x8f\\x99ì¤\\x91ì\\x9e¬ì§\\x80ì\\x9b\\x90ì\\x9d\\x84 ì\\x9a\\x94ì²\\xadí\\x95\\xa0 ì\\x88\\x98ë\\x8f\\x84 ì\\x9e\\x88ê³\\xa0, í\\x95\\x99êµ\\x90 ì\\x9e\\x90ì²´ì\\x97\\x90ì\\x84\\x9c ì§\\x84í\\x96\\x89í\\x95\\xa0 ì\\x88\\x98 ì\\x9e\\x88ì\\x8aµë\\x8b\\x88ë\\x8b¤.\\r\\n\\nâ\\x80\\x8b\\r\\n\\nQ. ì\\xa0\\x84ë¬¸ê°\\x80ë\\x8a\\x94 ì\\x96´ë\\x94\\x94ì\\x84\\x9c êµ¬í\\x95\\x98ë\\x82\\x98ì\\x9a\\x94?\\r\\n\\nA. ì\\x86\\x8cì\\x86\\x8d êµ\\x90ì\\x9c¡ì²\\xadì\\x97\\x90ì\\x84\\x9c í\\x8c\\x8cê²¬ë³´ë\\x82¼ì\\x88\\x98ë\\x8f\\x84 ì\\x9e\\x88ê³\\xa0, í\\x95\\x99êµ\\x90ì\\x97\\x90ì\\x84\\x9c êµ¬í\\x95´ë\\x8f\\x84 ë\\x90©ë\\x8b\\x88ë\\x8b¤.\\r\\n\\nâ\\x80\\x8b\\r\\n\\nQ. ABA4kidsì\\x97\\x90 ì¤\\x91ì\\x9e¬ë¥¼ ì\\x9d\\x98ë¢°í\\x95\\x98ë\\xa0¤ë©´ ì\\x96´ë\\x96»ê²\\x8c í\\x95´ì\\x95¼ í\\x95\\x98ë\\x82\\x98ì\\x9a\\x94?\\r\\n\\nA. ì\\x9c\\x84ì\\x9d\\x98 ì\\xa0\\x88ì°¨ê°\\x80 ëª¨ë\\x91\\x90 ë\\x81\\x9dë\\x82\\x98ê³\\xa0 ì\\xa0\\x84ë¬¸ê°\\x80ë¥¼ êµ¬í\\x95´ì\\x95¼ í\\x95\\x98ë\\x8a\\x94 ë\\x8b¨ê³\\x84ë\\x9d¼ë©´ aba4kids.co.kr ë¬¸ì\\x9d\\x98í\\x95\\x98ê¸°, ì\\xa0\\x84í\\x99\\x94, í\\x98¹ì\\x9d\\x80 ì\\x9d´ë©\\x94ì\\x9d¼ë¡\\x9c ì\\x8b\\xa0ì²\\xadí\\x95©ë\\x8b\\x88ë\\x8b¤. ì\\xa0\\x84ë¬¸ê°\\x80ì\\x99\\x80 ê°\\x84ë\\x8b¨í\\x95\\x9c ì\\xa0\\x84í\\x99\\x94ì\\x83\\x81ë\\x8b´ í\\x9b\\x84 ì\\x84¸ì\\x85\\x98ê¸°ê°\\x84, ì\\x8b\\x9cê°\\x84, ë¹\\x84ì\\x9a© ë\\x93±ì\\x9d\\x84 ì¡°ì\\xa0\\x95í\\x95©ë\\x8b\\x88ë\\x8b¤.\\r\\n\\nhttp://aba4kids.co.kr/page/?BCD=2&MCD=4\\r\\n\\r\\n\\r\\n\\r\\n\\r\\n\\n\\r\\n\\r\\n\\r\\n\\xa0\\r\\n\\nABA4kidsí\\x96\\x89ë\\x8f\\x99ì¤\\x91ì\\x9e¬ì\\x97°êµ¬ì\\x86\\x8c\\r\\n\\nABA4kids, ë¶\\x80ì\\x82°ABA, êµ\\xadì\\xa0\\x9cì\\x9d\\x91ì\\x9a©í\\x96\\x89ë\\x8f\\x99ë¶\\x84ì\\x84\\x9dê°\\x80, BCBA.ì\\x9e\\x90í\\x8f\\x90, ë°\\x9cë\\x8b¬ì\\x9e¥ì\\x95\\xa0, ADHD, ë¬¸ì\\xa0\\x9cí\\x96\\x89ë\\x8f\\x99ì¤\\x91ì\\x9e¬, ì\\x96¸ì\\x96´í\\x96\\x89ë\\x8f\\x99ì¤\\x91ì\\x9e¬, í\\x99\\x88ABA, VB-MAPP\\r\\n\\naba4kids.co.kr\\r\\n\\r\\n\\r\\n\\r\\n\\r\\n\\r\\n\\n\\r\\n\\r\\n\\r\\n\\r\\nQ. ì\\x98¨ë\\x9d¼ì\\x9d¸ì\\x9c¼ë¡\\x9c ì\\x96´ë\\x96»ê²\\x8c ì¤\\x91ì\\x9e¬ê°\\x80 ì§\\x84í\\x96\\x89ë\\x90\\x98ë\\x82\\x98ì\\x9a\\x94?\\r\\n\\nA. ë¯¸ë¦¬ ë³´ë\\x82´ë\\x93\\x9cë¦¬ë\\x8a\\x94 ì\\x84¤ë¬¸ì§\\x80ë¥¼ ì\\x9e\\x91ì\\x84±í\\x95´ì\\x84\\x9c ë³´ë\\x82´ë©´ ì\\x9d´ë¥¼ ë°\\x94í\\x83\\x95ì\\x9c¼ë¡\\x9c ì²«ì\\x84¸ì\\x85\\x98ì\\x97\\x90 ì\\x95\\x84ë\\x8f\\x99ì\\x9d\\x98 í\\x96\\x89ë\\x8f\\x99ì\\x9d\\x98 ê¸°ë\\x8a¥ì\\x9d\\x84 ë¶\\x84ì\\x84\\x9dí\\x95\\x98ê³\\xa0 ê·¸ í\\x96\\x89ë\\x8f\\x99ì\\x9d\\x84 ì¤\\x91ì\\x9e¬í\\x95\\x98ê¸° ì\\x9c\\x84í\\x95´ í\\x99\\x98ê²½ì\\x9d\\x84 ì\\x96´ë\\x96»ê²\\x8c ì¡°ì\\xa0\\x95í\\x95\\x98ê³\\xa0 ë°\\x94ê¾¸ì\\x96´ì\\x95¼ í\\x95\\x98ë\\x8a\\x94ì§\\x80ì\\x97\\x90 ë\\x8c\\x80í\\x95\\x9c í\\x8c\\x81ì\\x9d\\x84 ë\\x93\\x9cë¦½ë\\x8b\\x88ë\\x8b¤. êµ\\x90ì\\x82¬ë\\x8a\\x94 ê·¸ í\\x8c\\x81ì\\x9d\\x84 ì\\x8b¤í\\x96\\x89í\\x95\\x98ê³\\xa0 ë\\x8d°ì\\x9d´í\\x84°ë¥¼ ëª¨ì\\x9c¼ê³\\xa0 (ë\\x8d°ì\\x9d´í\\x84° ëª¨ì\\x9c¼ë\\x8a\\x94 ë²\\x95ì\\x9d\\x80 ì\\x84¸ì\\x85\\x98 ì\\x8b\\x9c ì\\x95\\x8cë\\xa0¤ë\\x93\\x9cë¦½ë\\x8b\\x88ë\\x8b¤) ë\\x8b¤ì\\x9d\\x8c ë²\\x88 ì\\x84¸ì\\x85\\x98ì\\x97\\x90 ê·¸ê²\\x83ì\\x9d\\x84 ì\\xa0\\x9cì¶\\x9cí\\x95©ë\\x8b\\x88ë\\x8b¤. ì\\xa0\\x84ë¬¸ê°\\x80ë\\x8a\\x94 ê·¸ ë\\x8d°ì\\x9d´í\\x84°ë¥¼ ë°\\x94í\\x83\\x95ì\\x9c¼ë¡\\x9c ì\\x96´ë\\x96¤ ì¤\\x91ì\\x9e¬ê°\\x80 ì\\x9e\\x98 ë\\x90\\x98ê³\\xa0 ì\\x96´ë\\x96¤ ì¤\\x91ì\\x9e¬ê°\\x80 ì\\x9e\\x98 ë\\x90\\x98ì§\\x80 ì\\x95\\x8aë\\x8a\\x94ì§\\x80ë¥¼ ê²\\x80í\\x86\\xa0í\\x95\\x98ê³\\xa0 ê°\\x9cì\\x84\\xa0ì\\xa0\\x90ì\\x9d\\x84 ëª¨ì\\x83\\x89í\\x95\\x98ë©° ë\\x8b¤ì\\x9d\\x8c ë\\x8b¨ê³\\x84ì\\x9d\\x98 ì¤\\x91ì\\x9e¬ë¥¼ ê³\\x84ì\\x86\\x8d í\\x95´ ë\\x82\\x98ê°\\x91ë\\x8b\\x88ë\\x8b¤.\\r\\n\\nâ\\x80\\x8b\\r\\n\\nQ. ì\\x95\\x84ë\\x8f\\x99ì\\x9d\\x98 1:1ë¡\\x9c ì¤\\x91ì\\x9e¬ë¥¼ í\\x95´ì\\x95¼ í\\x95\\x98ë\\x82\\x98ì\\x9a\\x94?\\r\\n\\nA. ê°\\x9cë³\\x84ì¤\\x91ì\\x9e¬ì\\x9d´ë\\x82\\x98 ì\\x9d¼ë°\\x98í\\x99\\x98ê²½ì\\x97\\x90ì\\x84\\x9c ì¤\\x91ì\\x9e¬ê°\\x80 ë\\x93¤ì\\x96´ê°\\x80ë\\x8a\\x94 ê²\\x83ì\\x9d´ë¯\\x80ë¡\\x9c DTTì²\\x98ë\\x9f¼ ì\\x95\\x84ë\\x8f\\x99ê³¼ ì±\\x85ì\\x83\\x81ì\\x97\\x90 ë§\\x88ì£¼ì\\x95\\x89ì\\x95\\x84 1:1ë¡\\x9c ì§\\x84í\\x96\\x89í\\x95\\x98ì§\\x80ë\\x8a\\x94 ì\\x95\\x8aì\\x8aµë\\x8b\\x88ë\\x8b¤. \\r\\n\\nâ\\x80\\x8b\\r\\n\\nì\\x9d¼ë\\x8b¨ ì\\x83\\x9dê°\\x81ë\\x82\\x98ë\\x8a\\x94ë\\x8c\\x80ë¡\\x9c ì\\xa0\\x95ë¦¬í\\x95´ë³´ì\\x95\\x98ì\\x8aµë\\x8b\\x88ë\\x8b¤. \\r\\n\\ní\\x98¹ì\\x8b\\x9c ë\\x98\\x90 ë\\x8b¤ë¥¸ ì§\\x88ë¬¸ì\\x82¬í\\x95\\xadì\\x9d´ ì\\x9e\\x88ì\\x9c¼ë©´ ë\\x8b¤ì\\x9d\\x8cì\\x97\\x90 ë\\x98\\x90 ë³´ì¶©í\\x95\\x98ë\\x8f\\x84ë¡\\x9d í\\x95\\x98ê²\\xa0ì\\x8aµë\\x8b\\x88ë\\x8b¤.\\r\\n\\nâ\\x80\\x8b\\r\\n\\nì\\x95\\x84ë\\x9e\\x98 ë¸\\x94ë¡\\x9cê·¸ë\\x8a\\x94 ì\\xa0\\x80í\\x95\\x9cí\\x85\\x8c ì\\x98¨ë\\x9d¼ì\\x9d¸ì\\x9c¼ë¡\\x9c ê¸\\x8dì\\xa0\\x95ì\\xa0\\x81í\\x96\\x89ë\\x8f\\x99ì¤\\x91ì\\x9e¬ë¥¼ ì§\\x84í\\x96\\x89í\\x96\\x88ë\\x8d\\x98 ì\\x84\\xa0ì\\x83\\x9dë\\x8b\\x98ì\\x9d´ ë³¸ì\\x9d¸ ê°\\x9cì\\x9d¸ë¸\\x94ë¡\\x9cê·¸ì\\x97\\x90 ì\\x98¬ë\\xa0¤ë\\x86\\x93ì\\x9d\\x80 ê¸\\x80ì\\x9e\\x85ë\\x8b\\x88ë\\x8b¤. ë\\x8f\\x84ì\\x9b\\x80ì\\x9d´ ë§\\x8eì\\x9d´ ë\\x90\\xa0 ê²\\x83ì\\x9d´ë¯\\x80ë¡\\x9c ê¼\\xad ì\\x9d½ì\\x96´ë³´ì\\x8b\\x9cê¸° ë°\\x94ë\\x9e\\x8dë\\x8b\\x88ë\\x8b¤.\\r\\n\\nâ\\x80\\x8b\\r\\n\\nhttps://blog.naver.com/little_tube/222934142085 ABA4kidsì\\x84¸ì\\x85\\x98ì\\xa0\\x88ì°¨ ABA4kidsí\\x96\\x89ë\\x8f\\x99ì¤\\x91ì\\x9e¬ì\\x97°êµ¬ì\\x86\\x8cì\\x9d\\x98 ABAì\\x84¸ì\\x85\\x98ì\\x8b\\xa0ì²\\xadì\\x9e\\x98ì°¨ ë°\\x8f ë\\x82´ì\\x9a©ì\\x9e\\x85ë\\x8b\\x88ë\\x8b¤. QBA(Qualified Behavior Analyst), ABAS 2022ë\\x85\\x84 12ì\\x9b\\x94 ì\\x9d´í\\x9b\\x84 BACBì\\x9d\\x98 ì\\x9e\\x90ê²©ì¦\\x9d ì\\x8b\\x9cí\\x97\\x98ì\\x9d´ ë¯¸êµ\\xadê³¼ ìº\\x90ë\\x82\\x98ë\\x8b¤ë¥¼ ì\\xa0\\x9cì\\x99¸í\\x95\\x9c ì§\\x80ì\\x97\\xadì\\x97\\x90ì\\x84\\x9c ë\\x8d\\x94 ì\\x9d´ì\\x83\\x81 ë³¼ ì\\x88\\x98 ì\\x9e\\x86ê²\\x8cë\\x90\\x9cë\\x8b¤ë\\x8a\\x94 ë°\\x9cí\\x91\\x9c ì\\x9d´í\\x9b\\x84 ë§\\x8eì\\x9d\\x80 í\\x98¼ë\\x9e\\x80ì\\x9d´ ì\\x95¼ê¸°ë\\x90\\x98ì\\x96´ ì\\x99\\x94ì\\x8aµë\\x8b\\x88ë\\x8b¤.\\r\\nêµ\\xadë\\x82´ì\\x97\\x90ì\\x84\\x9cë\\x8a\\x94 BCBAì\\x9e\\x90ê²©ì¦\\x9dì\\x9d\\x98 ë\\x8c\\x80ì\\x95\\x88ì\\x9c¼ë¡\\x9c êµ\\xadë\\x82´ì\\x99¸ì\\x9d\\x98 ì\\x97¬ë\\x9f¬ ë\\x8b¤ë¥¸ ì\\x9e\\x90ê²©ì¦\\x9d ì\\xa0\\x9cë\\x8f\\x84ë\\x93¤ì\\x9d\\x84 ë\\x8f\\x84ì\\x9e\\x85í\\x95\\x98ê³\\xa0 ì\\x9e\\x88ì\\x8aµë\\x8b\\x88ë\\x8b¤.\\r\\nì\\xa0\\x84ë¬¸ê°\\x80ë¡\\x9cì\\x84\\x9cì\\x9d\\x98 ì\\x9e\\x90ì§\\x88ì\\x9d\\x84 ê°\\x96ì¶\\x94ê²\\x8c í\\x95\\x98ê³\\xa0 ê²\\x80ì¦\\x9dí\\x95\\xa0 ì\\x88\\x98 ì\\x9e\\x88ë\\x8a\\x94 ì\\xa0\\x9cë\\x8f\\x84ë¥¼ ê°\\x80ì§\\x84 ì\\x9e\\x90ê²©ì¦\\x9dì\\x9d´ë\\x9d¼ë©´ ì\\x96´ë\\x96¤ ì¢\\x85ë¥\\x98ë¥¼ í\\x83\\x9dí\\x95\\x98ë\\x93\\xa0 í\\x81¬ê²\\x8c ì\\x83\\x81ê´\\x80ì\\x97\\x86ë\\x8b¤ê³\\xa0 ë´\\x85ë\\x8b\\x88ë\\x8b¤.\\r\\n\\r\\nì\\x9a\\x94ì¦\\x98 QBAì\\x97\\x90 ë\\x8c\\x80í\\x95´ ë§\\x8eì\\x9d\\x80 ë¬¸ì\\x9d\\x98ê°\\x80 ì\\x9e\\x88ì\\x96´ ì\\xa0\\x95ë¦¬ë¥¼ í\\x95´ë³´ì\\x95\\x98ì\\x8aµë\\x8b\\x88ë\\x8b¤.\\r\\n\\r\\nQBA ì\\x9e\\x90ê²©ì¦\\x9dì\\x9d\\x98 ì¢\\x85ë¥\\x98:\\r\\n\\r\\n1. ABAT(RBTì\\x99\\x80 ì\\x9c\\xa0ì\\x82¬)\\r\\n2. QASP-S (BCaBAì\\x99\\x80 ì\\x9c\\xa0ì\\x82¬)\\r\\n3. QBA (BCBAì\\x99\\x80 ì\\x9c\\xa0ì\\x82¬)\\r\\n\\r\\nì\\x97¬ê¸°ì\\x84\\x9c QBAë¥¼ ë³´ì\\x9e\\x90ë©´ ê´\\x80ë\\xa0¨ë¶\\x84ì\\x95¼ ì\\x84\\x9dì\\x82¬í\\x95\\x99ì\\x9c\\x84 ì\\x9d´ì\\x83\\x81ì\\x9d\\x84 ë³´ì\\x9c\\xa0í\\x95\\x98ê³\\xa0 18í\\x95\\x99ì\\xa0\\x90(270ì\\x8b\\x9cê°\\x84)ì\\x9d\\x98 ì½\\x94ì\\x8a¤ì\\x9b¤ì\\x9d\\x84 ì\\x99\\x84ë£\\x8cí\\x95\\x98ê³\\xa0, 1500ì\\x8b\\x9cê°\\x84ì\\x9d\\x98 Supervised Fieldworkì\\x9d´ í\\x95\\x84ì\\x9a\\x94í\\x95©ë\\x8b\\x88ë\\x8b¤. ì\\x88\\x98í\\x8d¼ë°\\x94ì\\x9d´ì\\xa0\\x80ì\\x9d\\x98 ì¶\\x94ì²\\x9cì\\x84\\x9cì\\x99\\x80 ê²½ë\\xa0¥ì¡°í\\x9a\\x8cì\\x84\\x9cë\\x8f\\x84 í\\x95\\x84ì\\x9a\\x94í\\x95\\x98ë\\x84¤ì\\x9a\\x94. (ì\\x88\\x98í\\x8d¼ë°\\x94ì\\x9d´ì\\xa0\\x80ë\\x8a\\x94 BCBAê°\\x80 í\\x95\\xa0 ì\\x88\\x98 ì\\x9e\\x88ì\\x8aµë\\x8b\\x88ë\\x8b¤). ì\\x84\\x9cë¥\\x98ì\\xa0\\x9cì¶\\x9cì\\x9d´ ì\\x99\\x84ë£\\x8cë\\x90\\x98ë©´ ì\\x8b\\x9cí\\x97\\x98ì\\x9d\\x84 ë³¼ ì\\x88\\x98 ì\\x9e\\x88ì\\x8aµë\\x8b\\x88ë\\x8b¤.\\r\\n\\xa0\\r\\nì¢\\x80 ë\\x8d\\x94 ì\\x9e\\x90ì\\x84¸í\\x95\\x9c ì\\x82¬í\\x95\\xadì\\x9d\\x80 ì\\x95\\x84ë\\x9e\\x98ì\\x97\\x90ì\\x84\\x9c ì\\x82´í\\x8e´ì\\x8b\\x9cë©´ ë\\x90©ë\\x8b\\x88ë\\x8b¤.\\r\\nhttps://www.abakorea.net/general-6(í\\x95\\x9cêµ\\xadì\\x96´)\\r\\nhttps://qababoard.com/\\r\\n\\xa0\\r\\nêµ\\xadë\\x82´ ì\\x9e\\x90ê²©ì¦\\x9dì\\x9d¸ ABASë\\x8a\\x94 ì\\x95\\x84ë\\x9e\\x98 ì\\x82¬ì\\x9d´í\\x8a¸ì\\x97\\x90ì\\x84\\x9c ì\\x9e\\x90ì\\x84¸í\\x9e\\x88 ë³¼ ì\\x88\\x98 ì\\x9e\\x88ì\\x8aµë\\x8b\\x88ë\\x8b¤.\\r\\nhttp://kacba.com/bbs/content.php?co_id=cert_01 ì\\x84\\x9cì\\xa0\\x81: ì¡°ê¸\\x88ë\\x8b¤ë¥¸ ì\\x84±ì\\x9e¥ì\\x9d¼ê¸° ABAì\\xa0\\x84ë¬¸ê°\\x80ì\\x99\\x80 í\\x95¨ê»\\x98í\\x95\\x98ë\\x8a\\x94 ì¡°ê¸\\x88 ë\\x8b¤ë¥¸ ì\\x84±ì\\x9e¥ì\\x9d¼ê¸°\\r\\n\\r\\n+ ë°\\x9cí\\x96\\x89ì\\x9d¼ : 2021ë\\x85\\x84 12ì\\x9b\\x94 31ì\\x9d¼\\r\\n+ ì\\xa0\\x80ì\\x9e\\x90 : ê¹\\x80ì\\x88\\x99í\\x9d¬ BCBA, ê¹\\x80ì\\x88\\x98ì§\\x84\\r\\n+ ì¶\\x9cí\\x8c\\x90ì\\x82¬: ì\\x97\\x90ì\\x9d´ì\\x8a¤ë¶\\x81\\r\\n+ êµ¬ë§¤ì\\xa0\\x95ë³´:\\xa0https://www.aladin.co.kr/shop/wproduct.aspx?ItemId=285502078\\r\\n\\r\\n\\xa0\\r\\n\\xa0ëª©ì°¨\\r\\n\\r\\n1 2016ë\\x85\\x84 ì\\x9d´ì\\x95¼ê¸° 11\\r\\n1ì\\x9b\\x94 ì\\x8c\\x8dë\\x91¥ì\\x9d´ì\\x9d\\x98 í\\x83\\x84ì\\x83\\x9d 12\\r\\n2ì\\x9b\\x94 ì\\x83\\x9dì\\x95\\xa0 ì²« ì\\x88\\x98ì\\x88\\xa0 15\\r\\n3ì\\x9b\\x94 ì\\x8c\\x8dë\\x91¥ì\\x9d´ ë\\x8f\\x8cë³´ê¸° 17\\r\\n4ì\\x9b\\x94 ë°±ì\\x9d¼ì\\x82¬ì§\\x84 ì°\\x8dê¸° 19\\r\\n7ì\\x9b\\x94 ë°\\x94ì\\x9d´ë\\x9f¬ì\\x8a¤ë¡\\x9c ì\\x9d\\x91ê¸\\x89ì\\x8b¤ì\\x9d\\x84 ê°\\x80ë\\x8b¤ 21\\r\\n8ì\\x9b\\x94 200ì\\x9d¼ ì\\x82¬ì§\\x84 ì°\\x8dê¸° 23\\r\\n9ì\\x9b\\x94 ì\\x86\\x8cí\\x8c\\x8cì\\x97\\x90ì\\x84\\x9c ë\\x82´ë\\xa0¤ì\\x98¤ê¸° 25\\r\\n11ì\\x9b\\x94 ë³µì§\\x81ì\\x8b\\xa0ì²\\xad 26\\r\\n\\r\\n2 2017ë\\x85\\x84 ì\\x9d´ì\\x95¼ê¸°(12ê°\\x9cì\\x9b\\x94~ ) 29\\r\\n2ì\\x9b\\x94 ë\\x8f\\x8c ì\\x82¬ì§\\x84 ì°\\x8dê¸° 30\\r\\n3ì\\x9b\\x94 ë³µì§\\x81í\\x96\\x88ì\\x96´ì\\x9a\\x94 31\\r\\n10ì\\x9b\\x94 ì\\x9a°ë¦¬ ì\\x95\\x84ê¸°, ì\\x9e\\x90í\\x8f\\x90ì\\x9d¼ê¹\\x8c? 33\\r\\n11ì\\x9b\\x94 ABAë¥¼ ì\\xa0\\x91í\\x95\\x98ë\\x8b¤ 45\\r\\n12ì\\x9b\\x94 ì¤\\x80ë¹\\x84, ê·¸ë¦¬ê³\\xa0 ë\\x8b¤ì\\x8b\\x9c í\\x9c´ì§\\x81 51\\r\\n\\r\\n3 2018ë\\x85\\x84 ì\\x9d´ì\\x95¼ê¸°(24ê°\\x9cì\\x9b\\x94~ ) 57\\r\\n1ì\\x9b\\x94 ì\\x95\\x84ì\\x9d´ê°\\x80 ì\\x9e\\x90ê¾¸ ë\\x88\\x84ì\\x9b\\x8cì\\x9a\\x94 58\\r\\n2ì\\x9b\\x94 í\\x99\\x88 ABAì\\x9d\\x98 ì\\x8b\\x9cì\\x9e\\x91. 63\\r\\n3ì\\x9b\\x94 ì\\x9a\\x94êµ¬í\\x95\\x98ë\\x8a\\x94 ê¸°ì\\x88\\xa0 í\\x82¤ì\\x9a°ê¸°: í\\x8f¬ì\\x9d¸í\\x8c\\x85 69\\r\\n4ì\\x9b\\x94 ì\\x9a\\x94êµ¬í\\x95\\x98ë\\x8a\\x94 ê¸°ì\\x88\\xa0 í\\x82¤ì\\x9a°ê¸°: PECSì\\x82¬ì\\x9a© 81\\r\\n5ì\\x9b\\x94 ê°\\x95í\\x99\\x94ì\\xa0\\x9c ì\\x82¬ì\\x9a© ì\\x9a\\x94ë\\xa0¹/ì\\x9d\\x8cì\\x84±ì\\x9c¼ë¡\\x9c ì\\x9a\\x94êµ¬í\\x95\\x98ê¸° 85\\r\\n6ì\\x9b\\x94 í\\x98¸ëª\\x85ë°\\x98ì\\x9d\\x91 ì\\x98¬ë¦¬ê¸° 89\\r\\n7ì\\x9b\\x94 ì\\x97\\x84ë§\\x88ë°°ì\\x97\\x90 ì\\x97\\x8eë\\x93\\x9cë\\xa0¤ ì\\x9e\\x90ë\\x8a\\x94 í\\x96\\x89ë\\x8f\\x99 ì¤\\x91ì\\x9e¬ 92\\r\\n8ì\\x9b\\x94 ì\\x96¸ì\\x96´ì¹\\x98ë£\\x8cì\\x8b\\x9cì\\x9e\\x91/ì\\x84\\x9cì\\x9a¸ë\\x8c\\x80 ì´\\x88ì§\\x84 108\\r\\n9ì\\x9b\\x94 ì\\x95\\x84ë¹\\xa0ë\\x9d¼ê³\\xa0 ë§\\x90í\\x96\\x88ì\\x96´ì\\x9a\\x94 117\\r\\n10ì\\x9b\\x94 ë°°ë³\\x80í\\x9b\\x88ë\\xa0¨ 124\\r\\n11ì\\x9b\\x94 ì\\x82¬ë¬¼ì\\x9d´ë¦\\x84 ë§\\x90í\\x95\\x98ê¸° 129\\r\\n12ì\\x9b\\x94 ë°°ë³\\x80ì\\x84±ê³µ/“ì\\x95\\x84ë\\x8b\\x88”ë\\x9d¼ê³\\xa0 ë§\\x90í\\x95\\x98ê¸° 137\\r\\n\\r\\n4 2019ë\\x85\\x84 ì\\x9d´ì\\x95¼ê¸°(36ê°\\x9cì\\x9b\\x94~ ) 147\\r\\n1ì\\x9b\\x94 ì\\x84¸ë°\\x9c ì\\x9e\\x90ì\\xa0\\x84ê±° í\\x83\\x80ê¸°/ë\\x84\\x88ë¬´ ì\\x84¸ê²\\x8c ë½\\x80ë½\\x80í\\x95´ì\\x9a\\x94 148\\r\\n2ì\\x9b\\x94 ì\\x9e\\x90ì¡°ê¸°ì\\x88\\xa0 ì\\x88\\x98í\\x96\\x89í\\x95\\x98ê¸°/‘ì\\x9d´ê±° ë\\xad\\x90ì\\x95¼?’ ì§\\x88ë¬¸í\\x95\\x98ê¸° 157\\r\\n3ì\\x9b\\x94 ì\\x96´ë¦°ì\\x9d´ì§\\x91ì\\x9d\\x84 ê°\\x80ë\\x8b¤ 169\\r\\n4ì\\x9b\\x94 ì\\x9e¥ì\\x95\\xa0ë\\x93±ê¸\\x89ì\\x9d\\x84 ë°\\x9bë\\x8b¤ 186\\r\\n5ì\\x9b\\x94 ì\\x83\\x81í\\x99©ì\\x97\\x90 ë§\\x9eì§\\x80 ì\\x95\\x8aê²\\x8c ì\\x9b\\x83ì\\x96´ì\\x9a\\x94 196\\r\\n6ì\\x9b\\x94 ì\\x88\\x98ì\\x98\\x81ì\\x9d\\x84 ì\\x8b\\x9cì\\x9e\\x91í\\x96\\x88ì\\x96´ì\\x9a\\x94 201\\r\\n7ì\\x9b\\x94 ë\\x8c\\x80í\\x99\\x94í\\x95\\x98ê¸°/ë\\x86\\x80ì\\x9d´ê¸°ì\\x88\\xa0. 213\\r\\n8ì\\x9b\\x94 ë\\x82¨ì\\x9e\\x90 ì\\x97¬ì\\x9e\\x90 êµ¬ë³\\x84í\\x95\\x98ê¸° 223\\r\\n9ì\\x9b\\x94 ì\\x97\\xadí\\x95\\xa0ë\\x86\\x80ì\\x9d´í\\x95\\x98ê¸° 227\\r\\n10ì\\x9b\\x94 ì\\x97\\x89ë\\x8d©ì\\x9d´ì\\x97\\x90 ì\\x9e\\x90ê¾¸ ì\\x86\\x90ì\\x9d\\x84 ê°\\x80ì\\xa0¸ê°\\x80ë\\x8a\\x94 í\\x96\\x89ë\\x8f\\x99 233\\r\\n11ì\\x9b\\x94 ì\\x84¸ ë\\x8b¨ê³\\x84 ì§\\x80ì\\x8b\\x9c ë\\x94°ë¥´ê¸° 241\\r\\n12ì\\x9b\\x94 ê°\\x90ì\\xa0\\x95 ê°\\x80ë¥´ì¹\\x98ê¸° 250\\r\\n\\r\\n5 2020ë\\x85\\x84 ì\\x9d´ì\\x95¼ê¸°(48ê°\\x9cì\\x9b\\x94~ ) 255\\r\\n1ì\\x9b\\x94 ë¬¸ì\\x9e¥ì\\x9c¼ë¡\\x9c ë§\\x90í\\x95\\x98ê¸° 256\\r\\n2ì\\x9b\\x94 ê¸°ë\\x8b¤ë¦¬ê¸° ì\\x97°ì\\x8aµ 260\\r\\n3ì\\x9b\\x94 ê°\\x90ì\\xa0\\x95 í\\x91\\x9cí\\x98\\x84í\\x95\\x98ê¸° 265\\r\\n4ì\\x9b\\x94 ê¸\\x8dì\\xa0\\x95ì\\xa0\\x81ì\\x9c¼ë¡\\x9c ë§\\x90í\\x95\\x98ê¸° 273\\r\\n5ì\\x9b\\x94 ê±°ì\\xa0\\x88 ë°\\x9bì\\x95\\x84ë\\x93¤ì\\x9d´ê¸°/í\\x95\\x9cê³\\x84 ì\\xa0\\x95í\\x95´ì£¼ê¸° 280\\r\\n6ì\\x9b\\x94 í\\x98\\x95ì\\xa0\\x9c ì\\x8b¸ì\\x9b\\x80 ì¤\\x91ì\\x9e¬í\\x95\\x98ê¸° 293\\r\\n7ì\\x9b\\x94 ì\\x9d¼ì\\x83\\x81ë\\x8c\\x80í\\x99\\x94 ë\\x8a\\x98ë¦¬ê¸°/ì§\\x84ì\\xa0\\x95ê¸°ì\\x88\\xa0 ì\\x82¬ì\\x9a©í\\x95\\x98ê¸° 296\\r\\n8ì\\x9b\\x94 í\\x95\\x9c ì£¼ì\\xa0\\x9cë¡\\x9c ê¸¸ê²\\x8c ë\\x8c\\x80í\\x99\\x94í\\x95\\x98ê¸°/ë°©ë¬¸ ì\\x82´ì\\x82´ ë\\x8b«ê¸° ì\\x97°ì\\x8aµ 302\\r\\n9ì\\x9b\\x94 ê³µí\\x8f\\x89í\\x95\\x98ê²\\x8c ë\\x8c\\x80í\\x95\\x98ê¸° 308\\r\\n10ì\\x9b\\x94 ì\\x9d´ì\\x95¼ê¸° ë\\x93£ê³\\xa0 ë¬¸ì\\x9e¥ ì\\x9e\\x87ê¸° 314\\r\\n11ì\\x9b\\x94 í\\x94¼ì\\x95\\x84ë\\x85¸ë¥¼ ì³\\x90ì\\x9a\\x94/ì\\x96´ì\\xa0\\x9c, ì\\x98¤ë\\x8a\\x98, ë\\x82´ì\\x9d¼ ê°\\x9cë\\x85\\x90 ì\\x9dµí\\x9e\\x88ê¸° 319\\r\\n12ì\\x9b\\x94 ì¤\\x84ë\\x84\\x98ê¸° ì\\x97°ì\\x8aµ/ì¹\\xadì°¬í\\x95\\x98ê¸° 328\\r\\n\\r\\n6 2021ë\\x85\\x84 ì\\x9d´ì\\x95¼ê¸°(60ê°\\x9cì\\x9b\\x94~ ) 349\\r\\n1ì\\x9b\\x94 ì£¼ì\\xa0\\x9cí\\x99\\x95ì\\x9e¥í\\x95\\x98ê¸° 350\\r\\n2ì\\x9b\\x94 ì\\x82¬í\\x9a\\x8cì\\xa0\\x81 ì\\x83\\x81í\\x99© ì\\x9d´ì\\x95¼ê¸° 357\\r\\n3ì\\x9b\\x94 ì\\x9e\\x90ë\\x9e\\x91í\\x95\\x98ê¸°/ë¬¸ì\\xa0\\x9cí\\x95´ê²°ê¸°ì\\x88\\xa0 369\\r\\n4ì\\x9b\\x94 ê°\\x9cë³\\x84í\\x99\\x94êµ\\x90ì\\x9c¡ê³\\x84í\\x9a\\x8d 385\\r\\n5ì\\x9b\\x94 ë\\x98\\x90ë\\x9e\\x98ë\\x86\\x80ì\\x9d´í\\x95\\x98ê¸° 389\\r\\n6ì\\x9b\\x94 ì\\x98\\x88ì\\x83\\x81ì¹\\x98 ëª»í\\x95\\x9c ì\\x83\\x81í\\x99©ì\\x97\\x90 ë\\x8c\\x80ì²\\x98í\\x95\\x98ê¸° 392\\r\\n7ì\\x9b\\x94 ë\\x8c\\x80í\\x99\\x94 ì¤\\x91 ë\\x9c¬ê¸\\x88ì\\x97\\x86ë\\x8a\\x94 ë§\\x90ì\\x9d\\x84 í\\x95\\x98ë\\x8a\\x94 í\\x96\\x89ë\\x8f\\x99 ì¤\\x91ì\\x9e¬ 395\\r\\n8ì\\x9b\\x94 ì\\x96¸ì\\x96´, ì\\xa0\\x95ì\\x83\\x81 ë²\\x94ì£¼ì\\x97\\x90 ë\\x93¤ë\\x8b¤ 406 ABA4kidsí\\x96\\x89ë\\x8f\\x99ì¤\\x91ì\\x9e¬ì\\x97°êµ¬ì\\x86\\x8c ì\\x86\\x8cê°\\x9cê¸°ì\\x82¬ ABA4kidsí\\x96\\x89ë\\x8f\\x99ì¤\\x91ì\\x9e¬ì\\x97°êµ¬ì\\x86\\x8c ì\\x86\\x8cê°\\x9c ê¸°ì\\x82¬ì\\x9e\\x85ë\\x8b\\x88ë\\x8b¤.\\r\\n\\r\\nhttp://m.primeherald.co.kr/2019\\r\\n\\xa0\\r\\ní\\x95\\x9cêµ\\xadì\\x9e¥ì\\x95\\xa0ì\\x9d¸ê°\\x9cë°\\x9cì\\x9b\\x90ì\\x9d\\x80\\xa02020ë\\x85\\x84 ì\\x9a°ë¦¬ë\\x82\\x98ë\\x9d¼ ë°\\x9cë\\x8b¬ì\\x9e¥ì\\x95\\xa0 ì\\x95\\x84ë\\x8f\\x99ì\\x9d´ ì\\x95½\\xa014ë§\\x8c8ì²\\x9cëª\\x85ì\\x97\\x90 ë\\x8b¬í\\x95\\x9cë\\x8b¤ê³\\xa0 ì\\x84¤ëª\\x85í\\x95\\x9cë\\x8b¤.\\xa0ì\\xa0\\x84ì²´ ì²\\xadì\\x86\\x8cë\\x85\\x84 ì\\x9d¸êµ¬ë¥¼ ê³\\xa0ë\\xa0¤í\\x95\\xa0 ë\\x95\\x8c\\xa010ëª\\x85 ì¤\\x91\\xa01ëª\\x85 ì\\x9d´ì\\x83\\x81ì\\x9d´ ë°\\x9cë\\x8b¬ì\\x9e¥ì\\x95\\xa0ë¡\\x9c ì\\x96´ë\\xa0¤ì\\x9b\\x80ì\\x9d\\x84 ê²ªê³\\xa0 ì\\x9e\\x88ë\\x8a\\x94 ì\\x85\\x88ì\\x9d´ë\\x8b¤.\\xa0ì\\x9d´ë\\x93¤ì\\x9d\\x98 í\\x96\\x89ë\\x8f\\x99ë¬¸ì\\xa0\\x9cë\\x8a\\x94 ë\\x86\\x80ì\\x9d´ì\\x99\\x80 ì\\x96¸ì\\x96´,\\xa0ê³µë\\x8f\\x99ì\\x83\\x9dí\\x99\\x9c ê³¼ì\\xa0\\x95ì\\x97\\x90ì\\x84\\x9c ê±¸ë¦¼ë\\x8f\\x8cì\\x9d´ ë\\x90\\xa0 ë¿\\x90 ì\\x95\\x84ë\\x8b\\x88ë\\x9d¼,\\xa0ì\\x9e\\x90ê¸° ì\\x9e\\x90ì\\x8b\\xa0ê³¼ ê°\\x80ì¡± ëª¨ë\\x91\\x90ì\\x97\\x90ê²\\x8c í\\x9e\\x98ë\\x93\\xa0 ì\\x83\\x81í\\x99©ì\\x9d\\x84 ê°\\x80ì\\xa0¸ì\\x98¨ë\\x8b¤.\\r\\n\\n\\xa0\\r\\n\\nì\\x9d´ ê°\\x99ì\\x9d\\x80 ë°\\x9cë\\x8b¬ì\\x9e¥ì\\x95\\xa0 ì\\x95\\x84ë\\x8f\\x99ì\\x97\\x90ê²\\x8c í\\x95\\x84ì\\x9a\\x94í\\x95\\x9c ê²\\x83ì\\x9d\\x80 ë\\x8b¨ì\\x88\\x9cí\\x9e\\x88 ì¹\\x98ë£\\x8cì\\x8b¤ ì¤\\x91ì\\x8b¬ì\\x9d\\x98 ì¤\\x91ì\\x9e¬ê°\\x80 ì\\x95\\x84ë\\x8b\\x88ë\\x8b¤. ‘í\\x95\\x9c ì\\x95\\x84ì\\x9d´ë¥¼ í\\x82¤ì\\x9a°ê¸° ì\\x9c\\x84í\\x95´ì\\x84\\x9cë\\x8a\\x94 ì\\x98¨ ë§\\x88ì\\x9d\\x84ì\\x9d´ í\\x95\\x84ì\\x9a\\x94í\\x95\\x98ë\\x8b¤’ë\\x9d¼ë\\x8a\\x94 ë§\\x90ì²\\x98ë\\x9f¼ í\\x95\\x9c ì\\x95\\x84ì\\x9d´ì\\x9d\\x98 í\\x96\\x89ë\\x8f\\x99ì\\x9d\\x84 ì¤\\x91ì\\x9e¬í\\x95\\x98ê³\\xa0 ì\\x82¶ì\\x9d\\x98 ì§\\x88ì\\x9d\\x84 ë\\x86\\x92ì\\x9d´ê¸° ì\\x9c\\x84í\\x95´ì\\x84\\x9cë\\x8a\\x94 ê°\\x80ì\\xa0\\x95ê³¼ í\\x95\\x99êµ\\x90,\\xa0ì\\xa0\\x84ë¬¸ê°\\x80ì\\x9d\\x98 ê´\\x80ì\\x8b¬ê³¼ ì§\\x84ì\\x8b¬ì\\x9d´ í\\x95\\x84ì\\x9a\\x94í\\x95\\x98ë\\x8b¤.\\xa0ì\\xa0\\x84ë¬¸ê°\\x80 ì\\x97\\xadì\\x8b\\x9c ì\\x9d\\x98ì\\x82¬ë¥¼ ë¹\\x84ë¡¯í\\x95\\x9c ì\\x96¸ì\\x96´ì¹\\x98ë£\\x8cì\\x82¬,\\xa0ì\\x9e\\x91ì\\x97\\x85ì¹\\x98ë£\\x8cì\\x82¬,\\xa0ë¬¼ë¦¬ì¹\\x98ë£\\x8cì\\x82¬ ë\\x93± ë¶\\x84ì\\x95¼ë³\\x84 ì\\xa0\\x84ë¬¸ê°\\x80ê°\\x80 í\\x98\\x91ë\\xa0¥í\\x95´ì\\x95¼ í\\x95\\x9cë\\x8b¤.\\r\\n\\n\\xa0\\r\\n\\nì\\x9d´ì\\x99\\x80 ê´\\x80í\\x95\\x98ì\\x97¬ ë¶\\x80ì\\x82° ë\\x82¨êµ¬ ë\\x8c\\x80ì\\x97°ë\\x8f\\x99ì\\x9d\\x98\\xa0ABA4kidsí\\x96\\x89ë\\x8f\\x99ì¤\\x91ì\\x9e¬ì\\x97°êµ¬ì\\x86\\x8c ê¹\\x80ì\\x88\\x99í\\x9d¬ ì\\x9b\\x90ì\\x9e¥ì\\x9d\\x84 ë§\\x8cë\\x82\\x98 í\\x98\\x84ì\\x9e¬ í\\x95\\x9cêµ\\xadì\\x82¬í\\x9a\\x8cì\\x9d\\x98 í\\x96\\x89ë\\x8f\\x99ì¤\\x91ì\\x9e¬ í\\x99\\x98ê²½ê³¼ ë\\x82\\x98ì\\x95\\x84ê°\\x80ì\\x95¼ í\\x95\\xa0 ë°©í\\x96¥ì\\x97\\x90 ë\\x8c\\x80í\\x95´ ë\\x93¤ì\\x96´ë³´ì\\x95\\x98ë\\x8b¤.\\r\\n\\xa0\\r\\n\\nQ. ABA4kidsì\\x9d\\x98 ì\\x84¤ë¦½ ì·¨ì§\\x80ë¥¼ ë§\\x90ì\\x94\\x80í\\x95´ ì£¼ì\\x8b\\xadì\\x8b\\x9cì\\x98¤.\\r\\n\\n\\xa0\\r\\n\\nA.\\xa0ì\\x9d´í\\x99\\x94ì\\x97¬ë\\x8c\\x80 ì\\x8b¬ë¦¬í\\x95\\x99ê³¼ì\\x99\\x80 ë\\x8c\\x80í\\x95\\x99ì\\x9b\\x90ì\\x97\\x90ì\\x84\\x9c ì\\x8b¬ë¦¬í\\x95\\x99ì\\x9d\\x84 ì\\xa0\\x84ê³µí\\x95\\x98ê³\\xa0\\xa010ì\\x97¬ ë\\x85\\x84ê°\\x84\\xa0ABAì\\x9d\\x98 ë³¸ê³\\xa0ì\\x9e¥ì\\x9d¸ ë¯¸êµ\\xadì\\x97\\x90ì\\x84\\x9c\\xa0ABAë¥¼ ê³µë¶\\x80í\\x95\\x98ê³\\xa0 ì\\x9e\\x84ì\\x83\\x81ê²½í\\x97\\x98ì\\x9d\\x84 ì\\x8c\\x93ì\\x95\\x98ë\\x8b¤.\\xa0ì\\x9d´ë\\x9f° ì§\\x80ì\\x8b\\x9dê³¼ ê²½í\\x97\\x98ì\\x9d\\x84 ë°\\x94í\\x83\\x95ì\\x9c¼ë¡\\x9c í\\x95\\x9cêµ\\xadì\\x9d\\x98 ë¶\\x80ëª¨,\\xa0ì\\x95\\x84ë\\x8f\\x99,\\xa0ì\\xa0\\x84ë¬¸ê°\\x80ë\\x93¤ì\\x97\\x90ê²\\x8c\\xa0ABAë¥¼ í\\x86µí\\x95´ ë³¸ì\\x9d¸ì\\x9d\\x98 ì\\x9e\\x90ë\\x85\\x80ë\\x82\\x98 í\\x95\\x99ì\\x83\\x9dë\\x93¤ì\\x97\\x90ê²\\x8c í\\x9a¨ê³¼ì\\xa0\\x81ì\\x9c¼ë¡\\x9c í\\x96\\x89ë\\x8f\\x99ì¤\\x91ì\\x9e¬ë¥¼ í\\x95\\xa0 ì\\x88\\x98 ì\\x9e\\x88ë\\x8f\\x84ë¡\\x9d ë\\x8f\\x95ê³\\xa0 ì\\x8b¶ì\\x9d\\x80 ì·¨ì§\\x80ì\\x97\\x90ì\\x84\\x9c ì\\x84¤ë¦½í\\x95\\x98ê²\\x8c ë\\x90\\x98ì\\x97\\x88ë\\x8b¤.\\r\\n\\n\\xa0\\r\\n\\n\\xa0\\r\\n\\nQ. ABA4kidsì\\x9d\\x98 ì£¼ ì\\x84\\x9cë¹\\x84ì\\x8a¤ ë¶\\x84ì\\x95¼ë\\x8a\\x94 ë¬´ì\\x97\\x87ì\\x9e\\x85ë\\x8b\\x88ê¹\\x8c.\\r\\n\\n\\xa0\\r\\n\\nA.\\xa0ì\\x9e\\x90í\\x8f\\x90ë¥¼ í\\x8f¬í\\x95¨í\\x95\\x9c ë°\\x9cë\\x8b¬ì\\x9e¥ì\\x95\\xa0ë¥¼ ë¹\\x84ë¡¯í\\x95\\x98ì\\x97¬ ì\\xa0\\x95ì\\x84\\x9c,\\xa0í\\x96\\x89ë\\x8f\\x99 ì\\x9e¥ì\\x95\\xa0ê°\\x80 ì\\x9e\\x88ê±°ë\\x82\\x98 ì\\x96¸ì\\x96´,\\xa0ì\\x9d¸ì§\\x80,\\xa0ì\\x9e\\x90ì¡°,\\xa0ë\\x86\\x80ì\\x9d´,\\xa0ì\\x82¬í\\x9a\\x8cì\\x84± ë\\x93± ê¸°ì\\x88\\xa0ì\\x9d\\x84 ì\\x98¬ë\\xa0¤ì\\x95¼ í\\x95\\x98ë\\x8a\\x94 ì\\x9c\\xa0ì\\x95\\x84ì\\x97\\x90ì\\x84\\x9cë¶\\x80í\\x84° ì²\\xadë\\x85\\x84 ëª¨ë\\x91\\x90ê°\\x80 ì\\x9d´ì\\x9a©ë\\x8c\\x80ì\\x83\\x81ì\\x9d´ë\\x8b¤.\\xa0ë¬¸ì\\xa0\\x9cí\\x96\\x89ë\\x8f\\x99ì\\x9d´ ì\\x9e\\x88ë\\x8a\\x94 ì\\x95\\x84ë\\x8f\\x99ì\\x9d\\x98 ê²½ì\\x9a° ì\\x9d¼ì\\x83\\x81ì\\x83\\x9dí\\x99\\x9cì\\x97\\x90 ë°©í\\x95´ê°\\x80 ë\\x90\\x98ê±°ë\\x82\\x98,\\xa0ì\\x9c\\x84í\\x97\\x98í\\x95\\x9c ì\\x97¬ë\\x9f¬ í\\x96\\x89ë\\x8f\\x99ì\\x9d\\x84 ì¤\\x91ì\\x9e¬í\\x95\\x98ì\\x97¬ ì\\x95\\x84ë\\x8f\\x99ì\\x9d\\x98 ì\\x82¶ì\\x9d\\x98 ì§\\x88ì\\x9d\\x84 ë\\x86\\x92ì\\x9d¸ë\\x8b¤.\\xa0ì\\x98\\x81ì\\x95\\x84ì\\x97\\x90ì\\x84\\x9cë¶\\x80í\\x84° ì\\x84±ì\\x9d¸ì\\x97\\x90 ì\\x9d´ë¥´ê¸°ê¹\\x8cì§\\x80 ê³µê²©ì\\x84±,\\xa0ë¶\\x84ë\\x85¸ í\\x8f\\xadë°\\x9c,\\xa0ë°°ë³\\x80 ë¬¸ì\\xa0\\x9c ë\\x93±ì\\x9d\\x98 í\\x96\\x89ë\\x8f\\x99ì\\x9d\\x84 ë¶\\x80ëª¨ë\\x82\\x98 êµ\\x90ì\\x82¬ê°\\x80 ì§\\x91,\\xa0í\\x98¹ì\\x9d\\x80 í\\x95\\x99êµ\\x90ì\\x97\\x90ì\\x84\\x9c ì\\x96´ë\\x96»ê²\\x8c í\\x9a¨ê³¼ì\\xa0\\x81ì\\x9c¼ë¡\\x9c ì¤\\x91ì\\x9e¬í\\x95\\x98ë\\x8a\\x94ì§\\x80ì\\x97\\x90 ë\\x8c\\x80í\\x95´ ë°°ì\\x9a°ê²\\x8c ë\\x90\\x9cë\\x8b¤.\\r\\n\\n\\xa0\\r\\n\\nì\\x96¸ì\\x96´ ë°\\x8f ì\\x9d¸ì§\\x80 ê¸°ì\\x88\\xa0ì\\x9d´ ë\\x82®ì\\x9d\\x80 ì\\x95\\x84ì\\x9d´ë\\x93¤ì\\x9d\\x80 ë¯¸êµ\\xadì\\x97\\x90ì\\x84\\x9c ê°\\x80ì\\x9e¥ ë\\x84\\x90ë¦¬ ì\\x93°ì\\x9d´ë\\x8a\\x94\\xa0VB-MAPP\\xa0í\\x94\\x84ë¡\\x9cê·¸ë\\x9e¨ì\\x9d\\x84 ê¸°ë°\\x98ì\\x9c¼ë¡\\x9c ì¤\\x91ì\\x9e¬í\\x95\\xa0 ì\\x88\\x98 ì\\x9e\\x88ë\\x8b¤.\\xa0ë¬´ë°\\x9cí\\x99\\x94,\\xa0ì\\xa0\\x9cí\\x95\\x9cì\\xa0\\x81ì\\x9d¸ ë°\\x9cí\\x99\\x94ë¥¼ í\\x95\\x98ë\\x8a\\x94 ì\\x95\\x84ë\\x8f\\x99ì\\x9d\\x84 í\\x8f¬í\\x95¨í\\x95´ ì\\x9e\\x90ë°\\x9cì\\x96´ ë°\\x8f ë\\x8c\\x80í\\x99\\x94ê¸°ì\\x88\\xa0ì\\x9d´ë\\x82\\x98 ëª¨ë°©,\\xa0ì²\\xadì\\x9e\\x90 ë°\\x98ì\\x9d\\x91,\\xa0ë§¤ì¹\\xad ë\\x93± ë\\x86\\x80ì\\x9d´ ë°\\x8f í\\x95\\x99ì\\x97\\x85ê¸°ì\\x88\\xa0 ì\\xa0\\x84 ë\\x8b¨ê³\\x84 ê¸°ì\\x88\\xa0ì\\x9d´ ë¶\\x80ì¡±í\\x95\\x9c ì\\x95\\x84ë\\x8f\\x99ë\\x93¤ì\\x9d\\x84 ë\\x8c\\x80ì\\x83\\x81ì\\x9c¼ë¡\\x9c í\\x95\\x84ì\\x9a\\x94í\\x95\\x9c ê¸°ì\\x88\\xa0ì\\x9d\\x84 ì\\x98¬ë¦¬ë\\x8f\\x84ë¡\\x9d ì§\\x80ë\\x8f\\x84í\\x95\\x9cë\\x8b¤.\\r\\n\\n\\xa0\\r\\n\\në³¸ ì\\x84¼í\\x84°ì\\x97\\x90ì\\x84\\x9c ê°\\x80ì\\x9e¥ ì¤\\x91ì\\x9a\\x94í\\x95\\x98ê²\\x8c ë\\x8b¤ë£¨ë\\x8a\\x94 ê²\\x83ì\\x9d\\x80 ë¶\\x80ëª¨êµ\\x90ì\\x9c¡ì\\x9d´ë\\x8b¤. ABAì\\x97\\x90ì\\x84\\x9cë\\x8a\\x94 ì£¼ë\\x8b¹\\xa030ì\\x8b\\x9cê°\\x84ì\\x9d\\x84 ì¤\\x91ì\\x9e¬í\\x95´ì\\x95¼ í\\x9a¨ê³¼ê°\\x80 ì\\x9e\\x88ë\\x8b¤ê³\\xa0 ë³´ë\\x8a\\x94ë\\x8d°,\\xa0ë¶\\x80ëª¨ê°\\x80 êµ\\x90ì\\x9c¡ì\\x9d\\x84 ë°\\x9bê³\\xa0 ì\\x9e\\x90ë\\x85\\x80ì\\x97\\x90ê²\\x8c ì\\x9d¼ê´\\x80ë\\x90\\x98ê³\\xa0 ì²´ê³\\x84ì\\xa0\\x81ì\\x9d¸ ì¤\\x91ì\\x9e¬ë¥¼ í\\x95´ì\\x95¼ ì\\x9d´ ì¡°ê±´ì\\x9d\\x84 ì±\\x84ì\\x9a¸ ì\\x88\\x98 ì\\x9e\\x88ê¸° ë\\x95\\x8cë¬¸ì\\x9d´ë\\x8b¤. 1ë\\x85\\x84ì\\x97\\x90\\xa04ë²\\x88 ì\\x97´ë¦¬ë\\x8a\\x94 ê¸°ì´\\x88 ì\\x9b\\x8cí\\x81¬ì\\x88\\x8dì\\x9d\\x80\\xa0ABAì\\x97\\x90 ë\\x8c\\x80í\\x95´ ê¼\\xad ì\\x95\\x8cê³\\xa0 ì\\x9e\\x88ì\\x96´ì\\x95¼ í\\x95\\x98ë\\x8a\\x94 ê¸°ì´\\x88 ì§\\x80ì\\x8b\\x9dì\\x9d\\x84 ë¹\\x84ì\\xa0\\x84ë¬¸ê°\\x80ë\\x8f\\x84 ì\\x89½ê²\\x8c ì\\x9d´í\\x95´í\\x95\\xa0 ì\\x88\\x98 ì\\x9e\\x88ë\\x8f\\x84ë¡\\x9d êµ¬ì\\x84±í\\x96\\x88ë\\x8b¤.\\xa0ë¶\\x80ëª¨ê°\\x80 ì\\xa0\\x84ë¬¸ê°\\x80ì\\x99\\x80 ì\\x83\\x81ë\\x8b´ ì\\x8b\\x9c ì\\xa0\\x95í\\x99\\x95í\\x95\\x9c ë\\x8d°ì\\x9d´í\\x84°ë¥¼ ì\\xa0\\x9cê³µí\\x95\\xa0 ì\\x88\\x98 ì\\x9e\\x88ê³\\xa0,\\xa0ì\\x9d´ë¡\\xa0 ì\\x9c\\x84ì£¼ê°\\x80 ì\\x95\\x84ë\\x8b\\x8c ë\\x8b¤ì\\x96\\x91í\\x95\\x9c ì\\x8b¤ì\\xa0\\x9c ì\\x82¬ë¡\\x80ë\\x93¤ì\\x9d\\x84 ë\\x8b¤ë£¨ì\\x96´ ë\\x82´ ì\\x9e\\x90ë\\x85\\x80,\\xa0í\\x98¹ì\\x9d\\x80 í\\x95\\x99ì\\x83\\x9d ì¤\\x91ì\\x9e¬ë¥¼ í\\x9a¨ê³¼ì\\xa0\\x81ì\\x9c¼ë¡\\x9c í\\x95\\xa0 ì\\x88\\x98 ì\\x9e\\x88ë\\x8f\\x84ë¡\\x9d í\\x95\\x9cë\\x8b¤.\\xa0ì£¼ì\\xa0\\x9cë³\\x84 ì\\x9b\\x8cí\\x81¬ì\\x88\\x8dì\\x9d\\x80 ë¬¸ì\\xa0\\x9cí\\x96\\x89ë\\x8f\\x99 ì¤\\x91ì\\x9e¬,\\xa0ì\\x9e\\x90ì¡° ê¸°ì\\x88\\xa0,\\xa0ë\\x86\\x80ì\\x9d´ ê¸°ì\\x88\\xa0,\\xa0ì\\x82¬í\\x9a\\x8cì\\x84± ê¸°ì\\x88\\xa0,\\xa0ì\\x9a\\x94êµ¬ê¸°ì\\x88\\xa0 ì\\x98¬ë¦¬ê¸°,\\xa0ì\\x84±êµ\\x90ì\\x9c¡ ë\\x93±ì\\x9d\\x84 ì£¼ì\\xa0\\x9cë¡\\x9c í\\x95\\x9cë\\x8b¤.\\xa0ë¶\\x80ëª¨,\\xa0êµ\\x90ì\\x82¬,\\xa0ì¹\\x98ë£\\x8cì\\x82¬ë\\x93¤ì\\x9d´ ì\\x95\\x84ì\\x9d´ë\\x93¤ì\\x97\\x90ê²\\x8c í\\x95\\x84ì\\x88\\x98ë¡\\x9c ê°\\x80ë¥´ì³\\x90ì\\x95¼ í\\x95\\xa0 ì\\x97¬ë\\x9f¬ ë\\x82´ì\\x9a©ì\\x9d\\x84 í\\x9a¨ê³¼ì\\xa0\\x81ì\\x9d´ê³\\xa0 ì²´ê³\\x84ì\\xa0\\x81ì\\x9c¼ë¡\\x9c ë\\x8b¤ë£° ì\\x88\\x98 ì\\x9e\\x88ë\\x8f\\x84ë¡\\x9d êµ¬ì\\x84±ë\\x90\\x98ì\\x96´ ì\\x9e\\x88ë\\x8b¤.\\r\\n\\n\\xa0\\r\\n\\në¯¸êµ\\xadì\\x9d\\x80 í\\x95´ë\\x8b¹ ì\\x95\\x84ë\\x8f\\x99ì\\x97\\x90 ë\\x8c\\x80í\\x95´ ì\\x96¸ì\\x96´ì¹\\x98ë£\\x8cì\\x82¬,\\xa0ì\\x9e\\x91ì\\x97\\x85ì¹\\x98ë£\\x8cì\\x82¬,\\xa0ë¬¼ë¦¬ì¹\\x98ë£\\x8cì\\x82¬,\\xa0êµ\\x90ì\\x82¬,\\xa0ì\\x9d\\x98ì\\x82¬,\\xa0í\\x96\\x89ë\\x8f\\x99 ì\\xa0\\x84ë¬¸ê°\\x80ê°\\x80 ì\\x84\\x9cë¡\\x9c ì\\x84\\x9cë¥\\x98,\\xa0ì\\x9d´ë©\\x94ì\\x9d¼,\\xa0ì\\xa0\\x84í\\x99\\x94,\\xa0í\\x98¹ì\\x9d\\x80 í\\x9a\\x8cì\\x9d\\x98ë¥¼ í\\x86µí\\x95´ ê°\\x81ì\\x9e\\x90ì\\x9d\\x98 ë¶\\x84ì\\x95¼ì\\x97\\x90ì\\x84\\x9c ì\\x9d\\x98ê²¬ì\\x9d\\x84 ê°\\x9cì§\\x84í\\x95\\x98ê³\\xa0 ì\\x83\\x81í\\x98¸ ë³´ì\\x99\\x84í\\x95\\x98ë\\x8a\\x94 í\\x98\\x91ì\\x97\\x85ì\\x9d´ ë§¤ì\\x9a° í\\x99\\x9cë°\\x9cí\\x95\\x98ë\\x8b¤.\\xa0ì\\x9d´ë\\x9f° í\\x9b\\x8cë¥\\xadí\\x95\\x9c ì\\x8b\\x9cì\\x8a¤í\\x85\\x9cì\\x9d\\x84 í\\x95\\x9cêµ\\xadì\\x97\\x90ì\\x84\\x9cë\\x8f\\x84 í\\x99\\x9cì\\x84±í\\x99\\x94í\\x95\\x98ê¸° ì\\x9c\\x84í\\x95´\\xa0ABA4kidsì\\x97\\x90ì\\x84\\x9cë\\x8a\\x94 ê°\\x81 ë¶\\x84ì\\x95¼ì\\x9d\\x98 ì\\xa0\\x84ë¬¸ê°\\x80ë\\x93¤ì\\x9d\\x84 ì\\x98\\x81ì\\x9e\\x85í\\x95\\x98ì\\x97¬ í\\x95\\x84ì\\x9a\\x94í\\x95\\x9c ì\\x95\\x84ë\\x8f\\x99ë\\x93¤ì\\x97\\x90ê²\\x8c í\\x98\\x91ì\\x97\\x85 ì\\x84¸ì\\x85\\x98ì\\x9d\\x84 ì§\\x84í\\x96\\x89í\\x95\\x98ê³\\xa0 ì\\x9e\\x88ë\\x8b¤.\\xa0ì\\x9b\\x90ê²©í\\x99\\x94ì\\x83\\x81ì\\x9c¼ë¡\\x9c ì§\\x84í\\x96\\x89ë\\x90\\x98ë\\x8a\\x94 ì\\x9d´ í\\x94\\x84ë¡\\x9cê·¸ë\\x9e¨ì\\x9d\\x80 í\\x8f\\x89ê°\\x80ì§\\x80ë¥¼ í\\x86µí\\x95´ ë¯¸ë¦¬ ì\\x95\\x84ë\\x8f\\x99ì\\x9d\\x98 ë¬¸ì\\xa0\\x9cì\\xa0\\x90ì\\x9d\\x84 í\\x8c\\x8cì\\x95\\x85í\\x95\\x98ê³\\xa0,\\xa0ì\\x95\\x84ë\\x8f\\x99ì\\x9d\\x98 í\\x96\\x89ë\\x8f\\x99ì\\x9d\\x84 ë¹\\x84ë\\x94\\x94ì\\x98¤ í\\x81´ë¦½ì\\x9c¼ë¡\\x9c ë¶\\x84ì\\x84\\x9dí\\x95\\x9cë\\x8b¤.\\xa0ì\\x9d´í\\x9b\\x84 ê°\\x80ì\\xa0\\x95ì\\x97\\x90ì\\x84\\x9c ë¶\\x80ëª¨ë\\x8b\\x98ì\\x9d´ ì\\x95\\x84ì\\x9d´ë\\x93¤ì\\x97\\x90ê²\\x8c ì\\xa0\\x81ì\\x9a©í\\x95\\xa0 ì\\x88\\x98 ì\\x9e\\x88ë\\x8a\\x94 ì\\x8b¤ì\\xa0\\x9c í\\x8c\\x81ì\\x9d\\x84 ì\\xa0\\x9cê³µí\\x95\\xa0 ì\\x88\\x98 ì\\x9e\\x88ë\\x8f\\x84ë¡\\x9d ì\\x84¤ê³\\x84ë\\x90\\x98ì\\x96´ ì\\x9e\\x88ë\\x8b¤.\\r\\n\\n\\xa0\\r\\n\\nì\\x95\\x84ì\\x9d´ê°\\x80 í\\x95\\x99êµ\\x90ì\\x83\\x9dí\\x99\\x9cì\\x97\\x90 ì\\x96´ë\\xa0¤ì\\x9b\\x80ì\\x9d\\x84 ê²ªë\\x8a\\x94 ê°\\x80ì\\xa0\\x95ì\\x97\\x90ë\\x8a\\x94 ë¯¸êµ\\xadì\\x9d\\x98 í\\x95\\x99êµ\\x90ì\\x83\\x81í\\x99©ì\\x97\\x90ì\\x84\\x9c ë\\x84\\x90ë¦¬ ì\\x93°ì\\x9d´ê³\\xa0 ì\\x9e\\x88ë\\x8a\\x94 í\\x95\\x99êµ\\x90 í\\x96\\x89ë\\x8f\\x99 ì¤\\x91ì\\x9e¬ í\\x94\\x84ë¡\\x9cê·¸ë\\x9e¨ì\\x9d\\x84 ì¶\\x94ì²\\x9cí\\x95\\x9cë\\x8b¤.\\xa0ì\\x9d´ í\\x94\\x84ë¡\\x9cê·¸ë\\x9e¨ì\\x9d\\x80 í\\x95\\x99ì\\x97\\x85ì\\x97\\x90 ë°©í\\x95´ê°\\x80 ë\\x90\\x98ê±°ë\\x82\\x98 ì\\x9e\\x90í\\x95´ë¥¼ í\\x8f¬í\\x95¨í\\x95´ ì\\x9c\\x84í\\x97\\x98í\\x95\\x9c í\\x96\\x89ë\\x8f\\x99ì\\x9d\\x84 í\\x95\\x98ë\\x8a\\x94 í\\x95\\x99ì\\x83\\x9dë\\x93¤ì\\x9d\\x84 ë¶\\x84ì\\x84\\x9dí\\x95\\x9cë\\x8b¤.\\xa0ì\\x9d´ë¥¼ í\\x86\\xa0ë\\x8c\\x80ë¡\\x9c í\\x9a¨ê³¼ì\\xa0\\x81ì\\x9d¸ ì¤\\x91ì\\x9e¬ ë°©ë²\\x95ì\\x9d\\x84 ì\\x84¸ì\\x9b\\x8c êµ\\x90ì\\x82¬ì\\x99\\x80 êµ\\x90ì§\\x81ì\\x9b\\x90ì\\x9d´ ì\\x9d¼ê´\\x80ì\\x84± ì\\x9e\\x88ê²\\x8c ê·¸ í\\x95\\x99ì\\x83\\x9dì\\x9d\\x98 í\\x96\\x89ë\\x8f\\x99ì\\x9d\\x84 ê¸\\x8dì\\xa0\\x95ì\\xa0\\x81ì\\x9c¼ë¡\\x9c ë\\x8b¤ë£° ì\\x88\\x98 ì\\x9e\\x88ë\\x8f\\x84ë¡\\x9d í\\x95\\x9cë\\x8b¤.\\r\\n\\n\\xa0\\r\\n\\nì\\x9d´ ë°\\x96ì\\x97\\x90 ì\\x95\\x84ë\\x8f\\x99 í\\x96\\x89ë\\x8f\\x99 ì\\xa0\\x84ë¬¸ê°\\x80ê°\\x80 ë\\x90\\x98ê¸° ì\\x9c\\x84í\\x95\\x9c í\\x94\\x84ë¡\\x9cê·¸ë\\x9e¨ë\\x8f\\x84 ë§\\x88ë\\xa0¨ë\\x8f¼ ì\\x9e\\x88ë\\x8b¤.\\xa0ë¯¸êµ\\xad í\\x96\\x89ë\\x8f\\x99 ì\\xa0\\x84ë¬¸ê°\\x80 ì\\x9e\\x90ê²©ì¦\\x9dì\\x9d¸\\xa0BCBAì\\x9d\\x98 ì\\x9e\\x90ê²©ì\\x9d\\x84 ì\\x9c\\xa0ì§\\x80í\\x95\\x98ë\\xa0¤ë©´\\xa02ë\\x85\\x84 ì£¼ê¸°ë¡\\x9c\\xa035í\\x95\\x99ì\\xa0\\x90ì\\x9d\\x84 ì\\x9d´ì\\x88\\x98í\\x95´ì\\x95¼ í\\x95\\x9cë\\x8b¤.\\xa0ê¹\\x80ì\\x88\\x99í\\x9d¬BCBAë\\x8a\\x94 ê·¸ í\\x95\\x99ì\\xa0\\x90ì\\x9d\\x84 ì\\xa0\\x9cê³µí\\x95´ì¤\\x84 ì\\x88\\x98 ì\\x9e\\x88ë\\x8a\\x94 í\\x94\\x84ë¡\\x9cë°\\x94ì\\x9d´ë\\x8d\\x94(provider)ë¡\\x9cì\\x84\\x9c ì\\xa0\\x84ë¬¸ê°\\x80ë\\x93¤ì\\x97\\x90ê²\\x8c í\\x95\\x84ì\\x9a\\x94í\\x95\\x9c ì§\\x80ì\\x8b\\x9dì\\x9d\\x84 ì\\xa0\\x84ë\\x8b¬í\\x95\\x98ê³\\xa0 ì\\x9e\\x88ë\\x8b¤.\\r\\n\\xa0\\r\\n\\nQ.\\xa0ë\\x8b¤ë¥¸ ì\\x97\\x85ì¢\\x85ê³¼ ë¹\\x84êµ\\x90í\\x95´\\xa0ABA4kidsë§\\x8cì\\x9d\\x98 í\\x8a¹ì§\\x95ì\\x9d´ ì\\x9e\\x88ë\\x8b¤ë©´ ë§\\x90ì\\x94\\x80í\\x95´ì£¼ì\\x8b\\xadì\\x8b\\x9cì\\x98¤.\\r\\n\\n\\xa0\\r\\n\\nA.\\xa0ì\\x9a°ì\\x84\\xa0 êµ\\xadë\\x82´ ìµ\\x9cì´\\x88ë¡\\x9c ë\\x8b¤ì\\x96\\x91í\\x95\\x9c ì\\x98¨ë\\x9d¼ì\\x9d¸ ì¤\\x91ì\\x9e¬ í\\x94\\x84ë¡\\x9cê·¸ë\\x9e¨ì\\x9d\\x84 í\\x99\\x9cì\\x84±í\\x99\\x94í\\x95\\x9c ì\\xa0\\x90ì\\x9d´ ê°\\x80ì\\x9e¥ í\\x81° í\\x8a¹ì§\\x95ì\\x9d´ë\\x8b¤.\\xa0ì\\x9d´ í\\x94\\x84ë¡\\x9cê·¸ë\\x9e¨ì\\x9c¼ë¡\\x9c ì\\x8b\\x9cê°\\x84,\\xa0ì\\x9e¥ì\\x86\\x8cì\\x9d\\x98 ì\\xa0\\x9cì\\x95½ì\\x9d\\x84 ë\\x91\\x90ì§\\x80 ì\\x95\\x8aê³\\xa0 í\\x9a¨ê³¼ì\\xa0\\x81ì\\x9c¼ë¡\\x9c ì¤\\x91ì\\x9e¬ë¥¼ ë°\\x9bì\\x9d\\x84 ì\\x88\\x98 ì\\x9e\\x88ë\\x8b¤.\\xa0í\\x98\\x84ì\\x9e¬ ì\\x9d´ ì\\x84\\x9cë¹\\x84ì\\x8a¤ë¥¼ ë°\\x9bë\\x8a\\x94 ë¶\\x84ë\\x93¤ì\\x9d\\x80 ì\\x84\\x9cì\\x9a¸,\\xa0ê²½ê¸°,\\xa0ê´\\x91ì£¼,\\xa0ë\\x8c\\x80êµ¬ ë\\x93±ì\\x9d\\x84 í\\x8f¬í\\x95¨ ì\\xa0\\x84êµ\\xadì\\x9d\\x98 ë\\x8b¤ì\\x96\\x91í\\x95\\x9c ì§\\x80ì\\x97\\xadì\\x97\\x90 ë¶\\x84í\\x8f¬ë\\x90\\x98ì\\x96´ ì\\x9e\\x88ë\\x8b¤.\\xa0ì\\x98¬í\\x95´ ì½\\x94ë¡\\x9cë\\x82\\x9819\\xa0ë°\\x9cì\\x83\\x9d ì\\x9d´í\\x9b\\x84ë¡\\x9cë\\x8a\\x94 ê°\\x9cë³\\x84 ì¤\\x91ì\\x9e¬ë¿\\x90 ì\\x95\\x84ë\\x8b\\x88ë\\x9d¼ êµ\\x90ì\\x9c¡ì²\\xadì\\x9d´ë\\x82\\x98 í\\x95\\x99êµ\\x90ì\\x97\\x90ì\\x84\\x9c ì\\x9b\\x90ê²©ê°\\x95ì\\x9d\\x98ì\\x97\\x90 ë\\x8c\\x80í\\x95\\x9c ì\\x9a\\x94ì²\\xadë\\x8f\\x84 ë\\x8a\\x98ì\\x96´ë\\x82\\x98ë\\x8a\\x94 ì¶\\x94ì\\x84¸ë\\x8b¤.\\xa0ì§\\x80ê¸\\x88ì²\\x98ë\\x9f¼ ì½\\x94ë¡\\x9cë\\x82\\x9819ë¡\\x9c ë¹\\x84ë\\x8c\\x80ë©´ì\\x9d´ í\\x99\\x94ë\\x91\\x90ê°\\x80 ë\\x90\\x98ë\\x8a\\x94 ì\\x8b\\x9cë\\x8c\\x80ì\\x97\\x90 ì\\x9d´ë\\x9f° í\\x94\\x84ë¡\\x9cê·¸ë\\x9e¨ë\\x93¤ì\\x9d´ ë\\x8d\\x94ì\\x9a± í\\x99\\x9cì\\x84±í\\x99\\x94ë\\x90\\x98ì\\x96´ ë§\\x8eì\\x9d\\x80 ë¶\\x84ì\\x97\\x90ê²\\x8c ë\\x8f\\x84ì\\x9b\\x80ì\\x9d´ ë\\x90\\x98ì\\x97\\x88ì\\x9c¼ë©´ í\\x95\\x9cë\\x8b¤.\\r\\n\\n\\xa0\\r\\n\\ní\\x8a¹í\\x9e\\x88\\xa0ABAë\\x8a\\x94 ì\\x84\\x9cë¹\\x84ì\\x8a¤ë¥¼ ë°\\x9bì\\x9c¼ë\\xa0¤ í\\x95´ë\\x8f\\x84 ì¹\\x98ë£\\x8cì\\x8b¤ì\\x9d´ ì£¼ì\\x9c\\x84ì\\x97\\x90 ì\\x97\\x86ë\\x8b¤ë\\x93\\xa0ê°\\x80,\\xa0ë\\x8c\\x80ê¸°ê°\\x80 ë\\x84\\x88ë¬´ ê¸¸ë\\x8b¤ë\\x93\\xa0ê°\\x80,\\xa0ë¹\\x84ì\\x9a©ì\\x9d´ ë\\x84\\x88ë¬´ ë¹\\x84ì\\x8b¸ ê³\\xa0ë¯¼ì\\x9d\\x84 í\\x95\\x98ì\\x8b\\x9cë\\x8a\\x94 ë¶\\x84ë\\x93¤ì\\x9d´ ë§\\x8eì\\x9d\\x80 ë\\x8d° ì\\x9b\\x90ê²© í\\x99\\x94ì\\x83\\x81 ì\\x84\\x9cë¹\\x84ì\\x8a¤ë\\x8a\\x94 ì\\x9d´ë\\x9f¬í\\x95\\x9c ê³\\xa0ë¯¼ì\\x9d\\x84 í\\x95´ê²°í\\x95´ ì¤\\x84 ì\\x88\\x98 ì\\x9e\\x88ë\\x8b¤.\\xa0ì£¼ì\\x97\\x90\\xa01~2ë²\\x88\\xa030~40ë¶\\x84 ì\\xa0\\x84ë¬¸ê°\\x80ì\\x99\\x80 ë§\\x8cë\\x82\\x98ì\\x84\\x9c ì§\\x80ë\\x8f\\x84ë°\\x9bê³\\xa0 ê·¸ê²\\x83ì\\x9d\\x84 ë\\x82´ ì\\x95\\x84ì\\x9d´ì\\x97\\x90ê²\\x8c ì\\xa0\\x81ì\\x9a©í\\x95\\x98ë©´ ë\\x90\\x9cë\\x8b¤.\\xa0ì\\x96´ì°¨í\\x94¼ ì½\\x94ë¡\\x9cë\\x82\\x9819\\xa0ì\\x9d´í\\x9b\\x84 ì¹\\x98ë£\\x8cì\\x82¬ì\\x97\\x90ê²\\x8c ì\\x95\\x84ì\\x9d´ë¥¼ ë§¡ê¸°ë\\x8a\\x94 ì\\x9d¼ì\\x9d\\x80 ì\\xa0\\x90ì\\xa0\\x90 ì¤\\x84ì\\x96´ë\\x93¤ê³\\xa0 ë¶\\x80ëª¨ê°\\x80 ë\\x8d\\x94 ì\\xa0\\x81ê·¹ì\\xa0\\x81ì\\x9c¼ë¡\\x9c ê´\\x80ì\\x97¬í\\x95´ì\\x95¼ë§\\x8c í\\x95\\x98ë\\x8a\\x94 ì\\x8b\\x9cë\\x8c\\x80ë¡\\x9c ë°\\x94ë\\x80\\x8cì\\x96´ ê°\\x80ê³\\xa0 ì\\x9e\\x88ë\\x8b¤.\\r\\n\\nì¤\\x91ì\\x9e¬ë¥¼ ë°\\x9bì\\x9d\\x84 ì\\x95\\x84ë\\x8f\\x99ì\\x9d\\x98 ë\\x82\\x98ì\\x9d´ ì\\xa0\\x9cí\\x95\\x9cì\\x9d\\x84 ë\\x91\\x90ì§\\x80 ì\\x95\\x8aë\\x8a\\x94ë\\x8b¤ë\\x8a\\x94 ì\\xa0\\x90ì\\x9d´ ë\\x91\\x90 ë²\\x88ì§¸ í\\x8a¹ì§\\x95ì\\x9d´ë\\x8b¤.\\xa0ì£¼ë¡\\x9c í\\x95\\x99ë\\xa0¹ ì\\xa0\\x84 ì\\x95\\x84ë\\x8f\\x99ì\\x9d\\x84 ì¤\\x91ì\\x8b¬ì\\x9c¼ë¡\\x9c ì\\x9d´ë£¨ì\\x96´ì§\\x80ë\\x8a\\x94 ë\\x8b¤ë¥¸ ì\\x84¼í\\x84°ì\\x99\\x80 ë\\x8b¬ë¦¬ ì¤\\x91ê³\\xa0ì\\x83\\x9d ë°\\x8f ì²\\xadë\\x85\\x84ê¹\\x8cì§\\x80 í\\x8f\\xadë\\x84\\x93ê²\\x8c ë\\x8b¤ë£¬ë\\x8b¤.\\xa0ë¬¸ì\\xa0\\x9cí\\x96\\x89ë\\x8f\\x99ì¤\\x91ì\\x9e¬ì\\x99\\x80 ê¸°ì\\x88\\xa0 ì\\x98¬ë¦¬ê¸° ì¤\\x91ì\\x9e¬ë\\x8f\\x84 ê·\\xa0í\\x98\\x95 ì\\x9e\\x88ê²\\x8c ë\\x93¤ì\\x96´ê°\\x84ë\\x8b¤.\\xa0ì\\x95\\x84ë\\x8f\\x99ì\\x9d\\x98 ë¬¸ì\\xa0\\x9cí\\x96\\x89ë\\x8f\\x99 ë\\x95\\x8cë¬¸ì\\x97\\x90 ê¸°ì\\x88\\xa0ì\\x9d´ ì\\x98¬ë\\x9d¼ê°\\x80ì§\\x80 ì\\x95\\x8aë\\x8a\\x94 ê²½ì\\x9a°ë\\x8f\\x84 ì\\x9e\\x88ê³\\xa0 ê¸°ì\\x88\\xa0ì\\x9d´ ë\\x82®ì\\x95\\x84ì\\x84\\x9c ë¬¸ì\\xa0\\x9cí\\x96\\x89ë\\x8f\\x99ì\\x9d´ ë\\x82\\x98í\\x83\\x80ë\\x82\\x98ë\\x8a\\x94 ê²½ì\\x9a°ë\\x8f\\x84 ì\\x9e\\x88ë\\x8a\\x94ë\\x8d°,\\xa0ë³¸ ì\\x84¼í\\x84°ì\\x97\\x90ì\\x84\\x9cë\\x8a\\x94 ì\\x9d´ ë\\x91\\x90 ì¤\\x91ì\\x9e¬ë¥¼ ë\\x8f\\x99ì\\x8b\\x9cì\\x97\\x90 ê·\\xa0í\\x98\\x95 ì\\x9e\\x88ê²\\x8c ì¤\\x91ì\\x9e¬í\\x95¨ì\\x9c¼ë¡\\x9cì\\x8d¨ ë§\\x8cì¡±í\\x95\\xa0ë§\\x8cí\\x95\\x9c í\\x9a¨ê³¼ë¥¼ ê±°ë\\x91\\x90ê³\\xa0 ì\\x9e\\x88ë\\x8b¤.\\r\\n\\n\\xa0\\r\\n\\në§\\x88ì§\\x80ë§\\x89ì\\x9c¼ë¡\\x9c ì\\x9b\\x90í\\x99\\x9cí\\x95\\x9c ì\\x86\\x8cí\\x86µì\\x9d\\x84 í\\x8a¹ì§\\x95ì\\x9d´ë\\x8b¤.\\xa0ë\\x8b¹ì\\x82¬ë\\x8a\\x94 ë¸\\x94ë¡\\x9cê·¸,\\xa0ë°´ë\\x93\\x9c,\\xa0í\\x99\\x88í\\x8e\\x98ì\\x9d´ì§\\x80ë¥¼ í\\x86µí\\x95´ ì\\x83\\x81ì\\x8b\\x9c ì\\x9c\\xa0ì\\x9a©í\\x95\\x9c ì\\xa0\\x95ë³´ë¥¼ ì\\xa0\\x9cê³µí\\x95\\x98ê³\\xa0 ì§\\x88ë¬¸ì\\x97\\x90 ë\\x8bµí\\x95´ë\\x93\\x9cë¦¬ê³\\xa0 ì\\x9e\\x88ë\\x8b¤.\\r\\n\\n\\xa0\\r\\n\\n\\xa0\\r\\n\\nQ. ABA4kidsì\\x9d\\x84 ì\\x9a´ì\\x98\\x81í\\x95\\x98ë©´ì\\x84\\x9c ì\\x9a°ì\\x84\\xa0ì\\x9c¼ë¡\\x9c ë³´ë\\x8a\\x94 ê°\\x80ì¹\\x98ê´\\x80ê³¼ ì²\\xa0í\\x95\\x99ì\\x9d\\x80 ë¬´ì\\x97\\x87ì\\x9e\\x85ë\\x8b\\x88ê¹\\x8c.\\r\\n\\n\\xa0\\r\\n\\nA.\\xa0ABA\\xa0ì¤\\x91ì\\x9e¬ì\\x9d\\x98 í\\x95µì\\x8b¬ì\\x9d\\x80 ì\\x95\\x84ë\\x8f\\x99ì\\x9d\\x98 ì\\x82¶ì\\x9d\\x98 ì§\\x88ì\\x9d\\x84 ê°\\x9cì\\x84\\xa0í\\x95\\x98ë\\x8a\\x94 ê²\\x83ì\\x9d´ë\\x8b¤.\\xa0ë¶\\x80ëª¨,\\xa0êµ\\x90ì\\x82¬,\\xa0í\\x98¹ì\\x9d\\x80 ì£¼ì\\x9c\\x84 ì\\x82¬ë\\x9e\\x8cë\\x93¤ì\\x9d\\x98 ì\\x82¶ì\\x9d\\x98 ì§\\x88ì\\x9d\\x84 ê°\\x9cì\\x84\\xa0í\\x95\\x98ë\\x8a\\x94 ê²\\x83ë\\x8f\\x84 ì¤\\x91ì\\x9a\\x94í\\x95\\x98ì§\\x80ë§\\x8c,\\xa0ì\\x95\\x84ë\\x8f\\x99ì\\x97\\x90ê²\\x8c ê°\\x80ì\\x9e¥ ì¤\\x91ì\\x9a\\x94í\\x95\\x9c ê²\\x83ì\\x9d´ ë¬´ì\\x97\\x87ì\\x9d¸ì§\\x80 í\\x8c\\x90ë\\x8b¨í\\x95\\x98ì\\x97¬ ê·¸ ë¶\\x80ë¶\\x84ë¶\\x80í\\x84° ì¤\\x91ì\\x9e¬ì\\x97\\x90 ë\\x93¤ì\\x96´ê°\\x84ë\\x8b¤.\\xa0ì¤\\x91ì\\x9e¬ì\\x9d\\x98 ë\\x98\\x90 ë\\x8b¤ë¥¸ ê°\\x80ì¹\\x98ê´\\x80ì\\x9d\\x80\\xa0‘ë°°ì\\x9a°ì§\\x80 ëª»í\\x95\\x98ë\\x8a\\x94 ì\\x95\\x84ì\\x9d´ë\\x8a\\x94 ì\\x97\\x86ë\\x8b¤’ì\\x9d´ë\\x8b¤.\\xa0ë\\x8b¨ì§\\x80 ë\\x8a\\x90ë¦¬ê²\\x8c ë°°ì\\x9a°ë\\x8a\\x90ë\\x83\\x90 ë¹¨ë¦¬ ë°°ì\\x9a°ë\\x8a\\x90ë\\x83\\x90ì\\x9d\\x98 ì°¨ì\\x9d´ì\\x9d´ì§\\x80 ë°°ì\\x9a°ì§\\x80 ëª»í\\x95\\x98ë\\x8a\\x94 ì\\x95\\x84ì\\x9d´ë\\x8a\\x94 ì\\x97\\x86ë\\x8b¤.\\xa0ë\\x8b¹ì\\x82¬ì\\x97\\x90ì\\x84\\x9cë\\x8a\\x94 ì\\x95\\x84ë\\x8f\\x99ì\\x9d\\x98 í\\x98\\x84ì\\x9e¬ ê¸°ì\\x88\\xa0ì\\x9d\\x84 ì²´ê³\\x84ì\\xa0\\x81ì\\x9c¼ë¡\\x9c í\\x8f\\x89ê°\\x80í\\x95\\x98ê³\\xa0 ê°\\x9cë³\\x84ì\\xa0\\x81ì\\x9d¸ í\\x94\\x84ë¡\\x9cê·¸ë\\x9e¨ì\\x9d\\x84 êµ¬ì\\x84±í\\x95\\x9cë\\x8b¤.\\xa0ì\\x95\\x84ë\\x8f\\x99ì\\x9d´ ì\\x96´ë\\x96¤ ë¶\\x80ë¶\\x84ì\\x97\\x90ì\\x84\\x9c ë©\\x88ì¶\\x98ë\\x8b¤ë©´ ê·¸ ì\\x9b\\x90ì\\x9d¸ì\\x9d\\x84 ì²\\xa0ì\\xa0\\x80í\\x9e\\x88 ë¶\\x84ì\\x84\\x9dí\\x95\\x98ì\\x97¬ ì\\x95\\x84ë\\x8f\\x99ì\\x97\\x90ê²\\x8c ì\\x9e\\xa0ì\\x9e¬ë\\x90\\x98ì\\x96´ì\\x9e\\x88ë\\x8a\\x94 ì\\x97\\xadë\\x9f\\x89ì\\x9d\\x84 êº¼ë\\x82¼ ì\\x88\\x98 ì\\x9e\\x88ë\\x8f\\x84ë¡\\x9d ë\\x8f\\x95ë\\x8a\\x94ë\\x8b¤.\\r\\n\\n\\xa0\\r\\n\\n\\xa0\\r\\n\\nQ.\\xa0ë\\x8c\\x80í\\x91\\x9cì\\x9e\\x90ë¡\\x9cì\\x84\\x9c ê°\\x80ì\\x9e¥ í\\x81° ë³´ë\\x9e\\x8cì\\x9d\\x84 ë\\x8a\\x90ë\\x82\\x80 ì\\x82¬ë¡\\x80ê°\\x80 ì\\x9e\\x88ë\\x8b¤ë©´ ë§\\x90ì\\x94\\x80í\\x95´ ì£¼ì\\x8b\\xadì\\x8b\\x9cì\\x98¤.\\r\\n\\nA.\\xa0í\\x95\\x9cêµ\\xadì\\x97\\x90 ì\\x98¤ì\\x9e\\x90ë§\\x88ì\\x9e\\x90 ë\\x8c\\x80êµ¬ì\\x97\\x90ì\\x84\\x9c í\\x95\\x9c ë¶\\x80ë¶\\x80ê°\\x80 ì\\x98¤ì\\x85¨ë\\x8a\\x94ë\\x8d° ì\\x83\\x81ë\\x8b´ ì¤\\x91ì\\x97\\x90\\xa0“ì\\x95\\x84ë¹\\xa0,\\xa0ì\\x97\\x84ë§\\x88ë\\x9d¼ë\\x8a\\x94 ë§\\x90 í\\x95\\x9cë§\\x88ë\\x94\\x94ë§\\x8c ë\\x93¤ì\\x9c¼ë©´ ì\\x86\\x8cì\\x9b\\x90ì\\x9d´ ì\\x97\\x86ê²\\xa0ì\\x96´ì\\x9a\\x94”ë\\x9d¼ê³\\xa0 ë\\x88\\x88ë¬¼ì\\x9d\\x84 ê¸\\x80ì\\x8d½ì\\x9d´ì\\x85¨ë\\x8b¤.\\xa0ì\\x95\\x84ì\\x9d´ê°\\x80 ì\\xa0\\x84í\\x98\\x80 ë§\\x90ì\\x9d\\x84 í\\x95\\x98ì§\\x80 ëª»í\\x96\\x88ê¸° ë\\x95\\x8cë¬¸ì\\x9d´ë\\x8b¤. 2ë\\x85\\x84ì\\x9d´ ì§\\x80ë\\x82\\x9c ì§\\x80ê¸\\x88 ì\\x95\\x84ì\\x9d´ë\\x8a\\x94\\xa0“ì\\x95\\x84ë¹\\xa0,\\xa0ì\\x97\\x84ë§\\x88”ë\\x9d¼ë\\x8a\\x94 ë§\\x90ë¿\\x90ë§\\x8c ì\\x95\\x84ë\\x8b\\x88ë\\x9d¼\\xa0“ì\\x95\\x84ì\\x9d´ì\\x8a¤í\\x81¬ë¦¼ ë§\\x8eì\\x9d´ ë¨¹ì\\x9d\\x84ë\\x9e\\x98ì\\x9a\\x94” “ì\\x95\\x84ë¹\\xa0ë\\x8a\\x94 ì\\x96¸ì\\xa0\\x9c ì\\x99\\x80?”\\xa0ë\\x93± ì\\x9b¬ë§\\x8cí\\x95\\x9c ë§\\x90ë\\x93¤ì\\x9d\\x80 ë\\x8b¤ êµ¬ì\\x82¬í\\x95\\x98ê³\\xa0 ì\\x9e\\x88ë\\x8b¤.\\xa0ì\\x97\\x84ë§\\x88ë\\x8a\\x94 ì\\x95\\x84ì\\x9d´ê°\\x80 ì\\x9d´ì\\xa0\\x9c ë\\x88\\x88ì¹\\x98ë\\x8f\\x84 ì±\\x99ê¸°ê³\\xa0 ì\\x8b¬ë¶\\x80ë¦\\x84ë\\x8f\\x84 í\\x95\\x98ë\\x8a\\x94 ë\\x93±\\xa0‘ì\\x82¬ë\\x9e\\x8c’\\xa0ê°\\x99ë\\x8b¤ê³\\xa0 í\\x95\\x9cë\\x8b¤.\\r\\n\\n\\xa0\\r\\n\\në\\x98\\x90 í\\x95\\x98ë£¨ë\\x8a\\x94 ë\\x8d©ì¹\\x98ê°\\x80 í\\x81° í\\x95\\x9c ê³\\xa0ë\\x93±í\\x95\\x99ì\\x83\\x9dì\\x9d´ ì\\x97\\x84ë§\\x88 ì\\x95\\x84ë¹\\xa0ì\\x97\\x90ê²\\x8c ì\\x96\\x91í\\x8c\\x94ì\\x9d\\x84 ë¶\\x99ë\\x93¤ë\\xa0¤ì\\x84\\x9c ë\\x93¤ì\\x96´ì\\x98¤ë\\x8a\\x94ë\\x8d° ì\\x96¼êµ´ ì\\xa0\\x84ì²´ê°\\x80 ì\\x8b\\x9cí\\x8d¼ë\\xa0\\x87ê²\\x8c ë©\\x8dì\\x9d´ ë\\x93¤ì\\x96´ ì\\x9e\\x88ì\\x97\\x88ë\\x8b¤.\\xa0ì\\x95\\x84ì\\x9d´ê°\\x80 ì\\x9e\\x90í\\x95´ê°\\x80 ë\\x84\\x88ë¬´ ì\\x8b¬í\\x95´ í\\x95\\x9cì\\x8b\\x9cë\\x8f\\x84 ì\\x86\\x90ì\\x9d\\x84 ë\\x86\\x93ì\\x9d\\x84 ì\\x88\\x98ê°\\x80 ì\\x97\\x86ë\\x8b¤ë\\x8a\\x94 ë¶\\x80ëª¨ì\\x9d\\x98 ì\\x96¼êµ´ì\\x9d\\x80 ë\\x84\\x88ë¬´ë\\x82\\x98 ì\\x96´ë\\x91\\x90ì\\x9b\\xa0ë\\x8b¤. 20ë¶\\x84 ì\\xa0\\x95ë\\x8f\\x84 ë©´ë\\x8b´ì\\x9d´ ì§\\x84í\\x96\\x89ë\\x90\\x98ë\\x8a\\x94 ë\\x8f\\x99ì\\x95\\x88 ì\\x95\\x84ë¹\\xa0ë\\x8a\\x94 ë¶\\x88ì\\x8b\\xa0ì\\x9d\\x98 ë\\x88\\x88ì\\x9c¼ë¡\\x9c ì\\x99\\x9c ì\\x9e\\x90ê¾¸ ì§\\x88ë¬¸ë§\\x8c í\\x95\\x98ë\\x83\\x90ê³\\xa0 ë¹¨ë¦¬ ì\\x96´ë\\x96»ê²\\x8c ì¢\\x80 í\\x95´ë³´ë\\x9d¼ê³\\xa0 ì±\\x84ê·¼í\\x96\\x88ë\\x8b¤.\\r\\n\\n\\xa0\\r\\n\\nì\\x95\\x84ë\\x8f\\x99ì\\x9d´ ì\\x99\\x9c ê·¸ë\\x9f° í\\x96\\x89ë\\x8f\\x99ì\\x9d\\x84 í\\x95\\x98ë\\x8a\\x94ì§\\x80 ë©´ì\\xa0\\x91ê³¼ ê´\\x80ì°°ì\\x9d\\x84 í\\x86µí\\x95´ ì\\x9d¸ì§\\x80í\\x95\\x9c í\\x9b\\x84 ëª\\x87 ê°\\x80ì§\\x80 ì¤\\x91ì\\x9e¬ë²\\x95ì\\x9d\\x84 ì\\x95\\x8cë\\xa0¤ë\\x93\\x9cë\\xa0¸ê³\\xa0 ë°\\x94ë¡\\x9c ê·¸ ì\\x9e\\x90ë¦¬ì\\x97\\x90ì\\x84\\x9c ë¬¸ì\\xa0\\x9cí\\x96\\x89ë\\x8f\\x99ì\\x9d´ í\\x99\\x95ì\\x97°í\\x9e\\x88 ì¤\\x84ì\\x96´ë\\x93\\x9cë\\x8a\\x94 ê²\\x83ì\\x9d\\x84 ë³¼ ì\\x88\\x98 ì\\x9e\\x88ì\\x97\\x88ë\\x8b¤.\\xa0ì\\x96´ë\\x91\\x90ì\\x9b\\xa0ë\\x8d\\x98 ë¶\\x80ëª¨ë\\x8b\\x98ì\\x9d\\x98 ì\\x96¼êµ´ì\\x9d´ ë°\\x9dì\\x95\\x84ì§\\x80ë©° ë¶\\x88ì\\x8b\\xa0ì\\x97\\x90 ê°\\x80ë\\x93\\x9d ì°¼ë\\x8d\\x98 ì\\x95\\x84ë¹\\xa0ì\\x9d\\x98 ì\\x9e\\x85ì\\x97\\x90ì\\x84\\x9c ê°\\x90ì\\x82¬í\\x95\\x98ë\\x8b¤ë\\x8a\\x94 ì\\x86\\x8cë¦¬ê°\\x80 ë\\x82\\x98ì\\x99\\x94ê³\\xa0,\\xa0í\\x95\\x9cê²° í\\x8e¸í\\x95\\x98ê²\\x8c ì\\x95\\x84ë\\x93¤ì\\x9d\\x84 ë\\x8c\\x80í\\x95\\x98ë\\x8a\\x94 ëª¨ì\\x8aµì\\x9d\\x84 ë³´ë©° ì\\xa0\\x95ë§\\x90 ë³´ë\\x9e\\x8cì\\x9d\\x84 ë\\x8a\\x90ê¼\\x88ë\\x8b¤.\\r\\n\\nQ.\\xa0í\\x98\\x84ì\\x9e¬ì\\x9d\\x98 ì\\x82¬ì\\x97\\x85ì\\x9e¥ê³¼ ì\\x8b\\x9cì\\x8a¤í\\x85\\x9cì\\x9d\\x84 ë§\\x8cë\\x93¤ ì\\x88\\x98 ì\\x9e\\x88ì\\x97\\x88ë\\x8d\\x98 ë\\x85¸í\\x95\\x98ì\\x9a°(Know-how)ë¥¼ ë§\\x90ì\\x94\\x80í\\x95´ ì£¼ì\\x8b\\xadì\\x8b\\x9cì\\x98¤.\\r\\n\\n\\xa0\\r\\n\\nA.\\xa0ë¯¸êµ\\xadì\\x9d\\x98 í\\x81° ì\\x8b\\x9cì\\x8a¤í\\x85\\x9c ë\\x82´ì\\x97\\x90ì\\x84\\x9c ì\\x9d¼í\\x96\\x88ë\\x8d\\x98 ê²\\x83ì\\x9d´ ì§\\x80ê¸\\x88ì\\x9d\\x98 ì\\x82¬ì\\x97\\x85ì\\x9e¥ì\\x9d\\x84 êµ¬ì¶\\x95í\\x95\\x98ë\\x8a\\x94 ë\\x8d° ë§\\x8eì\\x9d\\x80 ë\\x8f\\x84ì\\x9b\\x80ì\\x9d´ ë\\x90\\x98ì\\x97\\x88ë\\x8b¤.\\xa0ì\\xa0\\x95ë¶\\x80 ì\\x8b\\x9cì\\x8a¤í\\x85\\x9cì\\x9d\\x84 ë¯¼ê´\\x80ì\\x9d´ ê¶\\x8cí\\x95\\x9cì\\x9d\\x84 ì\\x9d´ì\\x96\\x91ë°\\x9bì\\x95\\x84 ì\\xa0\\x95ì\\x8b\\xa0ê³¼ ì\\x9d\\x98ì\\x82¬,\\xa0ì\\x8b¬ë¦¬í\\x95\\x99ì\\x9e\\x90,\\xa0ì\\x83\\x81ë\\x8b´ê°\\x80,\\xa0ë\\x8b¤ì\\x96\\x91í\\x95\\x9c ë¶\\x84ì\\x95¼ì\\x9d\\x98 ì¹\\x98ë£\\x8cì\\x82¬ ë\\x93± ì\\x97¬ë\\x9f¬ ì\\xa0\\x84ë¬¸ê°\\x80ì\\x99\\x80 í\\x98\\x91ì\\x97\\x85í\\x95\\x98ë\\x8a\\x94 ì\\x8b\\x9cì\\x8a¤í\\x85\\x9cì\\x9d´ì\\x97\\x88ë\\x8b¤.\\xa0ì¹\\x98ë£\\x8cì\\x8b¤ì\\x97\\x90ì\\x84\\x9c ì¤\\x91ì\\x9e¬ê°\\x80 ì£¼ë¡\\x9c ì\\x9d´ë£¨ì\\x96´ì§\\x80ë\\x8a\\x94 í\\x95\\x9cêµ\\xadê³¼ ë\\x8b¬ë¦¬ ì§\\x91,\\xa0í\\x95\\x99êµ\\x90,\\xa0ë³\\x91ì\\x9b\\x90 ë\\x93± ë\\x8b¤ì\\x96\\x91í\\x95\\x9c í\\x98\\x84ì\\x9e¥ì\\x97\\x90ì\\x84\\x9c êµ\\x90ì\\x82¬,\\xa0ì\\x9d\\x98ì\\x82¬ë\\x82\\x98 ë¶\\x80ëª¨ì\\x99\\x80 ê°\\x99ì\\x9d´ ì¤\\x91ì\\x9e¬í\\x95\\x98ë\\x8a\\x94 í\\x99\\x98ê²½ì\\x9d´ì\\x96´ì\\x84\\x9c ì¢\\x8bì\\x9d\\x80 ê²½í\\x97\\x98ì\\x9d\\x84 ì\\x8c\\x93ì\\x9d\\x84 ì\\x88\\x98 ì\\x9e\\x88ì\\x97\\x88ë\\x8b¤.\\xa0ì\\x97°ë\\xa0¹ë\\x8c\\x80ê°\\x80\\xa021ì\\x84¸ê¹\\x8cì§\\x80 í\\x8f\\xadë\\x84\\x93ì\\x97\\x88ê³\\xa0 ì\\x9e\\x90í\\x8f\\x90ë¥¼ ë¹\\x84ë¡¯í\\x95\\x98ì\\x97¬\\xa0ADHD, ODD,\\xa0ì\\xa0\\x95ì\\x84\\x9cì\\x9e¥ì\\x95\\xa0 ë\\x93± ì§\\x84ë\\x8b¨ëª\\x85ë\\x8f\\x84 ë\\x8b¤ì\\x96\\x91í\\x96\\x88ë\\x8b¤.\\xa0ì\\x9d´ë\\x95\\x8c ë§\\x8eì\\x9d\\x80 ì\\x82¬ë¡\\x80ë¥¼ ì\\xa0\\x91í\\x95\\x98ê³\\xa0 ì¤\\x91ì\\x9e¬í\\x96\\x88ë\\x8d\\x98 ê²½í\\x97\\x98ì\\x9d´ í\\x98\\x84ì\\x9e¬ì\\x9d\\x98 ì\\x8b\\x9cì\\x8a¤í\\x85\\x9cì\\x9d\\x84 ì\\x9e\\x88ê²\\x8c í\\x96\\x88ë\\x8b¤.\\r\\n\\n\\xa0\\r\\n\\n\\xa0\\r\\n\\nQ.\\xa0ì\\x95\\x9eì\\x9c¼ë¡\\x9cì\\x9d\\x98 ì\\xa0\\x84ë§\\x9dê³¼ ëª©í\\x91\\x9cë¥¼ ë§\\x90ì\\x94\\x80í\\x95´ ì£¼ì\\x8b\\xadì\\x8b\\x9cì\\x98¤.\\r\\n\\n\\xa0\\r\\n\\nA.\\xa0ë¶\\x80ëª¨,\\xa0êµ\\x90ì\\x82¬ë\\x93¤ì\\x97\\x90ê²\\x8c í\\x9a¨ê³¼ì\\xa0\\x81ì\\x9d¸ ì¤\\x91ì\\x9e¬ë²\\x95ì\\x9d\\x84 ì\\xa0\\x84ì\\x88\\x98í\\x95\\x98ì\\x97¬ ê·¸ë\\x93¤ì\\x9d´ ì§\\x91ì\\x9d´ë\\x82\\x98 í\\x95\\x99êµ\\x90ë¡\\x9c ë\\x8f\\x8cì\\x95\\x84ê°\\x80ì\\x84\\x9c ì\\x9e\\x90ì\\x8b\\xa0ì\\x9d\\x98 ì\\x9e\\x90ë\\x85\\x80ë\\x82\\x98 í\\x95\\x99ì\\x83\\x9dë\\x93¤ì\\x97\\x90ê²\\x8c ì\\x98¬ë°\\x94ë¥´ê²\\x8c ë\\x8b¤ë£° ì\\x88\\x98 ì\\x9e\\x88ë\\x8f\\x84ë¡\\x9d ê³\\x84ì\\x86\\x8d ë\\x85¸ë\\xa0¥í\\x95\\x98ê²\\xa0ë\\x8b¤.\\xa0ê·¸ë¦¬ê³\\xa0\\xa0ABAê°\\x80 í\\x95\\x99ì\\x97\\x85ì\\x97\\x90 í\\x95\\x84ì\\x9a\\x94í\\x95\\x9c ì\\x97¬ë\\x9f¬ ê¸°ì\\x88\\xa0ì\\x9d\\x84 ì\\x98¬ë¦¬ë\\x8a\\x94 ë\\x8d° ì\\xa0\\x81ì\\x9a©ë\\x90\\xa0 ì\\x88\\x98 ì\\x9e\\x88ë\\x8f\\x84ë¡\\x9d ì§\\x80ê¸\\x88ì²\\x98ë\\x9f¼ ì\\x97¬ë\\x9f¬ í\\x95\\x99êµ\\x90ë\\x82\\x98 êµ\\x90ì\\x9c¡ì²\\xadê³¼ ê³\\x84ì\\x86\\x8d í\\x98\\x91ì\\x97\\x85í\\x95\\xa0 ê³\\x84í\\x9a\\x8dì\\x9d´ë\\x8b¤.\\xa0ë\\x98\\x90í\\x95\\x9c\\xa0ABAë¥¼ ë\\x88\\x84êµ¬ë\\x82\\x98 ì\\x89½ê²\\x8c ì\\xa0\\x91í\\x95\\xa0 ì\\x88\\x98 ì\\x9e\\x88ë\\x8f\\x84ë¡\\x9d ê³\\x84ì\\x86\\x8d ë\\x85¸ë\\xa0¥í\\x95\\x98ë\\xa0¤ê³\\xa0 í\\x95\\x9cë\\x8b¤.\\r\\n\\n\\xa0\\r\\n\\n2017ë\\x85\\x84 ë\\x95\\x8c\\xa0‘í\\x99\\x88ABA:\\xa0ì\\x9a°ë¦¬ì\\x95\\x84ì\\x9d´ í\\x96\\x89ë\\x8f\\x99ì¤\\x91ì\\x9e¬’ë\\x9d¼ë\\x8a\\x94 ì±\\x85ì\\x9d\\x84 ì¶\\x9cí\\x8c\\x90í\\x95\\x98ì\\x98\\x80ë\\x8b¤.\\xa0ì\\xa0\\x84ë¬¸ê°\\x80ë\\x93¤ì\\x9d\\x84 ì\\x9c\\x84í\\x95\\x9c ì\\x84\\x9cì\\xa0\\x81ì\\x9d\\x80 ë§\\x8eì\\x9c¼ë\\x82\\x98 ì\\x9d¼ë°\\x98 ë\\x8c\\x80ì¤\\x91ì\\x9d\\x84 ì\\x9c\\x84í\\x95\\x9c ì\\xa0\\x84ë¬¸ì\\x84\\x9cì\\xa0\\x81ì\\x9d´ ì\\x97\\x86ë\\x8b¤ë\\x8a\\x94 ë¶\\x80ëª¨ë\\x8b\\x98ë\\x93¤ì\\x9d\\x98 ì\\x9d´ì\\x95¼ê¸°ë¥¼ ë\\x93£ê³\\xa0 ì\\xa0\\x84ë¬¸ì\\xa0\\x81ì\\x9d¸ ë\\x82´ì\\x9a©ì\\x9d\\x80 ë\\x8b´ì\\x95\\x98ì\\x9c¼ë\\x82\\x98 ìµ\\x9cë\\x8c\\x80í\\x95\\x9c ì\\x96´ë\\xa0¤ì\\x9a´ ì\\xa0\\x84ë¬¸ì\\x9a©ì\\x96´ë\\x8a\\x94 ë¹¼ê³\\xa0 ì\\x9d¼ë°\\x98 ë¶\\x80ëª¨,\\xa0êµ\\x90ì\\x82¬ë\\x93¤ë\\x8f\\x84 ì\\x9d´í\\x95´í\\x95\\xa0 ì\\x88\\x98 ì\\x9e\\x88ë\\x8f\\x84ë¡\\x9d ë\\x82´ì\\x9a©ì\\x9d\\x84 êµ¬ì\\x84±í\\x95\\x98ì\\x98\\x80ë\\x8b¤.\\xa0ì\\x95\\x9eì\\x9c¼ë¡\\x9cë\\x8f\\x84 ë¸\\x94ë¡\\x9cê·¸,\\xa0ë°´ë\\x93\\x9c,\\xa0í\\x99\\x88í\\x8e\\x98ì\\x9d´ì§\\x80ë¥¼ í\\x86µí\\x95\\x98ì\\x97¬ ì\\x96\\x91ì§\\x88ì\\x9d\\x98 ì\\xa0\\x95ë³´ë¥¼ ë\\x8c\\x80ì¤\\x91ì\\x97\\x90ê²\\x8c ì\\xa0\\x84ë\\x8b¬í\\x95\\x98ë\\x8a\\x94 ì\\x9d¼ì\\x9d\\x84 ê³\\x84ì\\x86\\x8dí\\x95\\x98ë\\xa0¤ê³\\xa0 í\\x95\\x9cë\\x8b¤.\\r\\n\\n\\xa0\\r\\n\\nQ. ë§\\x88ì§\\x80ë§\\x89ì\\x9c¼ë¡\\x9c\\xa0í\\x95´ë\\x8b¹ ì\\x9d¸í\\x84°ë·° ê¸°ì\\x82¬ë¥¼ ì\\xa0\\x91í\\x95\\x98ê²\\x8c ë\\x90\\xa0 ë\\x8f\\x85ì\\x9e\\x90ì\\x97\\x90ê²\\x8c ì\\xa0\\x84í\\x95\\x98ì\\x8b¤ ë§\\x90ì\\x94\\x80 ë¶\\x80í\\x83\\x81ë\\x93\\x9cë¦½ë\\x8b\\x88ë\\x8b¤.\\xa0\\r\\n\\n\\xa0\\r\\n\\nA.\\xa0ABAë\\x8a\\x94 ì\\x9e\\x90í\\x8f\\x90ë¿\\x90 ì\\x95\\x84ë\\x8b\\x88ë\\x9d¼ ì\\x97¬ë\\x9f¬ í\\x96\\x89ë\\x8f\\x99ë¬¸ì\\xa0\\x9cê°\\x80 ì\\x9e\\x88ë\\x8a\\x94 ì\\x95\\x84ë\\x8f\\x99ë\\x93¤ì\\x97\\x90ê²\\x8c ì²´ê³\\x84ì\\xa0\\x81ì\\x9d´ê³\\xa0 í\\x9a¨ê³¼ì\\xa0\\x81ì\\x9c¼ë¡\\x9c ì¤\\x91ì\\x9e¬í\\x95\\xa0 ì\\x88\\x98 ì\\x9e\\x88ë\\x8a\\x94 ê³¼í\\x95\\x99ì\\xa0\\x81ì\\x9d¸ ì¤\\x91ì\\x9e¬ë²\\x95ì\\x9d\\x84 ì\\xa0\\x9cê³µí\\x95´ë\\x93\\x9cë¦°ë\\x8b¤.\\xa0ë§\\x8eì\\x9d\\x80 ë¶\\x84ì\\x9d´\\xa0ABAì\\x97\\x90 ë\\x8c\\x80í\\x95´ ì\\x98¤í\\x95´í\\x95\\x98ê±°ë\\x82\\x98 ì\\xa0\\x95í\\x99\\x95í\\x95\\x98ì§\\x80 ì\\x95\\x8aì\\x9d\\x80 ì\\xa0\\x95ë³´ë¥¼ ê°\\x80ì§\\x80ê³\\xa0 ë\\x82´ ì\\x95\\x84ì\\x9d´ì\\x97\\x90ê²\\x8c ì\\xa0\\x81ì\\x9a©í\\x95\\x98ë\\x8b¤ê°\\x80 ë\\x82\\xadí\\x8c¨ë¥¼ ë³´ë\\x8a\\x94 ì\\x9d¼ì\\x9d´ ì¢\\x85ì¢\\x85 ì\\x9e\\x88ë\\x8b¤.\\xa0ë°\\x98ë\\x93\\x9cì\\x8b\\x9c ì\\x9e\\x90ê²© ì\\x9e\\x88ë\\x8a\\x94 ì\\xa0\\x84ë¬¸ê°\\x80ë¥¼ ì°¾ì\\x95\\x84ì\\x84\\x9c ë\\x82´ ì\\x95\\x84ì\\x9d´ì\\x97\\x90ê²\\x8c í\\x9a¨ê³¼ì\\xa0\\x81ì\\x9d¸ ì¤\\x91ì\\x9e¬ë²\\x95ì\\x9d\\x84 ì\\xa0\\x81ì\\x9a©í\\x95\\x98ì\\x8b\\x9cê¸° ë°\\x94ë\\x9e\\x80ë\\x8b¤. ê³µì§\\x80ì\\x82¬í\\x95\\xad Notice 2023. 5ì\\x9b\\x94 ABAê¸°ì´\\x88ì\\x9b\\x8cí\\x81¬ì\\x83µ ì\\x9d¼ì\\xa0\\x95 ê³µì§\\x80 2023-04-16 ABA ì£¼ì\\xa0\\x9cë³\\x84ê°\\x95ì\\x9d\\x98(ì\\x98¨ë\\x9d¼ì\\x9d¸) 2023. 3 2023-03-05 2023. 2ì\\x9b\\x94 ABAê¸°ì´\\x88ì\\x9b\\x8cí\\x81¬ì\\x83µ(ì\\x98¨ë\\x9d¼ì\\x9d¸) 2023-01-24 2023.01 ABAì£¼ì\\xa0\\x9cë³\\x84ê°\\x95ì\\x9d\\x98 2022-12-18 ì\\x9c\\xa0ì¹\\x98ì\\x9b\\x90 ë°\\x8f ì´\\x88ë\\x93±í\\x9e\\x89êµ\\x90 ì\\x9e\\x85í\\x95\\x99ì\\xa0\\x81ì\\x9d\\x91 Q &A ê°\\x95ì\\x9d\\x98 2022-11-21 ë¶\\x80ì\\x82°ê´\\x91ì\\x97\\xadì\\x8b\\x9c ë\\x82¨êµ¬ ì\\x88\\x98ì\\x98\\x81ë¡\\x9c 312 (21 ì\\x84¼ì¸\\x84ë¦¬ì\\x8b\\x9cí\\x8b°ì\\x98¤í\\x94¼ì\\x8a¤í\\x85\\x94) 1238í\\x98¸ ì§\\x80ë\\x8f\\x84ë¡\\x9c í\\x81¬ê²\\x8c ë³´ê¸° êµ\\x90í\\x86µí\\x8e¸ ì\\x9e\\x90ì\\x84¸í\\x9e\\x88 ë³´ê¸° ì\\x97°êµ¬ì\\x86\\x8c ì\\x86\\x8cê°\\x9c ì\\x9d´ì\\x9a©ì\\x95½ê´\\x80 ê°\\x9cì\\x9d¸ì\\xa0\\x95ë³´ì·¨ê¸\\x89ë°©ì¹¨ ì\\x83\\x81í\\x98¸ : ABA4kidsí\\x96\\x89ë\\x8f\\x99ì¤\\x91ì\\x9e¬ì\\x97°êµ¬ì\\x86\\x8c\\u2003[48508]  ë¶\\x80ì\\x82°ê´\\x91ì\\x97\\xadì\\x8b\\x9c ë\\x82¨êµ¬ ì\\x88\\x98ì\\x98\\x81ë¡\\x9c 312 (21 ì\\x84¼ì¸\\x84ë¦¬ì\\x8b\\x9cí\\x8b°ì\\x98¤í\\x94¼ì\\x8a¤í\\x85\\x94) 1238í\\x98¸ ì\\x82¬ì\\x97\\x85ì\\x9e\\x90ë\\x93±ë¡\\x9dë²\\x88í\\x98¸ : 351-17-00755>\\u2003ì\\xa0\\x84í\\x99\\x94ë²\\x88í\\x98¸ : 051.610.1228\\u2003ëª¨ë°\\x94ì\\x9d¼ : 010.4605.1228\\u2003ì\\x9d´ë©\\x94ì\\x9d¼ : aba4kids@naver.com Copyright (c) 2018 ABA4kidsí\\x96\\x89ë\\x8f\\x99ì¤\\x91ì\\x9e¬ì\\x97°êµ¬ì\\x86\\x8c All Rights Reserved.'),\n",
       " ('ABA Behavioral Health',\n",
       "  \"Home - Ababehavioralhealth Com ABA Behavioral Health Home About Contact ABA Behavioral Health What is ABA? A scientifically proven therapy that helps children with autism live happy and healthy lives to the best of their ability, by improving social, communication, and learning skills using positive reinforcement. Services we provide Clinical Therapy Our clinic is located in the heart of Fort Walton Beach, FL. School Integration Some children just need a little extra help in the school setting. Our therapists are credentialed through the school district to enter schools and provide that extra help for your child. Parent Training Parent training is provided by our Board Certified Behavior Analysts to parents to teach them the necessary skills needed to improve their Childs behavior even when a therapist is not present. In Home Therapy ABA therapy provided in the home setting to help children generalize skills they have learned in the clinic setting. Community Based Therapy Community safety skills are a vital piece of ABA therapy so your children can remain safe when you're not at home. ABA Behavioral Health Home About Contact Address 103 Rickey Ave. Unit C. Fort Walton Beach, FL, 32547, US (850) 376-5624 Ababehavioralhealth@gmail.com Insurance We are currently only taking Tricare insurance at this time. We are in the process of getting credentialed with Aetna, Blue Cross Blue Shield, and Medicaid insurances Â© 2022 ABA Behavioral Health Follow us\"),\n",
       " ('ABA Centers of America', ''),\n",
       " ('Applied Behavior Analysis Center',\n",
       "  'ABAC Please ensure Javascript is enabled for purposes of website accessibility info@abacnj.com 908-276-6500 Get a 20% off Coupon Code Contact Us Dashboard Cart All Live and On-Demand Programs Live Events On-Demand Fidelity-Based Training Programs by Credit Type RUBI Parent Training Program Workshops and Trainings On-Demand Interprofessional Practice Series Partnership Events ABACLive Cambridge Center Series ABAi VB-Sig Partnership Request a Student Coupon Code for a n ABAC/VB-Sig Program Help Login Copyright © The Applied Behavior Analysis Center, LLC - All rights reserved. About Help Policies'),\n",
       " ('ABA Services of Colorado',\n",
       "  'Home | Therapy for Children, Centennial, CO | ABA Services of Colorado Skip to content Select Language Arabic Chinese (Simplified) Dutch English French German Italian Portuguese Russian Spanish (720) 670-9046 Effective Therapy For Lasting Change Home About Us Our Story Our Team Services What is ABA? Our Services Getting Started Employment News & Updates Contact Home About Us Our Story Our Team Services What is ABA? Our Services Getting Started Employment News & Updates Contact Compassionate Care for Your Child Treating Neurodevelopmental Disorders since 2011 Learn More Treating autism spectrum and neurodevelopmental disorders since 2011 Welcome to ABA Services of Colorado! ABA Services of the Front Range opened in 2011 to provide effective therapy for lasting change through applied behavior analysis (ABA) for individuals with autism, behavior concerns, and a range of neurodevelopmental disorders and health conditions. We expanded to include ABA Serves of the Roaring Fork Valley in 2018, and in 2019 we changed our name to ABA Services of Colorado to reflect our multiple locations. The team here at ABA Services of Colorado includes therapists, consultants, and a supervising administrative team. ABA Services of Colorado takes a compassionate and data-driven approach to intentional applied behavior analysis through clinic-based services, home-based consultation, and school-based consultation. We work with your insurance so you and your child can focus on your lives. How can we help you today? Statement on the anti-ABA movement ABA Services of Colorado is doing our part to understand the perspective of the anti-ABA movement and identify what we can do as clinicians to make positive changes in the field of ABA. We make a commitment to our clients to celebrate neurodiversity and to create learning opportunities that are meaningful, assent based, and trauma informed. Please see the News & Updates section of our website for our full statement on how we are responding to the anti-ABA movement. Anti-Racism Statement “Not everything that is faced can be changed, but nothing can be changed until it is faced.” ― James Baldwin At ABA services of Colorado, it is our mission to use compassionate, effective therapy for lasting change that is socially meaningful. It is clear, and has been clear, that this must include the dismantling of white supremacy as it exists within this company, in the United States, and in the world at large. The oppression in the United States and around the world that people of color, members of the LGBTQ+ community, the neurodiverse community, and women experience can no longer be accepted. To be silent is to be complicit. George Floyd, Breonna Taylor, Rayshard Brooks, Tony McDade, Elijah McClain, Sandra Bland, Tamir Rice, Eric Garner, Philando Castile, and so many others who were killed for being Black in America cannot and must not go unnoticed. We will say their names because Black Lives\\xa0Matter. To begin our commitment toward dismantling systemic and individual racism, we make the following commitments: We pledge to actively oppose racism in the many forms it presents itself. We commit to engage in anti-racism work, to acknowledge our privilege, to actively listen and learn, both as a company and as individuals. Services Clinic-Based Services We offer intentional ABA therapy in our clinic with a team of therapists and BCBAs. Our team works closely with parents, schools, and other service providers to create dynamic, fun, and effective therapy. Home-Based Services We provide targeted intervention and family education appropriate to the home setting. Individualized programming and skills are taught in the child’s natural environments. School-Based Services We coach and consult with teachers and paraprofessionals to support your child. Our team will work with your child in the school environment, as well as attend, prepare for, and support you and your child at IEP meetings. Site Links Home Our Story Our Team What is ABA? Our Services Getting Started Employment News & Updates Contact 2022 Calendar 2023 Calendar Get In Touch! (720) 670-9046 (720) 294-0543 Our Mission At ABA Services of Colorado, our mission is to deliver compassionate, data-driven behavior analytic therapy to provide lasting change for children with autism spectrum and neurodevelopmental disorders. © 2023 ABA Services of Colorado Scroll To Top'),\n",
       " ('ABA Experts LLC',\n",
       "  'ABA EXPERTS LLC Home Our Team Mission ABA Principles Service Delivery Model Family Resources Career Opportunities Consulting Contact Us Individualizing \\nthe Journey \\nof ABA Individualizing \\nthe Journey \\nof ABA Individualizing \\nthe Journey \\nof ABA Individualizing \\nthe Journey \\nof ABA Dedicated ABA Professionals Contact us Home Our Team Mission ABA Principles Service Delivery Model Family Resources Career Opportunities Consulting Contact Us Because every individual deserves the best quality of life that lasts a lifetime! When should I contact a behavior analyst? After speaking with your primary care physician and a specialized neurologist to diagnose appropriately. Then a behavior analyst is able to provide a specialized treatment plan to promote the best quality of life. What is a Behavior Service Program (BSP)? Also known as a functional behavior assessment (FBA). This is the process for developing an intervention treatment plan to understand the \"why\" a behavior is happening and how to implement lasting change. How are behavior services provided? It is important that the services provided are directly trained in all settings to generalize skills in the natural environment. The settings include in home, school, community, and clinic. Find out more Accreditations Copyright © 2023 ABA EXPERTS LLC - All Rights Reserved. Powered by GoDaddy Website Builder Home Our Team Mission ABA Principles Service Delivery Model Family Resources Career Opportunities Consulting Contact Us'),\n",
       " ('ABA Korea Academy',\n",
       "  \"Home | ABA Korea top of page Home Bio QABA Ceritificates QABA Certificates and Forms ABA KOREA ACADEMY COURSEWORK 문의사항 증명서 발급 신청 Supervisor와 Fieldwork 신청서 Books Book  소개하기 Book 구매하기 Data Sheet & Lists 저작권 위반 Resources Module Module 소개 Module 구매하기 VB-MAPP MODULE 안내 AKA 108-1 수퍼비전 모듈 안내 한글판 VB-MAPP Module 입장 Cyber Campus AKA 101 AKA 102 AKA 103 AKA 104 AKA 105 AKA 106 AKA 108-1 AKA 108-2 자폐성장애학생 교육 응용행동분석 Errata Contact More Use tab to navigate through the menu items. 로그인 QABA자격증 문의 > 자격증과정 입학/등록 > CYBER CAMPUS 입장 > 서적구매 > 한국 QABA 포럼 회원 신청서> 한글판 VB-MAPP구매 > 자격증 관련 동영상 > 통합 ABA Glossary > 증명서 발급 신청서 > 한국 QABA 포럼 소개 동영상 각종 MODULE 구매 > CEU 신청서 > VB-MAPP MODULE 입장 > AKA 108-1 강의실 입장 > 임상실습 및 수퍼바이저 신청 > 새로운 Superision Log 작성법> qaba® CERTIFICATES 국제적으로 ANSI가 인정한 QABA BOARD의 국제행동분석전문가 자격증 QBA, QASP-S, ABAT의 승인된 자격증 교육 과정을 운영하고 있습니다. Read More > BOOKS 한글판 VB-MAPP과 최고 수준의 ABA관련 서적을 출판합니다. 2022년에 한글판 '응용행동분석(3판) by Cooper et al' 출시 예정입니다. Read More > CEU & module 한글판 VB-MAPP Module, 각종 계속교육 강좌, 세미나, 학술대회 강연을 제공합니다. Read More > vb-maPP CENTERS 현재 VB-MAPP의 교육 서비스를 제공하고 있으며, 전국의 VB-MAPP\\xa0 서비스 제공기관의 연락망을 구축하고 있습니다. (현재 공사중) Read More > The most widely used language assessment tool for children with autism in the world Author: Dr. Mark Sundberg, Translator: Dr. Daniel Yang VB-MAPP 구매하기 MODULE 구매하기 MODULE 안내받기 VB-MAPP MODULE입장 문의사항 ACADEMY ABA KOREA 한글판 VB-MAPP \\u200b Books 서울특별시 송파구 방이동 180-3 301호 Copyright(c) ABA KOREA ACADEMY GROUP \\u200b창업지원단 지원기관 현재 창에 표시할 제품이 없습니다. COMMENTS & TRAININGS Our publications are based on Applied Behavior Analysis (ABA) and B. F. Skinner’s (1957) analysis of Verbal Behavior (VB). Professionals and parents will find our assessment program, the\\xa0VB-MAPP, to be a valuable tool for identifying a child’s specific language, learning, and social needs. \\u200b한국어 VB-MAPP 모듈과 연수 정보 - www.abakorea.net For those interested in verbal behavior research, the journal\\xa0The Analysis of Verbal Behavior\\xa0provides a repository of conceptual and empirical research — https://www.abainternational.org/journals/avb.aspx Skinner’s (1957) book\\xa0Verbal Behavior\\xa0— https://www.bfskinner.org/bookstore-2/ Florida Tech courses on verbal Behavior taught by Mark Sundberg \\xa0— http://www.fit.edu/bst/ceu/distinguished.php#Sundberg BF Skinner speaking on verbal behavior — https://www.youtube.com/watch?v=-Iz6uOkk_Kk “An Introduction to Verbal Behavior” by Dr. Norman Peterson. — https://www.foxylearning.com/tutorials/vb Mark Sundberg’s publications and PowerPoint presentations on verbal behavior — www.marksundberg.com/resources AVBpress.com abakorea.net In The Press BIO 양문봉 박사(Daniel, Yang, Ed.D., Th.D., BCBA-D, QBA, KBA-D)는 자폐 및 기타 발달장애 성인과 아동을 위해 35년 동안 관련 전문분야에서 종사해 온 행동분석전문가면서 특수교육가다. 그는 서울대학교와 미국 보스톤 대학교에서 수학하고, PLM에서 교육학박사를 취득했다. 2011년에 신학과 행동분석을 접목한 연구로 신학박사도 취득했다. 미국에서 자폐 아동을 위한 최우수 교육 및 치료 기관인 May Institute에서 ‘프로그램 전문가’, ‘특수교사’ 등으로 10년 동안 재직했다. 미국 워싱턴 주 정부의 번역 및 통역 공식자격증(교육 및 사회복지 분야)을 취득하여 관련 분야에서도 활동했다. 50여 편의 연구물과 서적을 출간하였다. BACB에서 주관하는 BCBA와 BCaBA의 공인자격시험과 Task List 4와 5 공식적인 용어리스트를 한국어로 번역하는 Coordinator 역할을 담당했다. 2021년부터 QABA에 협력위원으로서 한국대표 및 시험번역 및 표준화 위원회 위원으로 위촉되어 활발히 활동하고 있다. 백석대학교 부교수, VCS Coordinator,\\xa0 QABA Pre-approved coursework Provider Coordinator, 에듀비전 공동대표로 일하고 있다.\\xa0 자격증으로는BCBA-D, QBA(한국최초), KBA-D를 보유하고 있다. Bio News & Events Contact bottom of page\")]"
      ]
     },
     "execution_count": 103,
     "metadata": {},
     "output_type": "execute_result"
    }
   ],
   "source": [
    "web_texts"
   ]
  },
  {
   "cell_type": "code",
   "execution_count": null,
   "id": "7c2c61f4-fa4d-4456-8fc5-1759c6198ea7",
   "metadata": {},
   "outputs": [],
   "source": [
    "stop"
   ]
  },
  {
   "cell_type": "code",
   "execution_count": null,
   "id": "ef5aac09-fb66-4d6a-978d-3be5c25d3acf",
   "metadata": {},
   "outputs": [],
   "source": [
    "# # Case 2: mobility \n",
    "# import geopandas as gpd\n",
    "\n",
    "# def load_france_shp(france_shp_url=\"https://github.com/gladcolor/LLM-Geo/raw/master/REST_API/France.zip\"):\n",
    "#     \"\"\"\n",
    "#     Description: Load France administrative regions shapefile\n",
    "\n",
    "#     Args:\n",
    "#     france_shp_url (str): URL of the zipped shapefile\n",
    "\n",
    "#     Returns:\n",
    "#     france_gdf (GeoDataFrame): GeoDataFrame containing the France administrative regions\n",
    "#     \"\"\"\n",
    "#     france_gdf = gpd.read_file(france_shp_url)\n",
    "#     return france_gdf\n",
    "# import pandas as pd\n",
    "# import geopandas as gpd\n",
    "# import requests\n",
    "# from io import StringIO\n",
    "\n",
    "# def load_mobility_data(mobility_api_url=\"http://gis.cas.sc.edu/GeoAnalytics/REST?operation=get_daily_movement_for_all_places&source=twitter&scale=world_first_level_admin&begin=01/01/2020&end=12/31/2020\"):\n",
    "#     \"\"\"\n",
    "#     Load COVID-19 mobility data\n",
    "\n",
    "#     mobility_api_url: REST API url for COVID-19 mobility data\n",
    "#     returns: mobility_data (dataframe): Mobility data with place, date and intra_movement values\n",
    "#     \"\"\"\n",
    "#     response = requests.get(mobility_api_url)\n",
    "#     data = StringIO(response.text)\n",
    "#     mobility_data = pd.read_csv(data)\n",
    "\n",
    "#     return mobility_data\n",
    "# def join_data(france_gdf=gpd.GeoDataFrame(), mobility_data=pd.DataFrame()):\n",
    "#     \"\"\"\n",
    "#     Description: Join shapefile and mobility data\n",
    "\n",
    "#     Args:\n",
    "#     france_gdf (GeoDataFrame): GeoDataFrame containing the France administrative regions\n",
    "#     mobility_data (pd.DataFrame): Mobility data with place, date, and intra_movement values\n",
    "\n",
    "#     Returns:\n",
    "#     joined_data (GeoDataFrame): GeoDataFrame containing the joined shapefile and mobility data\n",
    "#     \"\"\"\n",
    "#     # Convert GID_1 column to string type without leading zeros\n",
    "#     france_gdf[\"GID_1\"] = france_gdf[\"GID_1\"].astype(str).str.lstrip(\"0\")\n",
    "\n",
    "#     # Convert place column to string type without leading zeros\n",
    "#     mobility_data[\"place\"] = mobility_data[\"place\"].astype(str).str.lstrip(\"0\")\n",
    "\n",
    "#     # Merge mobility data with shapefile based on GID_1 and place columns\n",
    "#     joined_data = france_gdf.merge(mobility_data, left_on=\"GID_1\", right_on=\"place\")\n",
    "\n",
    "#     # Remove duplicates\n",
    "#     joined_data.drop_duplicates(subset=[\"GID_1\", \"date\"], inplace=True)\n",
    "\n",
    "#     return joined_data\n",
    "# def calc_monthly_changes(joined_data=gpd.GeoDataFrame()):\n",
    "#     \"\"\"\n",
    "#     Create monthly change rates\n",
    "    \n",
    "#     Args:\n",
    "#     joined_data (gpd.GeoDataFrame): GeoDataFrame containing the joined shapefile and mobility data\n",
    "    \n",
    "#     Returns:\n",
    "#     monthly_changes (pd.DataFrame): DataFrame with monthly change rates for each administrative region\n",
    "#     \"\"\"\n",
    "#     # Parse dates and create a month-year column\n",
    "#     joined_data['date'] = pd.to_datetime(joined_data['date'])\n",
    "#     joined_data['month_year'] = joined_data['date'].dt.to_period('M')\n",
    "\n",
    "#     # Calculate the sum of intra_movement for each region and month-year\n",
    "#     region_monthly = joined_data.groupby(['NAME_1', 'month_year'])['intra_movement'].sum().reset_index()\n",
    "\n",
    "#     # Calculate the changes of each month based on January 2020\n",
    "#     base_month =  \"2020-01\" # pd.to_datetime(\"2020-01\")\n",
    "#     print(region_monthly[region_monthly['month_year'] == \"2020-01\"])\n",
    "#     baseline = region_monthly[region_monthly['month_year'] == base_month].set_index('NAME_1')['intra_movement']\n",
    "#     print(baseline)\n",
    "#     region_monthly['change_rate'] = region_monthly.apply(lambda row: (row['intra_movement'] - baseline[row['NAME_1']]) / baseline[row['NAME_1']], axis=1)\n",
    "\n",
    "#     # Pivot month_year as columns to create monthly_changes DataFrame\n",
    "#     monthly_changes = region_monthly.pivot(index='NAME_1', columns='month_year', values='change_rate').reset_index()\n",
    "\n",
    "#     return monthly_changes\n",
    "# import matplotlib.pyplot as plt\n",
    "# import seaborn as sns\n",
    "\n",
    "# def matrix_map(monthly_changes=pd.DataFrame(), france_gdf=gpd.GeoDataFrame()):\n",
    "#     \"\"\"\n",
    "#     Description: Create matrix of France maps\n",
    "\n",
    "#     Args:\n",
    "#     monthly_changes (pd.DataFrame): DataFrame with monthly change rates for each administrative region\n",
    "#     france_gdf (gpd.GeoDataFrame): GeoDataFrame containing the France administrative regions\n",
    "\n",
    "#     Returns:\n",
    "#     france_map_fig (Figure): Figure containing the matrix of France maps with monthly change rates\n",
    "#     \"\"\"\n",
    "#     # Merge monthly_changes with france_gdf\n",
    "#     france_gdf = france_gdf.merge(monthly_changes, on=\"NAME_1\")\n",
    "    \n",
    "#     # Set up plot\n",
    "#     plt.style.use('seaborn-darkgrid')\n",
    "#     france_map_fig, axs = plt.subplots(3, 4, figsize=(24, 18), sharex='col', sharey='row')\n",
    "#     france_map_fig.suptitle('Monthly change rates of each administrative region in France')\n",
    "\n",
    "#     # Iterate through columns for each month\n",
    "#     for idx, month_year in enumerate(monthly_changes.columns[1:]):\n",
    "#         row, col = divmod(idx, 4)\n",
    "        \n",
    "#         # Create subplot\n",
    "#         france_gdf.plot(column=month_year, ax=axs[row, col], legend=True, cmap='coolwarm', legend_kwds={'shrink': 0.8})\n",
    "#         axs[row, col].set_title(month_year.strftime(\"%B %Y\"))\n",
    "#         axs[row, col].set_xticks([])\n",
    "#         axs[row, col].set_yticks([])\n",
    "#         axs[row, col].set_xlabel(\"\")\n",
    "#         axs[row, col].set_ylabel(\"\")\n",
    "        \n",
    "#     plt.tight_layout()\n",
    "#     plt.subplots_adjust(hspace=0.05, wspace=0.05)\n",
    "    \n",
    "#     return france_map_fig\n",
    "# import matplotlib.pyplot as plt\n",
    "# import seaborn as sns\n",
    "\n",
    "# def chart_matrix(monthly_changes=pd.DataFrame()):\n",
    "#     \"\"\"\n",
    "#     Description: Create chart matrix of each administrative region's line chart\n",
    "\n",
    "#     Args:\n",
    "#     monthly_changes (pd.DataFrame): DataFrame with monthly change rates for each administrative region\n",
    "\n",
    "#     Returns:\n",
    "#     line_chart_matrix_fig (matplotlib.figure.Figure): Figure object containing the line chart matrix\n",
    "#     \"\"\"\n",
    "#     # Set default seaborn style\n",
    "#     sns.set()\n",
    "\n",
    "#     # Prepare monthly_changes data\n",
    "#     monthly_changes_tidy = pd.melt(monthly_changes, \n",
    "#                                    id_vars=[\"NAME_1\"], \n",
    "#                                    var_name=\"month_year\", \n",
    "#                                    value_name=\"change_rate\")\n",
    "#     monthly_changes_tidy[\"month_year\"] = monthly_changes_tidy[\"month_year\"].astype(str)\n",
    "\n",
    "#     # Calculate the number of rows and columns for the line chart matrix\n",
    "#     n_regions = len(monthly_changes[\"NAME_1\"].unique())\n",
    "#     n_cols = min(4, n_regions)\n",
    "#     n_rows = (n_regions // n_cols) + (1 if (n_regions % n_cols) else 0)\n",
    "\n",
    "#     # Create the line chart matrix\n",
    "#     line_chart_matrix_fig, axes = plt.subplots(n_rows, n_cols, figsize=(20, n_rows * 5), sharex=True, sharey=True)\n",
    "\n",
    "#     for idx, (name, group) in enumerate(monthly_changes_tidy.groupby([\"NAME_1\"])):\n",
    "#         row, col = divmod(idx, n_cols)\n",
    "\n",
    "#         ax = axes[row][col]\n",
    "#         sns.lineplot(x=\"month_year\", y=\"change_rate\", data=group, ax=ax)\n",
    "#         ax.set_title(name)\n",
    "#         ax.set_xticklabels(labels=group[\"month_year\"].unique(), rotation=45)\n",
    "\n",
    "#     # Remove empty subplots\n",
    "#     for idx in range(n_regions, n_rows * n_cols):\n",
    "#         row, col = divmod(idx, n_cols)\n",
    "#         axes[row][col].remove()\n",
    "\n",
    "#     # Adjust layout\n",
    "#     line_chart_matrix_fig.tight_layout()\n",
    "\n",
    "#     return line_chart_matrix_fig\n",
    "# import matplotlib.pyplot as plt\n",
    "\n",
    "# def overall_trends_line_chart(monthly_changes=pd.DataFrame()):\n",
    "#     \"\"\"\n",
    "#     Description: Draw the line chart for all administrative regions\n",
    "\n",
    "#     Args:\n",
    "#     monthly_changes (pd.DataFrame): DataFrame with monthly change rates for each administrative region\n",
    "\n",
    "#     Returns:\n",
    "#     trends_line_chart_fig (matplotlib.figure.Figure): Figure containing the line chart for all administrative regions\n",
    "#     \"\"\"\n",
    "#     # Transpose monthly_changes DataFrame\n",
    "#     transposed_changes = monthly_changes.set_index(\"NAME_1\").transpose()\n",
    "\n",
    "#     # Create line chart\n",
    "#     trends_line_chart_fig, ax = plt.subplots(figsize=(12, 8))\n",
    "#     transposed_changes.plot(ax=ax)\n",
    "#     plt.xlabel(\"Month\")\n",
    "#     plt.ylabel(\"Change Rate\")\n",
    "#     plt.title(\"Monthly Trends of Change Rates for All Administrative Regions\")\n",
    "#     plt.legend(title=\"Regions\", labels=transposed_changes.columns, bbox_to_anchor=(1.17, 1))\n",
    "#     plt.xticks(range(len(transposed_changes.index)), transposed_changes.index, rotation=90)\n",
    "\n",
    "#     return trends_line_chart_fig\n",
    "\n",
    "# # Example usage\n",
    "# # france_gdf = load_france_shp()\n",
    "# # mobility_data = load_mobility_data()\n",
    "# # joined_data = join_data(france_gdf, mobility_data)\n",
    "# # monthly_changes = calc_monthly_changes(joined_data)\n",
    "# # trends_line_chart_fig = overall_trends_line_chart(monthly_changes)\n",
    "# # plt.show()\n",
    "# import geopandas as gpd\n",
    "# import pandas as pd\n",
    "# import requests\n",
    "# from io import StringIO\n",
    "# import matplotlib.pyplot as plt\n",
    "# import seaborn as sns\n",
    "\n",
    "\n",
    " \n",
    "# # Load data\n",
    "# monthly_changes = calc_monthly_changes(joined_data)\n",
    "\n",
    "# # Create and save monthly change maps\n",
    "# france_map_fig = matrix_map(monthly_changes, france_gdf)\n",
    "# france_map_fig.savefig('france_monthly_change_maps.png')\n",
    "\n",
    "# # Create and save chart matrix with line charts of each administrative region\n",
    "# line_chart_matrix_fig = chart_matrix(monthly_changes)\n",
    "# line_chart_matrix_fig.savefig('chart_matrix_line_charts.png')\n",
    "\n",
    "# # Create and save overall trends line chart\n",
    "# trends_line_chart_fig = overall_trends_line_chart(monthly_changes)\n",
    "# trends_line_chart_fig.savefig('overall_trends_line_chart.png')\n",
    "\n",
    "# plt.show()\n"
   ]
  },
  {
   "cell_type": "code",
   "execution_count": null,
   "id": "5111a633-11ad-4501-83b0-658a81353c8b",
   "metadata": {},
   "outputs": [],
   "source": [
    "joined_data#.plot()"
   ]
  }
 ],
 "metadata": {
  "kernelspec": {
   "display_name": "street_mapping_env",
   "language": "python",
   "name": "street_mapping_env"
  },
  "language_info": {
   "codemirror_mode": {
    "name": "ipython",
    "version": 3
   },
   "file_extension": ".py",
   "mimetype": "text/x-python",
   "name": "python",
   "nbconvert_exporter": "python",
   "pygments_lexer": "ipython3",
   "version": "3.10.8"
  }
 },
 "nbformat": 4,
 "nbformat_minor": 5
}
