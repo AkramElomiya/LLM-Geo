{
 "cells": [
  {
   "cell_type": "markdown",
   "id": "bf676855-2221-47c7-8dff-b185e03c3953",
   "metadata": {
    "tags": []
   },
   "source": [
    "#  Install package"
   ]
  },
  {
   "cell_type": "code",
   "execution_count": 2,
   "id": "05156c09-3ec8-47d7-a629-f9374440658a",
   "metadata": {
    "tags": []
   },
   "outputs": [],
   "source": [
    "# ! pip install pyvis\n",
    "# ! pip install networkx"
   ]
  },
  {
   "cell_type": "markdown",
   "id": "b254e9bd-675a-4644-abfd-d642183da809",
   "metadata": {
    "tags": []
   },
   "source": [
    "# Import package"
   ]
  },
  {
   "cell_type": "code",
   "execution_count": 1,
   "id": "392efdfe-e33d-43fb-b8ea-6b6fb444ad9d",
   "metadata": {
    "tags": []
   },
   "outputs": [],
   "source": [
    "import os\n",
    "import requests\n",
    "import networkx as nx\n",
    "import pandas as pd\n",
    "import geopandas as gpd\n",
    "from pyvis.network import Network\n",
    "import openai\n"
   ]
  },
  {
   "cell_type": "markdown",
   "id": "d0e43a82-d40f-4442-93fb-525486017ca1",
   "metadata": {
    "tags": []
   },
   "source": [
    "# Define Solution class\n",
    "Please run the following cell to define the functions"
   ]
  },
  {
   "cell_type": "code",
   "execution_count": 2,
   "id": "236eff8d-4f24-4e90-af5f-4847bf2e7112",
   "metadata": {
    "tags": []
   },
   "outputs": [],
   "source": [
    "# %load_ext autoreload\n",
    "# %autoreload 2\n",
    "\n",
    "import LLM_Geo_Constants as constants\n",
    "import helper\n",
    "# import LLM_Geo_kernel.Solution as Solution\n",
    "\n",
    "from LLM_Geo_kernel import Solution\n",
    "\n",
    "%load_ext autoreload\n",
    "%autoreload 2"
   ]
  },
  {
   "cell_type": "markdown",
   "id": "9a3e84cf-00f5-40ef-a7ff-5ae186a4e164",
   "metadata": {},
   "source": [
    "# Demonstration 1: Resident living with hazardous wastes"
   ]
  },
  {
   "cell_type": "markdown",
   "id": "9a545a6b-1456-40b8-a913-b4dfd305c071",
   "metadata": {
    "tags": []
   },
   "source": [
    "## Input task and data desciption"
   ]
  },
  {
   "cell_type": "code",
   "execution_count": 3,
   "id": "8ba05f98-30b2-46d0-9eb2-624f5dbc2754",
   "metadata": {
    "tags": []
   },
   "outputs": [
    {
     "name": "stdout",
     "output_type": "stream",
     "text": [
      "Prompt to get solution graph:\n",
      "\n",
      "Your role: A professional Geo-information scientist and developer good at Python. \n",
      "Task: Generate a graph (data structure) only, whose nodes are (1) a series of consecutive steps and (2) data to solve this question:  \n",
      " 1) Find out the total population that lives within a tract that contain hazardous waste facilities. The study area is North Carolina, US.\n",
      "2) Generate a map to show the spatial distribution of population at the tract level and highlight those tracts that contain at least one hazardous waste facility.\n",
      " \n",
      "Data locations (each data is a node): 1. NC hazardous waste facility ESRI shape file location: https://github.com/gladcolor/LLM- Geo/raw/master/overlay_analysis/Hazardous_Waste_Sites.zip.\n",
      "2. NC tract boundary shapefile location: https://github.com/gladcolor/LLM-Geo/raw/master/overlay_analysis/tract_shp_37.zip. The tract id column is 'Tract'.\n",
      "3. NC tract population CSV file location: https://github.com/gladcolor/LLM-Geo/raw/master/overlay_analysis/NC_tract_population.csv. The population is stored in 'TotalPopulation' column. The tract ID column is 'GEOID'. \n",
      "Your reply needs to meet these requirements: \n",
      " 1. Think step by step.\n",
      "2. steps and data (both input and output) form a graph stored in NetworkX. Diconnected components are NOT allowed.\n",
      "3. Each step is a data process operation: the input can be data paths or variables, and the output can be data paths or variables.\n",
      "4. There are two types of nodes: a) operation node, and b) data node (both input and output data). These nodes are also input nodes for the next operation node.\n",
      "5. The input of each operation is the output of the previous operations, except the those need to load data from a path or need to collect data.\n",
      "6. You need to carefully named the output data node.\n",
      "7. The data and operation form a graph.\n",
      "8. The first operations are data loading or collection, and the output of the last operation is the final answer to the task.Operation nodes need to connect via output data nodes, DO NOT connect the operation node directly.\n",
      "9. The node attributes include: 1) node_type (data or operation), 2) data_path (data node only, set to \"\" if not given ), and description. E.g., {‘name’: “County boundary”, “data_type”: “data”, “data_path”:”D:\\Test\\county.shp”,  “description”: “County boundary for the study area”}.\n",
      "10. The connection between a node and an operation node is an edge.\n",
      "11. Add all nodes and edges, including node attributes to a NetworkX instance, DO NOT change the attribute names.\n",
      "12. DO NOT generate code to implement the steps.\n",
      "13. Join the attribute to the vector layer via a common attribute if necessery.\n",
      "14. Put your reply into a Python code block, NO explanation or conversation outside the code block(enclosed by ```python and ```).\n",
      "15. Note that GraphML writer does not support class dict or list as data values.\n",
      "16. You need spatial data (e.g., vector or raster) to make a map.\n",
      "17. Save the network into GraphML format, save it at: E:\\Research\\LLM-Geo\\Resident_at_risk_counting\\Resident_at_risk_counting.graphml \n",
      " \n",
      "Reply example: \n",
      "```python\n",
      "import networkx as nx\n",
      "G = nx.DiGraph()\n",
      "# Add nodes and edges for the graph\n",
      "# 1 Load hazardous waste site shapefile\n",
      "G.add_node(\"haz_waste_shp_url\", node_type=\"data\", path=\"https://github.com/gladcolor/LLM-Geo/raw/master/overlay_analysis/Hazardous_Waste_Sites.zip\", description=\"Hazardous waste facility shapefile URL\")\n",
      "G.add_node(\"load_haz_waste_shp\", node_type=\"operation\", description=\"Load hazardous waste facility shapefile\")\n",
      "G.add_edge(\"haz_waste_shp_url\", \"load_haz_waste_shp\")\n",
      "G.add_node(\"haz_waste_gdf\", node_type=\"data\", description=\"Hazardous waste facility GeoDataFrame\")\n",
      "G.add_edge(\"load_haz_waste_shp\", \"haz_waste_gdf\")\n",
      "...\n",
      "```\n",
      "\n"
     ]
    }
   ],
   "source": [
    "TASK = r\"\"\"1) Find out the total population that lives within a tract that contain hazardous waste facilities. The study area is North Carolina, US.\n",
    "2) Generate a map to show the spatial distribution of population at the tract level and highlight those tracts that contain at least one hazardous waste facility.\n",
    "\"\"\"\n",
    "\n",
    "DATA_LOCATIONS = [\"NC hazardous waste facility ESRI shape file location: https://github.com/gladcolor/LLM- Geo/raw/master/overlay_analysis/Hazardous_Waste_Sites.zip.\",\n",
    "                  \"NC tract boundary shapefile location: https://github.com/gladcolor/LLM-Geo/raw/master/overlay_analysis/tract_shp_37.zip. The tract id column is 'Tract'.\",\n",
    "                  \"NC tract population CSV file location: https://github.com/gladcolor/LLM-Geo/raw/master/overlay_analysis/NC_tract_population.csv. The population is stored in 'TotalPopulation' column. The tract ID column is 'GEOID'.\"\n",
    "                 ]\n",
    "\n",
    "task_name ='Resident_at_risk_counting'\n",
    "save_dir = os.path.join(os.getcwd(), task_name)\n",
    "os.makedirs(save_dir, exist_ok=True)\n",
    "\n",
    "# create graph\n",
    "# model=r\"gpt-3.5-turbo\"\n",
    "model=r\"gpt-4\"\n",
    "solution = Solution(\n",
    "                    task=TASK,\n",
    "                    task_name=task_name,\n",
    "                    save_dir=save_dir,\n",
    "                    data_locations=DATA_LOCATIONS,\n",
    "                    model=model,\n",
    "                    )\n",
    "print(\"Prompt to get solution graph:\\n\")\n",
    "print(solution.graph_prompt)"
   ]
  },
  {
   "cell_type": "markdown",
   "id": "3009da7e-afe7-48da-a0c0-62d5a10026fb",
   "metadata": {
    "tags": []
   },
   "source": [
    "## Get graph code from GPT API"
   ]
  },
  {
   "cell_type": "code",
   "execution_count": 4,
   "id": "213b17ca-9e3e-4c23-a852-c4a7edc83448",
   "metadata": {
    "tags": []
   },
   "outputs": [
    {
     "name": "stdout",
     "output_type": "stream",
     "text": [
      "Geting reply...\n",
      "Got reply.\n",
      "\n",
      "Code to generate solution graph: \n",
      "\n",
      "import networkx as nx\n",
      "\n",
      "G = nx.DiGraph()\n",
      "\n",
      "# 1 Load hazardous waste site shapefile\n",
      "G.add_node(\"haz_waste_shp_url\", node_type=\"data\", data_path=\"https://github.com/gladcolor/LLM-Geo/raw/master/overlay_analysis/Hazardous_Waste_Sites.zip\", description=\"Hazardous waste facility shapefile URL\")\n",
      "G.add_node(\"load_haz_waste_shp\", node_type=\"operation\", description=\"Load hazardous waste facility shapefile\")\n",
      "G.add_edge(\"haz_waste_shp_url\", \"load_haz_waste_shp\")\n",
      "G.add_node(\"haz_waste_gdf\", node_type=\"data\", description=\"Hazardous waste facility GeoDataFrame\")\n",
      "G.add_edge(\"load_haz_waste_shp\", \"haz_waste_gdf\")\n",
      "\n",
      "# 2 Load NC tract boundary shapefile\n",
      "G.add_node(\"tract_shp_url\", node_type=\"data\", data_path=\"https://github.com/gladcolor/LLM-Geo/raw/master/overlay_analysis/tract_shp_37.zip\", description=\"NC Tract boundary shapefile URL\")\n",
      "G.add_node(\"load_tract_shp\", node_type=\"operation\", description=\"Load NC Tract boundary shapefile\")\n",
      "G.add_edge(\"tract_shp_url\", \"load_tract_shp\")\n",
      "G.add_node(\"tract_gdf\", node_type=\"data\", description=\"NC Tract boundary GeoDataFrame\")\n",
      "G.add_edge(\"load_tract_shp\", \"tract_gdf\")\n",
      "\n",
      "# 3 Load NC tract population CSV\n",
      "G.add_node(\"tract_pop_csv_url\", node_type=\"data\", data_path=\"https://github.com/gladcolor/LLM-Geo/raw/master/overlay_analysis/NC_tract_population.csv\", description=\"NC Tract population CSV URL\")\n",
      "G.add_node(\"load_population_csv\", node_type=\"operation\", description=\"Load NC Tract population CSV\")\n",
      "G.add_edge(\"tract_pop_csv_url\", \"load_population_csv\")\n",
      "G.add_node(\"tract_pop_df\", node_type=\"data\", description=\"NC Tract population DataFrame\")\n",
      "G.add_edge(\"load_population_csv\", \"tract_pop_df\")\n",
      "\n",
      "# 4 Join population data to tract boundary GeoDataFrame\n",
      "G.add_node(\"join_population\", node_type=\"operation\", description=\"Join population data to tract boundary GeoDataFrame\")\n",
      "G.add_edge(\"tract_pop_df\", \"join_population\")\n",
      "G.add_edge(\"tract_gdf\", \"join_population\")\n",
      "G.add_node(\"pop_tract_gdf\", node_type=\"data\", description=\"Population-enhanced Tract boundary GeoDataFrame\")\n",
      "G.add_edge(\"join_population\", \"pop_tract_gdf\")\n",
      "\n",
      "# 5 Find tracts containing hazardous waste facilities\n",
      "G.add_node(\"find_tracts_with_haz_waste\", node_type=\"operation\", description=\"Find tracts containing hazardous waste facilities\")\n",
      "G.add_edge(\"haz_waste_gdf\", \"find_tracts_with_haz_waste\")\n",
      "G.add_edge(\"pop_tract_gdf\", \"find_tracts_with_haz_waste\")\n",
      "G.add_node(\"haz_tracts_list\", node_type=\"data\", description=\"List of tracts with hazardous waste facilities\")\n",
      "G.add_edge(\"find_tracts_with_haz_waste\", \"haz_tracts_list\")\n",
      "\n",
      "# 6 Calculate population living in those tracts\n",
      "G.add_node(\"calc_population_in_haz_tracts\", node_type=\"operation\", description=\"Calculate population living in hazardous tracts\")\n",
      "G.add_edge(\"haz_tracts_list\", \"calc_population_in_haz_tracts\")\n",
      "G.add_edge(\"pop_tract_gdf\", \"calc_population_in_haz_tracts\")\n",
      "G.add_node(\"total_population_in_haz_tracts\", node_type=\"data\", description=\"Total population in hazardous tracts\")\n",
      "G.add_edge(\"calc_population_in_haz_tracts\", \"total_population_in_haz_tracts\")\n",
      "\n",
      "# 7 Generate the final map\n",
      "G.add_node(\"generate_map\", node_type=\"operation\", description=\"Generate map showing population distribution and highlighting hazardous waste facility containing tracts\")\n",
      "G.add_edge(\"pop_tract_gdf\", \"generate_map\")\n",
      "G.add_edge(\"haz_tracts_list\", \"generate_map\")\n",
      "G.add_node(\"map_output\", node_type=\"data\", description=\"Map object highlighting hazardous waste-containing tracts and population distribution\")\n",
      "G.add_edge(\"generate_map\", \"map_output\")\n",
      "\n",
      "# Save to GraphML\n",
      "nx.write_graphml(G, \"E:\\\\Research\\\\LLM-Geo\\\\Resident_at_risk_counting\\\\Resident_at_risk_counting.graphml\")\n"
     ]
    }
   ],
   "source": [
    "response_for_graph = solution.get_LLM_response_for_graph() \n",
    "solution.graph_response = response_for_graph\n",
    "solution.save_solution()\n",
    "print()\n",
    "print(\"Code to generate solution graph: \\n\")\n",
    "print(solution.code_for_graph)"
   ]
  },
  {
   "cell_type": "markdown",
   "id": "112017eb-8bcb-4d44-88d5-7099f22bf107",
   "metadata": {
    "tags": []
   },
   "source": [
    "## Execute code to generate the solution graphto generate the solution graph"
   ]
  },
  {
   "cell_type": "code",
   "execution_count": 14,
   "outputs": [],
   "source": [],
   "metadata": {
    "collapsed": false
   }
  },
  {
   "cell_type": "code",
   "execution_count": 12,
   "id": "d1695d40-b164-4d8b-8381-957ce260a5e6",
   "metadata": {
    "tags": []
   },
   "outputs": [
    {
     "name": "stdout",
     "output_type": "stream",
     "text": [
      "E:\\Research\\LLM-Geo\\Resident_at_risk_counting.html\n"
     ]
    },
    {
     "data": {
      "text/plain": "<IPython.lib.display.IFrame at 0x22385b33880>",
      "text/html": "\n        <iframe\n            width=\"100%\"\n            height=\"800px\"\n            src=\"E:\\Research\\LLM-Geo\\Resident_at_risk_counting.html\"\n            frameborder=\"0\"\n            allowfullscreen\n            \n        ></iframe>\n        "
     },
     "execution_count": 12,
     "metadata": {},
     "output_type": "execute_result"
    }
   ],
   "source": [
    "exec(solution.code_for_graph)\n",
    "solution_graph = solution.load_graph_file()\n",
    "\n",
    "# Show the graph\n",
    "G = nx.read_graphml(solution.graph_file)  \n",
    "nt = helper.show_graph(G)\n",
    "html_name = os.path.join(os.getcwd(), solution.task_name + '.html')  \n",
    "# HTML file should in the same directory. See:\n",
    "# https://stackoverflow.com/questions/65564916/error-displaying-pyvis-html-inside-jupyter-lab-cell\n",
    "nt.show(name=html_name)\n",
    "# html_name"
   ]
  },
  {
   "cell_type": "markdown",
   "id": "791f8311-1874-4b23-957c-793cfd74a9cc",
   "metadata": {
    "tags": []
   },
   "source": [
    "## Generate prompts and code for operations (functions)"
   ]
  },
  {
   "cell_type": "code",
   "execution_count": 16,
   "outputs": [
    {
     "data": {
      "text/plain": "3"
     },
     "execution_count": 16,
     "metadata": {},
     "output_type": "execute_result"
    }
   ],
   "source": [],
   "metadata": {
    "collapsed": false
   }
  },
  {
   "cell_type": "code",
   "execution_count": 18,
   "id": "b4459452-8156-476d-8d20-1fccf3fdaa48",
   "metadata": {
    "tags": []
   },
   "outputs": [
    {
     "data": {
      "text/plain": "[]"
     },
     "execution_count": 18,
     "metadata": {},
     "output_type": "execute_result"
    }
   ],
   "source": [
    "operations = solution.get_LLM_responses_for_operations()\n",
    "solution.save_solution()\n",
    "operations\n",
    "# all_operation_code_str = '\\n'.join([operation['operation_code'] for operation in operations])\n",
    "# print(\"All operation code: \\n\")\n",
    "# print(all_operation_code_str)"
   ]
  },
  {
   "cell_type": "markdown",
   "id": "ae21f735-29f4-4934-8a7e-00616447cd40",
   "metadata": {
    "tags": []
   },
   "source": [
    "## Generate prompts and code for assembly program"
   ]
  },
  {
   "cell_type": "code",
   "execution_count": 10,
   "id": "34ac055d-11b8-4b3e-890c-83501611355f",
   "metadata": {
    "tags": []
   },
   "outputs": [
    {
     "name": "stdout",
     "output_type": "stream",
     "text": [
      "Geting reply...\n",
      "Got reply.\n",
      "import geopandas as gpd\n",
      "import pandas as pd\n",
      "\n",
      "def main():\n",
      "    # Load hazardous waste facility GeoDataFrame\n",
      "    haz_waste_gdf = load_haz_waste_shp()\n",
      "\n",
      "    # Load NC Tract boundary GeoDataFrame\n",
      "    tract_gdf = load_tract_shp()\n",
      "\n",
      "    # Load NC Tract population DataFrame\n",
      "    tract_pop_df = load_population_csv()\n",
      "\n",
      "    # Spatial join between tract and hazardous waste facility\n",
      "    tract_haz_join = gpd.sjoin(tract_gdf, haz_waste_gdf, how=\"inner\", op=\"intersects\")\n",
      "\n",
      "    # Group by Tract and count hazardous waste facilities\n",
      "    tract_haz_counts = tract_haz_join.groupby(\"Tract\")[\"index_right\"].count().reset_index(name=\"Haz_waste_count\")\n",
      "\n",
      "    # Merge population and hazardous waste counts\n",
      "    tract_pop_haz = tract_pop_df.merge(tract_haz_counts, left_on=\"GEOID\", right_on=\"Tract\", how=\"left\")\n",
      "\n",
      "    # Calculate total population in hazardous waste-affected tracts\n",
      "    total_pop_in_haz_tracts = tract_pop_haz.loc[tract_pop_haz[\"Haz_waste_count\"] > 0, \"TotalPopulation\"].sum()\n",
      "    print(f\"Total population in tracts with hazardous waste facilities: {total_pop_in_haz_tracts}\")\n",
      "\n",
      "    # Create a map of population distribution and hazardous waste facilities\n",
      "    tract_gdf[\"GEOID\"] = tract_gdf[\"GEOID\"].astype(int)  # Convert GEOID to integer for merging\n",
      "    tract_map = tract_gdf.merge(tract_pop_haz[[\"GEOID\", \"TotalPopulation\", \"Haz_waste_count\"]], on=\"GEOID\")\n",
      "\n",
      "    # Define classification schema for population distribution\n",
      "    breaks = [0, 1000, 3000, 5000, 7000, 9000, tract_map[\"TotalPopulation\"].max()]\n",
      "    categorize_population = pd.cut(tract_map[\"TotalPopulation\"], breaks, include_lowest=True)\n",
      "\n",
      "    # Color regime based on population distribution\n",
      "    tract_map.plot(column=categorize_population, cmap=\"coolwarm\", legend=True)\n",
      "\n",
      "    # Define markers for hazardous waste facilities and affected tracts\n",
      "    haz_waste_gdf.plot(ax=tract_map.plot(column=categorize_population, cmap=\"coolwarm\", legend=True), markersize=10, color='red')\n",
      "    \n",
      "    plt.title(\"NC Tract Population with Hazardous Waste Facilities\")\n",
      "    plt.savefig(\"NC_Tract_Population_Hazardous_Waste_Facilities.png\")\n",
      "    \n",
      "if __name__ == \"__main__\":\n",
      "    main()\n",
      "Assembly code: \n",
      "\n",
      "import geopandas as gpd\n",
      "import pandas as pd\n",
      "\n",
      "def main():\n",
      "    # Load hazardous waste facility GeoDataFrame\n",
      "    haz_waste_gdf = load_haz_waste_shp()\n",
      "\n",
      "    # Load NC Tract boundary GeoDataFrame\n",
      "    tract_gdf = load_tract_shp()\n",
      "\n",
      "    # Load NC Tract population DataFrame\n",
      "    tract_pop_df = load_population_csv()\n",
      "\n",
      "    # Spatial join between tract and hazardous waste facility\n",
      "    tract_haz_join = gpd.sjoin(tract_gdf, haz_waste_gdf, how=\"inner\", op=\"intersects\")\n",
      "\n",
      "    # Group by Tract and count hazardous waste facilities\n",
      "    tract_haz_counts = tract_haz_join.groupby(\"Tract\")[\"index_right\"].count().reset_index(name=\"Haz_waste_count\")\n",
      "\n",
      "    # Merge population and hazardous waste counts\n",
      "    tract_pop_haz = tract_pop_df.merge(tract_haz_counts, left_on=\"GEOID\", right_on=\"Tract\", how=\"left\")\n",
      "\n",
      "    # Calculate total population in hazardous waste-affected tracts\n",
      "    total_pop_in_haz_tracts = tract_pop_haz.loc[tract_pop_haz[\"Haz_waste_count\"] > 0, \"TotalPopulation\"].sum()\n",
      "    print(f\"Total population in tracts with hazardous waste facilities: {total_pop_in_haz_tracts}\")\n",
      "\n",
      "    # Create a map of population distribution and hazardous waste facilities\n",
      "    tract_gdf[\"GEOID\"] = tract_gdf[\"GEOID\"].astype(int)  # Convert GEOID to integer for merging\n",
      "    tract_map = tract_gdf.merge(tract_pop_haz[[\"GEOID\", \"TotalPopulation\", \"Haz_waste_count\"]], on=\"GEOID\")\n",
      "\n",
      "    # Define classification schema for population distribution\n",
      "    breaks = [0, 1000, 3000, 5000, 7000, 9000, tract_map[\"TotalPopulation\"].max()]\n",
      "    categorize_population = pd.cut(tract_map[\"TotalPopulation\"], breaks, include_lowest=True)\n",
      "\n",
      "    # Color regime based on population distribution\n",
      "    tract_map.plot(column=categorize_population, cmap=\"coolwarm\", legend=True)\n",
      "\n",
      "    # Define markers for hazardous waste facilities and affected tracts\n",
      "    haz_waste_gdf.plot(ax=tract_map.plot(column=categorize_population, cmap=\"coolwarm\", legend=True), markersize=10, color='red')\n",
      "    \n",
      "    plt.title(\"NC Tract Population with Hazardous Waste Facilities\")\n",
      "    plt.savefig(\"NC_Tract_Population_Hazardous_Waste_Facilities.png\")\n",
      "    \n",
      "if __name__ == \"__main__\":\n",
      "    main()\n"
     ]
    }
   ],
   "source": [
    "assembly_LLM_response = solution.get_LLM_assembly_response()\n",
    "# solution.assembly_LLM_response = assembly_LLM_response\n",
    "solution.save_solution()\n",
    "\n",
    "print(\"Assembly code: \\n\")\n",
    "print(solution.code_for_assembly)"
   ]
  },
  {
   "cell_type": "markdown",
   "id": "bca67352-6508-4fe6-be4b-1f4649224148",
   "metadata": {
    "tags": []
   },
   "source": [
    "## Execute assembly code"
   ]
  },
  {
   "cell_type": "code",
   "execution_count": 11,
   "id": "583d7c6a-8d5a-4bca-b22e-fcb3f3d5c201",
   "metadata": {
    "tags": []
   },
   "outputs": [
    {
     "name": "stderr",
     "output_type": "stream",
     "text": [
      "C:\\Users\\N\\AppData\\Local\\Temp\\ipykernel_19924\\2854491917.py:3: FutureWarning: The `op` parameter is deprecated and will be removed in a future release. Please use the `predicate` parameter instead.\n",
      "  exec(all_code)\n",
      "<string>:54: UserWarning: CRS mismatch between the CRS of left geometries and the CRS of right geometries.\n",
      "Use `to_crs()` to reproject one of the input geometries to match the CRS of the other.\n",
      "\n",
      "Left CRS: PROJCS[\"unknown\",GEOGCS[\"GCS_unknown\",DATUM[\"North ...\n",
      "Right CRS: EPSG:3857\n",
      "\n"
     ]
    },
    {
     "name": "stdout",
     "output_type": "stream",
     "text": [
      "Total population in tracts with hazardous waste facilities: 0\n"
     ]
    },
    {
     "ename": "KeyError",
     "evalue": "'GEOID'",
     "output_type": "error",
     "traceback": [
      "\u001B[1;31m---------------------------------------------------------------------------\u001B[0m",
      "\u001B[1;31mKeyError\u001B[0m                                  Traceback (most recent call last)",
      "File \u001B[1;32me:\\ProgramData\\Anaconda3\\envs\\street_mapping_env\\lib\\site-packages\\pandas\\core\\indexes\\base.py:3803\u001B[0m, in \u001B[0;36mIndex.get_loc\u001B[1;34m(self, key, method, tolerance)\u001B[0m\n\u001B[0;32m   3802\u001B[0m \u001B[38;5;28;01mtry\u001B[39;00m:\n\u001B[1;32m-> 3803\u001B[0m     \u001B[38;5;28;01mreturn\u001B[39;00m \u001B[38;5;28;43mself\u001B[39;49m\u001B[38;5;241;43m.\u001B[39;49m\u001B[43m_engine\u001B[49m\u001B[38;5;241;43m.\u001B[39;49m\u001B[43mget_loc\u001B[49m\u001B[43m(\u001B[49m\u001B[43mcasted_key\u001B[49m\u001B[43m)\u001B[49m\n\u001B[0;32m   3804\u001B[0m \u001B[38;5;28;01mexcept\u001B[39;00m \u001B[38;5;167;01mKeyError\u001B[39;00m \u001B[38;5;28;01mas\u001B[39;00m err:\n",
      "File \u001B[1;32me:\\ProgramData\\Anaconda3\\envs\\street_mapping_env\\lib\\site-packages\\pandas\\_libs\\index.pyx:138\u001B[0m, in \u001B[0;36mpandas._libs.index.IndexEngine.get_loc\u001B[1;34m()\u001B[0m\n",
      "File \u001B[1;32me:\\ProgramData\\Anaconda3\\envs\\street_mapping_env\\lib\\site-packages\\pandas\\_libs\\index.pyx:165\u001B[0m, in \u001B[0;36mpandas._libs.index.IndexEngine.get_loc\u001B[1;34m()\u001B[0m\n",
      "File \u001B[1;32mpandas\\_libs\\hashtable_class_helper.pxi:5745\u001B[0m, in \u001B[0;36mpandas._libs.hashtable.PyObjectHashTable.get_item\u001B[1;34m()\u001B[0m\n",
      "File \u001B[1;32mpandas\\_libs\\hashtable_class_helper.pxi:5753\u001B[0m, in \u001B[0;36mpandas._libs.hashtable.PyObjectHashTable.get_item\u001B[1;34m()\u001B[0m\n",
      "\u001B[1;31mKeyError\u001B[0m: 'GEOID'",
      "\nThe above exception was the direct cause of the following exception:\n",
      "\u001B[1;31mKeyError\u001B[0m                                  Traceback (most recent call last)",
      "Cell \u001B[1;32mIn[11], line 3\u001B[0m\n\u001B[0;32m      1\u001B[0m all_operation_code_str \u001B[38;5;241m=\u001B[39m \u001B[38;5;124m'\u001B[39m\u001B[38;5;130;01m\\n\u001B[39;00m\u001B[38;5;124m'\u001B[39m\u001B[38;5;241m.\u001B[39mjoin([operation[\u001B[38;5;124m'\u001B[39m\u001B[38;5;124moperation_code\u001B[39m\u001B[38;5;124m'\u001B[39m] \u001B[38;5;28;01mfor\u001B[39;00m operation \u001B[38;5;129;01min\u001B[39;00m operations])\n\u001B[0;32m      2\u001B[0m all_code \u001B[38;5;241m=\u001B[39m all_operation_code_str \u001B[38;5;241m+\u001B[39m \u001B[38;5;124m'\u001B[39m\u001B[38;5;130;01m\\n\u001B[39;00m\u001B[38;5;124m'\u001B[39m \u001B[38;5;241m+\u001B[39m solution\u001B[38;5;241m.\u001B[39mcode_for_assembly\n\u001B[1;32m----> 3\u001B[0m \u001B[43mexec\u001B[49m\u001B[43m(\u001B[49m\u001B[43mall_code\u001B[49m\u001B[43m)\u001B[49m\n",
      "File \u001B[1;32m<string>:84\u001B[0m\n",
      "File \u001B[1;32m<string>:67\u001B[0m, in \u001B[0;36mmain\u001B[1;34m()\u001B[0m\n",
      "File \u001B[1;32me:\\ProgramData\\Anaconda3\\envs\\street_mapping_env\\lib\\site-packages\\geopandas\\geodataframe.py:1415\u001B[0m, in \u001B[0;36mGeoDataFrame.__getitem__\u001B[1;34m(self, key)\u001B[0m\n\u001B[0;32m   1409\u001B[0m \u001B[38;5;28;01mdef\u001B[39;00m \u001B[38;5;21m__getitem__\u001B[39m(\u001B[38;5;28mself\u001B[39m, key):\n\u001B[0;32m   1410\u001B[0m \u001B[38;5;250m    \u001B[39m\u001B[38;5;124;03m\"\"\"\u001B[39;00m\n\u001B[0;32m   1411\u001B[0m \u001B[38;5;124;03m    If the result is a column containing only 'geometry', return a\u001B[39;00m\n\u001B[0;32m   1412\u001B[0m \u001B[38;5;124;03m    GeoSeries. If it's a DataFrame with any columns of GeometryDtype,\u001B[39;00m\n\u001B[0;32m   1413\u001B[0m \u001B[38;5;124;03m    return a GeoDataFrame.\u001B[39;00m\n\u001B[0;32m   1414\u001B[0m \u001B[38;5;124;03m    \"\"\"\u001B[39;00m\n\u001B[1;32m-> 1415\u001B[0m     result \u001B[38;5;241m=\u001B[39m \u001B[38;5;28;43msuper\u001B[39;49m\u001B[43m(\u001B[49m\u001B[43m)\u001B[49m\u001B[38;5;241;43m.\u001B[39;49m\u001B[38;5;21;43m__getitem__\u001B[39;49m\u001B[43m(\u001B[49m\u001B[43mkey\u001B[49m\u001B[43m)\u001B[49m\n\u001B[0;32m   1416\u001B[0m     geo_col \u001B[38;5;241m=\u001B[39m \u001B[38;5;28mself\u001B[39m\u001B[38;5;241m.\u001B[39m_geometry_column_name\n\u001B[0;32m   1417\u001B[0m     \u001B[38;5;28;01mif\u001B[39;00m \u001B[38;5;28misinstance\u001B[39m(result, Series) \u001B[38;5;129;01mand\u001B[39;00m \u001B[38;5;28misinstance\u001B[39m(result\u001B[38;5;241m.\u001B[39mdtype, GeometryDtype):\n",
      "File \u001B[1;32me:\\ProgramData\\Anaconda3\\envs\\street_mapping_env\\lib\\site-packages\\pandas\\core\\frame.py:3805\u001B[0m, in \u001B[0;36mDataFrame.__getitem__\u001B[1;34m(self, key)\u001B[0m\n\u001B[0;32m   3803\u001B[0m \u001B[38;5;28;01mif\u001B[39;00m \u001B[38;5;28mself\u001B[39m\u001B[38;5;241m.\u001B[39mcolumns\u001B[38;5;241m.\u001B[39mnlevels \u001B[38;5;241m>\u001B[39m \u001B[38;5;241m1\u001B[39m:\n\u001B[0;32m   3804\u001B[0m     \u001B[38;5;28;01mreturn\u001B[39;00m \u001B[38;5;28mself\u001B[39m\u001B[38;5;241m.\u001B[39m_getitem_multilevel(key)\n\u001B[1;32m-> 3805\u001B[0m indexer \u001B[38;5;241m=\u001B[39m \u001B[38;5;28;43mself\u001B[39;49m\u001B[38;5;241;43m.\u001B[39;49m\u001B[43mcolumns\u001B[49m\u001B[38;5;241;43m.\u001B[39;49m\u001B[43mget_loc\u001B[49m\u001B[43m(\u001B[49m\u001B[43mkey\u001B[49m\u001B[43m)\u001B[49m\n\u001B[0;32m   3806\u001B[0m \u001B[38;5;28;01mif\u001B[39;00m is_integer(indexer):\n\u001B[0;32m   3807\u001B[0m     indexer \u001B[38;5;241m=\u001B[39m [indexer]\n",
      "File \u001B[1;32me:\\ProgramData\\Anaconda3\\envs\\street_mapping_env\\lib\\site-packages\\pandas\\core\\indexes\\base.py:3805\u001B[0m, in \u001B[0;36mIndex.get_loc\u001B[1;34m(self, key, method, tolerance)\u001B[0m\n\u001B[0;32m   3803\u001B[0m     \u001B[38;5;28;01mreturn\u001B[39;00m \u001B[38;5;28mself\u001B[39m\u001B[38;5;241m.\u001B[39m_engine\u001B[38;5;241m.\u001B[39mget_loc(casted_key)\n\u001B[0;32m   3804\u001B[0m \u001B[38;5;28;01mexcept\u001B[39;00m \u001B[38;5;167;01mKeyError\u001B[39;00m \u001B[38;5;28;01mas\u001B[39;00m err:\n\u001B[1;32m-> 3805\u001B[0m     \u001B[38;5;28;01mraise\u001B[39;00m \u001B[38;5;167;01mKeyError\u001B[39;00m(key) \u001B[38;5;28;01mfrom\u001B[39;00m \u001B[38;5;21;01merr\u001B[39;00m\n\u001B[0;32m   3806\u001B[0m \u001B[38;5;28;01mexcept\u001B[39;00m \u001B[38;5;167;01mTypeError\u001B[39;00m:\n\u001B[0;32m   3807\u001B[0m     \u001B[38;5;66;03m# If we have a listlike key, _check_indexing_error will raise\u001B[39;00m\n\u001B[0;32m   3808\u001B[0m     \u001B[38;5;66;03m#  InvalidIndexError. Otherwise we fall through and re-raise\u001B[39;00m\n\u001B[0;32m   3809\u001B[0m     \u001B[38;5;66;03m#  the TypeError.\u001B[39;00m\n\u001B[0;32m   3810\u001B[0m     \u001B[38;5;28mself\u001B[39m\u001B[38;5;241m.\u001B[39m_check_indexing_error(key)\n",
      "\u001B[1;31mKeyError\u001B[0m: 'GEOID'"
     ]
    }
   ],
   "source": [
    "all_operation_code_str = '\\n'.join([operation['operation_code'] for operation in operations])\n",
    "all_code = all_operation_code_str + '\\n' + solution.code_for_assembly\n",
    "exec(all_code)"
   ]
  },
  {
   "cell_type": "code",
   "execution_count": null,
   "id": "4ab0eb3c-7bb1-4f61-988b-281cbfe9ee6e",
   "metadata": {
    "tags": []
   },
   "outputs": [],
   "source": [
    "print(all_code)"
   ]
  }
 ],
 "metadata": {
  "kernelspec": {
   "display_name": "street_mapping_env",
   "language": "python",
   "name": "street_mapping_env"
  },
  "language_info": {
   "codemirror_mode": {
    "name": "ipython",
    "version": 3
   },
   "file_extension": ".py",
   "mimetype": "text/x-python",
   "name": "python",
   "nbconvert_exporter": "python",
   "pygments_lexer": "ipython3",
   "version": "3.10.8"
  }
 },
 "nbformat": 4,
 "nbformat_minor": 5
}
